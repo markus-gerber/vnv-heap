{
 "cells": [
  {
   "cell_type": "markdown",
   "metadata": {},
   "source": [
    "# Get Immutable Reference Benchmarks"
   ]
  },
  {
   "cell_type": "code",
   "execution_count": 1,
   "metadata": {},
   "outputs": [],
   "source": [
    "# select measurement file\n",
    "#file_name = \"../output/2024-05-22 10-14-20 get1.json\"\n",
    "file_name = \"../output/2024-11-21 22-03-08 full small.json\"\n",
    "\n",
    "# select style options\n",
    "grey_fill_between = False\n",
    "\n",
    "enable_storage_reference = False\n",
    "\n",
    "if grey_fill_between:\n",
    "    fill_between_args = {\"color\": \"grey\"}\n",
    "else:\n",
    "    fill_between_args = {}"
   ]
  },
  {
   "cell_type": "code",
   "execution_count": 2,
   "metadata": {},
   "outputs": [],
   "source": [
    "# parse data\n",
    "import json\n",
    "\n",
    "with open(file_name) as file:\n",
    "    raw_data = json.load(file)"
   ]
  },
  {
   "cell_type": "code",
   "execution_count": 3,
   "metadata": {},
   "outputs": [
    {
     "data": {
      "text/html": [
       "<div>\n",
       "<style scoped>\n",
       "    .dataframe tbody tr th:only-of-type {\n",
       "        vertical-align: middle;\n",
       "    }\n",
       "\n",
       "    .dataframe tbody tr th {\n",
       "        vertical-align: top;\n",
       "    }\n",
       "\n",
       "    .dataframe thead th {\n",
       "        text-align: right;\n",
       "    }\n",
       "</style>\n",
       "<table border=\"1\" class=\"dataframe\">\n",
       "  <thead>\n",
       "    <tr style=\"text-align: right;\">\n",
       "      <th></th>\n",
       "      <th>mean</th>\n",
       "      <th>min</th>\n",
       "      <th>max</th>\n",
       "      <th>options.object_size</th>\n",
       "      <th>options.blocker_size</th>\n",
       "      <th>options.blocker_count</th>\n",
       "      <th>options.modules</th>\n",
       "      <th>machine_name</th>\n",
       "      <th>cold_start</th>\n",
       "      <th>repetitions</th>\n",
       "      <th>ticks_per_ms</th>\n",
       "      <th>dataset_type</th>\n",
       "      <th>benchmark_title</th>\n",
       "      <th>options.bucket_size</th>\n",
       "    </tr>\n",
       "  </thead>\n",
       "  <tbody>\n",
       "    <tr>\n",
       "      <th>0</th>\n",
       "      <td>918</td>\n",
       "      <td>918</td>\n",
       "      <td>919</td>\n",
       "      <td>0</td>\n",
       "      <td>NaN</td>\n",
       "      <td>NaN</td>\n",
       "      <td>{'allocator': 'vnv_heap::modules::allocator::l...</td>\n",
       "      <td>esp32c3</td>\n",
       "      <td>0</td>\n",
       "      <td>10</td>\n",
       "      <td>16000</td>\n",
       "      <td>OVPM</td>\n",
       "      <td>Best Case</td>\n",
       "      <td>NaN</td>\n",
       "    </tr>\n",
       "    <tr>\n",
       "      <th>1</th>\n",
       "      <td>918</td>\n",
       "      <td>918</td>\n",
       "      <td>919</td>\n",
       "      <td>0</td>\n",
       "      <td>NaN</td>\n",
       "      <td>NaN</td>\n",
       "      <td>{'allocator': 'vnv_heap::modules::allocator::l...</td>\n",
       "      <td>esp32c3</td>\n",
       "      <td>0</td>\n",
       "      <td>10</td>\n",
       "      <td>16000</td>\n",
       "      <td>OVPM</td>\n",
       "      <td>Best Case</td>\n",
       "      <td>NaN</td>\n",
       "    </tr>\n",
       "    <tr>\n",
       "      <th>2</th>\n",
       "      <td>919</td>\n",
       "      <td>918</td>\n",
       "      <td>919</td>\n",
       "      <td>0</td>\n",
       "      <td>NaN</td>\n",
       "      <td>NaN</td>\n",
       "      <td>{'allocator': 'vnv_heap::modules::allocator::l...</td>\n",
       "      <td>esp32c3</td>\n",
       "      <td>0</td>\n",
       "      <td>10</td>\n",
       "      <td>16000</td>\n",
       "      <td>OVPM</td>\n",
       "      <td>Best Case</td>\n",
       "      <td>NaN</td>\n",
       "    </tr>\n",
       "    <tr>\n",
       "      <th>3</th>\n",
       "      <td>919</td>\n",
       "      <td>918</td>\n",
       "      <td>919</td>\n",
       "      <td>0</td>\n",
       "      <td>NaN</td>\n",
       "      <td>NaN</td>\n",
       "      <td>{'allocator': 'vnv_heap::modules::allocator::l...</td>\n",
       "      <td>esp32c3</td>\n",
       "      <td>0</td>\n",
       "      <td>10</td>\n",
       "      <td>16000</td>\n",
       "      <td>OVPM</td>\n",
       "      <td>Best Case</td>\n",
       "      <td>NaN</td>\n",
       "    </tr>\n",
       "    <tr>\n",
       "      <th>4</th>\n",
       "      <td>918</td>\n",
       "      <td>918</td>\n",
       "      <td>919</td>\n",
       "      <td>0</td>\n",
       "      <td>NaN</td>\n",
       "      <td>NaN</td>\n",
       "      <td>{'allocator': 'vnv_heap::modules::allocator::l...</td>\n",
       "      <td>esp32c3</td>\n",
       "      <td>0</td>\n",
       "      <td>10</td>\n",
       "      <td>16000</td>\n",
       "      <td>OVPM</td>\n",
       "      <td>Best Case</td>\n",
       "      <td>NaN</td>\n",
       "    </tr>\n",
       "  </tbody>\n",
       "</table>\n",
       "</div>"
      ],
      "text/plain": [
       "   mean  min  max  options.object_size  options.blocker_size  \\\n",
       "0   918  918  919                    0                   NaN   \n",
       "1   918  918  919                    0                   NaN   \n",
       "2   919  918  919                    0                   NaN   \n",
       "3   919  918  919                    0                   NaN   \n",
       "4   918  918  919                    0                   NaN   \n",
       "\n",
       "   options.blocker_count                                    options.modules  \\\n",
       "0                    NaN  {'allocator': 'vnv_heap::modules::allocator::l...   \n",
       "1                    NaN  {'allocator': 'vnv_heap::modules::allocator::l...   \n",
       "2                    NaN  {'allocator': 'vnv_heap::modules::allocator::l...   \n",
       "3                    NaN  {'allocator': 'vnv_heap::modules::allocator::l...   \n",
       "4                    NaN  {'allocator': 'vnv_heap::modules::allocator::l...   \n",
       "\n",
       "  machine_name  cold_start  repetitions  ticks_per_ms dataset_type  \\\n",
       "0      esp32c3           0           10         16000         OVPM   \n",
       "1      esp32c3           0           10         16000         OVPM   \n",
       "2      esp32c3           0           10         16000         OVPM   \n",
       "3      esp32c3           0           10         16000         OVPM   \n",
       "4      esp32c3           0           10         16000         OVPM   \n",
       "\n",
       "  benchmark_title  options.bucket_size  \n",
       "0       Best Case                  NaN  \n",
       "1       Best Case                  NaN  \n",
       "2       Best Case                  NaN  \n",
       "3       Best Case                  NaN  \n",
       "4       Best Case                  NaN  "
      ]
     },
     "execution_count": 3,
     "metadata": {},
     "output_type": "execute_result"
    }
   ],
   "source": [
    "from util.convert import convert_datasets\n",
    "import pandas as pd\n",
    "\n",
    "ovpm = convert_datasets(\n",
    "    raw_data,\n",
    "    \"OVPM\",\n",
    "    [(\"get_min\", \"Best Case\"), (\"get_max_min\", \"Worst-Best Case\"), (\"get_min_max\", \"Best-Worst Case\"), (\"get_max\", \"Worst Case\")],\n",
    "    [\"mean\", \"min\", \"max\", \"options.object_size\", \"options.blocker_size\", \"options.blocker_count\", \"options.modules\", \"machine_name\", \"cold_start\", \"repetitions\"],\n",
    "    unwrapped=True\n",
    ")\n",
    "\n",
    "baseline = convert_datasets(\n",
    "    raw_data,\n",
    "    \"Baseline\",\n",
    "    [(\"baseline_get_min\", \"Best Case\"), (\"baseline_get_max_min\", \"Worst-Best Case\"), (\"baseline_get_min_max\", \"Best-Worst Case\"), (\"baseline_get_max\", \"Worst Case\")],\n",
    "    [\"mean\", \"min\", \"max\", \"options.object_size\", \"options.bucket_size\", \"options.modules\", \"machine_name\", \"cold_start\", \"repetitions\"],\n",
    "    unwrapped=True\n",
    ")\n",
    "\n",
    "dataset = pd.concat([ovpm, baseline])\n",
    "dataset.head()"
   ]
  },
  {
   "cell_type": "code",
   "execution_count": 4,
   "metadata": {},
   "outputs": [
    {
     "data": {
      "text/html": [
       "<b>OVPM - Best Case</b> [in us]"
      ],
      "text/plain": [
       "<IPython.core.display.HTML object>"
      ]
     },
     "metadata": {},
     "output_type": "display_data"
    },
    {
     "data": {
      "text/plain": [
       "min    46.3125\n",
       "max    59.0000\n",
       "Name: mean, dtype: float64"
      ]
     },
     "metadata": {},
     "output_type": "display_data"
    },
    {
     "data": {
      "text/html": [
       "<b>OVPM - Worst-Best Case</b> [in us]"
      ],
      "text/plain": [
       "<IPython.core.display.HTML object>"
      ]
     },
     "metadata": {},
     "output_type": "display_data"
    },
    {
     "data": {
      "text/plain": [
       "min    46.3125\n",
       "max    55.9375\n",
       "Name: mean, dtype: float64"
      ]
     },
     "metadata": {},
     "output_type": "display_data"
    },
    {
     "data": {
      "text/html": [
       "<b>OVPM - Best-Worst Case</b> [in us]"
      ],
      "text/plain": [
       "<IPython.core.display.HTML object>"
      ]
     },
     "metadata": {},
     "output_type": "display_data"
    },
    {
     "data": {
      "text/plain": [
       "min     491.9375\n",
       "max    1212.8125\n",
       "Name: mean, dtype: float64"
      ]
     },
     "metadata": {},
     "output_type": "display_data"
    },
    {
     "data": {
      "text/html": [
       "<b>OVPM - Worst Case</b> [in us]"
      ],
      "text/plain": [
       "<IPython.core.display.HTML object>"
      ]
     },
     "metadata": {},
     "output_type": "display_data"
    },
    {
     "data": {
      "text/plain": [
       "min    1522.1250\n",
       "max    2249.8125\n",
       "Name: mean, dtype: float64"
      ]
     },
     "metadata": {},
     "output_type": "display_data"
    },
    {
     "data": {
      "text/html": [
       "<b>Baseline - Best Case</b> [in us]"
      ],
      "text/plain": [
       "<IPython.core.display.HTML object>"
      ]
     },
     "metadata": {},
     "output_type": "display_data"
    },
    {
     "data": {
      "text/plain": [
       "min    31.3125\n",
       "max    31.3750\n",
       "Name: mean, dtype: float64"
      ]
     },
     "metadata": {},
     "output_type": "display_data"
    },
    {
     "data": {
      "text/html": [
       "<b>Baseline - Worst-Best Case</b> [in us]"
      ],
      "text/plain": [
       "<IPython.core.display.HTML object>"
      ]
     },
     "metadata": {},
     "output_type": "display_data"
    },
    {
     "data": {
      "text/plain": [
       "min    32.1250\n",
       "max    36.0625\n",
       "Name: mean, dtype: float64"
      ]
     },
     "metadata": {},
     "output_type": "display_data"
    },
    {
     "data": {
      "text/html": [
       "<b>Baseline - Best-Worst Case</b> [in us]"
      ],
      "text/plain": [
       "<IPython.core.display.HTML object>"
      ]
     },
     "metadata": {},
     "output_type": "display_data"
    },
    {
     "data": {
      "text/plain": [
       "min    1134.0625\n",
       "max    1138.0625\n",
       "Name: mean, dtype: float64"
      ]
     },
     "metadata": {},
     "output_type": "display_data"
    },
    {
     "data": {
      "text/html": [
       "<b>Baseline - Worst Case</b> [in us]"
      ],
      "text/plain": [
       "<IPython.core.display.HTML object>"
      ]
     },
     "metadata": {},
     "output_type": "display_data"
    },
    {
     "data": {
      "text/plain": [
       "min    1870.5625\n",
       "max    1870.6250\n",
       "Name: mean, dtype: float64"
      ]
     },
     "metadata": {},
     "output_type": "display_data"
    }
   ],
   "source": [
    "from util.convert import display_dataset_infos\n",
    "\n",
    "display_dataset_infos(dataset)"
   ]
  },
  {
   "cell_type": "markdown",
   "metadata": {},
   "source": [
    "# Plot Settings"
   ]
  },
  {
   "cell_type": "code",
   "execution_count": 5,
   "metadata": {},
   "outputs": [],
   "source": [
    "unit = \"ms\"\n",
    "plotted_object_sizes = [32, 128, 512]"
   ]
  },
  {
   "cell_type": "markdown",
   "metadata": {},
   "source": [
    "# Final Plot"
   ]
  },
  {
   "cell_type": "code",
   "execution_count": 13,
   "metadata": {},
   "outputs": [
    {
     "data": {
      "image/png": "[encoded data removed]",
      "text/plain": [
       "<Figure size 1250x400 with 4 Axes>"
      ]
     },
     "metadata": {},
     "output_type": "display_data"
    }
   ],
   "source": [
    "from util.plot import set_theme\n",
    "from util.convert import scale_data, scale_and_filter_data\n",
    "import seaborn as sns\n",
    "import matplotlib.pyplot as plt\n",
    "from matplotlib import gridspec\n",
    "\n",
    "set_theme(colors=2)\n",
    "\n",
    "titles = dataset[\"benchmark_title\"].unique()\n",
    "\n",
    "fig, axes = plt.subplots(1, len(titles))\n",
    "fig.set_figheight(4)\n",
    "fig.set_figwidth(12.5)\n",
    "\n",
    "axes = axes.flatten()\n",
    "\n",
    "i = 0\n",
    "for benchmark_title in titles:\n",
    "    filtered = dataset[dataset[\"benchmark_title\"] == benchmark_title]\n",
    "    filtered = scale_and_filter_data(filtered, unit, plotted_object_sizes)\n",
    "    g = sns.barplot(\n",
    "        data=filtered,\n",
    "        x=\"options.object_size\", y=\"mean\", hue=\"dataset_type\",\n",
    "        #errorbar=\"sd\", alpha=.8, height=6,\n",
    "        ax=axes[i]\n",
    "    )\n",
    "    g.set_title(benchmark_title)\n",
    "    i += 1\n",
    "\n",
    "\n",
    "plt.close(2)\n",
    "plt.close(3)\n",
    "plt.tight_layout()"
   ]
  },
  {
   "cell_type": "code",
   "execution_count": 27,
   "metadata": {},
   "outputs": [
    {
     "data": {
      "image/png": "[encoded data removed]",
      "text/plain": [
       "<Figure size 1240.47x400 with 4 Axes>"
      ]
     },
     "metadata": {},
     "output_type": "display_data"
    }
   ],
   "source": [
    "from util.plot import set_theme\n",
    "from util.convert import scale_data, scale_and_filter_data\n",
    "import seaborn as sns\n",
    "import matplotlib.pyplot as plt\n",
    "from matplotlib import gridspec\n",
    "\n",
    "set_theme(colors=2)\n",
    "\n",
    "unit = \"ms\"\n",
    "filtered = scale_and_filter_data(dataset, unit, plotted_object_sizes)\n",
    "\n",
    "g = sns.catplot(\n",
    "    data=filtered,\n",
    "    kind=\"bar\",\n",
    "    x=\"options.object_size\", y=\"mean\", hue=\"dataset_type\", col=\"benchmark_title\",\n",
    "    \n",
    "    errorbar=\"sd\", alpha=1, aspect=.7, height=4, \n",
    ")\n",
    "g.set_titles(\"{col_name}\")\n",
    "g.set(xlabel='Object Size [Byte]', ylabel='Latency [ms]')\n",
    "\n",
    "g.legend.set_title(\"Measurement\")"
   ]
  }
 ],
 "metadata": {
  "kernelspec": {
   "display_name": ".venv",
   "language": "python",
   "name": "python3"
  },
  "language_info": {
   "codemirror_mode": {
    "name": "ipython",
    "version": 3
   },
   "file_extension": ".py",
   "mimetype": "text/x-python",
   "name": "python",
   "nbconvert_exporter": "python",
   "pygments_lexer": "ipython3",
   "version": "3.12.7"
  }
 },
 "nbformat": 4,
 "nbformat_minor": 2
}
