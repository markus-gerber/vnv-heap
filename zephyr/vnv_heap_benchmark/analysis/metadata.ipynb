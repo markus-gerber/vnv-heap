{
 "cells": [
  {
   "cell_type": "markdown",
   "metadata": {},
   "source": [
    "# Metadata Plots"
   ]
  },
  {
   "cell_type": "markdown",
   "metadata": {},
   "source": [
    "vnv_heap::vnv_heap::VNVHeap<vnv_heap::modules::allocator::linked_list::LinkedListAllocatorModule, vnv_heap::modules::nonresident_allocator::buddy::NonResidentBuddyAllocatorModule<19>, vnv_heap::modules::object_management::default::DefaultObjectManagementModule, spi_fram_storage::mb85rs4mt_fram_storage::MB85RS4MTFramStorageModule>\n",
    "-> 120 bytes\n",
    "vnv_heap::vnv_object::VNVObject<u8, vnv_heap::modules::allocator::linked_list::LinkedListAllocatorModule, vnv_heap::modules::nonresident_allocator::buddy::NonResidentBuddyAllocatorModule<19>, vnv_heap::modules::object_management::default::DefaultObjectManagementModule>\n",
    "-> 8 bytes\n",
    "vnv_heap::vnv_ref::VNVRef<u8, vnv_heap::modules::allocator::linked_list::LinkedListAllocatorModule, vnv_heap::modules::nonresident_allocator::buddy::NonResidentBuddyAllocatorModule<19>, vnv_heap::modules::object_management::default::DefaultObjectManagementModule>\n",
    "-> 12 bytes\n",
    "vnv_heap::vnv_mut_ref::VNVMutRef<u8, vnv_heap::modules::allocator::linked_list::LinkedListAllocatorModule, vnv_heap::modules::nonresident_allocator::buddy::NonResidentBuddyAllocatorModule<19>, vnv_heap::modules::object_management::default::DefaultObjectManagementModule>\n",
    "-> 12 bytes\n",
    "############# BUFFER SIZES #############\n",
    "Buffer Cutoff\n",
    "-> 56 bytes\n",
    "Resident Object Metadata\n",
    "-> 20 bytes\n",
    "Resident Object Dirty Size\n",
    "-> 17 bytes\n",
    "Persist Access Point Size\n",
    "-> 52 bytes\n"
   ]
  },
  {
   "cell_type": "code",
   "execution_count": 2,
   "metadata": {},
   "outputs": [],
   "source": [
    "file_name = \"../../vnv_heap_info/info.txt\""
   ]
  },
  {
   "cell_type": "code",
   "execution_count": 4,
   "metadata": {},
   "outputs": [],
   "source": [
    "size_dict = [{\n",
    "    \"name\": \"heap\",\n",
    "    \"match\": \"VNVHeap\",\n",
    "}, {\n",
    "    \"name\": \"object\",\n",
    "    \"match\": \"VNVObject\"\n",
    "}, {\n",
    "    \"name\": \"ref\",\n",
    "    \"match\": \"VNVRef\"\n",
    "}, {\n",
    "    \"name\": \"mut_ref\",\n",
    "    \"match\": \"VNVMutRef\"\n",
    "}, {\n",
    "    \"name\": \"cutoff\",\n",
    "    \"match\": \"Buffer Cutoff\"\n",
    "}, {\n",
    "    \"name\": \"resident_object_metadata\",\n",
    "    \"match\": \"Resident Object Metadata\"\n",
    "}, {\n",
    "    \"name\": \"resident_object_dirty\",\n",
    "    \"match\": \"Resident Object Dirty Size\"\n",
    "}, {\n",
    "    \"name\": \"access_point\",\n",
    "    \"match\": \"Persist Access Point Size\"\n",
    "}]"
   ]
  },
  {
   "cell_type": "code",
   "execution_count": 26,
   "metadata": {},
   "outputs": [
    {
     "data": {
      "text/plain": [
       "{'heap': 120,\n",
       " 'object': 8,\n",
       " 'ref': 12,\n",
       " 'mut_ref': 12,\n",
       " 'cutoff': 56,\n",
       " 'resident_object_metadata': 20,\n",
       " 'resident_object_dirty': 17,\n",
       " 'access_point': 52}"
      ]
     },
     "execution_count": 26,
     "metadata": {},
     "output_type": "execute_result"
    }
   ],
   "source": [
    "#parse sizes\n",
    "\n",
    "parsed_sizes = {}\n",
    "\n",
    "next_key: None | str = None\n",
    "with open(file_name) as file:\n",
    "    for line in file.readlines():\n",
    "        if next_key is not None:\n",
    "            end_index = line.find(\"bytes\") - 1\n",
    "            parsed_sizes[next_key] = int(line[3:end_index])\n",
    "            next_key = None\n",
    "        else:\n",
    "            for item in size_dict:\n",
    "                if item[\"match\"] in line:\n",
    "                    next_key = item[\"name\"]\n",
    "                    break\n",
    "\n",
    "parsed_sizes"
   ]
  },
  {
   "cell_type": "code",
   "execution_count": 27,
   "metadata": {},
   "outputs": [],
   "source": [
    "initial_overhead = parsed_sizes[\"heap\"] + parsed_sizes[\"access_point\"] + parsed_sizes[\"cutoff\"]\n",
    "resident_object_overhead = parsed_sizes[\"object\"] + parsed_sizes[\"resident_object_metadata\"]"
   ]
  },
  {
   "cell_type": "markdown",
   "metadata": {},
   "source": [
    "# Final Plots"
   ]
  },
  {
   "cell_type": "code",
   "execution_count": 60,
   "metadata": {},
   "outputs": [
    {
     "data": {
      "text/html": [
       "<div>\n",
       "<style scoped>\n",
       "    .dataframe tbody tr th:only-of-type {\n",
       "        vertical-align: middle;\n",
       "    }\n",
       "\n",
       "    .dataframe tbody tr th {\n",
       "        vertical-align: top;\n",
       "    }\n",
       "\n",
       "    .dataframe thead th {\n",
       "        text-align: right;\n",
       "    }\n",
       "</style>\n",
       "<table border=\"1\" class=\"dataframe\">\n",
       "  <thead>\n",
       "    <tr style=\"text-align: right;\">\n",
       "      <th></th>\n",
       "      <th>data_size</th>\n",
       "      <th>overhead</th>\n",
       "    </tr>\n",
       "  </thead>\n",
       "  <tbody>\n",
       "    <tr>\n",
       "      <th>0</th>\n",
       "      <td>1024</td>\n",
       "      <td>20.000000</td>\n",
       "    </tr>\n",
       "    <tr>\n",
       "      <th>1</th>\n",
       "      <td>2048</td>\n",
       "      <td>11.111111</td>\n",
       "    </tr>\n",
       "    <tr>\n",
       "      <th>2</th>\n",
       "      <td>3072</td>\n",
       "      <td>7.692308</td>\n",
       "    </tr>\n",
       "    <tr>\n",
       "      <th>3</th>\n",
       "      <td>4096</td>\n",
       "      <td>5.882353</td>\n",
       "    </tr>\n",
       "    <tr>\n",
       "      <th>4</th>\n",
       "      <td>5120</td>\n",
       "      <td>4.761905</td>\n",
       "    </tr>\n",
       "    <tr>\n",
       "      <th>5</th>\n",
       "      <td>6144</td>\n",
       "      <td>4.000000</td>\n",
       "    </tr>\n",
       "    <tr>\n",
       "      <th>6</th>\n",
       "      <td>7168</td>\n",
       "      <td>3.448276</td>\n",
       "    </tr>\n",
       "    <tr>\n",
       "      <th>7</th>\n",
       "      <td>8192</td>\n",
       "      <td>3.030303</td>\n",
       "    </tr>\n",
       "  </tbody>\n",
       "</table>\n",
       "</div>"
      ],
      "text/plain": [
       "   data_size   overhead\n",
       "0       1024  20.000000\n",
       "1       2048  11.111111\n",
       "2       3072   7.692308\n",
       "3       4096   5.882353\n",
       "4       5120   4.761905\n",
       "5       6144   4.000000\n",
       "6       7168   3.448276\n",
       "7       8192   3.030303"
      ]
     },
     "execution_count": 60,
     "metadata": {},
     "output_type": "execute_result"
    }
   ],
   "source": [
    "import pandas as pd\n",
    "\n",
    "step_start = 1024\n",
    "step_end = 1024 * 8\n",
    "step_size = 1024\n",
    "step_cnt = int((step_end - step_start) / step_size + 1)\n",
    "\n",
    "data = []\n",
    "for i in range(step_cnt):\n",
    "    curr = step_size * i + step_start\n",
    "    data.append([curr, 100 * float(initial_overhead + resident_object_overhead) / float(curr + initial_overhead + resident_object_overhead)])\n",
    "\n",
    "# Create the pandas DataFrame\n",
    "overhead = pd.DataFrame(data, columns=['data_size', 'overhead'])\n",
    "\n",
    "overhead"
   ]
  },
  {
   "cell_type": "code",
   "execution_count": 61,
   "metadata": {},
   "outputs": [
    {
     "data": {
      "text/plain": [
       "Text(0.5, 1.0, 'RAM Overhead (because of metadata)')"
      ]
     },
     "execution_count": 61,
     "metadata": {},
     "output_type": "execute_result"
    },
    {
     "data": {
      "image/png": "[encoded data removed]",
      "text/plain": [
       "<Figure size 640x480 with 1 Axes>"
      ]
     },
     "metadata": {},
     "output_type": "display_data"
    }
   ],
   "source": [
    "from util.plot import set_theme\n",
    "from util.convert import scale_data, scale_and_filter_data\n",
    "import seaborn as sns\n",
    "import matplotlib.pyplot as plt\n",
    "import numpy as np\n",
    "\n",
    "set_theme(colors=1)\n",
    "\n",
    "g = sns.barplot(\n",
    "    overhead,\n",
    "    x=\"data_size\", y=\"overhead\",\n",
    "    #errorbar=\"sd\", alpha=.8, height=6,\n",
    ")\n",
    "g.set_xlabel(\"Object Size\")\n",
    "g.set_ylabel(\"Memory Overhead [%]\")\n",
    "g.set_title(\"RAM Overhead (because of metadata)\")\n",
    "\n"
   ]
  }
 ],
 "metadata": {
  "kernelspec": {
   "display_name": ".venv",
   "language": "python",
   "name": "python3"
  },
  "language_info": {
   "codemirror_mode": {
    "name": "ipython",
    "version": 3
   },
   "file_extension": ".py",
   "mimetype": "text/x-python",
   "name": "python",
   "nbconvert_exporter": "python",
   "pygments_lexer": "ipython3",
   "version": "3.12.7"
  }
 },
 "nbformat": 4,
 "nbformat_minor": 2
}
