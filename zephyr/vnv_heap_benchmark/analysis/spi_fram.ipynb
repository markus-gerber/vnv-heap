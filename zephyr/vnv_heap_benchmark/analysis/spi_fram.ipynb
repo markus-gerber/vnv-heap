{
 "cells": [
  {
   "cell_type": "markdown",
   "metadata": {},
   "source": [
    "# Get Immutable Reference Benchmarks"
   ]
  },
  {
   "cell_type": "code",
   "execution_count": 6,
   "metadata": {},
   "outputs": [],
   "source": [
    "# select measurement file\n",
    "#file_name = \"../output/2024-05-22 10-14-20 get1.json\"\n",
    "file_name = \"../output/2024-12-23 16-47-29.json\"\n",
    "\n",
    "unwrapped = False\n",
    "unit = \"ms\""
   ]
  },
  {
   "cell_type": "code",
   "execution_count": 7,
   "metadata": {},
   "outputs": [],
   "source": [
    "# parse data\n",
    "import json\n",
    "\n",
    "with open(file_name) as file:\n",
    "    raw_data = json.load(file)"
   ]
  },
  {
   "cell_type": "code",
   "execution_count": 8,
   "metadata": {},
   "outputs": [
    {
     "data": {
      "text/html": [
       "<div>\n",
       "<style scoped>\n",
       "    .dataframe tbody tr th:only-of-type {\n",
       "        vertical-align: middle;\n",
       "    }\n",
       "\n",
       "    .dataframe tbody tr th {\n",
       "        vertical-align: top;\n",
       "    }\n",
       "\n",
       "    .dataframe thead th {\n",
       "        text-align: right;\n",
       "    }\n",
       "</style>\n",
       "<table border=\"1\" class=\"dataframe\">\n",
       "  <thead>\n",
       "    <tr style=\"text-align: right;\">\n",
       "      <th></th>\n",
       "      <th>mean</th>\n",
       "      <th>min</th>\n",
       "      <th>max</th>\n",
       "      <th>options.object_size</th>\n",
       "      <th>options.queue_length</th>\n",
       "      <th>options.iterations</th>\n",
       "      <th>options.buffer_size</th>\n",
       "      <th>options.ram_overhead</th>\n",
       "      <th>machine_name</th>\n",
       "      <th>cold_start</th>\n",
       "      <th>repetitions</th>\n",
       "      <th>ticks_per_ms</th>\n",
       "      <th>dataset_type</th>\n",
       "      <th>benchmark_title</th>\n",
       "      <th>benchmark_id</th>\n",
       "    </tr>\n",
       "  </thead>\n",
       "  <tbody>\n",
       "    <tr>\n",
       "      <th>0</th>\n",
       "      <td>463.2</td>\n",
       "      <td>463</td>\n",
       "      <td>464</td>\n",
       "      <td>0</td>\n",
       "      <td>NaN</td>\n",
       "      <td>NaN</td>\n",
       "      <td>NaN</td>\n",
       "      <td>NaN</td>\n",
       "      <td>esp32c3</td>\n",
       "      <td>0</td>\n",
       "      <td>10</td>\n",
       "      <td>16000</td>\n",
       "      <td>Raw Storage Latency</td>\n",
       "      <td>Storage Read</td>\n",
       "      <td>persistent_storage_read</td>\n",
       "    </tr>\n",
       "    <tr>\n",
       "      <th>1</th>\n",
       "      <td>7801.7</td>\n",
       "      <td>7279</td>\n",
       "      <td>12501</td>\n",
       "      <td>16</td>\n",
       "      <td>NaN</td>\n",
       "      <td>NaN</td>\n",
       "      <td>NaN</td>\n",
       "      <td>NaN</td>\n",
       "      <td>esp32c3</td>\n",
       "      <td>0</td>\n",
       "      <td>10</td>\n",
       "      <td>16000</td>\n",
       "      <td>Raw Storage Latency</td>\n",
       "      <td>Storage Read</td>\n",
       "      <td>persistent_storage_read</td>\n",
       "    </tr>\n",
       "    <tr>\n",
       "      <th>2</th>\n",
       "      <td>10760.6</td>\n",
       "      <td>10238</td>\n",
       "      <td>15460</td>\n",
       "      <td>32</td>\n",
       "      <td>NaN</td>\n",
       "      <td>NaN</td>\n",
       "      <td>NaN</td>\n",
       "      <td>NaN</td>\n",
       "      <td>esp32c3</td>\n",
       "      <td>0</td>\n",
       "      <td>10</td>\n",
       "      <td>16000</td>\n",
       "      <td>Raw Storage Latency</td>\n",
       "      <td>Storage Read</td>\n",
       "      <td>persistent_storage_read</td>\n",
       "    </tr>\n",
       "    <tr>\n",
       "      <th>3</th>\n",
       "      <td>13720.0</td>\n",
       "      <td>13197</td>\n",
       "      <td>18420</td>\n",
       "      <td>48</td>\n",
       "      <td>NaN</td>\n",
       "      <td>NaN</td>\n",
       "      <td>NaN</td>\n",
       "      <td>NaN</td>\n",
       "      <td>esp32c3</td>\n",
       "      <td>0</td>\n",
       "      <td>10</td>\n",
       "      <td>16000</td>\n",
       "      <td>Raw Storage Latency</td>\n",
       "      <td>Storage Read</td>\n",
       "      <td>persistent_storage_read</td>\n",
       "    </tr>\n",
       "    <tr>\n",
       "      <th>4</th>\n",
       "      <td>16679.2</td>\n",
       "      <td>16157</td>\n",
       "      <td>21379</td>\n",
       "      <td>64</td>\n",
       "      <td>NaN</td>\n",
       "      <td>NaN</td>\n",
       "      <td>NaN</td>\n",
       "      <td>NaN</td>\n",
       "      <td>esp32c3</td>\n",
       "      <td>0</td>\n",
       "      <td>10</td>\n",
       "      <td>16000</td>\n",
       "      <td>Raw Storage Latency</td>\n",
       "      <td>Storage Read</td>\n",
       "      <td>persistent_storage_read</td>\n",
       "    </tr>\n",
       "  </tbody>\n",
       "</table>\n",
       "</div>"
      ],
      "text/plain": [
       "      mean    min    max  options.object_size  options.queue_length  \\\n",
       "0    463.2    463    464                    0                   NaN   \n",
       "1   7801.7   7279  12501                   16                   NaN   \n",
       "2  10760.6  10238  15460                   32                   NaN   \n",
       "3  13720.0  13197  18420                   48                   NaN   \n",
       "4  16679.2  16157  21379                   64                   NaN   \n",
       "\n",
       "   options.iterations  options.buffer_size  options.ram_overhead machine_name  \\\n",
       "0                 NaN                  NaN                   NaN      esp32c3   \n",
       "1                 NaN                  NaN                   NaN      esp32c3   \n",
       "2                 NaN                  NaN                   NaN      esp32c3   \n",
       "3                 NaN                  NaN                   NaN      esp32c3   \n",
       "4                 NaN                  NaN                   NaN      esp32c3   \n",
       "\n",
       "   cold_start  repetitions  ticks_per_ms         dataset_type benchmark_title  \\\n",
       "0           0           10         16000  Raw Storage Latency    Storage Read   \n",
       "1           0           10         16000  Raw Storage Latency    Storage Read   \n",
       "2           0           10         16000  Raw Storage Latency    Storage Read   \n",
       "3           0           10         16000  Raw Storage Latency    Storage Read   \n",
       "4           0           10         16000  Raw Storage Latency    Storage Read   \n",
       "\n",
       "              benchmark_id  \n",
       "0  persistent_storage_read  \n",
       "1  persistent_storage_read  \n",
       "2  persistent_storage_read  \n",
       "3  persistent_storage_read  \n",
       "4  persistent_storage_read  "
      ]
     },
     "execution_count": 8,
     "metadata": {},
     "output_type": "execute_result"
    }
   ],
   "source": [
    "from util.convert import convert_datasets\n",
    "import pandas as pd\n",
    "\n",
    "dataset = convert_datasets(\n",
    "    raw_data,\n",
    "    \"Raw Storage Latency\",\n",
    "    [(\"persistent_storage_read\", \"Storage Read\"), (\"persistent_storage_write\", \"Storage Write\")],\n",
    "    [\n",
    "        \"mean\",\n",
    "        \"min\",\n",
    "        \"max\",\n",
    "        \"options.object_size\",\n",
    "        \"options.queue_length\",\n",
    "        \"options.iterations\",\n",
    "        \"options.buffer_size\",\n",
    "        \"options.ram_overhead\",\n",
    "        \"machine_name\",\n",
    "        \"cold_start\",\n",
    "        \"repetitions\",\n",
    "    ],\n",
    "    unwrapped=unwrapped,\n",
    ")\n",
    "\n",
    "dataset.head()"
   ]
  },
  {
   "cell_type": "code",
   "execution_count": 9,
   "metadata": {},
   "outputs": [
    {
     "data": {
      "text/html": [
       "<b>Storage Read</b> [in us]"
      ],
      "text/plain": [
       "<IPython.core.display.HTML object>"
      ]
     },
     "metadata": {},
     "output_type": "display_data"
    },
    {
     "data": {
      "text/plain": [
       "min       28.95000\n",
       "max    94997.05625\n",
       "Name: mean, dtype: float64"
      ]
     },
     "metadata": {},
     "output_type": "display_data"
    },
    {
     "data": {
      "text/html": [
       "<b>Storage Write</b> [in us]"
      ],
      "text/plain": [
       "<IPython.core.display.HTML object>"
      ]
     },
     "metadata": {},
     "output_type": "display_data"
    },
    {
     "data": {
      "text/plain": [
       "min        23.39375\n",
       "max    159296.93750\n",
       "Name: mean, dtype: float64"
      ]
     },
     "metadata": {},
     "output_type": "display_data"
    }
   ],
   "source": [
    "from util.convert import display_dataset_infos\n",
    "\n",
    "display_dataset_infos(dataset)"
   ]
  },
  {
   "cell_type": "code",
   "execution_count": null,
   "metadata": {},
   "outputs": [
    {
     "data": {
      "text/plain": [
       "<Axes: xlabel='Object size [byte]', ylabel='Latency [ms]'>"
      ]
     },
     "execution_count": 10,
     "metadata": {},
     "output_type": "execute_result"
    },
    {
     "data": {
      "image/png": "[encoded data removed]",
      "text/plain": [
       "<Figure size 1000x600 with 1 Axes>"
      ]
     },
     "metadata": {},
     "output_type": "display_data"
    }
   ],
   "source": [
    "from util.plot import plot_lines\n",
    "\n",
    "scale = 64\n",
    "max_size = 4 * 1024\n",
    "\n",
    "plot_data = [\n",
    "    {\n",
    "        \"name\": \"Storage Read\",\n",
    "        \"x\": \"options.object_size\",\n",
    "        \"y\": \"mean\",\n",
    "        \"marker\": \"o\",\n",
    "        \"data\": dataset[(dataset[\"benchmark_id\"] == \"persistent_storage_read\") & (dataset[\"options.object_size\"] <= max_size) & (dataset[\"options.object_size\"] % scale == 0)],\n",
    "    },\n",
    "    {\n",
    "        \"name\": \"Storage Write\",\n",
    "        \"x\": \"options.object_size\",\n",
    "        \"y\": \"mean\",\n",
    "        \"marker\": \"s\",\n",
    "        \"data\": dataset[(dataset[\"benchmark_id\"] == \"persistent_storage_write\") & (dataset[\"options.object_size\"] <= max_size) & (dataset[\"options.object_size\"] % scale == 0)],\n",
    "    }\n",
    "]\n",
    "\n",
    "options = {\n",
    "    \"data\": plot_data,\n",
    "    \"scale\": unit,\n",
    "    \"x_label\": f\"Object size [byte]\",\n",
    "    \"y_label\": f\"Latency [{unit}]\",\n",
    "}\n",
    "\n",
    "plot_lines(options)"
   ]
  }
 ],
 "metadata": {
  "kernelspec": {
   "display_name": ".venv",
   "language": "python",
   "name": "python3"
  },
  "language_info": {
   "codemirror_mode": {
    "name": "ipython",
    "version": 3
   },
   "file_extension": ".py",
   "mimetype": "text/x-python",
   "name": "python",
   "nbconvert_exporter": "python",
   "pygments_lexer": "ipython3",
   "version": "3.12.7"
  }
 },
 "nbformat": 4,
 "nbformat_minor": 2
}
