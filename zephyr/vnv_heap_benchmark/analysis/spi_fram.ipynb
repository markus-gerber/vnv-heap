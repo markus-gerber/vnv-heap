{
 "cells": [
  {
   "cell_type": "markdown",
   "metadata": {},
   "source": [
    "# Get Immutable Reference Benchmarks"
   ]
  },
  {
   "cell_type": "code",
   "execution_count": 4,
   "metadata": {},
   "outputs": [],
   "source": [
    "# select measurement file\n",
    "#file_name = \"../output/2024-05-22 10-14-20 get1.json\"\n",
    "file_name = \"../output/2024-05-24 20-48-27 full.json\"\n",
    "\n",
    "# select style options\n",
    "grey_fill_between = False\n",
    "\n",
    "if grey_fill_between:\n",
    "    fill_between_args = {\"color\": \"grey\"}\n",
    "else:\n",
    "    fill_between_args = {}"
   ]
  },
  {
   "cell_type": "code",
   "execution_count": 5,
   "metadata": {},
   "outputs": [],
   "source": [
    "# parse data\n",
    "import json\n",
    "\n",
    "with open(file_name) as file:\n",
    "    raw_data = json.load(file)"
   ]
  },
  {
   "cell_type": "code",
   "execution_count": 6,
   "metadata": {},
   "outputs": [
    {
     "data": {
      "text/html": [
       "<b>READ Data:</b>"
      ],
      "text/plain": [
       "<IPython.core.display.HTML object>"
      ]
     },
     "metadata": {},
     "output_type": "display_data"
    },
    {
     "data": {
      "text/html": [
       "<div>\n",
       "<style scoped>\n",
       "    .dataframe tbody tr th:only-of-type {\n",
       "        vertical-align: middle;\n",
       "    }\n",
       "\n",
       "    .dataframe tbody tr th {\n",
       "        vertical-align: top;\n",
       "    }\n",
       "\n",
       "    .dataframe thead th {\n",
       "        text-align: right;\n",
       "    }\n",
       "</style>\n",
       "<table border=\"1\" class=\"dataframe\">\n",
       "  <thead>\n",
       "    <tr style=\"text-align: right;\">\n",
       "      <th></th>\n",
       "      <th>mean</th>\n",
       "      <th>min</th>\n",
       "      <th>max</th>\n",
       "      <th>options.object_size</th>\n",
       "      <th>machine_name</th>\n",
       "      <th>cold_start</th>\n",
       "      <th>repetitions</th>\n",
       "    </tr>\n",
       "  </thead>\n",
       "  <tbody>\n",
       "    <tr>\n",
       "      <th>0</th>\n",
       "      <td>282.638</td>\n",
       "      <td>163</td>\n",
       "      <td>726</td>\n",
       "      <td>0</td>\n",
       "      <td>esp32c3</td>\n",
       "      <td>0</td>\n",
       "      <td>500</td>\n",
       "    </tr>\n",
       "    <tr>\n",
       "      <th>1</th>\n",
       "      <td>1664.226</td>\n",
       "      <td>1468</td>\n",
       "      <td>1961</td>\n",
       "      <td>32</td>\n",
       "      <td>esp32c3</td>\n",
       "      <td>0</td>\n",
       "      <td>500</td>\n",
       "    </tr>\n",
       "    <tr>\n",
       "      <th>2</th>\n",
       "      <td>2997.312</td>\n",
       "      <td>2974</td>\n",
       "      <td>3674</td>\n",
       "      <td>64</td>\n",
       "      <td>esp32c3</td>\n",
       "      <td>0</td>\n",
       "      <td>500</td>\n",
       "    </tr>\n",
       "    <tr>\n",
       "      <th>3</th>\n",
       "      <td>4495.534</td>\n",
       "      <td>4061</td>\n",
       "      <td>4966</td>\n",
       "      <td>96</td>\n",
       "      <td>esp32c3</td>\n",
       "      <td>0</td>\n",
       "      <td>500</td>\n",
       "    </tr>\n",
       "    <tr>\n",
       "      <th>4</th>\n",
       "      <td>5994.978</td>\n",
       "      <td>5978</td>\n",
       "      <td>6002</td>\n",
       "      <td>128</td>\n",
       "      <td>esp32c3</td>\n",
       "      <td>0</td>\n",
       "      <td>500</td>\n",
       "    </tr>\n",
       "  </tbody>\n",
       "</table>\n",
       "</div>"
      ],
      "text/plain": [
       "       mean   min   max  options.object_size machine_name  cold_start  \\\n",
       "0   282.638   163   726                    0      esp32c3           0   \n",
       "1  1664.226  1468  1961                   32      esp32c3           0   \n",
       "2  2997.312  2974  3674                   64      esp32c3           0   \n",
       "3  4495.534  4061  4966                   96      esp32c3           0   \n",
       "4  5994.978  5978  6002                  128      esp32c3           0   \n",
       "\n",
       "   repetitions  \n",
       "0          500  \n",
       "1          500  \n",
       "2          500  \n",
       "3          500  \n",
       "4          500  "
      ]
     },
     "metadata": {},
     "output_type": "display_data"
    },
    {
     "data": {
      "text/html": [
       "<b>WRITE Data:</b>"
      ],
      "text/plain": [
       "<IPython.core.display.HTML object>"
      ]
     },
     "metadata": {},
     "output_type": "display_data"
    },
    {
     "data": {
      "text/html": [
       "<div>\n",
       "<style scoped>\n",
       "    .dataframe tbody tr th:only-of-type {\n",
       "        vertical-align: middle;\n",
       "    }\n",
       "\n",
       "    .dataframe tbody tr th {\n",
       "        vertical-align: top;\n",
       "    }\n",
       "\n",
       "    .dataframe thead th {\n",
       "        text-align: right;\n",
       "    }\n",
       "</style>\n",
       "<table border=\"1\" class=\"dataframe\">\n",
       "  <thead>\n",
       "    <tr style=\"text-align: right;\">\n",
       "      <th></th>\n",
       "      <th>mean</th>\n",
       "      <th>min</th>\n",
       "      <th>max</th>\n",
       "      <th>options.object_size</th>\n",
       "      <th>machine_name</th>\n",
       "      <th>cold_start</th>\n",
       "      <th>repetitions</th>\n",
       "    </tr>\n",
       "  </thead>\n",
       "  <tbody>\n",
       "    <tr>\n",
       "      <th>0</th>\n",
       "      <td>397.272</td>\n",
       "      <td>243</td>\n",
       "      <td>696</td>\n",
       "      <td>0</td>\n",
       "      <td>esp32c3</td>\n",
       "      <td>0</td>\n",
       "      <td>500</td>\n",
       "    </tr>\n",
       "    <tr>\n",
       "      <th>1</th>\n",
       "      <td>1995.778</td>\n",
       "      <td>1904</td>\n",
       "      <td>1996</td>\n",
       "      <td>32</td>\n",
       "      <td>esp32c3</td>\n",
       "      <td>0</td>\n",
       "      <td>500</td>\n",
       "    </tr>\n",
       "    <tr>\n",
       "      <th>2</th>\n",
       "      <td>2995.966</td>\n",
       "      <td>2979</td>\n",
       "      <td>2996</td>\n",
       "      <td>64</td>\n",
       "      <td>esp32c3</td>\n",
       "      <td>0</td>\n",
       "      <td>500</td>\n",
       "    </tr>\n",
       "    <tr>\n",
       "      <th>3</th>\n",
       "      <td>4993.570</td>\n",
       "      <td>4296</td>\n",
       "      <td>4995</td>\n",
       "      <td>96</td>\n",
       "      <td>esp32c3</td>\n",
       "      <td>0</td>\n",
       "      <td>500</td>\n",
       "    </tr>\n",
       "    <tr>\n",
       "      <th>4</th>\n",
       "      <td>5994.940</td>\n",
       "      <td>5979</td>\n",
       "      <td>5995</td>\n",
       "      <td>128</td>\n",
       "      <td>esp32c3</td>\n",
       "      <td>0</td>\n",
       "      <td>500</td>\n",
       "    </tr>\n",
       "  </tbody>\n",
       "</table>\n",
       "</div>"
      ],
      "text/plain": [
       "       mean   min   max  options.object_size machine_name  cold_start  \\\n",
       "0   397.272   243   696                    0      esp32c3           0   \n",
       "1  1995.778  1904  1996                   32      esp32c3           0   \n",
       "2  2995.966  2979  2996                   64      esp32c3           0   \n",
       "3  4993.570  4296  4995                   96      esp32c3           0   \n",
       "4  5994.940  5979  5995                  128      esp32c3           0   \n",
       "\n",
       "   repetitions  \n",
       "0          500  \n",
       "1          500  \n",
       "2          500  \n",
       "3          500  \n",
       "4          500  "
      ]
     },
     "metadata": {},
     "output_type": "display_data"
    },
    {
     "data": {
      "text/html": [
       "<b>Long READ Data:</b>"
      ],
      "text/plain": [
       "<IPython.core.display.HTML object>"
      ]
     },
     "metadata": {},
     "output_type": "display_data"
    },
    {
     "data": {
      "text/html": [
       "<div>\n",
       "<style scoped>\n",
       "    .dataframe tbody tr th:only-of-type {\n",
       "        vertical-align: middle;\n",
       "    }\n",
       "\n",
       "    .dataframe tbody tr th {\n",
       "        vertical-align: top;\n",
       "    }\n",
       "\n",
       "    .dataframe thead th {\n",
       "        text-align: right;\n",
       "    }\n",
       "</style>\n",
       "<table border=\"1\" class=\"dataframe\">\n",
       "  <thead>\n",
       "    <tr style=\"text-align: right;\">\n",
       "      <th></th>\n",
       "      <th>mean</th>\n",
       "      <th>min</th>\n",
       "      <th>max</th>\n",
       "      <th>options.object_size</th>\n",
       "      <th>machine_name</th>\n",
       "      <th>cold_start</th>\n",
       "      <th>repetitions</th>\n",
       "    </tr>\n",
       "  </thead>\n",
       "  <tbody>\n",
       "    <tr>\n",
       "      <th>31</th>\n",
       "      <td>383891.186</td>\n",
       "      <td>383868</td>\n",
       "      <td>384007</td>\n",
       "      <td>8192</td>\n",
       "      <td>esp32c3</td>\n",
       "      <td>0</td>\n",
       "      <td>500</td>\n",
       "    </tr>\n",
       "  </tbody>\n",
       "</table>\n",
       "</div>"
      ],
      "text/plain": [
       "          mean     min     max  options.object_size machine_name  cold_start  \\\n",
       "31  383891.186  383868  384007                 8192      esp32c3           0   \n",
       "\n",
       "    repetitions  \n",
       "31          500  "
      ]
     },
     "metadata": {},
     "output_type": "display_data"
    },
    {
     "data": {
      "text/html": [
       "<b>Long WRITE Data:</b>"
      ],
      "text/plain": [
       "<IPython.core.display.HTML object>"
      ]
     },
     "metadata": {},
     "output_type": "display_data"
    },
    {
     "data": {
      "text/html": [
       "<div>\n",
       "<style scoped>\n",
       "    .dataframe tbody tr th:only-of-type {\n",
       "        vertical-align: middle;\n",
       "    }\n",
       "\n",
       "    .dataframe tbody tr th {\n",
       "        vertical-align: top;\n",
       "    }\n",
       "\n",
       "    .dataframe thead th {\n",
       "        text-align: right;\n",
       "    }\n",
       "</style>\n",
       "<table border=\"1\" class=\"dataframe\">\n",
       "  <thead>\n",
       "    <tr style=\"text-align: right;\">\n",
       "      <th></th>\n",
       "      <th>mean</th>\n",
       "      <th>min</th>\n",
       "      <th>max</th>\n",
       "      <th>options.object_size</th>\n",
       "      <th>machine_name</th>\n",
       "      <th>cold_start</th>\n",
       "      <th>repetitions</th>\n",
       "    </tr>\n",
       "  </thead>\n",
       "  <tbody>\n",
       "    <tr>\n",
       "      <th>31</th>\n",
       "      <td>383892.73</td>\n",
       "      <td>383868</td>\n",
       "      <td>384779</td>\n",
       "      <td>8192</td>\n",
       "      <td>esp32c3</td>\n",
       "      <td>0</td>\n",
       "      <td>500</td>\n",
       "    </tr>\n",
       "  </tbody>\n",
       "</table>\n",
       "</div>"
      ],
      "text/plain": [
       "         mean     min     max  options.object_size machine_name  cold_start  \\\n",
       "31  383892.73  383868  384779                 8192      esp32c3           0   \n",
       "\n",
       "    repetitions  \n",
       "31          500  "
      ]
     },
     "metadata": {},
     "output_type": "display_data"
    }
   ],
   "source": [
    "from util.convert import convert_data\n",
    "from IPython.core.display import HTML\n",
    "\n",
    "# filter and convert data\n",
    "storage_read = convert_data(raw_data, \"persistent_storage_read\", [\"mean\", \"min\", \"max\", \"options.object_size\", \"machine_name\", \"cold_start\", \"repetitions\"])\n",
    "storage_write = convert_data(raw_data, \"persistent_storage_write\", [\"mean\", \"min\", \"max\", \"options.object_size\", \"machine_name\", \"cold_start\", \"repetitions\"])\n",
    "\n",
    "storage_read_long = storage_read.loc[storage_read[\"options.object_size\"] == storage_read[\"options.object_size\"].max()]\n",
    "storage_write_long = storage_write.loc[storage_write[\"options.object_size\"] == storage_write[\"options.object_size\"].max()]\n",
    "\n",
    "storage_read = storage_read.loc[storage_read[\"options.object_size\"] < storage_read[\"options.object_size\"].max()]\n",
    "storage_write = storage_write.loc[storage_write[\"options.object_size\"] < storage_write[\"options.object_size\"].max()]\n",
    "\n",
    "display(HTML(\"<b>READ Data:</b>\"))\n",
    "display(storage_read.head())\n",
    "display(HTML(\"<b>WRITE Data:</b>\"))\n",
    "display(storage_write.head())\n",
    "display(HTML(\"<b>Long READ Data:</b>\"))\n",
    "display(storage_read_long)\n",
    "display(HTML(\"<b>Long WRITE Data:</b>\"))\n",
    "display(storage_write_long)\n"
   ]
  },
  {
   "cell_type": "code",
   "execution_count": 7,
   "metadata": {},
   "outputs": [
    {
     "data": {
      "text/plain": [
       "Text(0.5, 1.0, 'Get Immutable Reference Latency for \"esp32c3\"')"
      ]
     },
     "execution_count": 7,
     "metadata": {},
     "output_type": "execute_result"
    },
    {
     "data": {
      "image/png": "[encoded data removed]",
      "text/plain": [
       "<Figure size 1000x500 with 1 Axes>"
      ]
     },
     "metadata": {},
     "output_type": "display_data"
    }
   ],
   "source": [
    "from util.plot import set_gird\n",
    "import seaborn as sns\n",
    "import matplotlib.pyplot as plt\n",
    "\n",
    "SELECTED_BLOCKER_SIZE = [0, 16, 96, 192, 240, 304]\n",
    "\n",
    "sns.set_theme()\n",
    "\n",
    "fig, ax = plt.subplots()\n",
    "fig.set_figheight(5)\n",
    "fig.set_figwidth(10)\n",
    "\n",
    "if len(storage_read) != 0:\n",
    "    sns.lineplot(ax=ax, data=storage_read, x=\"options.object_size\", y=\"mean\", label=\"Storage Read\", markers=[\"o\"], marker=\"o\")\n",
    "    ax.fill_between(storage_read[\"options.object_size\"], storage_read[\"min\"], storage_read[\"max\"], alpha=0.2, **fill_between_args)\n",
    "\n",
    "if len(storage_write) != 0:\n",
    "    sns.lineplot(ax=ax, data=storage_write, x=\"options.object_size\", y=\"mean\", label=\"Storage Write\", markers=[\"o\"], marker=\"o\")\n",
    "    ax.fill_between(storage_write[\"options.object_size\"], storage_write[\"min\"], storage_write[\"max\"], alpha=0.2, **fill_between_args)\n",
    "\n",
    "set_gird(64, max(storage_read[\"options.object_size\"].max(), storage_write[\"options.object_size\"].max()), ax)\n",
    "\n",
    "ax.set_xlabel(\"Object Size [Bytes]\")\n",
    "ax.set_ylabel(\"Latency [us]\")\n",
    "ax.set_title(\"Get Immutable Reference Latency for \\\"\" + storage_write[\"machine_name\"][0] + \"\\\"\")"
   ]
  }
 ],
 "metadata": {
  "kernelspec": {
   "display_name": "base",
   "language": "python",
   "name": "python3"
  },
  "language_info": {
   "codemirror_mode": {
    "name": "ipython",
    "version": 3
   },
   "file_extension": ".py",
   "mimetype": "text/x-python",
   "name": "python",
   "nbconvert_exporter": "python",
   "pygments_lexer": "ipython3",
   "version": "3.11.5"
  }
 },
 "nbformat": 4,
 "nbformat_minor": 2
}
