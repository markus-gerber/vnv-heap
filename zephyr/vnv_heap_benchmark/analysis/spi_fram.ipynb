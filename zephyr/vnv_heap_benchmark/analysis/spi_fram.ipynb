{
 "cells": [
  {
   "cell_type": "markdown",
   "metadata": {},
   "source": [
    "# Get Immutable Reference Benchmarks"
   ]
  },
  {
   "cell_type": "code",
   "execution_count": 1,
   "metadata": {},
   "outputs": [],
   "source": [
    "# select measurement file\n",
    "#file_name = \"../output/2024-05-22 10-14-20 get1.json\"\n",
    "file_name = \"../output/2024-08-28 09-53-03 full.json\"\n",
    "\n",
    "# select style options\n",
    "grey_fill_between = False\n",
    "\n",
    "if grey_fill_between:\n",
    "    fill_between_args = {\"color\": \"grey\"}\n",
    "else:\n",
    "    fill_between_args = {}"
   ]
  },
  {
   "cell_type": "code",
   "execution_count": 2,
   "metadata": {},
   "outputs": [],
   "source": [
    "# parse data\n",
    "import json\n",
    "\n",
    "with open(file_name) as file:\n",
    "    raw_data = json.load(file)"
   ]
  },
  {
   "cell_type": "code",
   "execution_count": 3,
   "metadata": {},
   "outputs": [
    {
     "data": {
      "text/html": [
       "<b>READ Data:</b>"
      ],
      "text/plain": [
       "<IPython.core.display.HTML object>"
      ]
     },
     "metadata": {},
     "output_type": "display_data"
    },
    {
     "data": {
      "text/html": [
       "<div>\n",
       "<style scoped>\n",
       "    .dataframe tbody tr th:only-of-type {\n",
       "        vertical-align: middle;\n",
       "    }\n",
       "\n",
       "    .dataframe tbody tr th {\n",
       "        vertical-align: top;\n",
       "    }\n",
       "\n",
       "    .dataframe thead th {\n",
       "        text-align: right;\n",
       "    }\n",
       "</style>\n",
       "<table border=\"1\" class=\"dataframe\">\n",
       "  <thead>\n",
       "    <tr style=\"text-align: right;\">\n",
       "      <th></th>\n",
       "      <th>mean</th>\n",
       "      <th>min</th>\n",
       "      <th>max</th>\n",
       "      <th>options.object_size</th>\n",
       "      <th>machine_name</th>\n",
       "      <th>cold_start</th>\n",
       "      <th>repetitions</th>\n",
       "      <th>ticks_per_ms</th>\n",
       "    </tr>\n",
       "  </thead>\n",
       "  <tbody>\n",
       "    <tr>\n",
       "      <th>0</th>\n",
       "      <td>616.0</td>\n",
       "      <td>616</td>\n",
       "      <td>616</td>\n",
       "      <td>0</td>\n",
       "      <td>esp32c3</td>\n",
       "      <td>100</td>\n",
       "      <td>1000</td>\n",
       "      <td>16000</td>\n",
       "    </tr>\n",
       "    <tr>\n",
       "      <th>1</th>\n",
       "      <td>1095.0</td>\n",
       "      <td>1095</td>\n",
       "      <td>1095</td>\n",
       "      <td>32</td>\n",
       "      <td>esp32c3</td>\n",
       "      <td>100</td>\n",
       "      <td>1000</td>\n",
       "      <td>16000</td>\n",
       "    </tr>\n",
       "    <tr>\n",
       "      <th>2</th>\n",
       "      <td>1433.0</td>\n",
       "      <td>1433</td>\n",
       "      <td>1433</td>\n",
       "      <td>64</td>\n",
       "      <td>esp32c3</td>\n",
       "      <td>100</td>\n",
       "      <td>1000</td>\n",
       "      <td>16000</td>\n",
       "    </tr>\n",
       "    <tr>\n",
       "      <th>3</th>\n",
       "      <td>1910.0</td>\n",
       "      <td>1910</td>\n",
       "      <td>1910</td>\n",
       "      <td>96</td>\n",
       "      <td>esp32c3</td>\n",
       "      <td>100</td>\n",
       "      <td>1000</td>\n",
       "      <td>16000</td>\n",
       "    </tr>\n",
       "    <tr>\n",
       "      <th>4</th>\n",
       "      <td>2248.0</td>\n",
       "      <td>2248</td>\n",
       "      <td>2248</td>\n",
       "      <td>128</td>\n",
       "      <td>esp32c3</td>\n",
       "      <td>100</td>\n",
       "      <td>1000</td>\n",
       "      <td>16000</td>\n",
       "    </tr>\n",
       "  </tbody>\n",
       "</table>\n",
       "</div>"
      ],
      "text/plain": [
       "     mean   min   max  options.object_size machine_name  cold_start  \\\n",
       "0   616.0   616   616                    0      esp32c3         100   \n",
       "1  1095.0  1095  1095                   32      esp32c3         100   \n",
       "2  1433.0  1433  1433                   64      esp32c3         100   \n",
       "3  1910.0  1910  1910                   96      esp32c3         100   \n",
       "4  2248.0  2248  2248                  128      esp32c3         100   \n",
       "\n",
       "   repetitions  ticks_per_ms  \n",
       "0         1000         16000  \n",
       "1         1000         16000  \n",
       "2         1000         16000  \n",
       "3         1000         16000  \n",
       "4         1000         16000  "
      ]
     },
     "metadata": {},
     "output_type": "display_data"
    },
    {
     "data": {
      "text/html": [
       "<b>WRITE Data:</b>"
      ],
      "text/plain": [
       "<IPython.core.display.HTML object>"
      ]
     },
     "metadata": {},
     "output_type": "display_data"
    },
    {
     "data": {
      "text/html": [
       "<div>\n",
       "<style scoped>\n",
       "    .dataframe tbody tr th:only-of-type {\n",
       "        vertical-align: middle;\n",
       "    }\n",
       "\n",
       "    .dataframe tbody tr th {\n",
       "        vertical-align: top;\n",
       "    }\n",
       "\n",
       "    .dataframe thead th {\n",
       "        text-align: right;\n",
       "    }\n",
       "</style>\n",
       "<table border=\"1\" class=\"dataframe\">\n",
       "  <thead>\n",
       "    <tr style=\"text-align: right;\">\n",
       "      <th></th>\n",
       "      <th>mean</th>\n",
       "      <th>min</th>\n",
       "      <th>max</th>\n",
       "      <th>options.object_size</th>\n",
       "      <th>machine_name</th>\n",
       "      <th>cold_start</th>\n",
       "      <th>repetitions</th>\n",
       "      <th>ticks_per_ms</th>\n",
       "    </tr>\n",
       "  </thead>\n",
       "  <tbody>\n",
       "    <tr>\n",
       "      <th>0</th>\n",
       "      <td>1137.000</td>\n",
       "      <td>1137</td>\n",
       "      <td>1137</td>\n",
       "      <td>0</td>\n",
       "      <td>esp32c3</td>\n",
       "      <td>100</td>\n",
       "      <td>1000</td>\n",
       "      <td>16000</td>\n",
       "    </tr>\n",
       "    <tr>\n",
       "      <th>1</th>\n",
       "      <td>1531.000</td>\n",
       "      <td>1531</td>\n",
       "      <td>1531</td>\n",
       "      <td>32</td>\n",
       "      <td>esp32c3</td>\n",
       "      <td>100</td>\n",
       "      <td>1000</td>\n",
       "      <td>16000</td>\n",
       "    </tr>\n",
       "    <tr>\n",
       "      <th>2</th>\n",
       "      <td>1789.063</td>\n",
       "      <td>1789</td>\n",
       "      <td>1852</td>\n",
       "      <td>64</td>\n",
       "      <td>esp32c3</td>\n",
       "      <td>100</td>\n",
       "      <td>1000</td>\n",
       "      <td>16000</td>\n",
       "    </tr>\n",
       "    <tr>\n",
       "      <th>3</th>\n",
       "      <td>2184.000</td>\n",
       "      <td>2184</td>\n",
       "      <td>2184</td>\n",
       "      <td>96</td>\n",
       "      <td>esp32c3</td>\n",
       "      <td>100</td>\n",
       "      <td>1000</td>\n",
       "      <td>16000</td>\n",
       "    </tr>\n",
       "    <tr>\n",
       "      <th>4</th>\n",
       "      <td>2442.000</td>\n",
       "      <td>2442</td>\n",
       "      <td>2442</td>\n",
       "      <td>128</td>\n",
       "      <td>esp32c3</td>\n",
       "      <td>100</td>\n",
       "      <td>1000</td>\n",
       "      <td>16000</td>\n",
       "    </tr>\n",
       "  </tbody>\n",
       "</table>\n",
       "</div>"
      ],
      "text/plain": [
       "       mean   min   max  options.object_size machine_name  cold_start  \\\n",
       "0  1137.000  1137  1137                    0      esp32c3         100   \n",
       "1  1531.000  1531  1531                   32      esp32c3         100   \n",
       "2  1789.063  1789  1852                   64      esp32c3         100   \n",
       "3  2184.000  2184  2184                   96      esp32c3         100   \n",
       "4  2442.000  2442  2442                  128      esp32c3         100   \n",
       "\n",
       "   repetitions  ticks_per_ms  \n",
       "0         1000         16000  \n",
       "1         1000         16000  \n",
       "2         1000         16000  \n",
       "3         1000         16000  \n",
       "4         1000         16000  "
      ]
     },
     "metadata": {},
     "output_type": "display_data"
    },
    {
     "data": {
      "text/html": [
       "<b>Long READ Data:</b>"
      ],
      "text/plain": [
       "<IPython.core.display.HTML object>"
      ]
     },
     "metadata": {},
     "output_type": "display_data"
    },
    {
     "data": {
      "text/html": [
       "<div>\n",
       "<style scoped>\n",
       "    .dataframe tbody tr th:only-of-type {\n",
       "        vertical-align: middle;\n",
       "    }\n",
       "\n",
       "    .dataframe tbody tr th {\n",
       "        vertical-align: top;\n",
       "    }\n",
       "\n",
       "    .dataframe thead th {\n",
       "        text-align: right;\n",
       "    }\n",
       "</style>\n",
       "<table border=\"1\" class=\"dataframe\">\n",
       "  <thead>\n",
       "    <tr style=\"text-align: right;\">\n",
       "      <th></th>\n",
       "      <th>mean</th>\n",
       "      <th>min</th>\n",
       "      <th>max</th>\n",
       "      <th>options.object_size</th>\n",
       "      <th>machine_name</th>\n",
       "      <th>cold_start</th>\n",
       "      <th>repetitions</th>\n",
       "      <th>ticks_per_ms</th>\n",
       "    </tr>\n",
       "  </thead>\n",
       "  <tbody>\n",
       "    <tr>\n",
       "      <th>30</th>\n",
       "      <td>182862.0</td>\n",
       "      <td>182862</td>\n",
       "      <td>182862</td>\n",
       "      <td>8192</td>\n",
       "      <td>esp32c3</td>\n",
       "      <td>100</td>\n",
       "      <td>1000</td>\n",
       "      <td>16000</td>\n",
       "    </tr>\n",
       "  </tbody>\n",
       "</table>\n",
       "</div>"
      ],
      "text/plain": [
       "        mean     min     max  options.object_size machine_name  cold_start  \\\n",
       "30  182862.0  182862  182862                 8192      esp32c3         100   \n",
       "\n",
       "    repetitions  ticks_per_ms  \n",
       "30         1000         16000  "
      ]
     },
     "metadata": {},
     "output_type": "display_data"
    },
    {
     "data": {
      "text/html": [
       "<b>Long WRITE Data:</b>"
      ],
      "text/plain": [
       "<IPython.core.display.HTML object>"
      ]
     },
     "metadata": {},
     "output_type": "display_data"
    },
    {
     "data": {
      "text/html": [
       "<div>\n",
       "<style scoped>\n",
       "    .dataframe tbody tr th:only-of-type {\n",
       "        vertical-align: middle;\n",
       "    }\n",
       "\n",
       "    .dataframe tbody tr th {\n",
       "        vertical-align: top;\n",
       "    }\n",
       "\n",
       "    .dataframe thead th {\n",
       "        text-align: right;\n",
       "    }\n",
       "</style>\n",
       "<table border=\"1\" class=\"dataframe\">\n",
       "  <thead>\n",
       "    <tr style=\"text-align: right;\">\n",
       "      <th></th>\n",
       "      <th>mean</th>\n",
       "      <th>min</th>\n",
       "      <th>max</th>\n",
       "      <th>options.object_size</th>\n",
       "      <th>machine_name</th>\n",
       "      <th>cold_start</th>\n",
       "      <th>repetitions</th>\n",
       "      <th>ticks_per_ms</th>\n",
       "    </tr>\n",
       "  </thead>\n",
       "  <tbody>\n",
       "    <tr>\n",
       "      <th>30</th>\n",
       "      <td>150492.0</td>\n",
       "      <td>150492</td>\n",
       "      <td>150492</td>\n",
       "      <td>8192</td>\n",
       "      <td>esp32c3</td>\n",
       "      <td>100</td>\n",
       "      <td>1000</td>\n",
       "      <td>16000</td>\n",
       "    </tr>\n",
       "  </tbody>\n",
       "</table>\n",
       "</div>"
      ],
      "text/plain": [
       "        mean     min     max  options.object_size machine_name  cold_start  \\\n",
       "30  150492.0  150492  150492                 8192      esp32c3         100   \n",
       "\n",
       "    repetitions  ticks_per_ms  \n",
       "30         1000         16000  "
      ]
     },
     "metadata": {},
     "output_type": "display_data"
    }
   ],
   "source": [
    "from util.convert import get_storage_measurement\n",
    "from IPython.core.display import HTML\n",
    "\n",
    "# filter and convert data\n",
    "\n",
    "(storage_read, storage_write) = get_storage_measurement(raw_data)\n",
    "\n",
    "storage_read_long = storage_read.loc[storage_read[\"options.object_size\"] == storage_read[\"options.object_size\"].max()]\n",
    "storage_write_long = storage_write.loc[storage_write[\"options.object_size\"] == storage_write[\"options.object_size\"].max()]\n",
    "\n",
    "storage_read = storage_read.loc[storage_read[\"options.object_size\"] < storage_read[\"options.object_size\"].max()]\n",
    "storage_write = storage_write.loc[storage_write[\"options.object_size\"] < storage_write[\"options.object_size\"].max()]\n",
    "\n",
    "display(HTML(\"<b>READ Data:</b>\"))\n",
    "display(storage_read.head())\n",
    "display(HTML(\"<b>WRITE Data:</b>\"))\n",
    "display(storage_write.head())\n",
    "display(HTML(\"<b>Long READ Data:</b>\"))\n",
    "display(storage_read_long)\n",
    "display(HTML(\"<b>Long WRITE Data:</b>\"))\n",
    "display(storage_write_long)\n"
   ]
  },
  {
   "cell_type": "code",
   "execution_count": 4,
   "metadata": {},
   "outputs": [
    {
     "data": {
      "image/png": "[encoded data removed]",
      "text/plain": [
       "<Figure size 1000x300 with 1 Axes>"
      ]
     },
     "metadata": {},
     "output_type": "display_data"
    }
   ],
   "source": [
    "from util.plot import set_gird, save_plot, set_theme\n",
    "from util.convert import scale_data\n",
    "import seaborn as sns\n",
    "import matplotlib.pyplot as plt\n",
    "\n",
    "set_theme(3, 0)\n",
    "\n",
    "fig, ax = plt.subplots()\n",
    "fig.set_figheight(3)\n",
    "fig.set_figwidth(10)\n",
    "\n",
    "unit = \"ms\"\n",
    "\n",
    "if len(storage_read) != 0:\n",
    "    storage_read_scaled = scale_data(storage_read, unit)\n",
    "    sns.lineplot(ax=ax, data=storage_read_scaled, x=\"options.object_size\", y=\"mean\", label=\"Storage Read\", markers=[\"o\"], marker=\"o\", \n",
    "        #linewidth=3.5, markersize=8\n",
    "    )\n",
    "    ax.fill_between(storage_read_scaled[\"options.object_size\"], storage_read_scaled[\"min\"], storage_read_scaled[\"max\"], alpha=0.2, **fill_between_args)\n",
    "\n",
    "if len(storage_write) != 0:\n",
    "    storage_write_scaled = scale_data(storage_write, unit)\n",
    "    sns.lineplot(ax=ax, data=storage_write_scaled, x=\"options.object_size\", y=\"mean\", label=\"Storage Write\", markers=[\"o\"], marker=\"s\")\n",
    "    ax.fill_between(storage_write_scaled[\"options.object_size\"], storage_write_scaled[\"min\"], storage_write_scaled[\"max\"], alpha=0.2, **fill_between_args)\n",
    "\n",
    "set_gird(64, max(storage_read[\"options.object_size\"].max(), storage_write[\"options.object_size\"].max()), ax)\n",
    "\n",
    "ax.set_xlabel(\"Transfer Size [Bytes]\")\n",
    "ax.set_ylabel(f\"Latency [{unit}]\")\n",
    "#ax.set_ylim(bottom=-4, top=50)\n",
    "\n",
    "leg = ax.legend(loc = \"lower center\", bbox_to_anchor=(.5, 1), ncol=len(ax.legend().get_lines()), title=None, frameon=False)\n",
    "\n",
    "# unify legend\n",
    "for line in leg.get_lines():\n",
    "    line.set_linewidth(leg.get_lines()[-1].get_linewidth())\n",
    "    line.set_markersize(leg.get_lines()[-1].get_markersize())\n",
    "\n",
    "save_plot(\"spi_fram\", save_asset=True)"
   ]
  }
 ],
 "metadata": {
  "kernelspec": {
   "display_name": "base",
   "language": "python",
   "name": "python3"
  },
  "language_info": {
   "codemirror_mode": {
    "name": "ipython",
    "version": 3
   },
   "file_extension": ".py",
   "mimetype": "text/x-python",
   "name": "python",
   "nbconvert_exporter": "python",
   "pygments_lexer": "ipython3",
   "version": "3.11.5"
  }
 },
 "nbformat": 4,
 "nbformat_minor": 2
}
