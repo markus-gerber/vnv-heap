{
 "cells": [
  {
   "cell_type": "markdown",
   "metadata": {},
   "source": [
    "# Get Immutable Reference Benchmarks"
   ]
  },
  {
   "cell_type": "code",
   "execution_count": 1,
   "metadata": {},
   "outputs": [],
   "source": [
    "# select measurement file\n",
    "files = [\n",
    "    \"../output/2024-12-01 19-55-29 get.json\",\n",
    "    \"../output/2024-12-01 19-57-26 baseline get.json\",\n",
    "]\n",
    "\n",
    "# select style options\n",
    "grey_fill_between = False\n",
    "\n",
    "enable_storage_reference = False\n",
    "\n",
    "if grey_fill_between:\n",
    "    fill_between_args = {\"color\": \"grey\"}\n",
    "else:\n",
    "    fill_between_args = {}\n",
    "    \n",
    "show_error_bar = False\n",
    "\n",
    "unit = \"ms\""
   ]
  },
  {
   "cell_type": "code",
   "execution_count": 2,
   "metadata": {},
   "outputs": [],
   "source": [
    "# parse data\n",
    "import json\n",
    "\n",
    "raw_data = []\n",
    "for file_name in files:\n",
    "    with open(file_name) as file:\n",
    "        raw_data.extend(json.load(file))"
   ]
  },
  {
   "cell_type": "code",
   "execution_count": 3,
   "metadata": {},
   "outputs": [
    {
     "data": {
      "text/html": [
       "<div>\n",
       "<style scoped>\n",
       "    .dataframe tbody tr th:only-of-type {\n",
       "        vertical-align: middle;\n",
       "    }\n",
       "\n",
       "    .dataframe tbody tr th {\n",
       "        vertical-align: top;\n",
       "    }\n",
       "\n",
       "    .dataframe thead th {\n",
       "        text-align: right;\n",
       "    }\n",
       "</style>\n",
       "<table border=\"1\" class=\"dataframe\">\n",
       "  <thead>\n",
       "    <tr style=\"text-align: right;\">\n",
       "      <th></th>\n",
       "      <th>mean</th>\n",
       "      <th>min</th>\n",
       "      <th>max</th>\n",
       "      <th>options.object_size</th>\n",
       "      <th>options.blocker_size</th>\n",
       "      <th>options.blocker_count</th>\n",
       "      <th>options.modules</th>\n",
       "      <th>machine_name</th>\n",
       "      <th>cold_start</th>\n",
       "      <th>repetitions</th>\n",
       "      <th>ticks_per_ms</th>\n",
       "      <th>dataset_type</th>\n",
       "      <th>benchmark_title</th>\n",
       "      <th>benchmark_id</th>\n",
       "      <th>options.bucket_size</th>\n",
       "    </tr>\n",
       "  </thead>\n",
       "  <tbody>\n",
       "    <tr>\n",
       "      <th>0</th>\n",
       "      <td>855.4</td>\n",
       "      <td>855</td>\n",
       "      <td>856</td>\n",
       "      <td>8</td>\n",
       "      <td>NaN</td>\n",
       "      <td>NaN</td>\n",
       "      <td>{'allocator': 'vnv_heap::modules::allocator::l...</td>\n",
       "      <td>esp32c3</td>\n",
       "      <td>0</td>\n",
       "      <td>10</td>\n",
       "      <td>16000</td>\n",
       "      <td>vNV-Heap</td>\n",
       "      <td>Best Case</td>\n",
       "      <td>get_min</td>\n",
       "      <td>NaN</td>\n",
       "    </tr>\n",
       "    <tr>\n",
       "      <th>1</th>\n",
       "      <td>811.3</td>\n",
       "      <td>811</td>\n",
       "      <td>812</td>\n",
       "      <td>16</td>\n",
       "      <td>NaN</td>\n",
       "      <td>NaN</td>\n",
       "      <td>{'allocator': 'vnv_heap::modules::allocator::l...</td>\n",
       "      <td>esp32c3</td>\n",
       "      <td>0</td>\n",
       "      <td>10</td>\n",
       "      <td>16000</td>\n",
       "      <td>vNV-Heap</td>\n",
       "      <td>Best Case</td>\n",
       "      <td>get_min</td>\n",
       "      <td>NaN</td>\n",
       "    </tr>\n",
       "    <tr>\n",
       "      <th>2</th>\n",
       "      <td>868.4</td>\n",
       "      <td>868</td>\n",
       "      <td>869</td>\n",
       "      <td>32</td>\n",
       "      <td>NaN</td>\n",
       "      <td>NaN</td>\n",
       "      <td>{'allocator': 'vnv_heap::modules::allocator::l...</td>\n",
       "      <td>esp32c3</td>\n",
       "      <td>0</td>\n",
       "      <td>10</td>\n",
       "      <td>16000</td>\n",
       "      <td>vNV-Heap</td>\n",
       "      <td>Best Case</td>\n",
       "      <td>get_min</td>\n",
       "      <td>NaN</td>\n",
       "    </tr>\n",
       "    <tr>\n",
       "      <th>3</th>\n",
       "      <td>920.6</td>\n",
       "      <td>918</td>\n",
       "      <td>944</td>\n",
       "      <td>48</td>\n",
       "      <td>NaN</td>\n",
       "      <td>NaN</td>\n",
       "      <td>{'allocator': 'vnv_heap::modules::allocator::l...</td>\n",
       "      <td>esp32c3</td>\n",
       "      <td>0</td>\n",
       "      <td>10</td>\n",
       "      <td>16000</td>\n",
       "      <td>vNV-Heap</td>\n",
       "      <td>Best Case</td>\n",
       "      <td>get_min</td>\n",
       "      <td>NaN</td>\n",
       "    </tr>\n",
       "    <tr>\n",
       "      <th>4</th>\n",
       "      <td>921.4</td>\n",
       "      <td>918</td>\n",
       "      <td>945</td>\n",
       "      <td>64</td>\n",
       "      <td>NaN</td>\n",
       "      <td>NaN</td>\n",
       "      <td>{'allocator': 'vnv_heap::modules::allocator::l...</td>\n",
       "      <td>esp32c3</td>\n",
       "      <td>0</td>\n",
       "      <td>10</td>\n",
       "      <td>16000</td>\n",
       "      <td>vNV-Heap</td>\n",
       "      <td>Best Case</td>\n",
       "      <td>get_min</td>\n",
       "      <td>NaN</td>\n",
       "    </tr>\n",
       "  </tbody>\n",
       "</table>\n",
       "</div>"
      ],
      "text/plain": [
       "    mean  min  max  options.object_size  options.blocker_size  \\\n",
       "0  855.4  855  856                    8                   NaN   \n",
       "1  811.3  811  812                   16                   NaN   \n",
       "2  868.4  868  869                   32                   NaN   \n",
       "3  920.6  918  944                   48                   NaN   \n",
       "4  921.4  918  945                   64                   NaN   \n",
       "\n",
       "   options.blocker_count                                    options.modules  \\\n",
       "0                    NaN  {'allocator': 'vnv_heap::modules::allocator::l...   \n",
       "1                    NaN  {'allocator': 'vnv_heap::modules::allocator::l...   \n",
       "2                    NaN  {'allocator': 'vnv_heap::modules::allocator::l...   \n",
       "3                    NaN  {'allocator': 'vnv_heap::modules::allocator::l...   \n",
       "4                    NaN  {'allocator': 'vnv_heap::modules::allocator::l...   \n",
       "\n",
       "  machine_name  cold_start  repetitions  ticks_per_ms dataset_type  \\\n",
       "0      esp32c3           0           10         16000     vNV-Heap   \n",
       "1      esp32c3           0           10         16000     vNV-Heap   \n",
       "2      esp32c3           0           10         16000     vNV-Heap   \n",
       "3      esp32c3           0           10         16000     vNV-Heap   \n",
       "4      esp32c3           0           10         16000     vNV-Heap   \n",
       "\n",
       "  benchmark_title benchmark_id  options.bucket_size  \n",
       "0       Best Case      get_min                  NaN  \n",
       "1       Best Case      get_min                  NaN  \n",
       "2       Best Case      get_min                  NaN  \n",
       "3       Best Case      get_min                  NaN  \n",
       "4       Best Case      get_min                  NaN  "
      ]
     },
     "execution_count": 3,
     "metadata": {},
     "output_type": "execute_result"
    }
   ],
   "source": [
    "from util.convert import convert_datasets\n",
    "import pandas as pd\n",
    "\n",
    "ovpm = convert_datasets(\n",
    "    raw_data,\n",
    "    \"vNV-Heap\",\n",
    "    [(\"get_min\", \"Best Case\"), (\"get_max_min\", \"Worst-Best Case\"), (\"get_min_max\", \"Best-Worst Case\"), (\"get_max\", \"Worst Case\")],\n",
    "    [\"mean\", \"min\", \"max\", \"options.object_size\", \"options.blocker_size\", \"options.blocker_count\", \"options.modules\", \"machine_name\", \"cold_start\", \"repetitions\"],\n",
    "    unwrapped=show_error_bar\n",
    ")\n",
    "\n",
    "baseline = convert_datasets(\n",
    "    raw_data,\n",
    "    \"Baseline\",\n",
    "    [(\"baseline_get_min\", \"Best Case\"), (\"baseline_get_max_min\", \"Worst-Best Case\"), (\"baseline_get_min_max\", \"Best-Worst Case\"), (\"baseline_get_max\", \"Worst Case\")],\n",
    "    [\"mean\", \"min\", \"max\", \"options.object_size\", \"options.bucket_size\", \"options.modules\", \"machine_name\", \"cold_start\", \"repetitions\"],\n",
    "    unwrapped=show_error_bar\n",
    ")\n",
    "\n",
    "dataset = pd.concat([ovpm, baseline])\n",
    "dataset.head()"
   ]
  },
  {
   "cell_type": "code",
   "execution_count": 4,
   "metadata": {},
   "outputs": [
    {
     "data": {
      "text/html": [
       "<b>vNV-Heap - Best Case</b> [in us]"
      ],
      "text/plain": [
       "<IPython.core.display.HTML object>"
      ]
     },
     "metadata": {},
     "output_type": "display_data"
    },
    {
     "data": {
      "text/plain": [
       "min    50.300\n",
       "max    61.775\n",
       "Name: mean, dtype: float64"
      ]
     },
     "metadata": {},
     "output_type": "display_data"
    },
    {
     "data": {
      "text/html": [
       "<b>vNV-Heap - Worst-Best Case</b> [in us]"
      ],
      "text/plain": [
       "<IPython.core.display.HTML object>"
      ]
     },
     "metadata": {},
     "output_type": "display_data"
    },
    {
     "data": {
      "text/plain": [
       "min    50.32500\n",
       "max    61.76875\n",
       "Name: mean, dtype: float64"
      ]
     },
     "metadata": {},
     "output_type": "display_data"
    },
    {
     "data": {
      "text/html": [
       "<b>vNV-Heap - Best-Worst Case</b> [in us]"
      ],
      "text/plain": [
       "<IPython.core.display.HTML object>"
      ]
     },
     "metadata": {},
     "output_type": "display_data"
    },
    {
     "data": {
      "text/plain": [
       "min     505.65625\n",
       "max    1271.73125\n",
       "Name: mean, dtype: float64"
      ]
     },
     "metadata": {},
     "output_type": "display_data"
    },
    {
     "data": {
      "text/html": [
       "<b>vNV-Heap - Worst Case</b> [in us]"
      ],
      "text/plain": [
       "<IPython.core.display.HTML object>"
      ]
     },
     "metadata": {},
     "output_type": "display_data"
    },
    {
     "data": {
      "text/plain": [
       "min    1422.0500\n",
       "max    4559.3375\n",
       "Name: mean, dtype: float64"
      ]
     },
     "metadata": {},
     "output_type": "display_data"
    },
    {
     "data": {
      "text/html": [
       "<b>Baseline - Best Case</b> [in us]"
      ],
      "text/plain": [
       "<IPython.core.display.HTML object>"
      ]
     },
     "metadata": {},
     "output_type": "display_data"
    },
    {
     "data": {
      "text/plain": [
       "min    28.9375\n",
       "max    28.9875\n",
       "Name: mean, dtype: float64"
      ]
     },
     "metadata": {},
     "output_type": "display_data"
    },
    {
     "data": {
      "text/html": [
       "<b>Baseline - Worst-Best Case</b> [in us]"
      ],
      "text/plain": [
       "<IPython.core.display.HTML object>"
      ]
     },
     "metadata": {},
     "output_type": "display_data"
    },
    {
     "data": {
      "text/plain": [
       "min    31.69375\n",
       "max    32.03125\n",
       "Name: mean, dtype: float64"
      ]
     },
     "metadata": {},
     "output_type": "display_data"
    },
    {
     "data": {
      "text/html": [
       "<b>Baseline - Best-Worst Case</b> [in us]"
      ],
      "text/plain": [
       "<IPython.core.display.HTML object>"
      ]
     },
     "metadata": {},
     "output_type": "display_data"
    },
    {
     "data": {
      "text/plain": [
       "min    1133.12500\n",
       "max    1133.51875\n",
       "Name: mean, dtype: float64"
      ]
     },
     "metadata": {},
     "output_type": "display_data"
    },
    {
     "data": {
      "text/html": [
       "<b>Baseline - Worst Case</b> [in us]"
      ],
      "text/plain": [
       "<IPython.core.display.HTML object>"
      ]
     },
     "metadata": {},
     "output_type": "display_data"
    },
    {
     "data": {
      "text/plain": [
       "min    1867.6375\n",
       "max    1867.6875\n",
       "Name: mean, dtype: float64"
      ]
     },
     "metadata": {},
     "output_type": "display_data"
    }
   ],
   "source": [
    "from util.convert import display_dataset_infos_combined\n",
    "\n",
    "display_dataset_infos_combined(dataset)"
   ]
  },
  {
   "cell_type": "markdown",
   "metadata": {},
   "source": [
    "# Final Plot"
   ]
  },
  {
   "cell_type": "code",
   "execution_count": 20,
   "metadata": {},
   "outputs": [
    {
     "data": {
      "text/plain": [
       "<Axes: xlabel='Object Size [Bytes]', ylabel='Latency in ms'>"
      ]
     },
     "execution_count": 20,
     "metadata": {},
     "output_type": "execute_result"
    },
    {
     "data": {
      "image/png": "[encoded data removed]",
      "text/plain": [
       "<Figure size 1000x600 with 1 Axes>"
      ]
     },
     "metadata": {},
     "output_type": "display_data"
    }
   ],
   "source": [
    "from util.plot import plot_lines\n",
    "\n",
    "scale = 32\n",
    "max_size = 1024\n",
    "\n",
    "def get_plot_data(dataset, marker_dict):\n",
    "    res = []\n",
    "    for id in dataset[\"benchmark_id\"].unique():\n",
    "        row = dataset[dataset[\"benchmark_id\"] == id].iloc[0].to_dict()\n",
    "        data = dataset[dataset[\"benchmark_id\"] == id]\n",
    "        data = data[data[\"options.object_size\"] % scale == 0]\n",
    "\n",
    "        res.append({\n",
    "            \"name\": f\"{row[\"dataset_type\"]} - {row[\"benchmark_title\"]}\",\n",
    "            \"x\": \"options.object_size\",\n",
    "            \"y\": \"mean\",\n",
    "            \"marker\": marker_dict[row[\"benchmark_title\"]],\n",
    "            \"data\": data\n",
    "        })\n",
    "    \n",
    "    \n",
    "    return res\n",
    "\n",
    "plot_data = get_plot_data(dataset, {\n",
    "    \"Best Case\": \"o\",\n",
    "    \"Worst-Best Case\": \"s\",\n",
    "    \"Best-Worst Case\": \"D\",\n",
    "    \"Worst Case\": \"D\"\n",
    "})\n",
    "\n",
    "options = {\n",
    "    \"data\": plot_data,\n",
    "    \"scale\": unit,\n",
    "    \"x_label\": \"Object Size [Bytes]\",\n",
    "    \"y_label\": f\"Latency in {unit}\",\n",
    "    \"legend_cols\": 2\n",
    "}\n",
    "\n",
    "plot_lines(options)"
   ]
  }
 ],
 "metadata": {
  "kernelspec": {
   "display_name": ".venv",
   "language": "python",
   "name": "python3"
  },
  "language_info": {
   "codemirror_mode": {
    "name": "ipython",
    "version": 3
   },
   "file_extension": ".py",
   "mimetype": "text/x-python",
   "name": "python",
   "nbconvert_exporter": "python",
   "pygments_lexer": "ipython3",
   "version": "3.12.7"
  }
 },
 "nbformat": 4,
 "nbformat_minor": 2
}
