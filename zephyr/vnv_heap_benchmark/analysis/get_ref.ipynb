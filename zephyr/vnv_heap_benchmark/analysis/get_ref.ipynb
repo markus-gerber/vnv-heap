{
 "cells": [
  {
   "cell_type": "markdown",
   "metadata": {},
   "source": [
    "# Get Immutable Reference Benchmarks"
   ]
  },
  {
   "cell_type": "code",
   "execution_count": 8,
   "metadata": {},
   "outputs": [],
   "source": [
    "# select measurement file\n",
    "#file_name = \"../output/2024-05-22 10-14-20 get1.json\"\n",
    "file_name = \"../output/2024-08-28 09-53-03 full.json\"\n",
    "\n",
    "# select style options\n",
    "grey_fill_between = False\n",
    "\n",
    "enable_storage_reference = False\n",
    "\n",
    "if grey_fill_between:\n",
    "    fill_between_args = {\"color\": \"grey\"}\n",
    "else:\n",
    "    fill_between_args = {}"
   ]
  },
  {
   "cell_type": "code",
   "execution_count": 9,
   "metadata": {},
   "outputs": [],
   "source": [
    "# parse data\n",
    "import json\n",
    "\n",
    "with open(file_name) as file:\n",
    "    raw_data = json.load(file)"
   ]
  },
  {
   "cell_type": "code",
   "execution_count": 10,
   "metadata": {},
   "outputs": [
    {
     "data": {
      "text/html": [
       "<b>MIN Data:</b>"
      ],
      "text/plain": [
       "<IPython.core.display.HTML object>"
      ]
     },
     "metadata": {},
     "output_type": "display_data"
    },
    {
     "data": {
      "text/html": [
       "<div>\n",
       "<style scoped>\n",
       "    .dataframe tbody tr th:only-of-type {\n",
       "        vertical-align: middle;\n",
       "    }\n",
       "\n",
       "    .dataframe tbody tr th {\n",
       "        vertical-align: top;\n",
       "    }\n",
       "\n",
       "    .dataframe thead th {\n",
       "        text-align: right;\n",
       "    }\n",
       "</style>\n",
       "<table border=\"1\" class=\"dataframe\">\n",
       "  <thead>\n",
       "    <tr style=\"text-align: right;\">\n",
       "      <th></th>\n",
       "      <th>mean</th>\n",
       "      <th>min</th>\n",
       "      <th>max</th>\n",
       "      <th>options.object_size</th>\n",
       "      <th>options.blocker_size</th>\n",
       "      <th>options.blocker_count</th>\n",
       "      <th>options.modules</th>\n",
       "      <th>machine_name</th>\n",
       "      <th>cold_start</th>\n",
       "      <th>repetitions</th>\n",
       "      <th>ticks_per_ms</th>\n",
       "    </tr>\n",
       "  </thead>\n",
       "  <tbody>\n",
       "    <tr>\n",
       "      <th>0</th>\n",
       "      <td>25.043</td>\n",
       "      <td>25</td>\n",
       "      <td>68</td>\n",
       "      <td>0</td>\n",
       "      <td>NaN</td>\n",
       "      <td>NaN</td>\n",
       "      <td>{'allocator': 'vnv_heap::modules::allocator::l...</td>\n",
       "      <td>esp32c3</td>\n",
       "      <td>100</td>\n",
       "      <td>1000</td>\n",
       "      <td>16000</td>\n",
       "    </tr>\n",
       "    <tr>\n",
       "      <th>1</th>\n",
       "      <td>25.068</td>\n",
       "      <td>25</td>\n",
       "      <td>93</td>\n",
       "      <td>32</td>\n",
       "      <td>NaN</td>\n",
       "      <td>NaN</td>\n",
       "      <td>{'allocator': 'vnv_heap::modules::allocator::l...</td>\n",
       "      <td>esp32c3</td>\n",
       "      <td>100</td>\n",
       "      <td>1000</td>\n",
       "      <td>16000</td>\n",
       "    </tr>\n",
       "    <tr>\n",
       "      <th>2</th>\n",
       "      <td>26.074</td>\n",
       "      <td>26</td>\n",
       "      <td>100</td>\n",
       "      <td>64</td>\n",
       "      <td>NaN</td>\n",
       "      <td>NaN</td>\n",
       "      <td>{'allocator': 'vnv_heap::modules::allocator::l...</td>\n",
       "      <td>esp32c3</td>\n",
       "      <td>100</td>\n",
       "      <td>1000</td>\n",
       "      <td>16000</td>\n",
       "    </tr>\n",
       "    <tr>\n",
       "      <th>3</th>\n",
       "      <td>26.043</td>\n",
       "      <td>26</td>\n",
       "      <td>69</td>\n",
       "      <td>96</td>\n",
       "      <td>NaN</td>\n",
       "      <td>NaN</td>\n",
       "      <td>{'allocator': 'vnv_heap::modules::allocator::l...</td>\n",
       "      <td>esp32c3</td>\n",
       "      <td>100</td>\n",
       "      <td>1000</td>\n",
       "      <td>16000</td>\n",
       "    </tr>\n",
       "    <tr>\n",
       "      <th>4</th>\n",
       "      <td>26.068</td>\n",
       "      <td>26</td>\n",
       "      <td>94</td>\n",
       "      <td>128</td>\n",
       "      <td>NaN</td>\n",
       "      <td>NaN</td>\n",
       "      <td>{'allocator': 'vnv_heap::modules::allocator::l...</td>\n",
       "      <td>esp32c3</td>\n",
       "      <td>100</td>\n",
       "      <td>1000</td>\n",
       "      <td>16000</td>\n",
       "    </tr>\n",
       "  </tbody>\n",
       "</table>\n",
       "</div>"
      ],
      "text/plain": [
       "     mean  min  max  options.object_size  options.blocker_size  \\\n",
       "0  25.043   25   68                    0                   NaN   \n",
       "1  25.068   25   93                   32                   NaN   \n",
       "2  26.074   26  100                   64                   NaN   \n",
       "3  26.043   26   69                   96                   NaN   \n",
       "4  26.068   26   94                  128                   NaN   \n",
       "\n",
       "   options.blocker_count                                    options.modules  \\\n",
       "0                    NaN  {'allocator': 'vnv_heap::modules::allocator::l...   \n",
       "1                    NaN  {'allocator': 'vnv_heap::modules::allocator::l...   \n",
       "2                    NaN  {'allocator': 'vnv_heap::modules::allocator::l...   \n",
       "3                    NaN  {'allocator': 'vnv_heap::modules::allocator::l...   \n",
       "4                    NaN  {'allocator': 'vnv_heap::modules::allocator::l...   \n",
       "\n",
       "  machine_name  cold_start  repetitions  ticks_per_ms  \n",
       "0      esp32c3         100         1000         16000  \n",
       "1      esp32c3         100         1000         16000  \n",
       "2      esp32c3         100         1000         16000  \n",
       "3      esp32c3         100         1000         16000  \n",
       "4      esp32c3         100         1000         16000  "
      ]
     },
     "metadata": {},
     "output_type": "display_data"
    },
    {
     "data": {
      "text/html": [
       "<b>MAX Data V1:</b>"
      ],
      "text/plain": [
       "<IPython.core.display.HTML object>"
      ]
     },
     "metadata": {},
     "output_type": "display_data"
    },
    {
     "data": {
      "text/html": [
       "<div>\n",
       "<style scoped>\n",
       "    .dataframe tbody tr th:only-of-type {\n",
       "        vertical-align: middle;\n",
       "    }\n",
       "\n",
       "    .dataframe tbody tr th {\n",
       "        vertical-align: top;\n",
       "    }\n",
       "\n",
       "    .dataframe thead th {\n",
       "        text-align: right;\n",
       "    }\n",
       "</style>\n",
       "<table border=\"1\" class=\"dataframe\">\n",
       "  <thead>\n",
       "    <tr style=\"text-align: right;\">\n",
       "      <th></th>\n",
       "      <th>mean</th>\n",
       "      <th>min</th>\n",
       "      <th>max</th>\n",
       "      <th>options.object_size</th>\n",
       "      <th>options.blocker_size</th>\n",
       "      <th>options.blocker_count</th>\n",
       "      <th>options.modules</th>\n",
       "      <th>machine_name</th>\n",
       "      <th>cold_start</th>\n",
       "      <th>repetitions</th>\n",
       "      <th>ticks_per_ms</th>\n",
       "    </tr>\n",
       "  </thead>\n",
       "  <tbody>\n",
       "  </tbody>\n",
       "</table>\n",
       "</div>"
      ],
      "text/plain": [
       "Empty DataFrame\n",
       "Columns: [mean, min, max, options.object_size, options.blocker_size, options.blocker_count, options.modules, machine_name, cold_start, repetitions, ticks_per_ms]\n",
       "Index: []"
      ]
     },
     "metadata": {},
     "output_type": "display_data"
    },
    {
     "data": {
      "text/html": [
       "<b>MAX Data V2:</b>"
      ],
      "text/plain": [
       "<IPython.core.display.HTML object>"
      ]
     },
     "metadata": {},
     "output_type": "display_data"
    },
    {
     "data": {
      "text/html": [
       "<div>\n",
       "<style scoped>\n",
       "    .dataframe tbody tr th:only-of-type {\n",
       "        vertical-align: middle;\n",
       "    }\n",
       "\n",
       "    .dataframe tbody tr th {\n",
       "        vertical-align: top;\n",
       "    }\n",
       "\n",
       "    .dataframe thead th {\n",
       "        text-align: right;\n",
       "    }\n",
       "</style>\n",
       "<table border=\"1\" class=\"dataframe\">\n",
       "  <thead>\n",
       "    <tr style=\"text-align: right;\">\n",
       "      <th></th>\n",
       "      <th>mean</th>\n",
       "      <th>min</th>\n",
       "      <th>max</th>\n",
       "      <th>options.object_size</th>\n",
       "      <th>options.blocker_size</th>\n",
       "      <th>options.blocker_count</th>\n",
       "      <th>options.modules</th>\n",
       "      <th>machine_name</th>\n",
       "      <th>cold_start</th>\n",
       "      <th>repetitions</th>\n",
       "      <th>ticks_per_ms</th>\n",
       "    </tr>\n",
       "  </thead>\n",
       "  <tbody>\n",
       "    <tr>\n",
       "      <th>0</th>\n",
       "      <td>21218.0</td>\n",
       "      <td>21218</td>\n",
       "      <td>21218</td>\n",
       "      <td>0</td>\n",
       "      <td>936</td>\n",
       "      <td>NaN</td>\n",
       "      <td>{'allocator': 'vnv_heap::modules::allocator::l...</td>\n",
       "      <td>esp32c3</td>\n",
       "      <td>100</td>\n",
       "      <td>1000</td>\n",
       "      <td>16000</td>\n",
       "    </tr>\n",
       "    <tr>\n",
       "      <th>1</th>\n",
       "      <td>21697.0</td>\n",
       "      <td>21697</td>\n",
       "      <td>21697</td>\n",
       "      <td>32</td>\n",
       "      <td>936</td>\n",
       "      <td>NaN</td>\n",
       "      <td>{'allocator': 'vnv_heap::modules::allocator::l...</td>\n",
       "      <td>esp32c3</td>\n",
       "      <td>100</td>\n",
       "      <td>1000</td>\n",
       "      <td>16000</td>\n",
       "    </tr>\n",
       "    <tr>\n",
       "      <th>2</th>\n",
       "      <td>22092.5</td>\n",
       "      <td>22036</td>\n",
       "      <td>22149</td>\n",
       "      <td>64</td>\n",
       "      <td>936</td>\n",
       "      <td>NaN</td>\n",
       "      <td>{'allocator': 'vnv_heap::modules::allocator::l...</td>\n",
       "      <td>esp32c3</td>\n",
       "      <td>100</td>\n",
       "      <td>1000</td>\n",
       "      <td>16000</td>\n",
       "    </tr>\n",
       "    <tr>\n",
       "      <th>3</th>\n",
       "      <td>22513.0</td>\n",
       "      <td>22513</td>\n",
       "      <td>22513</td>\n",
       "      <td>96</td>\n",
       "      <td>936</td>\n",
       "      <td>NaN</td>\n",
       "      <td>{'allocator': 'vnv_heap::modules::allocator::l...</td>\n",
       "      <td>esp32c3</td>\n",
       "      <td>100</td>\n",
       "      <td>1000</td>\n",
       "      <td>16000</td>\n",
       "    </tr>\n",
       "    <tr>\n",
       "      <th>4</th>\n",
       "      <td>22851.0</td>\n",
       "      <td>22851</td>\n",
       "      <td>22851</td>\n",
       "      <td>128</td>\n",
       "      <td>936</td>\n",
       "      <td>NaN</td>\n",
       "      <td>{'allocator': 'vnv_heap::modules::allocator::l...</td>\n",
       "      <td>esp32c3</td>\n",
       "      <td>100</td>\n",
       "      <td>1000</td>\n",
       "      <td>16000</td>\n",
       "    </tr>\n",
       "  </tbody>\n",
       "</table>\n",
       "</div>"
      ],
      "text/plain": [
       "      mean    min    max  options.object_size  options.blocker_size  \\\n",
       "0  21218.0  21218  21218                    0                   936   \n",
       "1  21697.0  21697  21697                   32                   936   \n",
       "2  22092.5  22036  22149                   64                   936   \n",
       "3  22513.0  22513  22513                   96                   936   \n",
       "4  22851.0  22851  22851                  128                   936   \n",
       "\n",
       "   options.blocker_count                                    options.modules  \\\n",
       "0                    NaN  {'allocator': 'vnv_heap::modules::allocator::l...   \n",
       "1                    NaN  {'allocator': 'vnv_heap::modules::allocator::l...   \n",
       "2                    NaN  {'allocator': 'vnv_heap::modules::allocator::l...   \n",
       "3                    NaN  {'allocator': 'vnv_heap::modules::allocator::l...   \n",
       "4                    NaN  {'allocator': 'vnv_heap::modules::allocator::l...   \n",
       "\n",
       "  machine_name  cold_start  repetitions  ticks_per_ms  \n",
       "0      esp32c3         100         1000         16000  \n",
       "1      esp32c3         100         1000         16000  \n",
       "2      esp32c3         100         1000         16000  \n",
       "3      esp32c3         100         1000         16000  \n",
       "4      esp32c3         100         1000         16000  "
      ]
     },
     "metadata": {},
     "output_type": "display_data"
    },
    {
     "data": {
      "text/html": [
       "<b>Case Data 1:</b>"
      ],
      "text/plain": [
       "<IPython.core.display.HTML object>"
      ]
     },
     "metadata": {},
     "output_type": "display_data"
    },
    {
     "data": {
      "text/html": [
       "<div>\n",
       "<style scoped>\n",
       "    .dataframe tbody tr th:only-of-type {\n",
       "        vertical-align: middle;\n",
       "    }\n",
       "\n",
       "    .dataframe tbody tr th {\n",
       "        vertical-align: top;\n",
       "    }\n",
       "\n",
       "    .dataframe thead th {\n",
       "        text-align: right;\n",
       "    }\n",
       "</style>\n",
       "<table border=\"1\" class=\"dataframe\">\n",
       "  <thead>\n",
       "    <tr style=\"text-align: right;\">\n",
       "      <th></th>\n",
       "      <th>mean</th>\n",
       "      <th>min</th>\n",
       "      <th>max</th>\n",
       "      <th>options.object_size</th>\n",
       "      <th>options.modules</th>\n",
       "      <th>machine_name</th>\n",
       "      <th>cold_start</th>\n",
       "      <th>repetitions</th>\n",
       "      <th>ticks_per_ms</th>\n",
       "    </tr>\n",
       "  </thead>\n",
       "  <tbody>\n",
       "    <tr>\n",
       "      <th>0</th>\n",
       "      <td>663.0</td>\n",
       "      <td>663</td>\n",
       "      <td>663</td>\n",
       "      <td>0</td>\n",
       "      <td>{'allocator': 'vnv_heap::modules::allocator::l...</td>\n",
       "      <td>esp32c3</td>\n",
       "      <td>100</td>\n",
       "      <td>1000</td>\n",
       "      <td>16000</td>\n",
       "    </tr>\n",
       "    <tr>\n",
       "      <th>1</th>\n",
       "      <td>1142.0</td>\n",
       "      <td>1142</td>\n",
       "      <td>1142</td>\n",
       "      <td>32</td>\n",
       "      <td>{'allocator': 'vnv_heap::modules::allocator::l...</td>\n",
       "      <td>esp32c3</td>\n",
       "      <td>100</td>\n",
       "      <td>1000</td>\n",
       "      <td>16000</td>\n",
       "    </tr>\n",
       "    <tr>\n",
       "      <th>2</th>\n",
       "      <td>1480.0</td>\n",
       "      <td>1480</td>\n",
       "      <td>1480</td>\n",
       "      <td>64</td>\n",
       "      <td>{'allocator': 'vnv_heap::modules::allocator::l...</td>\n",
       "      <td>esp32c3</td>\n",
       "      <td>100</td>\n",
       "      <td>1000</td>\n",
       "      <td>16000</td>\n",
       "    </tr>\n",
       "    <tr>\n",
       "      <th>3</th>\n",
       "      <td>1958.0</td>\n",
       "      <td>1958</td>\n",
       "      <td>1958</td>\n",
       "      <td>96</td>\n",
       "      <td>{'allocator': 'vnv_heap::modules::allocator::l...</td>\n",
       "      <td>esp32c3</td>\n",
       "      <td>100</td>\n",
       "      <td>1000</td>\n",
       "      <td>16000</td>\n",
       "    </tr>\n",
       "    <tr>\n",
       "      <th>4</th>\n",
       "      <td>2295.0</td>\n",
       "      <td>2295</td>\n",
       "      <td>2295</td>\n",
       "      <td>128</td>\n",
       "      <td>{'allocator': 'vnv_heap::modules::allocator::l...</td>\n",
       "      <td>esp32c3</td>\n",
       "      <td>100</td>\n",
       "      <td>1000</td>\n",
       "      <td>16000</td>\n",
       "    </tr>\n",
       "  </tbody>\n",
       "</table>\n",
       "</div>"
      ],
      "text/plain": [
       "     mean   min   max  options.object_size  \\\n",
       "0   663.0   663   663                    0   \n",
       "1  1142.0  1142  1142                   32   \n",
       "2  1480.0  1480  1480                   64   \n",
       "3  1958.0  1958  1958                   96   \n",
       "4  2295.0  2295  2295                  128   \n",
       "\n",
       "                                     options.modules machine_name  cold_start  \\\n",
       "0  {'allocator': 'vnv_heap::modules::allocator::l...      esp32c3         100   \n",
       "1  {'allocator': 'vnv_heap::modules::allocator::l...      esp32c3         100   \n",
       "2  {'allocator': 'vnv_heap::modules::allocator::l...      esp32c3         100   \n",
       "3  {'allocator': 'vnv_heap::modules::allocator::l...      esp32c3         100   \n",
       "4  {'allocator': 'vnv_heap::modules::allocator::l...      esp32c3         100   \n",
       "\n",
       "   repetitions  ticks_per_ms  \n",
       "0         1000         16000  \n",
       "1         1000         16000  \n",
       "2         1000         16000  \n",
       "3         1000         16000  \n",
       "4         1000         16000  "
      ]
     },
     "metadata": {},
     "output_type": "display_data"
    }
   ],
   "source": [
    "from util.convert import convert_data\n",
    "from IPython.core.display import HTML\n",
    "\n",
    "# filter and convert data\n",
    "get_min = convert_data(raw_data, \"get_min\", [\"mean\", \"min\", \"max\", \"options.object_size\", \"options.blocker_size\", \"options.blocker_count\", \"options.modules\", \"machine_name\", \"cold_start\", \"repetitions\"])\n",
    "get_max1 = convert_data(raw_data, \"get_max_1\", [\"mean\", \"min\", \"max\", \"options.object_size\", \"options.blocker_size\", \"options.blocker_count\", \"options.modules\", \"machine_name\", \"cold_start\", \"repetitions\"])\n",
    "get_max2 = convert_data(raw_data, \"get_max_2\", [\"mean\", \"min\", \"max\", \"options.object_size\", \"options.blocker_size\", \"options.blocker_count\", \"options.modules\", \"machine_name\", \"cold_start\", \"repetitions\"])\n",
    "get_case1 = convert_data(raw_data, \"get_case_1\", [\"mean\", \"min\", \"max\", \"options.object_size\", \"options.modules\", \"machine_name\", \"cold_start\", \"repetitions\"])\n",
    "\n",
    "display(HTML(\"<b>MIN Data:</b>\"))\n",
    "display(get_min.head())\n",
    "display(HTML(\"<b>MAX Data V1:</b>\"))\n",
    "display(get_max1.head())\n",
    "display(HTML(\"<b>MAX Data V2:</b>\"))\n",
    "display(get_max2.head())\n",
    "display(HTML(\"<b>Case Data 1:</b>\"))\n",
    "display(get_case1.head())"
   ]
  },
  {
   "cell_type": "code",
   "execution_count": 11,
   "metadata": {},
   "outputs": [
    {
     "data": {
      "text/html": [
       "<b>MIN:</b>"
      ],
      "text/plain": [
       "<IPython.core.display.HTML object>"
      ]
     },
     "metadata": {},
     "output_type": "display_data"
    },
    {
     "data": {
      "text/plain": [
       "min    1.565187\n",
       "max    1.630000\n",
       "Name: mean, dtype: float64"
      ]
     },
     "metadata": {},
     "output_type": "display_data"
    },
    {
     "data": {
      "text/html": [
       "<b>MAX V1:</b>"
      ],
      "text/plain": [
       "<IPython.core.display.HTML object>"
      ]
     },
     "metadata": {},
     "output_type": "display_data"
    },
    {
     "data": {
      "text/plain": [
       "min   NaN\n",
       "max   NaN\n",
       "Name: mean, dtype: float64"
      ]
     },
     "metadata": {},
     "output_type": "display_data"
    },
    {
     "data": {
      "text/html": [
       "<b>MAX V2:</b>"
      ],
      "text/plain": [
       "<IPython.core.display.HTML object>"
      ]
     },
     "metadata": {},
     "output_type": "display_data"
    },
    {
     "data": {
      "text/plain": [
       "min    1326.125\n",
       "max    2510.125\n",
       "Name: mean, dtype: float64"
      ]
     },
     "metadata": {},
     "output_type": "display_data"
    },
    {
     "data": {
      "text/html": [
       "<b>CASE 1:</b>"
      ],
      "text/plain": [
       "<IPython.core.display.HTML object>"
      ]
     },
     "metadata": {},
     "output_type": "display_data"
    },
    {
     "data": {
      "text/plain": [
       "min      41.4375\n",
       "max    1248.1250\n",
       "Name: mean, dtype: float64"
      ]
     },
     "metadata": {},
     "output_type": "display_data"
    }
   ],
   "source": [
    "from util.convert import scale_data\n",
    "\n",
    "for (dataset, name) in [(get_min, \"MIN\"), (get_max1, \"MAX V1\"), (get_max2, \"MAX V2\"), (get_case1, \"CASE 1\")]:\n",
    "    scaled_data = scale_data(dataset, \"us\")\n",
    "    display(HTML(f\"<b>{name}:</b>\"))\n",
    "    display(scaled_data[\"mean\"].agg([\"min\", \"max\"]))"
   ]
  },
  {
   "cell_type": "code",
   "execution_count": 12,
   "metadata": {},
   "outputs": [
    {
     "data": {
      "text/html": [
       "<b>READ Data:</b>"
      ],
      "text/plain": [
       "<IPython.core.display.HTML object>"
      ]
     },
     "metadata": {},
     "output_type": "display_data"
    },
    {
     "data": {
      "text/html": [
       "<div>\n",
       "<style scoped>\n",
       "    .dataframe tbody tr th:only-of-type {\n",
       "        vertical-align: middle;\n",
       "    }\n",
       "\n",
       "    .dataframe tbody tr th {\n",
       "        vertical-align: top;\n",
       "    }\n",
       "\n",
       "    .dataframe thead th {\n",
       "        text-align: right;\n",
       "    }\n",
       "</style>\n",
       "<table border=\"1\" class=\"dataframe\">\n",
       "  <thead>\n",
       "    <tr style=\"text-align: right;\">\n",
       "      <th></th>\n",
       "      <th>mean</th>\n",
       "      <th>min</th>\n",
       "      <th>max</th>\n",
       "      <th>options.object_size</th>\n",
       "      <th>machine_name</th>\n",
       "      <th>cold_start</th>\n",
       "      <th>repetitions</th>\n",
       "      <th>ticks_per_ms</th>\n",
       "    </tr>\n",
       "  </thead>\n",
       "  <tbody>\n",
       "    <tr>\n",
       "      <th>0</th>\n",
       "      <td>616.0</td>\n",
       "      <td>616</td>\n",
       "      <td>616</td>\n",
       "      <td>0</td>\n",
       "      <td>esp32c3</td>\n",
       "      <td>100</td>\n",
       "      <td>1000</td>\n",
       "      <td>16000</td>\n",
       "    </tr>\n",
       "    <tr>\n",
       "      <th>1</th>\n",
       "      <td>1095.0</td>\n",
       "      <td>1095</td>\n",
       "      <td>1095</td>\n",
       "      <td>32</td>\n",
       "      <td>esp32c3</td>\n",
       "      <td>100</td>\n",
       "      <td>1000</td>\n",
       "      <td>16000</td>\n",
       "    </tr>\n",
       "    <tr>\n",
       "      <th>2</th>\n",
       "      <td>1433.0</td>\n",
       "      <td>1433</td>\n",
       "      <td>1433</td>\n",
       "      <td>64</td>\n",
       "      <td>esp32c3</td>\n",
       "      <td>100</td>\n",
       "      <td>1000</td>\n",
       "      <td>16000</td>\n",
       "    </tr>\n",
       "    <tr>\n",
       "      <th>3</th>\n",
       "      <td>1910.0</td>\n",
       "      <td>1910</td>\n",
       "      <td>1910</td>\n",
       "      <td>96</td>\n",
       "      <td>esp32c3</td>\n",
       "      <td>100</td>\n",
       "      <td>1000</td>\n",
       "      <td>16000</td>\n",
       "    </tr>\n",
       "    <tr>\n",
       "      <th>4</th>\n",
       "      <td>2248.0</td>\n",
       "      <td>2248</td>\n",
       "      <td>2248</td>\n",
       "      <td>128</td>\n",
       "      <td>esp32c3</td>\n",
       "      <td>100</td>\n",
       "      <td>1000</td>\n",
       "      <td>16000</td>\n",
       "    </tr>\n",
       "  </tbody>\n",
       "</table>\n",
       "</div>"
      ],
      "text/plain": [
       "     mean   min   max  options.object_size machine_name  cold_start  \\\n",
       "0   616.0   616   616                    0      esp32c3         100   \n",
       "1  1095.0  1095  1095                   32      esp32c3         100   \n",
       "2  1433.0  1433  1433                   64      esp32c3         100   \n",
       "3  1910.0  1910  1910                   96      esp32c3         100   \n",
       "4  2248.0  2248  2248                  128      esp32c3         100   \n",
       "\n",
       "   repetitions  ticks_per_ms  \n",
       "0         1000         16000  \n",
       "1         1000         16000  \n",
       "2         1000         16000  \n",
       "3         1000         16000  \n",
       "4         1000         16000  "
      ]
     },
     "metadata": {},
     "output_type": "display_data"
    },
    {
     "data": {
      "text/html": [
       "<b>WRITE Data:</b>"
      ],
      "text/plain": [
       "<IPython.core.display.HTML object>"
      ]
     },
     "metadata": {},
     "output_type": "display_data"
    },
    {
     "data": {
      "text/html": [
       "<div>\n",
       "<style scoped>\n",
       "    .dataframe tbody tr th:only-of-type {\n",
       "        vertical-align: middle;\n",
       "    }\n",
       "\n",
       "    .dataframe tbody tr th {\n",
       "        vertical-align: top;\n",
       "    }\n",
       "\n",
       "    .dataframe thead th {\n",
       "        text-align: right;\n",
       "    }\n",
       "</style>\n",
       "<table border=\"1\" class=\"dataframe\">\n",
       "  <thead>\n",
       "    <tr style=\"text-align: right;\">\n",
       "      <th></th>\n",
       "      <th>mean</th>\n",
       "      <th>min</th>\n",
       "      <th>max</th>\n",
       "      <th>options.object_size</th>\n",
       "      <th>machine_name</th>\n",
       "      <th>cold_start</th>\n",
       "      <th>repetitions</th>\n",
       "      <th>ticks_per_ms</th>\n",
       "    </tr>\n",
       "  </thead>\n",
       "  <tbody>\n",
       "    <tr>\n",
       "      <th>0</th>\n",
       "      <td>1137.000</td>\n",
       "      <td>1137</td>\n",
       "      <td>1137</td>\n",
       "      <td>0</td>\n",
       "      <td>esp32c3</td>\n",
       "      <td>100</td>\n",
       "      <td>1000</td>\n",
       "      <td>16000</td>\n",
       "    </tr>\n",
       "    <tr>\n",
       "      <th>1</th>\n",
       "      <td>1531.000</td>\n",
       "      <td>1531</td>\n",
       "      <td>1531</td>\n",
       "      <td>32</td>\n",
       "      <td>esp32c3</td>\n",
       "      <td>100</td>\n",
       "      <td>1000</td>\n",
       "      <td>16000</td>\n",
       "    </tr>\n",
       "    <tr>\n",
       "      <th>2</th>\n",
       "      <td>1789.063</td>\n",
       "      <td>1789</td>\n",
       "      <td>1852</td>\n",
       "      <td>64</td>\n",
       "      <td>esp32c3</td>\n",
       "      <td>100</td>\n",
       "      <td>1000</td>\n",
       "      <td>16000</td>\n",
       "    </tr>\n",
       "    <tr>\n",
       "      <th>3</th>\n",
       "      <td>2184.000</td>\n",
       "      <td>2184</td>\n",
       "      <td>2184</td>\n",
       "      <td>96</td>\n",
       "      <td>esp32c3</td>\n",
       "      <td>100</td>\n",
       "      <td>1000</td>\n",
       "      <td>16000</td>\n",
       "    </tr>\n",
       "    <tr>\n",
       "      <th>4</th>\n",
       "      <td>2442.000</td>\n",
       "      <td>2442</td>\n",
       "      <td>2442</td>\n",
       "      <td>128</td>\n",
       "      <td>esp32c3</td>\n",
       "      <td>100</td>\n",
       "      <td>1000</td>\n",
       "      <td>16000</td>\n",
       "    </tr>\n",
       "  </tbody>\n",
       "</table>\n",
       "</div>"
      ],
      "text/plain": [
       "       mean   min   max  options.object_size machine_name  cold_start  \\\n",
       "0  1137.000  1137  1137                    0      esp32c3         100   \n",
       "1  1531.000  1531  1531                   32      esp32c3         100   \n",
       "2  1789.063  1789  1852                   64      esp32c3         100   \n",
       "3  2184.000  2184  2184                   96      esp32c3         100   \n",
       "4  2442.000  2442  2442                  128      esp32c3         100   \n",
       "\n",
       "   repetitions  ticks_per_ms  \n",
       "0         1000         16000  \n",
       "1         1000         16000  \n",
       "2         1000         16000  \n",
       "3         1000         16000  \n",
       "4         1000         16000  "
      ]
     },
     "metadata": {},
     "output_type": "display_data"
    }
   ],
   "source": [
    "from util.convert import get_storage_measurement\n",
    "from IPython.core.display import HTML\n",
    "\n",
    "(storage_read, storage_write) = get_storage_measurement(raw_data, get_min[\"options.object_size\"].max())\n",
    "\n",
    "display(HTML(\"<b>READ Data:</b>\"))\n",
    "display(storage_read.head())\n",
    "display(HTML(\"<b>WRITE Data:</b>\"))\n",
    "display(storage_write.head())"
   ]
  },
  {
   "cell_type": "markdown",
   "metadata": {},
   "source": [
    "# Final Plot"
   ]
  },
  {
   "cell_type": "code",
   "execution_count": 13,
   "metadata": {},
   "outputs": [
    {
     "data": {
      "text/plain": [
       "2.510125"
      ]
     },
     "execution_count": 13,
     "metadata": {},
     "output_type": "execute_result"
    },
    {
     "data": {
      "image/png": "[encoded data removed]",
      "text/plain": [
       "<Figure size 1000x600 with 2 Axes>"
      ]
     },
     "metadata": {},
     "output_type": "display_data"
    }
   ],
   "source": [
    "from util.plot import set_gird, save_plot, set_theme\n",
    "from util.convert import scale_data\n",
    "import seaborn as sns\n",
    "import matplotlib.pyplot as plt\n",
    "from matplotlib import gridspec\n",
    "\n",
    "set_theme()\n",
    "\n",
    "fig = plt.figure(1)\n",
    "fig.set_figheight(6)\n",
    "fig.set_figwidth(10)\n",
    "\n",
    "gs = gridspec.GridSpec(nrows=2, ncols=1, height_ratios=[1.5, 1]) \n",
    "ax = plt.subplot(gs[0])\n",
    "\n",
    "unit = \"ms\"\n",
    "\n",
    "if enable_storage_reference and len(storage_write) != 0:\n",
    "    storage_write_scaled = scale_data(storage_write, unit)\n",
    "    sns.lineplot(ax=ax, x=storage_write_scaled[\"options.object_size\"], y=storage_write_scaled[\"mean\"], label=\"Raw Write\", markers=[\"o\"], marker=\"X\", color=\"#aaaaaa\")\n",
    "\n",
    "\n",
    "if len(get_max2) != 0:\n",
    "    get_max2_scaled = scale_data(get_max2, unit)\n",
    "    sns.lineplot(ax=ax, x=get_max2_scaled[\"options.object_size\"], y=get_max2_scaled[\"mean\"], label=\"Worst Case\", markers=[\"o\"], marker=\"o\")\n",
    "    ax.fill_between(get_max2_scaled[\"options.object_size\"], get_max2_scaled[\"min\"], get_max2_scaled[\"max\"], alpha=0.2, **fill_between_args)\n",
    "\n",
    "if len(get_case1) != 0:\n",
    "    get_case1_scaled = scale_data(get_case1, unit)\n",
    "    sns.lineplot(ax=ax, x=get_case1_scaled[\"options.object_size\"], y=get_case1_scaled[\"mean\"], label=\"Hybrid\", markers=[\"o\"], marker=\"s\")\n",
    "    ax.fill_between(get_case1_scaled[\"options.object_size\"], get_case1_scaled[\"min\"], get_case1_scaled[\"max\"], alpha=0.2, **fill_between_args)\n",
    "\n",
    "if len(get_min) != 0:\n",
    "    get_min_scaled = scale_data(get_min, unit)\n",
    "    sns.lineplot(ax=ax, x=get_min_scaled[\"options.object_size\"], y=get_min_scaled[\"mean\"], label=\"Best Case\", markers=[\"o\"], marker=\"v\")\n",
    "    ax.fill_between(get_min_scaled[\"options.object_size\"], get_min_scaled[\"min\"], get_min_scaled[\"max\"], alpha=0.2, **fill_between_args)\n",
    "\n",
    "set_gird(64, max(get_min[\"options.object_size\"].max(), get_max1[\"options.object_size\"].max(), get_max2[\"options.object_size\"].max()), ax)\n",
    "\n",
    "ax.set_xlabel(None)\n",
    "ax.set_ylabel(f\"Latency [{unit}]\")\n",
    "# ax.set_ylim(bottom=-5, top=100)\n",
    "\n",
    "if enable_storage_reference:\n",
    "    handles, labels = plt.gca().get_legend_handles_labels()\n",
    "    handles.append(handles.pop(0))\n",
    "    labels.append(labels.pop(0))\n",
    "    plt.legend(handles, labels, loc = \"lower center\", bbox_to_anchor=(.5, 1), ncol=len(ax.legend().get_lines()), title=None, frameon=False) \n",
    "else:\n",
    "    ax.legend(loc = \"lower center\", bbox_to_anchor=(.5, 1), ncol=len(ax.legend().get_lines()), title=None, frameon=False)\n",
    "\n",
    "\n",
    "set_theme(3, 2)\n",
    "ax = plt.subplot(gs[1])\n",
    "\n",
    "# fig, ax = plt.subplots()\n",
    "# fig.set_figheight(2.5)\n",
    "# fig.set_figwidth(10)\n",
    "\n",
    "unit = \"µs\"\n",
    "\n",
    "#if len(get_max2) != 0:\n",
    "#    get_max2_scaled = scale_data(get_max2, unit)\n",
    "#    sns.lineplot(ax=ax, x=get_max2_scaled[\"options.object_size\"], y=get_max2_scaled[\"mean\"], label=\"Worst Case\", markers=[\"o\"], marker=\"o\")\n",
    "#    ax.fill_between(get_max2_scaled[\"options.object_size\"], get_max2_scaled[\"min\"], get_max2_scaled[\"max\"], alpha=0.2, **fill_between_args)\n",
    "\n",
    "if len(get_case1) != 0:\n",
    "    get_case1_scaled = scale_data(get_case1, unit)\n",
    "    sns.lineplot(ax=ax, x=get_case1_scaled[\"options.object_size\"], y=get_case1_scaled[\"mean\"], label=\"Additional Example\", markers=[\"o\"], marker=\"s\")\n",
    "    ax.fill_between(get_case1_scaled[\"options.object_size\"], get_case1_scaled[\"min\"], get_case1_scaled[\"max\"], alpha=0.2, **fill_between_args)\n",
    "\n",
    "if enable_storage_reference and len(storage_write) != 0:\n",
    "    storage_write_scaled = scale_data(storage_write, unit)\n",
    "    sns.lineplot(ax=ax, x=storage_write_scaled[\"options.object_size\"], y=storage_write_scaled[\"mean\"], label=\"Raw Write\", markers=[\"o\"], marker=\"X\", color=\"#aaaaaa\")\n",
    "\n",
    "if len(get_min) != 0:\n",
    "    get_min_scaled = scale_data(get_min, unit)\n",
    "    sns.lineplot(ax=ax, x=get_min_scaled[\"options.object_size\"], y=get_min_scaled[\"mean\"], label=\"Best Case\", markers=[\"o\"], marker=\"v\")\n",
    "    ax.fill_between(get_min_scaled[\"options.object_size\"], get_min_scaled[\"min\"], get_min_scaled[\"max\"], alpha=0.2, **fill_between_args)\n",
    "\n",
    "set_gird(64, max(get_min[\"options.object_size\"].max(), get_max1[\"options.object_size\"].max(), get_max2[\"options.object_size\"].max()), ax)\n",
    "\n",
    "ax.set_xlabel(\"Object Size [Bytes]\")\n",
    "ax.set_ylabel(f\"Latency [{unit}]\")\n",
    "ax.set_ylim(bottom=0, top=8)\n",
    "ax.get_legend().remove()\n",
    "\n",
    "save_plot(\"get_ref\", save_asset=True)\n",
    "get_max2_scaled[\"mean\"].max()"
   ]
  },
  {
   "cell_type": "code",
   "execution_count": 14,
   "metadata": {},
   "outputs": [
    {
     "name": "stdout",
     "output_type": "stream",
     "text": [
      "min      41.4375\n",
      "max    1248.1250\n",
      "Name: mean, dtype: float64\n"
     ]
    }
   ],
   "source": [
    "print(get_case1_scaled[\"mean\"].agg([\"min\", \"max\"]))\n"
   ]
  }
 ],
 "metadata": {
  "kernelspec": {
   "display_name": "base",
   "language": "python",
   "name": "python3"
  },
  "language_info": {
   "codemirror_mode": {
    "name": "ipython",
    "version": 3
   },
   "file_extension": ".py",
   "mimetype": "text/x-python",
   "name": "python",
   "nbconvert_exporter": "python",
   "pygments_lexer": "ipython3",
   "version": "3.11.5"
  }
 },
 "nbformat": 4,
 "nbformat_minor": 2
}
