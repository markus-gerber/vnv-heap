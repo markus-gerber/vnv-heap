{
 "cells": [
  {
   "cell_type": "markdown",
   "metadata": {},
   "source": [
    "# Event Queue Application Benchmarks"
   ]
  },
  {
   "cell_type": "code",
   "execution_count": 1,
   "metadata": {},
   "outputs": [],
   "source": [
    "# select measurement file\n",
    "files = [\n",
    "    \"../output/2024-12-23 16-47-29.json\"\n",
    "]\n",
    "\n",
    "# plot settings\n",
    "show_error_bar = False\n",
    "unit = \"ms\""
   ]
  },
  {
   "cell_type": "code",
   "execution_count": 2,
   "metadata": {},
   "outputs": [],
   "source": [
    "# parse data\n",
    "import json\n",
    "\n",
    "raw_data = []\n",
    "for file_name in files:\n",
    "    with open(file_name) as file:\n",
    "        raw_data.extend(json.load(file))"
   ]
  },
  {
   "cell_type": "code",
   "execution_count": 3,
   "metadata": {},
   "outputs": [
    {
     "data": {
      "text/html": [
       "<div>\n",
       "<style scoped>\n",
       "    .dataframe tbody tr th:only-of-type {\n",
       "        vertical-align: middle;\n",
       "    }\n",
       "\n",
       "    .dataframe tbody tr th {\n",
       "        vertical-align: top;\n",
       "    }\n",
       "\n",
       "    .dataframe thead th {\n",
       "        text-align: right;\n",
       "    }\n",
       "</style>\n",
       "<table border=\"1\" class=\"dataframe\">\n",
       "  <thead>\n",
       "    <tr style=\"text-align: right;\">\n",
       "      <th></th>\n",
       "      <th>mean</th>\n",
       "      <th>min</th>\n",
       "      <th>max</th>\n",
       "      <th>options.object_size</th>\n",
       "      <th>options.queue_length</th>\n",
       "      <th>options.iterations</th>\n",
       "      <th>options.buffer_size</th>\n",
       "      <th>options.ram_overhead</th>\n",
       "      <th>machine_name</th>\n",
       "      <th>cold_start</th>\n",
       "      <th>repetitions</th>\n",
       "      <th>ticks_per_ms</th>\n",
       "      <th>dataset_type</th>\n",
       "      <th>benchmark_title</th>\n",
       "      <th>benchmark_id</th>\n",
       "    </tr>\n",
       "  </thead>\n",
       "  <tbody>\n",
       "    <tr>\n",
       "      <th>0</th>\n",
       "      <td>10028.3</td>\n",
       "      <td>10022</td>\n",
       "      <td>10085</td>\n",
       "      <td>256</td>\n",
       "      <td>0</td>\n",
       "      <td>10</td>\n",
       "      <td>256.0</td>\n",
       "      <td>16</td>\n",
       "      <td>esp32c3</td>\n",
       "      <td>0</td>\n",
       "      <td>10</td>\n",
       "      <td>16000</td>\n",
       "      <td>Event Queue</td>\n",
       "      <td>RAM Buffer</td>\n",
       "      <td>event_queue_ram</td>\n",
       "    </tr>\n",
       "    <tr>\n",
       "      <th>1</th>\n",
       "      <td>10022.0</td>\n",
       "      <td>10022</td>\n",
       "      <td>10022</td>\n",
       "      <td>256</td>\n",
       "      <td>1</td>\n",
       "      <td>10</td>\n",
       "      <td>512.0</td>\n",
       "      <td>16</td>\n",
       "      <td>esp32c3</td>\n",
       "      <td>0</td>\n",
       "      <td>10</td>\n",
       "      <td>16000</td>\n",
       "      <td>Event Queue</td>\n",
       "      <td>RAM Buffer</td>\n",
       "      <td>event_queue_ram</td>\n",
       "    </tr>\n",
       "    <tr>\n",
       "      <th>2</th>\n",
       "      <td>10022.0</td>\n",
       "      <td>10022</td>\n",
       "      <td>10022</td>\n",
       "      <td>256</td>\n",
       "      <td>2</td>\n",
       "      <td>10</td>\n",
       "      <td>768.0</td>\n",
       "      <td>16</td>\n",
       "      <td>esp32c3</td>\n",
       "      <td>0</td>\n",
       "      <td>10</td>\n",
       "      <td>16000</td>\n",
       "      <td>Event Queue</td>\n",
       "      <td>RAM Buffer</td>\n",
       "      <td>event_queue_ram</td>\n",
       "    </tr>\n",
       "    <tr>\n",
       "      <th>3</th>\n",
       "      <td>10022.0</td>\n",
       "      <td>10022</td>\n",
       "      <td>10022</td>\n",
       "      <td>256</td>\n",
       "      <td>3</td>\n",
       "      <td>10</td>\n",
       "      <td>1024.0</td>\n",
       "      <td>16</td>\n",
       "      <td>esp32c3</td>\n",
       "      <td>0</td>\n",
       "      <td>10</td>\n",
       "      <td>16000</td>\n",
       "      <td>Event Queue</td>\n",
       "      <td>RAM Buffer</td>\n",
       "      <td>event_queue_ram</td>\n",
       "    </tr>\n",
       "    <tr>\n",
       "      <th>4</th>\n",
       "      <td>10022.0</td>\n",
       "      <td>10022</td>\n",
       "      <td>10022</td>\n",
       "      <td>256</td>\n",
       "      <td>4</td>\n",
       "      <td>10</td>\n",
       "      <td>1280.0</td>\n",
       "      <td>16</td>\n",
       "      <td>esp32c3</td>\n",
       "      <td>0</td>\n",
       "      <td>10</td>\n",
       "      <td>16000</td>\n",
       "      <td>Event Queue</td>\n",
       "      <td>RAM Buffer</td>\n",
       "      <td>event_queue_ram</td>\n",
       "    </tr>\n",
       "  </tbody>\n",
       "</table>\n",
       "</div>"
      ],
      "text/plain": [
       "      mean    min    max  options.object_size  options.queue_length  \\\n",
       "0  10028.3  10022  10085                  256                     0   \n",
       "1  10022.0  10022  10022                  256                     1   \n",
       "2  10022.0  10022  10022                  256                     2   \n",
       "3  10022.0  10022  10022                  256                     3   \n",
       "4  10022.0  10022  10022                  256                     4   \n",
       "\n",
       "   options.iterations  options.buffer_size  options.ram_overhead machine_name  \\\n",
       "0                  10                256.0                    16      esp32c3   \n",
       "1                  10                512.0                    16      esp32c3   \n",
       "2                  10                768.0                    16      esp32c3   \n",
       "3                  10               1024.0                    16      esp32c3   \n",
       "4                  10               1280.0                    16      esp32c3   \n",
       "\n",
       "   cold_start  repetitions  ticks_per_ms dataset_type benchmark_title  \\\n",
       "0           0           10         16000  Event Queue      RAM Buffer   \n",
       "1           0           10         16000  Event Queue      RAM Buffer   \n",
       "2           0           10         16000  Event Queue      RAM Buffer   \n",
       "3           0           10         16000  Event Queue      RAM Buffer   \n",
       "4           0           10         16000  Event Queue      RAM Buffer   \n",
       "\n",
       "      benchmark_id  \n",
       "0  event_queue_ram  \n",
       "1  event_queue_ram  \n",
       "2  event_queue_ram  \n",
       "3  event_queue_ram  \n",
       "4  event_queue_ram  "
      ]
     },
     "execution_count": 3,
     "metadata": {},
     "output_type": "execute_result"
    }
   ],
   "source": [
    "from util.convert import convert_datasets\n",
    "import pandas as pd\n",
    "\n",
    "ram = convert_datasets(\n",
    "    raw_data,\n",
    "    \"Event Queue\",\n",
    "    [(\"event_queue_ram\", \"RAM Buffer\")],\n",
    "    [\n",
    "        \"mean\",\n",
    "        \"min\",\n",
    "        \"max\",\n",
    "        \"options.object_size\",\n",
    "        \"options.queue_length\",\n",
    "        \"options.iterations\",\n",
    "        \"options.buffer_size\",\n",
    "        \"options.ram_overhead\",\n",
    "        \"machine_name\",\n",
    "        \"cold_start\",\n",
    "        \"repetitions\",\n",
    "    ],\n",
    "    unwrapped=show_error_bar,\n",
    ")\n",
    "\n",
    "storage = convert_datasets(\n",
    "    raw_data,\n",
    "    \"Event Queue\",\n",
    "    [(\"event_queue_storage\", \"Storage\")],\n",
    "    [\n",
    "        \"mean\",\n",
    "        \"min\",\n",
    "        \"max\",\n",
    "        \"options.object_size\",\n",
    "        \"options.queue_length\",\n",
    "        \"options.iterations\",\n",
    "        \"options.buffer_size\",\n",
    "        \"options.ram_overhead\",\n",
    "        \"machine_name\",\n",
    "        \"cold_start\",\n",
    "        \"repetitions\",\n",
    "    ],\n",
    "    unwrapped=show_error_bar,\n",
    ")\n",
    "vnvheap = convert_datasets(\n",
    "    raw_data,\n",
    "    \"Event Queue\",\n",
    "    [(\"event_queue\", \"vNV-Heap\")],\n",
    "    [\n",
    "        \"mean\",\n",
    "        \"min\",\n",
    "        \"max\",\n",
    "        \"options.object_size\",\n",
    "        \"options.queue_length\",\n",
    "        \"options.iterations\",\n",
    "        \"options.buffer_size\",\n",
    "        \"options.ram_overhead\",\n",
    "        \"machine_name\",\n",
    "        \"cold_start\",\n",
    "        \"repetitions\",\n",
    "    ],\n",
    "    unwrapped=show_error_bar,\n",
    ")\n",
    "\n",
    "dataset = pd.concat([ram, storage, vnvheap])\n",
    "dataset.head()"
   ]
  },
  {
   "cell_type": "code",
   "execution_count": 4,
   "metadata": {},
   "outputs": [
    {
     "data": {
      "text/html": [
       "<b>RAM Buffer</b> [in us]"
      ],
      "text/plain": [
       "<IPython.core.display.HTML object>"
      ]
     },
     "metadata": {},
     "output_type": "display_data"
    },
    {
     "data": {
      "text/plain": [
       "min    626.37500\n",
       "max    626.76875\n",
       "Name: mean, dtype: float64"
      ]
     },
     "metadata": {},
     "output_type": "display_data"
    },
    {
     "data": {
      "text/html": [
       "<b>Storage</b> [in us]"
      ],
      "text/plain": [
       "<IPython.core.display.HTML object>"
      ]
     },
     "metadata": {},
     "output_type": "display_data"
    },
    {
     "data": {
      "text/plain": [
       "min    80257.50625\n",
       "max    80290.46875\n",
       "Name: mean, dtype: float64"
      ]
     },
     "metadata": {},
     "output_type": "display_data"
    },
    {
     "data": {
      "text/html": [
       "<b>vNV-Heap</b> [in us]"
      ],
      "text/plain": [
       "<IPython.core.display.HTML object>"
      ]
     },
     "metadata": {},
     "output_type": "display_data"
    },
    {
     "data": {
      "text/plain": [
       "min     1132.75000\n",
       "max    39575.53125\n",
       "Name: mean, dtype: float64"
      ]
     },
     "metadata": {},
     "output_type": "display_data"
    }
   ],
   "source": [
    "from util.convert import display_dataset_infos\n",
    "\n",
    "display_dataset_infos(dataset)"
   ]
  },
  {
   "cell_type": "markdown",
   "metadata": {},
   "source": [
    "# Final Plot"
   ]
  },
  {
   "cell_type": "code",
   "execution_count": 38,
   "metadata": {},
   "outputs": [
    {
     "name": "stdout",
     "output_type": "stream",
     "text": [
      "Max buffer size: 4096.0\n"
     ]
    },
    {
     "data": {
      "image/png": "[encoded data removed]",
      "text/plain": [
       "<Figure size 330x165 with 1 Axes>"
      ]
     },
     "metadata": {},
     "output_type": "display_data"
    }
   ],
   "source": [
    "from util.plot import plot_lines, save_plot, plot_colors\n",
    "from util.convert import scale_data\n",
    "import numpy as np\n",
    "\n",
    "scale = 2\n",
    "norm = True\n",
    "\n",
    "impl_data = dataset[\n",
    "    (dataset[\"benchmark_id\"] == \"event_queue\")\n",
    "    & (dataset[\"options.queue_length\"] % scale == 0)\n",
    "]\n",
    "\n",
    "assert len(impl_data[\"options.buffer_size\"].unique()) == 1\n",
    "assert len(impl_data[\"options.ram_overhead\"].unique()) == 1\n",
    "\n",
    "max_buffer_size = (\n",
    "    impl_data[\"options.buffer_size\"][0] + impl_data[\"options.ram_overhead\"][0]\n",
    ")\n",
    "print(\"Max buffer size:\", max_buffer_size)\n",
    "\n",
    "ram_data = dataset[\n",
    "    (dataset[\"benchmark_id\"] == \"event_queue_ram\")\n",
    "    & (dataset[\"options.queue_length\"] % scale == 0)\n",
    "]\n",
    "ram_data = ram_data[\n",
    "    (ram_data[\"options.buffer_size\"] + ram_data[\"options.ram_overhead\"])\n",
    "    <= max_buffer_size\n",
    "]\n",
    "\n",
    "plot_data = [\n",
    "    {\n",
    "        \"name\": \"RAM Only\",\n",
    "        \"x\": \"options.queue_length\",\n",
    "        \"y\": \"mean\",\n",
    "        \"marker\": \"o\",\n",
    "        \"use_edge_color\": True,\n",
    "        \"data\": ram_data,\n",
    "    },\n",
    "    {\n",
    "        \"name\": \"Persistent Storage Only\",\n",
    "        \"x\": \"options.queue_length\",\n",
    "        \"y\": \"mean\",\n",
    "        \"marker\": \"s\",\n",
    "        \"use_edge_color\": True,\n",
    "        \"data\": dataset[\n",
    "            (dataset[\"benchmark_id\"] == \"event_queue_storage\")\n",
    "            & (dataset[\"options.queue_length\"] % scale == 0)\n",
    "        ],\n",
    "    },\n",
    "    {\n",
    "        \"name\": \"vNVHeap\",\n",
    "        \"x\": \"options.queue_length\",\n",
    "        \"y\": \"mean\",\n",
    "        \"marker\": \"X\",\n",
    "        \"data\": impl_data,\n",
    "    },\n",
    "]\n",
    "\n",
    "obj_size = dataset[\"options.object_size\"].unique()[0]\n",
    "\n",
    "norm_val = None\n",
    "if norm:\n",
    "    ram_data_tmp = scale_data(ram_data, unit)\n",
    "    norm_val = ram_data_tmp[\"mean\"].mean()\n",
    "\n",
    "options = {\n",
    "    \"data\": plot_data,\n",
    "    \"scale\": unit,\n",
    "    \"x_label\": f\"Queue Length [Objects; each {obj_size} byte]\",\n",
    "    \"y_label\": f\"Latency in {unit}\" if not norm else \"Latency [Norm.]\",\n",
    "    \"norm\": norm_val,\n",
    "    \"height\": 0.5\n",
    "}\n",
    "\n",
    "ram_data_tmp = ram_data.copy()\n",
    "ram_data_tmp = scale_data(ram_data, unit)\n",
    "\n",
    "axes = plot_lines(options)\n",
    "ax = axes[0]\n",
    "plot_y = ram_data_tmp.iloc[-1][\"mean\"]\n",
    "if norm:\n",
    "    plot_y /= norm_val\n",
    "\n",
    "ax.plot(\n",
    "    [\n",
    "        ram_data_tmp[\"options.queue_length\"].max(),\n",
    "        impl_data[\"options.queue_length\"].max(),\n",
    "    ],\n",
    "    [plot_y, plot_y],\n",
    "    color=plot_colors[\"baseline\"],\n",
    "    linewidth=3,\n",
    "    zorder=1\n",
    ")\n",
    "text_x = (ram_data_tmp[\"options.queue_length\"].max() + impl_data[\"options.queue_length\"].max()) / 2\n",
    "text_x = text_x - text_x*0.3\n",
    "text_y = ram_data_tmp.iloc[-1][\"mean\"] + ram_data_tmp.iloc[-1][\"mean\"]*2\n",
    "if norm:\n",
    "    text_y /= norm_val\n",
    "\n",
    "ax.text(text_x, text_y * 2.2, \"OUT OF MEMORY\", weight=\"bold\", color=plot_colors[\"baseline\"])\n",
    "ax.legend(\n",
    "    loc = \"lower center\",\n",
    "    bbox_to_anchor=(0.4, 1.1),\n",
    "    ncol=2,\n",
    "    title=None,\n",
    "    frameon=True\n",
    ")\n",
    "if norm:\n",
    "    ax.set_ylim(bottom=-5)\n",
    "\n",
    "    ax.set_xticks([0,5,10,15,20,25,30,35])\n",
    "    ax.set_yticks([0,50,100,150])\n",
    "\n",
    "save_plot(\"event_queue\", False)"
   ]
  }
 ],
 "metadata": {
  "kernelspec": {
   "display_name": ".venv",
   "language": "python",
   "name": "python3"
  },
  "language_info": {
   "codemirror_mode": {
    "name": "ipython",
    "version": 3
   },
   "file_extension": ".py",
   "mimetype": "text/x-python",
   "name": "python",
   "nbconvert_exporter": "python",
   "pygments_lexer": "ipython3",
   "version": "3.12.7"
  }
 },
 "nbformat": 4,
 "nbformat_minor": 2
}
