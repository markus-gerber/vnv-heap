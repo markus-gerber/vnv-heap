{
 "cells": [
  {
   "cell_type": "markdown",
   "metadata": {},
   "source": [
    "# Persist Benchmarks"
   ]
  },
  {
   "cell_type": "code",
   "execution_count": 25,
   "metadata": {},
   "outputs": [],
   "source": [
    "# select measurement file\n",
    "files = [\n",
    "    \"../output/2024-12-30 15-00-36 persist4.json\",\n",
    "]\n",
    "\n",
    "# plot settings\n",
    "show_error_bar = False\n",
    "unit = \"ms\""
   ]
  },
  {
   "cell_type": "code",
   "execution_count": 26,
   "metadata": {},
   "outputs": [],
   "source": [
    "# parse data\n",
    "import json\n",
    "\n",
    "raw_data = []\n",
    "for file_name in files:\n",
    "    with open(file_name) as file:\n",
    "        raw_data.extend(json.load(file))"
   ]
  },
  {
   "cell_type": "code",
   "execution_count": 27,
   "metadata": {},
   "outputs": [
    {
     "data": {
      "text/html": [
       "<div>\n",
       "<style scoped>\n",
       "    .dataframe tbody tr th:only-of-type {\n",
       "        vertical-align: middle;\n",
       "    }\n",
       "\n",
       "    .dataframe tbody tr th {\n",
       "        vertical-align: top;\n",
       "    }\n",
       "\n",
       "    .dataframe thead th {\n",
       "        text-align: right;\n",
       "    }\n",
       "</style>\n",
       "<table border=\"1\" class=\"dataframe\">\n",
       "  <thead>\n",
       "    <tr style=\"text-align: right;\">\n",
       "      <th></th>\n",
       "      <th>mean</th>\n",
       "      <th>min</th>\n",
       "      <th>max</th>\n",
       "      <th>options.object_size</th>\n",
       "      <th>machine_name</th>\n",
       "      <th>cold_start</th>\n",
       "      <th>repetitions</th>\n",
       "      <th>ticks_per_ms</th>\n",
       "      <th>dataset_type</th>\n",
       "      <th>benchmark_title</th>\n",
       "      <th>benchmark_id</th>\n",
       "      <th>options.dirty_size</th>\n",
       "      <th>options.buffer_size</th>\n",
       "      <th>options.ram_overhead</th>\n",
       "    </tr>\n",
       "  </thead>\n",
       "  <tbody>\n",
       "    <tr>\n",
       "      <th>0</th>\n",
       "      <td>318.4</td>\n",
       "      <td>312</td>\n",
       "      <td>376</td>\n",
       "      <td>0.0</td>\n",
       "      <td>esp32c3</td>\n",
       "      <td>0</td>\n",
       "      <td>10</td>\n",
       "      <td>16000</td>\n",
       "      <td>Storage</td>\n",
       "      <td>Storage Write</td>\n",
       "      <td>persistent_storage_write</td>\n",
       "      <td>NaN</td>\n",
       "      <td>NaN</td>\n",
       "      <td>NaN</td>\n",
       "    </tr>\n",
       "    <tr>\n",
       "      <th>1</th>\n",
       "      <td>6136.1</td>\n",
       "      <td>5615</td>\n",
       "      <td>10821</td>\n",
       "      <td>4.0</td>\n",
       "      <td>esp32c3</td>\n",
       "      <td>0</td>\n",
       "      <td>10</td>\n",
       "      <td>16000</td>\n",
       "      <td>Storage</td>\n",
       "      <td>Storage Write</td>\n",
       "      <td>persistent_storage_write</td>\n",
       "      <td>NaN</td>\n",
       "      <td>NaN</td>\n",
       "      <td>NaN</td>\n",
       "    </tr>\n",
       "    <tr>\n",
       "      <th>2</th>\n",
       "      <td>7404.8</td>\n",
       "      <td>6884</td>\n",
       "      <td>12089</td>\n",
       "      <td>8.0</td>\n",
       "      <td>esp32c3</td>\n",
       "      <td>0</td>\n",
       "      <td>10</td>\n",
       "      <td>16000</td>\n",
       "      <td>Storage</td>\n",
       "      <td>Storage Write</td>\n",
       "      <td>persistent_storage_write</td>\n",
       "      <td>NaN</td>\n",
       "      <td>NaN</td>\n",
       "      <td>NaN</td>\n",
       "    </tr>\n",
       "    <tr>\n",
       "      <th>3</th>\n",
       "      <td>8646.6</td>\n",
       "      <td>8126</td>\n",
       "      <td>13331</td>\n",
       "      <td>12.0</td>\n",
       "      <td>esp32c3</td>\n",
       "      <td>0</td>\n",
       "      <td>10</td>\n",
       "      <td>16000</td>\n",
       "      <td>Storage</td>\n",
       "      <td>Storage Write</td>\n",
       "      <td>persistent_storage_write</td>\n",
       "      <td>NaN</td>\n",
       "      <td>NaN</td>\n",
       "      <td>NaN</td>\n",
       "    </tr>\n",
       "    <tr>\n",
       "      <th>4</th>\n",
       "      <td>9888.8</td>\n",
       "      <td>9368</td>\n",
       "      <td>14573</td>\n",
       "      <td>16.0</td>\n",
       "      <td>esp32c3</td>\n",
       "      <td>0</td>\n",
       "      <td>10</td>\n",
       "      <td>16000</td>\n",
       "      <td>Storage</td>\n",
       "      <td>Storage Write</td>\n",
       "      <td>persistent_storage_write</td>\n",
       "      <td>NaN</td>\n",
       "      <td>NaN</td>\n",
       "      <td>NaN</td>\n",
       "    </tr>\n",
       "  </tbody>\n",
       "</table>\n",
       "</div>"
      ],
      "text/plain": [
       "     mean   min    max  options.object_size machine_name  cold_start  \\\n",
       "0   318.4   312    376                  0.0      esp32c3           0   \n",
       "1  6136.1  5615  10821                  4.0      esp32c3           0   \n",
       "2  7404.8  6884  12089                  8.0      esp32c3           0   \n",
       "3  8646.6  8126  13331                 12.0      esp32c3           0   \n",
       "4  9888.8  9368  14573                 16.0      esp32c3           0   \n",
       "\n",
       "   repetitions  ticks_per_ms dataset_type benchmark_title  \\\n",
       "0           10         16000      Storage   Storage Write   \n",
       "1           10         16000      Storage   Storage Write   \n",
       "2           10         16000      Storage   Storage Write   \n",
       "3           10         16000      Storage   Storage Write   \n",
       "4           10         16000      Storage   Storage Write   \n",
       "\n",
       "               benchmark_id  options.dirty_size  options.buffer_size  \\\n",
       "0  persistent_storage_write                 NaN                  NaN   \n",
       "1  persistent_storage_write                 NaN                  NaN   \n",
       "2  persistent_storage_write                 NaN                  NaN   \n",
       "3  persistent_storage_write                 NaN                  NaN   \n",
       "4  persistent_storage_write                 NaN                  NaN   \n",
       "\n",
       "   options.ram_overhead  \n",
       "0                   NaN  \n",
       "1                   NaN  \n",
       "2                   NaN  \n",
       "3                   NaN  \n",
       "4                   NaN  "
      ]
     },
     "execution_count": 27,
     "metadata": {},
     "output_type": "execute_result"
    }
   ],
   "source": [
    "from util.convert import convert_datasets\n",
    "import pandas as pd\n",
    "\n",
    "storage = convert_datasets(\n",
    "    raw_data,\n",
    "    \"Storage\",\n",
    "    [(\"persistent_storage_write\", \"Storage Write\")],\n",
    "    [\"mean\", \"min\", \"max\", \"options.object_size\", \"machine_name\", \"cold_start\", \"repetitions\"],\n",
    "    unwrapped=show_error_bar\n",
    ")\n",
    "\n",
    "baseline = convert_datasets(\n",
    "    raw_data,\n",
    "    \"Persist\",\n",
    "    [(\"max_dirty_persist_latency_dirty_size\", \"Worst Case\"), (\"max_dirty_persist_latency_buffer_size\", \"Worst Case Buffer\")],\n",
    "    [\"mean\", \"min\", \"max\", \"options.dirty_size\", \"options.buffer_size\", \"options.ram_overhead\", \"machine_name\", \"cold_start\", \"repetitions\"],\n",
    "    unwrapped=show_error_bar\n",
    ")\n",
    "\n",
    "dataset = pd.concat([storage, baseline])\n",
    "dataset.head()"
   ]
  },
  {
   "cell_type": "code",
   "execution_count": 28,
   "metadata": {},
   "outputs": [],
   "source": [
    "# update the metrics in the following as we do not persist the datastructures of vNVHeaps explicitly in our benchmarks\n",
    "\n",
    "ram_overhead = dataset.loc[(dataset[\"benchmark_id\"] == \"max_dirty_persist_latency_buffer_size\") | (dataset[\"benchmark_id\"] == \"max_dirty_persist_latency_dirty_size\"), \"options.ram_overhead\"]\n",
    "assert(len(ram_overhead.unique()) == 1)\n",
    "ram_overhead = ram_overhead.unique()[0]\n",
    "\n",
    "# add the ram overhead to the buffer size and the dirty size (we want to include it to the RAM we manage and need to persist)\n",
    "dataset.loc[(dataset[\"benchmark_id\"] == \"max_dirty_persist_latency_buffer_size\") | (dataset[\"benchmark_id\"] == \"max_dirty_persist_latency_dirty_size\"), \"options.buffer_size\"] += ram_overhead\n",
    "dataset.loc[(dataset[\"benchmark_id\"] == \"max_dirty_persist_latency_buffer_size\") | (dataset[\"benchmark_id\"] == \"max_dirty_persist_latency_dirty_size\"), \"options.dirty_size\"] += ram_overhead\n",
    "\n",
    "# add the latency it takes to persist the amount of bytes that is equal to the ram overhead\n",
    "mean = dataset.loc[(dataset[\"benchmark_id\"] == \"persistent_storage_write\") & (dataset[\"options.object_size\"] == ram_overhead), \"mean\"].iloc[0]\n",
    "min = dataset.loc[(dataset[\"benchmark_id\"] == \"persistent_storage_write\") & (dataset[\"options.object_size\"] == ram_overhead), \"min\"].iloc[0]\n",
    "max = dataset.loc[(dataset[\"benchmark_id\"] == \"persistent_storage_write\") & (dataset[\"options.object_size\"] == ram_overhead), \"max\"].iloc[0]\n",
    "\n",
    "dataset.loc[(dataset[\"benchmark_id\"] == \"max_dirty_persist_latency_buffer_size\") | (dataset[\"benchmark_id\"] == \"max_dirty_persist_latency_dirty_size\"), \"mean\"] += mean\n",
    "dataset.loc[(dataset[\"benchmark_id\"] == \"max_dirty_persist_latency_buffer_size\") | (dataset[\"benchmark_id\"] == \"max_dirty_persist_latency_dirty_size\"), \"min\"] += min\n",
    "dataset.loc[(dataset[\"benchmark_id\"] == \"max_dirty_persist_latency_buffer_size\") | (dataset[\"benchmark_id\"] == \"max_dirty_persist_latency_dirty_size\"), \"max\"] += max"
   ]
  },
  {
   "cell_type": "code",
   "execution_count": 29,
   "metadata": {},
   "outputs": [
    {
     "data": {
      "text/html": [
       "<b>Storage Write</b> [in us]"
      ],
      "text/plain": [
       "<IPython.core.display.HTML object>"
      ]
     },
     "metadata": {},
     "output_type": "display_data"
    },
    {
     "data": {
      "text/plain": [
       "min        19.9\n",
       "max    159309.1\n",
       "Name: mean, dtype: float64"
      ]
     },
     "metadata": {},
     "output_type": "display_data"
    },
    {
     "data": {
      "text/html": [
       "<b>Worst Case</b> [in us]"
      ],
      "text/plain": [
       "<IPython.core.display.HTML object>"
      ]
     },
     "metadata": {},
     "output_type": "display_data"
    },
    {
     "data": {
      "text/plain": [
       "min     4265.1875\n",
       "max    79420.5625\n",
       "Name: mean, dtype: float64"
      ]
     },
     "metadata": {},
     "output_type": "display_data"
    },
    {
     "data": {
      "text/html": [
       "<b>Worst Case Buffer</b> [in us]"
      ],
      "text/plain": [
       "<IPython.core.display.HTML object>"
      ]
     },
     "metadata": {},
     "output_type": "display_data"
    },
    {
     "data": {
      "text/plain": [
       "min     9655.7500\n",
       "max    39554.9625\n",
       "Name: mean, dtype: float64"
      ]
     },
     "metadata": {},
     "output_type": "display_data"
    }
   ],
   "source": [
    "from util.convert import display_dataset_infos\n",
    "\n",
    "display_dataset_infos(dataset)"
   ]
  },
  {
   "cell_type": "markdown",
   "metadata": {},
   "source": [
    "# Final Plot"
   ]
  },
  {
   "cell_type": "code",
   "execution_count": 30,
   "metadata": {},
   "outputs": [],
   "source": [
    "scale = 0.5\n",
    "scaled_dataset = dataset.copy()\n",
    "scaled_dataset[\"options.object_size\"] = scaled_dataset[\"options.object_size\"]/1024\n",
    "scaled_dataset[\"options.dirty_size\"] = scaled_dataset[\"options.dirty_size\"]/1024\n",
    "\n",
    "storage_dataset = scaled_dataset[(scaled_dataset[\"benchmark_id\"] == \"persistent_storage_write\") & (scaled_dataset[\"options.object_size\"] <= 4) & (scaled_dataset[\"options.object_size\"] >= scale) & (scaled_dataset[\"options.object_size\"] % scale == 0)].copy()\n",
    "storage_dataset[\"mean\"] = storage_dataset[\"mean\"].max()\n",
    "\n",
    "plot_data = [{\n",
    "    \"name\": \"Unmanaged RAM\",\n",
    "    \"x\": \"options.object_size\",\n",
    "    \"y\": \"mean\",\n",
    "    \"marker\": \"o\",\n",
    "    \"use_edge_color\": True,\n",
    "    \"data\": storage_dataset,\n",
    "},{\n",
    "    \"name\": \"vNV-Heaps\",\n",
    "    \"x\": \"options.dirty_size\",\n",
    "    \"y\": \"mean\",\n",
    "    \"marker\": \"X\",\n",
    "    \"data\": scaled_dataset[(scaled_dataset[\"benchmark_id\"] == \"max_dirty_persist_latency_dirty_size\") & (scaled_dataset[\"options.dirty_size\"] % scale == 0)],\n",
    "}]\n",
    "buf_size = scaled_dataset[(scaled_dataset[\"benchmark_id\"] == \"max_dirty_persist_latency_dirty_size\") & (scaled_dataset[\"options.dirty_size\"] % scale == 0)][\"options.buffer_size\"]\n",
    "assert(len(buf_size.unique()) == 1)\n",
    "buf_size = buf_size.unique()[0] / 1024\n",
    "\n",
    "options1 = {\n",
    "    \"data\": plot_data,\n",
    "    \"scale\": unit,\n",
    "    \"x_label\": \"Max Dirty Size [kB]\",\n",
    "    \"y_label\": f\"Latency [{unit}]\",\n",
    "    \"width\": 1,\n",
    "    \"height\": 0.25,\n",
    "    \"title\": f\"Fixed App Size: {int(buf_size)}kB\"\n",
    "}"
   ]
  },
  {
   "cell_type": "code",
   "execution_count": 31,
   "metadata": {},
   "outputs": [
    {
     "name": "stdout",
     "output_type": "stream",
     "text": [
      "0       512.0\n",
      "16     1024.0\n",
      "32     1536.0\n",
      "48     2048.0\n",
      "64     2048.0\n",
      "80     2048.0\n",
      "96     2048.0\n",
      "112    2048.0\n",
      "Name: options.dirty_size, dtype: float64\n"
     ]
    }
   ],
   "source": [
    "scale = 0.5\n",
    "limit = 4\n",
    "\n",
    "scaled_dataset = dataset.copy()\n",
    "scaled_dataset[\"options.object_size\"] /= 1024\n",
    "scaled_dataset[\"options.buffer_size\"] /= 1024\n",
    "\n",
    "plot_data = [{\n",
    "    \"name\": \"\",\n",
    "    \"x\": \"options.object_size\",\n",
    "    \"y\": \"mean\",\n",
    "    \"marker\": \"o\",\n",
    "    \"use_edge_color\": True,\n",
    "    \"data\": scaled_dataset[(scaled_dataset[\"benchmark_id\"] == \"persistent_storage_write\") & (scaled_dataset[\"options.object_size\"] <= limit) & (scaled_dataset[\"options.object_size\"] >= scale) & (scaled_dataset[\"options.object_size\"] % scale == 0)],\n",
    "},{\n",
    "    \"name\": \"\",\n",
    "    \"x\": \"options.buffer_size\",\n",
    "    \"y\": \"mean\",\n",
    "    \"marker\": \"X\",\n",
    "    \"data\": scaled_dataset[(scaled_dataset[\"benchmark_id\"] == \"max_dirty_persist_latency_buffer_size\") & (scaled_dataset[\"options.buffer_size\"] % scale == 0)],\n",
    "}]\n",
    "\n",
    "dirty_size = scaled_dataset[(scaled_dataset[\"benchmark_id\"] == \"max_dirty_persist_latency_buffer_size\") & (scaled_dataset[\"options.buffer_size\"] % scale == 0)][\"options.dirty_size\"]\n",
    "print(dirty_size)\n",
    "dirty_size = dirty_size.max() / 1024\n",
    "\n",
    "options2 = {\n",
    "    \"data\": plot_data,\n",
    "    \"scale\": unit,\n",
    "    \"x_label\": \"App Size [kB]\",\n",
    "    \"y_label\": f\"Latency [{unit}]\",\n",
    "    \"width\": 1,\n",
    "    \"height\": 0.25,\n",
    "    \"title\": f\"Fixed Dirty Size: {int(dirty_size)}kB\"\n",
    "}"
   ]
  },
  {
   "cell_type": "code",
   "execution_count": 32,
   "metadata": {},
   "outputs": [
    {
     "name": "stderr",
     "output_type": "stream",
     "text": [
      "/home/markus/Documents/vnv_heap/zephyr/vnv_heap_benchmark/analysis/util/plot.py:183: UserWarning: No artists with labels found to put in legend.  Note that artists whose label start with an underscore are ignored when legend() is called with no argument.\n",
      "  ncol = len(ax.legend().get_lines())\n"
     ]
    },
    {
     "data": {
      "image/png": "[encoded data removed]",
      "text/plain": [
       "<Figure size 330x82.5 with 2 Axes>"
      ]
     },
     "metadata": {},
     "output_type": "display_data"
    }
   ],
   "source": [
    "from util import convert\n",
    "from util.plot import plot_lines, save_plot\n",
    "\n",
    "axes = plot_lines([options1, options2])\n",
    "\n",
    "offset_multiplier = 0.2\n",
    "scaled = convert.scale_data(scaled_dataset[(scaled_dataset[\"benchmark_id\"] == \"max_dirty_persist_latency_buffer_size\") & (scaled_dataset[\"options.buffer_size\"] % scale == 0)], unit)\n",
    "#line = scaled[\"mean\"].max() + scaled[\"mean\"].max() * offset_multiplier\n",
    "line = 50\n",
    "limit2 = (convert.scale_data(scaled_dataset[(scaled_dataset[\"benchmark_id\"] == \"persistent_storage_write\") & (scaled_dataset[\"options.object_size\"] <= limit)], unit))[\"mean\"].max()\n",
    "limit2 = 100\n",
    "\n",
    "axes[1].axhline(line, ls='--', color=\"red\", zorder=20)\n",
    "axes[1].set_ylim(bottom=0, top=limit2)\n",
    "axes[1].axhspan(line, limit2, alpha=0.3, color=\"red\",zorder=10)\n",
    "axes[0].legend(\n",
    "    loc = \"lower center\",\n",
    "    bbox_to_anchor=(1.1, 1.3),\n",
    "    ncol=2,\n",
    "    title=None,\n",
    "    frameon=True\n",
    ")\n",
    "axes[1].get_legend().remove()\n",
    "\n",
    "for ax in axes:\n",
    "    ax.set_xticks([0,1,2,3,4])\n",
    "    ax.set_xlim(0,4.15)\n",
    "    ax.set_yticks([25,50,75,100])\n",
    "\n",
    "\n",
    "save_plot(\"persist\", False)"
   ]
  }
 ],
 "metadata": {
  "kernelspec": {
   "display_name": ".venv",
   "language": "python",
   "name": "python3"
  },
  "language_info": {
   "codemirror_mode": {
    "name": "ipython",
    "version": 3
   },
   "file_extension": ".py",
   "mimetype": "text/x-python",
   "name": "python",
   "nbconvert_exporter": "python",
   "pygments_lexer": "ipython3",
   "version": "3.12.7"
  }
 },
 "nbformat": 4,
 "nbformat_minor": 2
}
