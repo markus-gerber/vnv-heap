{
 "cells": [
  {
   "cell_type": "markdown",
   "metadata": {},
   "source": [
    "# Persist Benchmarks"
   ]
  },
  {
   "cell_type": "code",
   "execution_count": 17,
   "metadata": {},
   "outputs": [],
   "source": [
    "# select measurement file\n",
    "files = [\n",
    "    \"../output/2024-12-23 16-47-29.json\",\n",
    "]\n",
    "\n",
    "# plot settings\n",
    "show_error_bar = False\n",
    "unit = \"ms\""
   ]
  },
  {
   "cell_type": "code",
   "execution_count": 18,
   "metadata": {},
   "outputs": [],
   "source": [
    "# parse data\n",
    "import json\n",
    "\n",
    "raw_data = []\n",
    "for file_name in files:\n",
    "    with open(file_name) as file:\n",
    "        raw_data.extend(json.load(file))"
   ]
  },
  {
   "cell_type": "code",
   "execution_count": 19,
   "metadata": {},
   "outputs": [
    {
     "data": {
      "text/html": [
       "<div>\n",
       "<style scoped>\n",
       "    .dataframe tbody tr th:only-of-type {\n",
       "        vertical-align: middle;\n",
       "    }\n",
       "\n",
       "    .dataframe tbody tr th {\n",
       "        vertical-align: top;\n",
       "    }\n",
       "\n",
       "    .dataframe thead th {\n",
       "        text-align: right;\n",
       "    }\n",
       "</style>\n",
       "<table border=\"1\" class=\"dataframe\">\n",
       "  <thead>\n",
       "    <tr style=\"text-align: right;\">\n",
       "      <th></th>\n",
       "      <th>mean</th>\n",
       "      <th>min</th>\n",
       "      <th>max</th>\n",
       "      <th>options.object_size</th>\n",
       "      <th>machine_name</th>\n",
       "      <th>cold_start</th>\n",
       "      <th>repetitions</th>\n",
       "      <th>ticks_per_ms</th>\n",
       "      <th>dataset_type</th>\n",
       "      <th>benchmark_title</th>\n",
       "      <th>benchmark_id</th>\n",
       "      <th>options.dirty_size</th>\n",
       "      <th>options.buffer_size</th>\n",
       "    </tr>\n",
       "  </thead>\n",
       "  <tbody>\n",
       "    <tr>\n",
       "      <th>0</th>\n",
       "      <td>374.3</td>\n",
       "      <td>374</td>\n",
       "      <td>375</td>\n",
       "      <td>0.0</td>\n",
       "      <td>esp32c3</td>\n",
       "      <td>0</td>\n",
       "      <td>10</td>\n",
       "      <td>16000</td>\n",
       "      <td>Storage</td>\n",
       "      <td>Storage Write</td>\n",
       "      <td>persistent_storage_write</td>\n",
       "      <td>NaN</td>\n",
       "      <td>NaN</td>\n",
       "    </tr>\n",
       "    <tr>\n",
       "      <th>1</th>\n",
       "      <td>9694.0</td>\n",
       "      <td>9173</td>\n",
       "      <td>14378</td>\n",
       "      <td>16.0</td>\n",
       "      <td>esp32c3</td>\n",
       "      <td>0</td>\n",
       "      <td>10</td>\n",
       "      <td>16000</td>\n",
       "      <td>Storage</td>\n",
       "      <td>Storage Write</td>\n",
       "      <td>persistent_storage_write</td>\n",
       "      <td>NaN</td>\n",
       "      <td>NaN</td>\n",
       "    </tr>\n",
       "    <tr>\n",
       "      <th>2</th>\n",
       "      <td>14662.9</td>\n",
       "      <td>14142</td>\n",
       "      <td>19347</td>\n",
       "      <td>32.0</td>\n",
       "      <td>esp32c3</td>\n",
       "      <td>0</td>\n",
       "      <td>10</td>\n",
       "      <td>16000</td>\n",
       "      <td>Storage</td>\n",
       "      <td>Storage Write</td>\n",
       "      <td>persistent_storage_write</td>\n",
       "      <td>NaN</td>\n",
       "      <td>NaN</td>\n",
       "    </tr>\n",
       "    <tr>\n",
       "      <th>3</th>\n",
       "      <td>19631.6</td>\n",
       "      <td>19111</td>\n",
       "      <td>24316</td>\n",
       "      <td>48.0</td>\n",
       "      <td>esp32c3</td>\n",
       "      <td>0</td>\n",
       "      <td>10</td>\n",
       "      <td>16000</td>\n",
       "      <td>Storage</td>\n",
       "      <td>Storage Write</td>\n",
       "      <td>persistent_storage_write</td>\n",
       "      <td>NaN</td>\n",
       "      <td>NaN</td>\n",
       "    </tr>\n",
       "    <tr>\n",
       "      <th>4</th>\n",
       "      <td>24600.4</td>\n",
       "      <td>24080</td>\n",
       "      <td>29284</td>\n",
       "      <td>64.0</td>\n",
       "      <td>esp32c3</td>\n",
       "      <td>0</td>\n",
       "      <td>10</td>\n",
       "      <td>16000</td>\n",
       "      <td>Storage</td>\n",
       "      <td>Storage Write</td>\n",
       "      <td>persistent_storage_write</td>\n",
       "      <td>NaN</td>\n",
       "      <td>NaN</td>\n",
       "    </tr>\n",
       "  </tbody>\n",
       "</table>\n",
       "</div>"
      ],
      "text/plain": [
       "      mean    min    max  options.object_size machine_name  cold_start  \\\n",
       "0    374.3    374    375                  0.0      esp32c3           0   \n",
       "1   9694.0   9173  14378                 16.0      esp32c3           0   \n",
       "2  14662.9  14142  19347                 32.0      esp32c3           0   \n",
       "3  19631.6  19111  24316                 48.0      esp32c3           0   \n",
       "4  24600.4  24080  29284                 64.0      esp32c3           0   \n",
       "\n",
       "   repetitions  ticks_per_ms dataset_type benchmark_title  \\\n",
       "0           10         16000      Storage   Storage Write   \n",
       "1           10         16000      Storage   Storage Write   \n",
       "2           10         16000      Storage   Storage Write   \n",
       "3           10         16000      Storage   Storage Write   \n",
       "4           10         16000      Storage   Storage Write   \n",
       "\n",
       "               benchmark_id  options.dirty_size  options.buffer_size  \n",
       "0  persistent_storage_write                 NaN                  NaN  \n",
       "1  persistent_storage_write                 NaN                  NaN  \n",
       "2  persistent_storage_write                 NaN                  NaN  \n",
       "3  persistent_storage_write                 NaN                  NaN  \n",
       "4  persistent_storage_write                 NaN                  NaN  "
      ]
     },
     "execution_count": 19,
     "metadata": {},
     "output_type": "execute_result"
    }
   ],
   "source": [
    "from util.convert import convert_datasets\n",
    "import pandas as pd\n",
    "\n",
    "storage = convert_datasets(\n",
    "    raw_data,\n",
    "    \"Storage\",\n",
    "    [(\"persistent_storage_write\", \"Storage Write\")],\n",
    "    [\"mean\", \"min\", \"max\", \"options.object_size\", \"machine_name\", \"cold_start\", \"repetitions\"],\n",
    "    unwrapped=show_error_bar\n",
    ")\n",
    "\n",
    "baseline = convert_datasets(\n",
    "    raw_data,\n",
    "    \"Persist\",\n",
    "    [(\"max_dirty_persist_latency_dirty_size\", \"Worst Case\"), (\"max_dirty_persist_latency_buffer_size\", \"Worst Case Buffer\")],\n",
    "    [\"mean\", \"min\", \"max\", \"options.dirty_size\", \"options.buffer_size\", \"machine_name\", \"cold_start\", \"repetitions\"],\n",
    "    unwrapped=show_error_bar\n",
    ")\n",
    "\n",
    "dataset = pd.concat([storage, baseline])\n",
    "dataset.head()"
   ]
  },
  {
   "cell_type": "code",
   "execution_count": 20,
   "metadata": {},
   "outputs": [
    {
     "data": {
      "text/html": [
       "<b>Storage Write</b> [in us]"
      ],
      "text/plain": [
       "<IPython.core.display.HTML object>"
      ]
     },
     "metadata": {},
     "output_type": "display_data"
    },
    {
     "data": {
      "text/plain": [
       "min        23.39375\n",
       "max    159296.93750\n",
       "Name: mean, dtype: float64"
      ]
     },
     "metadata": {},
     "output_type": "display_data"
    },
    {
     "data": {
      "text/html": [
       "<b>Worst Case</b> [in us]"
      ],
      "text/plain": [
       "<IPython.core.display.HTML object>"
      ]
     },
     "metadata": {},
     "output_type": "display_data"
    },
    {
     "data": {
      "text/plain": [
       "min      452.37500\n",
       "max    79108.36875\n",
       "Name: mean, dtype: float64"
      ]
     },
     "metadata": {},
     "output_type": "display_data"
    },
    {
     "data": {
      "text/html": [
       "<b>Worst Case Buffer</b> [in us]"
      ],
      "text/plain": [
       "<IPython.core.display.HTML object>"
      ]
     },
     "metadata": {},
     "output_type": "display_data"
    },
    {
     "data": {
      "text/plain": [
       "min     4360.3125\n",
       "max    39242.7125\n",
       "Name: mean, dtype: float64"
      ]
     },
     "metadata": {},
     "output_type": "display_data"
    }
   ],
   "source": [
    "from util.convert import display_dataset_infos\n",
    "\n",
    "display_dataset_infos(dataset)"
   ]
  },
  {
   "cell_type": "markdown",
   "metadata": {},
   "source": [
    "# Final Plot"
   ]
  },
  {
   "cell_type": "code",
   "execution_count": 21,
   "metadata": {},
   "outputs": [],
   "source": [
    "scale = 0.5\n",
    "scaled_dataset = dataset.copy()\n",
    "scaled_dataset[\"options.object_size\"] = scaled_dataset[\"options.object_size\"]/1024\n",
    "scaled_dataset[\"options.dirty_size\"] = scaled_dataset[\"options.dirty_size\"]/1024\n",
    "\n",
    "storage_dataset = scaled_dataset[(scaled_dataset[\"benchmark_id\"] == \"persistent_storage_write\") & (scaled_dataset[\"options.object_size\"] <= 4) & (scaled_dataset[\"options.object_size\"] >= scale) & (scaled_dataset[\"options.object_size\"] % scale == 0)].copy()\n",
    "storage_dataset[\"mean\"] = storage_dataset[\"mean\"].max()\n",
    "\n",
    "plot_data = [{\n",
    "    \"name\": \"Raw Storage\",\n",
    "    \"x\": \"options.object_size\",\n",
    "    \"y\": \"mean\",\n",
    "    \"marker\": \"o\",\n",
    "    \"use_edge_color\": True,\n",
    "    \"data\": storage_dataset,\n",
    "},{\n",
    "    \"name\": \"vNV-Heaps\",\n",
    "    \"x\": \"options.dirty_size\",\n",
    "    \"y\": \"mean\",\n",
    "    \"marker\": \"X\",\n",
    "    \"data\": scaled_dataset[(scaled_dataset[\"benchmark_id\"] == \"max_dirty_persist_latency_dirty_size\") & (scaled_dataset[\"options.dirty_size\"] % scale == 0)],\n",
    "}]\n",
    "buf_size = scaled_dataset[(scaled_dataset[\"benchmark_id\"] == \"max_dirty_persist_latency_dirty_size\") & (scaled_dataset[\"options.dirty_size\"] % scale == 0)][\"options.buffer_size\"]\n",
    "assert(len(buf_size.unique()) == 1)\n",
    "buf_size = buf_size.unique()[0] / 1024\n",
    "\n",
    "options1 = {\n",
    "    \"data\": plot_data,\n",
    "    \"scale\": unit,\n",
    "    \"x_label\": \"Max Dirty Size [kB]\",\n",
    "    \"y_label\": f\"Latency [{unit}]\",\n",
    "    \"width\": 1,\n",
    "    \"height\": 0.4,\n",
    "    \"title\": f\"Fixed App Size: {int(buf_size)}kB\"\n",
    "}"
   ]
  },
  {
   "cell_type": "code",
   "execution_count": 22,
   "metadata": {},
   "outputs": [],
   "source": [
    "scale = 0.5\n",
    "limit = 4\n",
    "\n",
    "scaled_dataset = dataset.copy()\n",
    "scaled_dataset[\"options.object_size\"] /= 1024\n",
    "scaled_dataset[\"options.buffer_size\"] /= 1024\n",
    "\n",
    "plot_data = [{\n",
    "    \"name\": \"\",\n",
    "    \"x\": \"options.object_size\",\n",
    "    \"y\": \"mean\",\n",
    "    \"marker\": \"o\",\n",
    "    \"use_edge_color\": True,\n",
    "    \"data\": scaled_dataset[(scaled_dataset[\"benchmark_id\"] == \"persistent_storage_write\") & (scaled_dataset[\"options.object_size\"] <= limit) & (scaled_dataset[\"options.object_size\"] >= scale) & (scaled_dataset[\"options.object_size\"] % scale == 0)],\n",
    "},{\n",
    "    \"name\": \"\",\n",
    "    \"x\": \"options.buffer_size\",\n",
    "    \"y\": \"mean\",\n",
    "    \"marker\": \"X\",\n",
    "    \"data\": scaled_dataset[(scaled_dataset[\"benchmark_id\"] == \"max_dirty_persist_latency_buffer_size\") & (scaled_dataset[\"options.buffer_size\"] % scale == 0)],\n",
    "}]\n",
    "\n",
    "dirty_size = scaled_dataset[(scaled_dataset[\"benchmark_id\"] == \"max_dirty_persist_latency_buffer_size\") & (scaled_dataset[\"options.buffer_size\"] % scale == 0)][\"options.dirty_size\"]\n",
    "dirty_size = dirty_size.max() / 1024\n",
    "\n",
    "options2 = {\n",
    "    \"data\": plot_data,\n",
    "    \"scale\": unit,\n",
    "    \"x_label\": \"App Size [Byte]\",\n",
    "    \"y_label\": f\"Latency [{unit}]\",\n",
    "    \"width\": 1,\n",
    "    \"height\": 0.4,\n",
    "    \"title\": f\"Fixed Dirty Size: {int(dirty_size)}kB\"\n",
    "}"
   ]
  },
  {
   "cell_type": "code",
   "execution_count": 24,
   "metadata": {},
   "outputs": [
    {
     "name": "stdout",
     "output_type": "stream",
     "text": [
      "{'figure.facecolor': 'white', 'axes.labelcolor': '.15', 'xtick.direction': 'out', 'ytick.direction': 'out', 'xtick.color': '.15', 'ytick.color': '.15', 'axes.axisbelow': True, 'grid.linestyle': '-', 'text.color': '.15', 'font.family': ['sans-serif'], 'font.sans-serif': ['Arial', 'DejaVu Sans', 'Liberation Sans', 'Bitstream Vera Sans', 'sans-serif'], 'lines.solid_capstyle': 'round', 'patch.edgecolor': 'w', 'patch.force_edgecolor': True, 'image.cmap': 'rocket', 'xtick.top': False, 'ytick.right': False, 'axes.grid': True, 'axes.facecolor': 'white', 'axes.edgecolor': '#ddd', 'grid.color': '#ddd', 'axes.spines.left': True, 'axes.spines.bottom': True, 'axes.spines.right': False, 'axes.spines.top': False, 'xtick.bottom': False, 'ytick.left': False}\n"
     ]
    },
    {
     "name": "stderr",
     "output_type": "stream",
     "text": [
      "/home/markus/Documents/vnv_heap/zephyr/vnv_heap_benchmark/analysis/util/plot.py:178: UserWarning: No artists with labels found to put in legend.  Note that artists whose label start with an underscore are ignored when legend() is called with no argument.\n",
      "  ncol = len(ax.legend().get_lines())\n"
     ]
    },
    {
     "data": {
      "image/png": "[encoded data removed]",
      "text/plain": [
       "<Figure size 330x132 with 2 Axes>"
      ]
     },
     "metadata": {},
     "output_type": "display_data"
    }
   ],
   "source": [
    "from util import convert\n",
    "from util.plot import plot_lines, save_plot\n",
    "\n",
    "axes = plot_lines([options1, options2])\n",
    "\n",
    "offset_multiplier = 0.1\n",
    "scaled = convert.scale_data(scaled_dataset[(scaled_dataset[\"benchmark_id\"] == \"max_dirty_persist_latency_buffer_size\") & (scaled_dataset[\"options.buffer_size\"] % scale == 0)], unit)\n",
    "line = scaled[\"mean\"].max() + scaled[\"mean\"].max() * offset_multiplier\n",
    "\n",
    "limit2 = (convert.scale_data(scaled_dataset[(scaled_dataset[\"benchmark_id\"] == \"persistent_storage_write\") & (scaled_dataset[\"options.object_size\"] <= limit)], unit))[\"mean\"].max()\n",
    "limit2 = limit2 + 0.04 * limit2\n",
    "\n",
    "axes[1].axhline(line, ls='--', color=\"red\", zorder=20)\n",
    "axes[1].set_ylim(top=limit2)\n",
    "axes[1].axhspan(line, limit2, alpha=0.3, color=\"red\",zorder=10)\n",
    "axes[0].legend(\n",
    "    loc = \"lower center\",\n",
    "    bbox_to_anchor=(1.1, 1.2),\n",
    "    ncol=2,\n",
    "    title=None,\n",
    "    frameon=True\n",
    ")\n",
    "axes[1].get_legend().remove()\n",
    "\n",
    "\n",
    "for ax in axes:\n",
    "    ax.set_xticks([0,1,2,3,4])\n",
    "    ax.set_xlim(0,4.2)\n",
    "\n",
    "save_plot(\"persist\", False)"
   ]
  }
 ],
 "metadata": {
  "kernelspec": {
   "display_name": ".venv",
   "language": "python",
   "name": "python3"
  },
  "language_info": {
   "codemirror_mode": {
    "name": "ipython",
    "version": 3
   },
   "file_extension": ".py",
   "mimetype": "text/x-python",
   "name": "python",
   "nbconvert_exporter": "python",
   "pygments_lexer": "ipython3",
   "version": "3.12.7"
  }
 },
 "nbformat": 4,
 "nbformat_minor": 2
}
