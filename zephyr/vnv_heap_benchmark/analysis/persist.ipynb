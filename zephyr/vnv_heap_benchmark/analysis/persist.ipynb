{
 "cells": [
  {
   "cell_type": "markdown",
   "metadata": {},
   "source": [
    "# Persist Benchmarks"
   ]
  },
  {
   "cell_type": "code",
   "execution_count": 197,
   "metadata": {},
   "outputs": [
    {
     "name": "stdout",
     "output_type": "stream",
     "text": [
      "Wattage: 0.132\n"
     ]
    }
   ],
   "source": [
    "# select measurement file\n",
    "files = [\n",
    "    \"../output/2024-12-30 15-00-36 persist4.json\",\n",
    "]\n",
    "\n",
    "# plot settings\n",
    "show_error_bar = False\n",
    "unit = \"ms\"\n",
    "unit_joule = \"mJ\"\n",
    "\n",
    "\n",
    "scale = 0.5\n",
    "\n",
    "volt = 3.3\n",
    "amps = 40e-3\n",
    "wattage = volt * amps\n",
    "\n",
    "print(\"Wattage:\", wattage)"
   ]
  },
  {
   "cell_type": "code",
   "execution_count": 198,
   "metadata": {},
   "outputs": [],
   "source": [
    "# parse data\n",
    "import json\n",
    "\n",
    "raw_data = []\n",
    "for file_name in files:\n",
    "    with open(file_name) as file:\n",
    "        raw_data.extend(json.load(file))"
   ]
  },
  {
   "cell_type": "code",
   "execution_count": 199,
   "metadata": {},
   "outputs": [
    {
     "data": {
      "text/html": [
       "<div>\n",
       "<style scoped>\n",
       "    .dataframe tbody tr th:only-of-type {\n",
       "        vertical-align: middle;\n",
       "    }\n",
       "\n",
       "    .dataframe tbody tr th {\n",
       "        vertical-align: top;\n",
       "    }\n",
       "\n",
       "    .dataframe thead th {\n",
       "        text-align: right;\n",
       "    }\n",
       "</style>\n",
       "<table border=\"1\" class=\"dataframe\">\n",
       "  <thead>\n",
       "    <tr style=\"text-align: right;\">\n",
       "      <th></th>\n",
       "      <th>mean</th>\n",
       "      <th>min</th>\n",
       "      <th>max</th>\n",
       "      <th>options.object_size</th>\n",
       "      <th>machine_name</th>\n",
       "      <th>cold_start</th>\n",
       "      <th>repetitions</th>\n",
       "      <th>ticks_per_ms</th>\n",
       "      <th>dataset_type</th>\n",
       "      <th>benchmark_title</th>\n",
       "      <th>benchmark_id</th>\n",
       "      <th>options.dirty_size</th>\n",
       "      <th>options.buffer_size</th>\n",
       "      <th>options.ram_overhead</th>\n",
       "    </tr>\n",
       "  </thead>\n",
       "  <tbody>\n",
       "    <tr>\n",
       "      <th>0</th>\n",
       "      <td>318.4</td>\n",
       "      <td>312</td>\n",
       "      <td>376</td>\n",
       "      <td>0.0</td>\n",
       "      <td>esp32c3</td>\n",
       "      <td>0</td>\n",
       "      <td>10</td>\n",
       "      <td>16000</td>\n",
       "      <td>Storage</td>\n",
       "      <td>Storage Write</td>\n",
       "      <td>persistent_storage_write</td>\n",
       "      <td>NaN</td>\n",
       "      <td>NaN</td>\n",
       "      <td>NaN</td>\n",
       "    </tr>\n",
       "    <tr>\n",
       "      <th>1</th>\n",
       "      <td>6136.1</td>\n",
       "      <td>5615</td>\n",
       "      <td>10821</td>\n",
       "      <td>4.0</td>\n",
       "      <td>esp32c3</td>\n",
       "      <td>0</td>\n",
       "      <td>10</td>\n",
       "      <td>16000</td>\n",
       "      <td>Storage</td>\n",
       "      <td>Storage Write</td>\n",
       "      <td>persistent_storage_write</td>\n",
       "      <td>NaN</td>\n",
       "      <td>NaN</td>\n",
       "      <td>NaN</td>\n",
       "    </tr>\n",
       "    <tr>\n",
       "      <th>2</th>\n",
       "      <td>7404.8</td>\n",
       "      <td>6884</td>\n",
       "      <td>12089</td>\n",
       "      <td>8.0</td>\n",
       "      <td>esp32c3</td>\n",
       "      <td>0</td>\n",
       "      <td>10</td>\n",
       "      <td>16000</td>\n",
       "      <td>Storage</td>\n",
       "      <td>Storage Write</td>\n",
       "      <td>persistent_storage_write</td>\n",
       "      <td>NaN</td>\n",
       "      <td>NaN</td>\n",
       "      <td>NaN</td>\n",
       "    </tr>\n",
       "    <tr>\n",
       "      <th>3</th>\n",
       "      <td>8646.6</td>\n",
       "      <td>8126</td>\n",
       "      <td>13331</td>\n",
       "      <td>12.0</td>\n",
       "      <td>esp32c3</td>\n",
       "      <td>0</td>\n",
       "      <td>10</td>\n",
       "      <td>16000</td>\n",
       "      <td>Storage</td>\n",
       "      <td>Storage Write</td>\n",
       "      <td>persistent_storage_write</td>\n",
       "      <td>NaN</td>\n",
       "      <td>NaN</td>\n",
       "      <td>NaN</td>\n",
       "    </tr>\n",
       "    <tr>\n",
       "      <th>4</th>\n",
       "      <td>9888.8</td>\n",
       "      <td>9368</td>\n",
       "      <td>14573</td>\n",
       "      <td>16.0</td>\n",
       "      <td>esp32c3</td>\n",
       "      <td>0</td>\n",
       "      <td>10</td>\n",
       "      <td>16000</td>\n",
       "      <td>Storage</td>\n",
       "      <td>Storage Write</td>\n",
       "      <td>persistent_storage_write</td>\n",
       "      <td>NaN</td>\n",
       "      <td>NaN</td>\n",
       "      <td>NaN</td>\n",
       "    </tr>\n",
       "  </tbody>\n",
       "</table>\n",
       "</div>"
      ],
      "text/plain": [
       "     mean   min    max  options.object_size machine_name  cold_start  \\\n",
       "0   318.4   312    376                  0.0      esp32c3           0   \n",
       "1  6136.1  5615  10821                  4.0      esp32c3           0   \n",
       "2  7404.8  6884  12089                  8.0      esp32c3           0   \n",
       "3  8646.6  8126  13331                 12.0      esp32c3           0   \n",
       "4  9888.8  9368  14573                 16.0      esp32c3           0   \n",
       "\n",
       "   repetitions  ticks_per_ms dataset_type benchmark_title  \\\n",
       "0           10         16000      Storage   Storage Write   \n",
       "1           10         16000      Storage   Storage Write   \n",
       "2           10         16000      Storage   Storage Write   \n",
       "3           10         16000      Storage   Storage Write   \n",
       "4           10         16000      Storage   Storage Write   \n",
       "\n",
       "               benchmark_id  options.dirty_size  options.buffer_size  \\\n",
       "0  persistent_storage_write                 NaN                  NaN   \n",
       "1  persistent_storage_write                 NaN                  NaN   \n",
       "2  persistent_storage_write                 NaN                  NaN   \n",
       "3  persistent_storage_write                 NaN                  NaN   \n",
       "4  persistent_storage_write                 NaN                  NaN   \n",
       "\n",
       "   options.ram_overhead  \n",
       "0                   NaN  \n",
       "1                   NaN  \n",
       "2                   NaN  \n",
       "3                   NaN  \n",
       "4                   NaN  "
      ]
     },
     "execution_count": 199,
     "metadata": {},
     "output_type": "execute_result"
    }
   ],
   "source": [
    "from util.convert import convert_datasets\n",
    "import pandas as pd\n",
    "\n",
    "storage = convert_datasets(\n",
    "    raw_data,\n",
    "    \"Storage\",\n",
    "    [(\"persistent_storage_write\", \"Storage Write\")],\n",
    "    [\"mean\", \"min\", \"max\", \"options.object_size\", \"machine_name\", \"cold_start\", \"repetitions\"],\n",
    "    unwrapped=show_error_bar\n",
    ")\n",
    "\n",
    "baseline = convert_datasets(\n",
    "    raw_data,\n",
    "    \"Persist\",\n",
    "    [(\"max_dirty_persist_latency_dirty_size\", \"Dirty Size\"), (\"max_dirty_persist_latency_buffer_size\", \"Buffer Size\")],\n",
    "    [\"mean\", \"min\", \"max\", \"options.dirty_size\", \"options.buffer_size\", \"options.ram_overhead\", \"machine_name\", \"cold_start\", \"repetitions\"],\n",
    "    unwrapped=show_error_bar\n",
    ")\n",
    "\n",
    "dataset = pd.concat([storage, baseline])\n",
    "dataset.head()"
   ]
  },
  {
   "cell_type": "code",
   "execution_count": 200,
   "metadata": {},
   "outputs": [],
   "source": [
    "# update the metrics in the following as we do not persist the datastructures of vNVHeaps explicitly in our benchmarks\n",
    "\n",
    "ram_overhead = dataset.loc[(dataset[\"benchmark_id\"] == \"max_dirty_persist_latency_buffer_size\") | (dataset[\"benchmark_id\"] == \"max_dirty_persist_latency_dirty_size\"), \"options.ram_overhead\"]\n",
    "assert(len(ram_overhead.unique()) == 1)\n",
    "ram_overhead = ram_overhead.unique()[0]\n",
    "\n",
    "# add the ram overhead to the buffer size and the dirty size (we want to include it to the RAM we manage and need to persist)\n",
    "dataset.loc[(dataset[\"benchmark_id\"] == \"max_dirty_persist_latency_buffer_size\") | (dataset[\"benchmark_id\"] == \"max_dirty_persist_latency_dirty_size\"), \"options.buffer_size\"] += ram_overhead\n",
    "dataset.loc[(dataset[\"benchmark_id\"] == \"max_dirty_persist_latency_buffer_size\") | (dataset[\"benchmark_id\"] == \"max_dirty_persist_latency_dirty_size\"), \"options.dirty_size\"] += ram_overhead\n",
    "\n",
    "# add the latency it takes to persist the amount of bytes that is equal to the ram overhead\n",
    "mean = dataset.loc[(dataset[\"benchmark_id\"] == \"persistent_storage_write\") & (dataset[\"options.object_size\"] == ram_overhead), \"mean\"].iloc[0]\n",
    "min = dataset.loc[(dataset[\"benchmark_id\"] == \"persistent_storage_write\") & (dataset[\"options.object_size\"] == ram_overhead), \"min\"].iloc[0]\n",
    "max = dataset.loc[(dataset[\"benchmark_id\"] == \"persistent_storage_write\") & (dataset[\"options.object_size\"] == ram_overhead), \"max\"].iloc[0]\n",
    "\n",
    "dataset.loc[(dataset[\"benchmark_id\"] == \"max_dirty_persist_latency_buffer_size\") | (dataset[\"benchmark_id\"] == \"max_dirty_persist_latency_dirty_size\"), \"mean\"] += mean\n",
    "dataset.loc[(dataset[\"benchmark_id\"] == \"max_dirty_persist_latency_buffer_size\") | (dataset[\"benchmark_id\"] == \"max_dirty_persist_latency_dirty_size\"), \"min\"] += min\n",
    "dataset.loc[(dataset[\"benchmark_id\"] == \"max_dirty_persist_latency_buffer_size\") | (dataset[\"benchmark_id\"] == \"max_dirty_persist_latency_dirty_size\"), \"max\"] += max"
   ]
  },
  {
   "cell_type": "code",
   "execution_count": 201,
   "metadata": {},
   "outputs": [
    {
     "data": {
      "text/html": [
       "<b>Storage Write</b> [in us]"
      ],
      "text/plain": [
       "<IPython.core.display.HTML object>"
      ]
     },
     "metadata": {},
     "output_type": "display_data"
    },
    {
     "data": {
      "text/plain": [
       "min        19.9\n",
       "max    159309.1\n",
       "Name: mean, dtype: float64"
      ]
     },
     "metadata": {},
     "output_type": "display_data"
    },
    {
     "data": {
      "text/html": [
       "<b>Dirty Size</b> [in us]"
      ],
      "text/plain": [
       "<IPython.core.display.HTML object>"
      ]
     },
     "metadata": {},
     "output_type": "display_data"
    },
    {
     "data": {
      "text/plain": [
       "min     4265.1875\n",
       "max    79420.5625\n",
       "Name: mean, dtype: float64"
      ]
     },
     "metadata": {},
     "output_type": "display_data"
    },
    {
     "data": {
      "text/html": [
       "<b>Buffer Size</b> [in us]"
      ],
      "text/plain": [
       "<IPython.core.display.HTML object>"
      ]
     },
     "metadata": {},
     "output_type": "display_data"
    },
    {
     "data": {
      "text/plain": [
       "min     9655.7500\n",
       "max    39554.9625\n",
       "Name: mean, dtype: float64"
      ]
     },
     "metadata": {},
     "output_type": "display_data"
    }
   ],
   "source": [
    "from util.convert import display_dataset_infos\n",
    "\n",
    "display_dataset_infos(dataset)"
   ]
  },
  {
   "cell_type": "code",
   "execution_count": 202,
   "metadata": {},
   "outputs": [],
   "source": [
    "# convert all numbers to joule\n",
    "dataset[\"mean\"] *= wattage\n",
    "dataset[\"min\"] *= wattage\n",
    "dataset[\"max\"] *= wattage"
   ]
  },
  {
   "cell_type": "code",
   "execution_count": 203,
   "metadata": {},
   "outputs": [
    {
     "data": {
      "text/html": [
       "<b>Storage Write</b> [in us]"
      ],
      "text/plain": [
       "<IPython.core.display.HTML object>"
      ]
     },
     "metadata": {},
     "output_type": "display_data"
    },
    {
     "data": {
      "text/plain": [
       "min        2.6268\n",
       "max    21028.8012\n",
       "Name: mean, dtype: float64"
      ]
     },
     "metadata": {},
     "output_type": "display_data"
    },
    {
     "data": {
      "text/html": [
       "<b>Dirty Size</b> [in us]"
      ],
      "text/plain": [
       "<IPython.core.display.HTML object>"
      ]
     },
     "metadata": {},
     "output_type": "display_data"
    },
    {
     "data": {
      "text/plain": [
       "min      563.00475\n",
       "max    10483.51425\n",
       "Name: mean, dtype: float64"
      ]
     },
     "metadata": {},
     "output_type": "display_data"
    },
    {
     "data": {
      "text/html": [
       "<b>Buffer Size</b> [in us]"
      ],
      "text/plain": [
       "<IPython.core.display.HTML object>"
      ]
     },
     "metadata": {},
     "output_type": "display_data"
    },
    {
     "data": {
      "text/plain": [
       "min    1274.55900\n",
       "max    5221.25505\n",
       "Name: mean, dtype: float64"
      ]
     },
     "metadata": {},
     "output_type": "display_data"
    }
   ],
   "source": [
    "from util.convert import display_dataset_infos\n",
    "\n",
    "display_dataset_infos(dataset)"
   ]
  },
  {
   "cell_type": "code",
   "execution_count": 214,
   "metadata": {},
   "outputs": [
    {
     "data": {
      "text/html": [
       "<b>Dirty Size - Storage Write</b>"
      ],
      "text/plain": [
       "<IPython.core.display.HTML object>"
      ]
     },
     "metadata": {},
     "output_type": "display_data"
    },
    {
     "data": {
      "text/html": [
       "<div>\n",
       "<style scoped>\n",
       "    .dataframe tbody tr th:only-of-type {\n",
       "        vertical-align: middle;\n",
       "    }\n",
       "\n",
       "    .dataframe tbody tr th {\n",
       "        vertical-align: top;\n",
       "    }\n",
       "\n",
       "    .dataframe thead th {\n",
       "        text-align: right;\n",
       "    }\n",
       "</style>\n",
       "<table border=\"1\" class=\"dataframe\">\n",
       "  <thead>\n",
       "    <tr style=\"text-align: right;\">\n",
       "      <th></th>\n",
       "      <th>Object size</th>\n",
       "      <th>Dirty Size [mJ]</th>\n",
       "      <th>Storage Write [mJ]</th>\n",
       "      <th>% Worse</th>\n",
       "      <th>% Better</th>\n",
       "    </tr>\n",
       "  </thead>\n",
       "  <tbody>\n",
       "    <tr>\n",
       "      <th>0</th>\n",
       "      <td>0.5</td>\n",
       "      <td>1.273459</td>\n",
       "      <td>21.028801</td>\n",
       "      <td>-93.944214</td>\n",
       "      <td>1551.313207</td>\n",
       "    </tr>\n",
       "    <tr>\n",
       "      <th>1</th>\n",
       "      <td>1.0</td>\n",
       "      <td>2.586383</td>\n",
       "      <td>21.028801</td>\n",
       "      <td>-87.700758</td>\n",
       "      <td>713.058204</td>\n",
       "    </tr>\n",
       "    <tr>\n",
       "      <th>2</th>\n",
       "      <td>1.5</td>\n",
       "      <td>3.899410</td>\n",
       "      <td>21.028801</td>\n",
       "      <td>-81.456811</td>\n",
       "      <td>439.281566</td>\n",
       "    </tr>\n",
       "    <tr>\n",
       "      <th>3</th>\n",
       "      <td>2.0</td>\n",
       "      <td>5.212335</td>\n",
       "      <td>21.028801</td>\n",
       "      <td>-75.213351</td>\n",
       "      <td>303.442998</td>\n",
       "    </tr>\n",
       "    <tr>\n",
       "      <th>4</th>\n",
       "      <td>2.5</td>\n",
       "      <td>6.525365</td>\n",
       "      <td>21.028801</td>\n",
       "      <td>-68.969393</td>\n",
       "      <td>222.262465</td>\n",
       "    </tr>\n",
       "    <tr>\n",
       "      <th>5</th>\n",
       "      <td>3.0</td>\n",
       "      <td>7.838946</td>\n",
       "      <td>21.028801</td>\n",
       "      <td>-62.722810</td>\n",
       "      <td>168.260562</td>\n",
       "    </tr>\n",
       "    <tr>\n",
       "      <th>6</th>\n",
       "      <td>3.5</td>\n",
       "      <td>9.156312</td>\n",
       "      <td>21.028801</td>\n",
       "      <td>-56.458231</td>\n",
       "      <td>129.664533</td>\n",
       "    </tr>\n",
       "    <tr>\n",
       "      <th>7</th>\n",
       "      <td>4.0</td>\n",
       "      <td>10.483514</td>\n",
       "      <td>21.028801</td>\n",
       "      <td>-50.146876</td>\n",
       "      <td>100.589237</td>\n",
       "    </tr>\n",
       "  </tbody>\n",
       "</table>\n",
       "</div>"
      ],
      "text/plain": [
       "   Object size  Dirty Size [mJ]  Storage Write [mJ]    % Worse     % Better\n",
       "0          0.5         1.273459           21.028801 -93.944214  1551.313207\n",
       "1          1.0         2.586383           21.028801 -87.700758   713.058204\n",
       "2          1.5         3.899410           21.028801 -81.456811   439.281566\n",
       "3          2.0         5.212335           21.028801 -75.213351   303.442998\n",
       "4          2.5         6.525365           21.028801 -68.969393   222.262465\n",
       "5          3.0         7.838946           21.028801 -62.722810   168.260562\n",
       "6          3.5         9.156312           21.028801 -56.458231   129.664533\n",
       "7          4.0        10.483514           21.028801 -50.146876   100.589237"
      ]
     },
     "metadata": {},
     "output_type": "display_data"
    },
    {
     "name": "stdout",
     "output_type": "stream",
     "text": [
      "Stats:\n"
     ]
    },
    {
     "data": {
      "text/html": [
       "<div>\n",
       "<style scoped>\n",
       "    .dataframe tbody tr th:only-of-type {\n",
       "        vertical-align: middle;\n",
       "    }\n",
       "\n",
       "    .dataframe tbody tr th {\n",
       "        vertical-align: top;\n",
       "    }\n",
       "\n",
       "    .dataframe thead th {\n",
       "        text-align: right;\n",
       "    }\n",
       "</style>\n",
       "<table border=\"1\" class=\"dataframe\">\n",
       "  <thead>\n",
       "    <tr style=\"text-align: right;\">\n",
       "      <th></th>\n",
       "      <th>Object size</th>\n",
       "      <th>Dirty Size [mJ]</th>\n",
       "      <th>Storage Write [mJ]</th>\n",
       "      <th>% Worse</th>\n",
       "      <th>% Better</th>\n",
       "    </tr>\n",
       "  </thead>\n",
       "  <tbody>\n",
       "    <tr>\n",
       "      <th>count</th>\n",
       "      <td>8.000000</td>\n",
       "      <td>8.000000</td>\n",
       "      <td>8.000000</td>\n",
       "      <td>8.000000</td>\n",
       "      <td>8.000000</td>\n",
       "    </tr>\n",
       "    <tr>\n",
       "      <th>mean</th>\n",
       "      <td>2.250000</td>\n",
       "      <td>5.871966</td>\n",
       "      <td>21.028801</td>\n",
       "      <td>-72.076555</td>\n",
       "      <td>453.484096</td>\n",
       "    </tr>\n",
       "    <tr>\n",
       "      <th>std</th>\n",
       "      <td>1.224745</td>\n",
       "      <td>3.220840</td>\n",
       "      <td>0.000000</td>\n",
       "      <td>15.316325</td>\n",
       "      <td>486.904408</td>\n",
       "    </tr>\n",
       "    <tr>\n",
       "      <th>min</th>\n",
       "      <td>0.500000</td>\n",
       "      <td>1.273459</td>\n",
       "      <td>21.028801</td>\n",
       "      <td>-93.944214</td>\n",
       "      <td>100.589237</td>\n",
       "    </tr>\n",
       "    <tr>\n",
       "      <th>25%</th>\n",
       "      <td>1.375000</td>\n",
       "      <td>3.571154</td>\n",
       "      <td>21.028801</td>\n",
       "      <td>-83.017798</td>\n",
       "      <td>158.611555</td>\n",
       "    </tr>\n",
       "    <tr>\n",
       "      <th>50%</th>\n",
       "      <td>2.250000</td>\n",
       "      <td>5.868850</td>\n",
       "      <td>21.028801</td>\n",
       "      <td>-72.091372</td>\n",
       "      <td>262.852731</td>\n",
       "    </tr>\n",
       "    <tr>\n",
       "      <th>75%</th>\n",
       "      <td>3.125000</td>\n",
       "      <td>8.168288</td>\n",
       "      <td>21.028801</td>\n",
       "      <td>-61.156665</td>\n",
       "      <td>507.725725</td>\n",
       "    </tr>\n",
       "    <tr>\n",
       "      <th>max</th>\n",
       "      <td>4.000000</td>\n",
       "      <td>10.483514</td>\n",
       "      <td>21.028801</td>\n",
       "      <td>-50.146876</td>\n",
       "      <td>1551.313207</td>\n",
       "    </tr>\n",
       "  </tbody>\n",
       "</table>\n",
       "</div>"
      ],
      "text/plain": [
       "       Object size  Dirty Size [mJ]  Storage Write [mJ]    % Worse  \\\n",
       "count     8.000000         8.000000            8.000000   8.000000   \n",
       "mean      2.250000         5.871966           21.028801 -72.076555   \n",
       "std       1.224745         3.220840            0.000000  15.316325   \n",
       "min       0.500000         1.273459           21.028801 -93.944214   \n",
       "25%       1.375000         3.571154           21.028801 -83.017798   \n",
       "50%       2.250000         5.868850           21.028801 -72.091372   \n",
       "75%       3.125000         8.168288           21.028801 -61.156665   \n",
       "max       4.000000        10.483514           21.028801 -50.146876   \n",
       "\n",
       "          % Better  \n",
       "count     8.000000  \n",
       "mean    453.484096  \n",
       "std     486.904408  \n",
       "min     100.589237  \n",
       "25%     158.611555  \n",
       "50%     262.852731  \n",
       "75%     507.725725  \n",
       "max    1551.313207  "
      ]
     },
     "metadata": {},
     "output_type": "display_data"
    },
    {
     "data": {
      "text/html": [
       "<b>Buffer Size - Storage Write</b>"
      ],
      "text/plain": [
       "<IPython.core.display.HTML object>"
      ]
     },
     "metadata": {},
     "output_type": "display_data"
    },
    {
     "data": {
      "text/html": [
       "<div>\n",
       "<style scoped>\n",
       "    .dataframe tbody tr th:only-of-type {\n",
       "        vertical-align: middle;\n",
       "    }\n",
       "\n",
       "    .dataframe tbody tr th {\n",
       "        vertical-align: top;\n",
       "    }\n",
       "\n",
       "    .dataframe thead th {\n",
       "        text-align: right;\n",
       "    }\n",
       "</style>\n",
       "<table border=\"1\" class=\"dataframe\">\n",
       "  <thead>\n",
       "    <tr style=\"text-align: right;\">\n",
       "      <th></th>\n",
       "      <th>Object size</th>\n",
       "      <th>Buffer Size [mJ]</th>\n",
       "      <th>Storage Write [mJ]</th>\n",
       "      <th>% Worse</th>\n",
       "      <th>% Better</th>\n",
       "    </tr>\n",
       "  </thead>\n",
       "  <tbody>\n",
       "    <tr>\n",
       "      <th>0</th>\n",
       "      <td>0.5</td>\n",
       "      <td>1.274559</td>\n",
       "      <td>21.028801</td>\n",
       "      <td>-93.938984</td>\n",
       "      <td>1549.888408</td>\n",
       "    </tr>\n",
       "    <tr>\n",
       "      <th>1</th>\n",
       "      <td>1.0</td>\n",
       "      <td>2.590125</td>\n",
       "      <td>21.028801</td>\n",
       "      <td>-87.682962</td>\n",
       "      <td>711.883502</td>\n",
       "    </tr>\n",
       "    <tr>\n",
       "      <th>2</th>\n",
       "      <td>1.5</td>\n",
       "      <td>3.905690</td>\n",
       "      <td>21.028801</td>\n",
       "      <td>-81.426948</td>\n",
       "      <td>438.414463</td>\n",
       "    </tr>\n",
       "    <tr>\n",
       "      <th>3</th>\n",
       "      <td>2.0</td>\n",
       "      <td>5.221255</td>\n",
       "      <td>21.028801</td>\n",
       "      <td>-75.170933</td>\n",
       "      <td>302.753763</td>\n",
       "    </tr>\n",
       "    <tr>\n",
       "      <th>4</th>\n",
       "      <td>2.5</td>\n",
       "      <td>5.213535</td>\n",
       "      <td>21.028801</td>\n",
       "      <td>-75.207647</td>\n",
       "      <td>303.350172</td>\n",
       "    </tr>\n",
       "    <tr>\n",
       "      <th>5</th>\n",
       "      <td>3.0</td>\n",
       "      <td>5.212335</td>\n",
       "      <td>21.028801</td>\n",
       "      <td>-75.213351</td>\n",
       "      <td>303.442998</td>\n",
       "    </tr>\n",
       "    <tr>\n",
       "      <th>6</th>\n",
       "      <td>3.5</td>\n",
       "      <td>5.212335</td>\n",
       "      <td>21.028801</td>\n",
       "      <td>-75.213351</td>\n",
       "      <td>303.442998</td>\n",
       "    </tr>\n",
       "    <tr>\n",
       "      <th>7</th>\n",
       "      <td>4.0</td>\n",
       "      <td>5.212335</td>\n",
       "      <td>21.028801</td>\n",
       "      <td>-75.213351</td>\n",
       "      <td>303.442998</td>\n",
       "    </tr>\n",
       "  </tbody>\n",
       "</table>\n",
       "</div>"
      ],
      "text/plain": [
       "   Object size  Buffer Size [mJ]  Storage Write [mJ]    % Worse     % Better\n",
       "0          0.5          1.274559           21.028801 -93.938984  1549.888408\n",
       "1          1.0          2.590125           21.028801 -87.682962   711.883502\n",
       "2          1.5          3.905690           21.028801 -81.426948   438.414463\n",
       "3          2.0          5.221255           21.028801 -75.170933   302.753763\n",
       "4          2.5          5.213535           21.028801 -75.207647   303.350172\n",
       "5          3.0          5.212335           21.028801 -75.213351   303.442998\n",
       "6          3.5          5.212335           21.028801 -75.213351   303.442998\n",
       "7          4.0          5.212335           21.028801 -75.213351   303.442998"
      ]
     },
     "metadata": {},
     "output_type": "display_data"
    },
    {
     "name": "stdout",
     "output_type": "stream",
     "text": [
      "Stats:\n"
     ]
    },
    {
     "data": {
      "text/html": [
       "<div>\n",
       "<style scoped>\n",
       "    .dataframe tbody tr th:only-of-type {\n",
       "        vertical-align: middle;\n",
       "    }\n",
       "\n",
       "    .dataframe tbody tr th {\n",
       "        vertical-align: top;\n",
       "    }\n",
       "\n",
       "    .dataframe thead th {\n",
       "        text-align: right;\n",
       "    }\n",
       "</style>\n",
       "<table border=\"1\" class=\"dataframe\">\n",
       "  <thead>\n",
       "    <tr style=\"text-align: right;\">\n",
       "      <th></th>\n",
       "      <th>Object size</th>\n",
       "      <th>Buffer Size [mJ]</th>\n",
       "      <th>Storage Write [mJ]</th>\n",
       "      <th>% Worse</th>\n",
       "      <th>% Better</th>\n",
       "    </tr>\n",
       "  </thead>\n",
       "  <tbody>\n",
       "    <tr>\n",
       "      <th>count</th>\n",
       "      <td>8.000000</td>\n",
       "      <td>8.000000</td>\n",
       "      <td>8.000000</td>\n",
       "      <td>8.000000</td>\n",
       "      <td>8.000000</td>\n",
       "    </tr>\n",
       "    <tr>\n",
       "      <th>mean</th>\n",
       "      <td>2.250000</td>\n",
       "      <td>4.230271</td>\n",
       "      <td>21.028801</td>\n",
       "      <td>-79.883441</td>\n",
       "      <td>527.077413</td>\n",
       "    </tr>\n",
       "    <tr>\n",
       "      <th>std</th>\n",
       "      <td>1.224745</td>\n",
       "      <td>1.529420</td>\n",
       "      <td>0.000000</td>\n",
       "      <td>7.272976</td>\n",
       "      <td>437.291791</td>\n",
       "    </tr>\n",
       "    <tr>\n",
       "      <th>min</th>\n",
       "      <td>0.500000</td>\n",
       "      <td>1.274559</td>\n",
       "      <td>21.028801</td>\n",
       "      <td>-93.938984</td>\n",
       "      <td>302.753763</td>\n",
       "    </tr>\n",
       "    <tr>\n",
       "      <th>25%</th>\n",
       "      <td>1.375000</td>\n",
       "      <td>3.576799</td>\n",
       "      <td>21.028801</td>\n",
       "      <td>-82.990951</td>\n",
       "      <td>303.419792</td>\n",
       "    </tr>\n",
       "    <tr>\n",
       "      <th>50%</th>\n",
       "      <td>2.250000</td>\n",
       "      <td>5.212335</td>\n",
       "      <td>21.028801</td>\n",
       "      <td>-75.213351</td>\n",
       "      <td>303.442998</td>\n",
       "    </tr>\n",
       "    <tr>\n",
       "      <th>75%</th>\n",
       "      <td>3.125000</td>\n",
       "      <td>5.212635</td>\n",
       "      <td>21.028801</td>\n",
       "      <td>-75.211925</td>\n",
       "      <td>506.781723</td>\n",
       "    </tr>\n",
       "    <tr>\n",
       "      <th>max</th>\n",
       "      <td>4.000000</td>\n",
       "      <td>5.221255</td>\n",
       "      <td>21.028801</td>\n",
       "      <td>-75.170933</td>\n",
       "      <td>1549.888408</td>\n",
       "    </tr>\n",
       "  </tbody>\n",
       "</table>\n",
       "</div>"
      ],
      "text/plain": [
       "       Object size  Buffer Size [mJ]  Storage Write [mJ]    % Worse  \\\n",
       "count     8.000000          8.000000            8.000000   8.000000   \n",
       "mean      2.250000          4.230271           21.028801 -79.883441   \n",
       "std       1.224745          1.529420            0.000000   7.272976   \n",
       "min       0.500000          1.274559           21.028801 -93.938984   \n",
       "25%       1.375000          3.576799           21.028801 -82.990951   \n",
       "50%       2.250000          5.212335           21.028801 -75.213351   \n",
       "75%       3.125000          5.212635           21.028801 -75.211925   \n",
       "max       4.000000          5.221255           21.028801 -75.170933   \n",
       "\n",
       "          % Better  \n",
       "count     8.000000  \n",
       "mean    527.077413  \n",
       "std     437.291791  \n",
       "min     302.753763  \n",
       "25%     303.419792  \n",
       "50%     303.442998  \n",
       "75%     506.781723  \n",
       "max    1549.888408  "
      ]
     },
     "metadata": {},
     "output_type": "display_data"
    }
   ],
   "source": [
    "from util.convert import scale_data\n",
    "from IPython.display import HTML, display\n",
    "\n",
    "scaled = scale_data(dataset.copy(), unit)\n",
    "scaled[\"options.object_size\"] = scaled[\"options.object_size\"]/1024\n",
    "scaled[\"options.dirty_size\"] = scaled[\"options.dirty_size\"]/1024\n",
    "scaled[\"options.buffer_size\"] = scaled[\"options.buffer_size\"]/1024\n",
    "scaled = scaled[(scaled[\"options.object_size\"] % scale == 0) | (scaled[\"options.dirty_size\"] % scale == 0) | (scaled[\"options.buffer_size\"] % scale == 0)].copy()\n",
    "\n",
    "scaled.loc[scaled[\"benchmark_id\"] == \"persistent_storage_write\", \"mean\"] = scaled[scaled[\"benchmark_id\"] == \"persistent_storage_write\"][\"mean\"].max()\n",
    "\n",
    "for (id_left, left_opt, id_right) in [(\"max_dirty_persist_latency_dirty_size\", \"options.dirty_size\", \"persistent_storage_write\"), (\"max_dirty_persist_latency_buffer_size\", \"options.buffer_size\", \"persistent_storage_write\")]:\n",
    "    left = scaled[scaled[\"benchmark_id\"] == id_left]\n",
    "    right = scaled[scaled[\"benchmark_id\"] == id_right]\n",
    "    title_left = left[\"benchmark_title\"].unique()[0]\n",
    "    title_right = right[\"benchmark_title\"].unique()[0]\n",
    "    display(HTML(f\"<b>{title_left} - {title_right}</b>\"))\n",
    "\n",
    "    res = []\n",
    "    for size in left[left_opt].unique():\n",
    "        if size % scale != 0:\n",
    "            continue\n",
    "        a = left[left[left_opt] == size][\"mean\"].iloc[0]\n",
    "        b = right[right[\"options.object_size\"] == size][\"mean\"].iloc[0]\n",
    "        res.append((size, a,b,(100 * a)/b - 100, (100 * b)/a - 100))\n",
    "    \n",
    "    d = pd.DataFrame(res, columns=[\"Object size\", f\"{title_left} [{unit_joule}]\", f\"{title_right} [{unit_joule}]\", \"% Worse\", \"% Better\"])\n",
    "\n",
    "    display(d)\n",
    "    print(\"Stats:\")\n",
    "    display(d.describe())"
   ]
  },
  {
   "cell_type": "markdown",
   "metadata": {},
   "source": [
    "# Final Plot"
   ]
  },
  {
   "cell_type": "code",
   "execution_count": 205,
   "metadata": {},
   "outputs": [],
   "source": [
    "scaled_dataset = dataset.copy()\n",
    "scaled_dataset[\"options.object_size\"] = scaled_dataset[\"options.object_size\"]/1024\n",
    "scaled_dataset[\"options.dirty_size\"] = scaled_dataset[\"options.dirty_size\"]/1024\n",
    "\n",
    "storage_dataset = scaled_dataset[(scaled_dataset[\"benchmark_id\"] == \"persistent_storage_write\") & (scaled_dataset[\"options.object_size\"] <= 4) & (scaled_dataset[\"options.object_size\"] >= scale) & (scaled_dataset[\"options.object_size\"] % scale == 0)].copy()\n",
    "storage_dataset[\"mean\"] = storage_dataset[\"mean\"].max()\n",
    "\n",
    "plot_data = [{\n",
    "    \"name\": \"Unmanaged RAM\",\n",
    "    \"x\": \"options.object_size\",\n",
    "    \"y\": \"mean\",\n",
    "    \"marker\": \"o\",\n",
    "    \"use_edge_color\": True,\n",
    "    \"data\": storage_dataset,\n",
    "},{\n",
    "    \"name\": \"vNV-Heaps\",\n",
    "    \"x\": \"options.dirty_size\",\n",
    "    \"y\": \"mean\",\n",
    "    \"marker\": \"X\",\n",
    "    \"data\": scaled_dataset[(scaled_dataset[\"benchmark_id\"] == \"max_dirty_persist_latency_dirty_size\") & (scaled_dataset[\"options.dirty_size\"] % scale == 0)],\n",
    "}]\n",
    "buf_size = scaled_dataset[(scaled_dataset[\"benchmark_id\"] == \"max_dirty_persist_latency_dirty_size\") & (scaled_dataset[\"options.dirty_size\"] % scale == 0)][\"options.buffer_size\"]\n",
    "assert(len(buf_size.unique()) == 1)\n",
    "buf_size = buf_size.unique()[0] / 1024\n",
    "\n",
    "options1 = {\n",
    "    \"data\": plot_data,\n",
    "    \"scale\": unit,\n",
    "    \"x_label\": \"Max Dirty Size [kB]\",\n",
    "    \"y_label\": f\"Energy [{unit_joule}]\",\n",
    "    \"width\": 1,\n",
    "    \"height\": 0.25,\n",
    "    \"title\": f\"Fixed RAM Size: {int(buf_size)}kB\"\n",
    "}"
   ]
  },
  {
   "cell_type": "code",
   "execution_count": 206,
   "metadata": {},
   "outputs": [
    {
     "name": "stdout",
     "output_type": "stream",
     "text": [
      "0       512.0\n",
      "16     1024.0\n",
      "32     1536.0\n",
      "48     2048.0\n",
      "64     2048.0\n",
      "80     2048.0\n",
      "96     2048.0\n",
      "112    2048.0\n",
      "Name: options.dirty_size, dtype: float64\n"
     ]
    }
   ],
   "source": [
    "scale = 0.5\n",
    "limit = 4\n",
    "\n",
    "scaled_dataset = dataset.copy()\n",
    "scaled_dataset[\"options.object_size\"] /= 1024\n",
    "scaled_dataset[\"options.buffer_size\"] /= 1024\n",
    "\n",
    "plot_data = [{\n",
    "    \"name\": \"\",\n",
    "    \"x\": \"options.object_size\",\n",
    "    \"y\": \"mean\",\n",
    "    \"marker\": \"o\",\n",
    "    \"use_edge_color\": True,\n",
    "    \"data\": scaled_dataset[(scaled_dataset[\"benchmark_id\"] == \"persistent_storage_write\") & (scaled_dataset[\"options.object_size\"] <= limit) & (scaled_dataset[\"options.object_size\"] >= scale) & (scaled_dataset[\"options.object_size\"] % scale == 0)],\n",
    "},{\n",
    "    \"name\": \"\",\n",
    "    \"x\": \"options.buffer_size\",\n",
    "    \"y\": \"mean\",\n",
    "    \"marker\": \"X\",\n",
    "    \"data\": scaled_dataset[(scaled_dataset[\"benchmark_id\"] == \"max_dirty_persist_latency_buffer_size\") & (scaled_dataset[\"options.buffer_size\"] % scale == 0)],\n",
    "}]\n",
    "\n",
    "dirty_size = scaled_dataset[(scaled_dataset[\"benchmark_id\"] == \"max_dirty_persist_latency_buffer_size\") & (scaled_dataset[\"options.buffer_size\"] % scale == 0)][\"options.dirty_size\"]\n",
    "print(dirty_size)\n",
    "dirty_size = dirty_size.max() / 1024\n",
    "\n",
    "options2 = {\n",
    "    \"data\": plot_data,\n",
    "    \"scale\": unit,\n",
    "    \"x_label\": \"RAM Size [kB]\",\n",
    "    \"y_label\": f\"Energy [{unit_joule}]\",\n",
    "    \"width\": 1,\n",
    "    \"height\": 0.25,\n",
    "    \"title\": f\"Fixed Dirty Size: {int(dirty_size)}kB\"\n",
    "}"
   ]
  },
  {
   "cell_type": "code",
   "execution_count": 207,
   "metadata": {},
   "outputs": [
    {
     "name": "stderr",
     "output_type": "stream",
     "text": [
      "/home/markus/Documents/vnv_heap/zephyr/vnv_heap_benchmark/analysis/util/plot.py:182: UserWarning: No artists with labels found to put in legend.  Note that artists whose label start with an underscore are ignored when legend() is called with no argument.\n",
      "  ncol = len(ax.legend().get_lines())\n"
     ]
    },
    {
     "data": {
      "image/png": "[encoded data removed]",
      "text/plain": [
       "<Figure size 330x82.5 with 2 Axes>"
      ]
     },
     "metadata": {},
     "output_type": "display_data"
    }
   ],
   "source": [
    "from util import convert\n",
    "from util.plot import plot_lines, save_plot\n",
    "import matplotlib.pyplot as plt\n",
    "\n",
    "axes = plot_lines([options1, options2])\n",
    "\n",
    "offset_multiplier = 0.2\n",
    "scaled = convert.scale_data(scaled_dataset[(scaled_dataset[\"benchmark_id\"] == \"max_dirty_persist_latency_buffer_size\") & (scaled_dataset[\"options.buffer_size\"] % scale == 0)], unit)\n",
    "#line = scaled[\"mean\"].max() + scaled[\"mean\"].max() * offset_multiplier\n",
    "line = convert.scale_data(scaled_dataset[(scaled_dataset[\"benchmark_id\"] == \"persistent_storage_write\") & (scaled_dataset[\"options.object_size\"] == 2.5)], scale=unit)[\"mean\"].iloc[0]\n",
    "\n",
    "limit2 = (convert.scale_data(scaled_dataset[(scaled_dataset[\"benchmark_id\"] == \"persistent_storage_write\") & (scaled_dataset[\"options.object_size\"] <= limit)], unit))[\"mean\"].max()\n",
    "limit2 = 12.5\n",
    "\n",
    "axes[1].axhline(line, ls='--', color=\"red\", zorder=20)\n",
    "axes[1].set_ylim(bottom=0, top=limit2)\n",
    "axes[1].axhspan(line, limit2, alpha=0.3, color=\"red\",zorder=10)\n",
    "axes[0].legend(\n",
    "    loc = \"lower center\",\n",
    "    bbox_to_anchor=(1.1, 1.3),\n",
    "    ncol=2,\n",
    "    title=None,\n",
    "    frameon=True\n",
    ")\n",
    "axes[1].get_legend().remove()\n",
    "\n",
    "for ax in axes:\n",
    "    ax.set_xticks([0,1,2,3,4])\n",
    "    ax.set_xlim(0,4.15)\n",
    "    ax.set_yticks([0,2.5,5,7.5,10,12.5])\n",
    "\n",
    "save_plot(\"persist\", False)"
   ]
  }
 ],
 "metadata": {
  "kernelspec": {
   "display_name": ".venv",
   "language": "python",
   "name": "python3"
  },
  "language_info": {
   "codemirror_mode": {
    "name": "ipython",
    "version": 3
   },
   "file_extension": ".py",
   "mimetype": "text/x-python",
   "name": "python",
   "nbconvert_exporter": "python",
   "pygments_lexer": "ipython3",
   "version": "3.12.7"
  }
 },
 "nbformat": 4,
 "nbformat_minor": 2
}
