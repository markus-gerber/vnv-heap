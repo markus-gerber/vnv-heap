{
 "cells": [
  {
   "cell_type": "code",
   "execution_count": 87,
   "metadata": {},
   "outputs": [
    {
     "data": {
      "text/plain": [
       "58999"
      ]
     },
     "execution_count": 87,
     "metadata": {},
     "output_type": "execute_result"
    }
   ],
   "source": [
    "\n",
    "with open(\"timer_delay.txt\") as file:\n",
    "    lines = file.readlines()\n",
    "\n",
    "lines = list(map(lambda x: int(x), lines))\n",
    "\n",
    "len(lines)"
   ]
  },
  {
   "cell_type": "code",
   "execution_count": 91,
   "metadata": {},
   "outputs": [
    {
     "data": {
      "text/plain": [
       "[58999]"
      ]
     },
     "execution_count": 91,
     "metadata": {},
     "output_type": "execute_result"
    }
   ],
   "source": [
    "import matplotlib.pyplot as plt\n",
    "\n",
    "def x(line):\n",
    "    if line < 20:\n",
    "        return \"1\"\n",
    "    else:\n",
    "        return \"2\"\n",
    "\n",
    "lines_cnt = len(lines)\n",
    "lines_set = list(set(lines))\n",
    "lines_set.sort()\n",
    "\n",
    "height = list(map(lambda x: lines.count(x), lines_set))\n",
    "\n",
    "b1 = 0\n",
    "b2 = 0\n",
    "\n",
    "for i in range(0, len(lines_set)):\n",
    "    if lines_set[i] < 20:\n",
    "        b1 += height[i]\n",
    "    else:\n",
    "        b2 += height[i]\n",
    "\n",
    "b1/lines_cnt, b2/lines_cnt"
   ]
  },
  {
   "cell_type": "code",
   "execution_count": 89,
   "metadata": {},
   "outputs": [
    {
     "name": "stdout",
     "output_type": "stream",
     "text": [
      "Mean: 13.0\n",
      "Median: 13\n"
     ]
    }
   ],
   "source": [
    "print(f\"Mean: {str(sum(lines) / len(lines))}\")\n",
    "\n",
    "sorted_lines = lines.copy()\n",
    "sorted_lines.sort()\n",
    "\n",
    "print(f\"Median: {sorted_lines[int(len(sorted_lines) / 2)]}\")"
   ]
  },
  {
   "cell_type": "code",
   "execution_count": 90,
   "metadata": {},
   "outputs": [
    {
     "name": "stdout",
     "output_type": "stream",
     "text": [
      "Mean: 812.5ns\n",
      "Median: 812.5ns\n"
     ]
    }
   ],
   "source": [
    "print(f\"Mean: {str(62.5 * sum(lines) / len(lines))}ns\")\n",
    "\n",
    "sorted_lines = lines.copy()\n",
    "sorted_lines.sort()\n",
    "\n",
    "print(f\"Median: {62.5 *  sorted_lines[int(len(sorted_lines) / 2)]}ns\")"
   ]
  }
 ],
 "metadata": {
  "kernelspec": {
   "display_name": "base",
   "language": "python",
   "name": "python3"
  },
  "language_info": {
   "codemirror_mode": {
    "name": "ipython",
    "version": 3
   },
   "file_extension": ".py",
   "mimetype": "text/x-python",
   "name": "python",
   "nbconvert_exporter": "python",
   "pygments_lexer": "ipython3",
   "version": "3.11.5"
  }
 },
 "nbformat": 4,
 "nbformat_minor": 2
}
