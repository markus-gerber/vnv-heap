{
 "cells": [
  {
   "cell_type": "markdown",
   "metadata": {},
   "source": [
    "# Queue Application Benchmarks"
   ]
  },
  {
   "cell_type": "code",
   "execution_count": 1,
   "metadata": {},
   "outputs": [],
   "source": [
    "# select measurement file\n",
    "files = [\n",
    "    \"data/2025-03-13 20-31-26 queue.json\"\n",
    "]\n",
    "\n",
    "# plot settings\n",
    "show_error_bar = False\n",
    "unit = \"ms\""
   ]
  },
  {
   "cell_type": "code",
   "execution_count": 2,
   "metadata": {},
   "outputs": [],
   "source": [
    "# parse data\n",
    "import json\n",
    "\n",
    "raw_data = []\n",
    "for file_name in files:\n",
    "    with open(file_name) as file:\n",
    "        raw_data.extend(json.load(file))"
   ]
  },
  {
   "cell_type": "code",
   "execution_count": 3,
   "metadata": {},
   "outputs": [
    {
     "name": "stdout",
     "output_type": "stream",
     "text": [
      "[{'mean': 8982922.0, 'min': 8982922, 'max': 8982922, 'options.object_size': 256, 'options.queue_length': 0, 'options.iterations': 10000, 'options.buffer_size': 256, 'options.ram_overhead': 16, 'bench_name': 'queue_ram', 'machine_name': 'esp32c3', 'cold_start': 0, 'repetitions': 1, 'ticks_per_ms': 16000}, {'mean': 8982860.0, 'min': 8982860, 'max': 8982860, 'options.object_size': 256, 'options.queue_length': 1, 'options.iterations': 10000, 'options.buffer_size': 512, 'options.ram_overhead': 16, 'bench_name': 'queue_ram', 'machine_name': 'esp32c3', 'cold_start': 0, 'repetitions': 1, 'ticks_per_ms': 16000}, {'mean': 8982859.0, 'min': 8982859, 'max': 8982859, 'options.object_size': 256, 'options.queue_length': 2, 'options.iterations': 10000, 'options.buffer_size': 768, 'options.ram_overhead': 16, 'bench_name': 'queue_ram', 'machine_name': 'esp32c3', 'cold_start': 0, 'repetitions': 1, 'ticks_per_ms': 16000}, {'mean': 8982859.0, 'min': 8982859, 'max': 8982859, 'options.object_size': 256, 'options.queue_length': 3, 'options.iterations': 10000, 'options.buffer_size': 1024, 'options.ram_overhead': 16, 'bench_name': 'queue_ram', 'machine_name': 'esp32c3', 'cold_start': 0, 'repetitions': 1, 'ticks_per_ms': 16000}, {'mean': 8982859.0, 'min': 8982859, 'max': 8982859, 'options.object_size': 256, 'options.queue_length': 4, 'options.iterations': 10000, 'options.buffer_size': 1280, 'options.ram_overhead': 16, 'bench_name': 'queue_ram', 'machine_name': 'esp32c3', 'cold_start': 0, 'repetitions': 1, 'ticks_per_ms': 16000}, {'mean': 8982859.0, 'min': 8982859, 'max': 8982859, 'options.object_size': 256, 'options.queue_length': 5, 'options.iterations': 10000, 'options.buffer_size': 1536, 'options.ram_overhead': 16, 'bench_name': 'queue_ram', 'machine_name': 'esp32c3', 'cold_start': 0, 'repetitions': 1, 'ticks_per_ms': 16000}, {'mean': 8982859.0, 'min': 8982859, 'max': 8982859, 'options.object_size': 256, 'options.queue_length': 6, 'options.iterations': 10000, 'options.buffer_size': 1792, 'options.ram_overhead': 16, 'bench_name': 'queue_ram', 'machine_name': 'esp32c3', 'cold_start': 0, 'repetitions': 1, 'ticks_per_ms': 16000}, {'mean': 8982859.0, 'min': 8982859, 'max': 8982859, 'options.object_size': 256, 'options.queue_length': 7, 'options.iterations': 10000, 'options.buffer_size': 2048, 'options.ram_overhead': 16, 'bench_name': 'queue_ram', 'machine_name': 'esp32c3', 'cold_start': 0, 'repetitions': 1, 'ticks_per_ms': 16000}, {'mean': 8982859.0, 'min': 8982859, 'max': 8982859, 'options.object_size': 256, 'options.queue_length': 8, 'options.iterations': 10000, 'options.buffer_size': 2304, 'options.ram_overhead': 16, 'bench_name': 'queue_ram', 'machine_name': 'esp32c3', 'cold_start': 0, 'repetitions': 1, 'ticks_per_ms': 16000}, {'mean': 8982859.0, 'min': 8982859, 'max': 8982859, 'options.object_size': 256, 'options.queue_length': 9, 'options.iterations': 10000, 'options.buffer_size': 2560, 'options.ram_overhead': 16, 'bench_name': 'queue_ram', 'machine_name': 'esp32c3', 'cold_start': 0, 'repetitions': 1, 'ticks_per_ms': 16000}, {'mean': 8982859.0, 'min': 8982859, 'max': 8982859, 'options.object_size': 256, 'options.queue_length': 10, 'options.iterations': 10000, 'options.buffer_size': 2816, 'options.ram_overhead': 16, 'bench_name': 'queue_ram', 'machine_name': 'esp32c3', 'cold_start': 0, 'repetitions': 1, 'ticks_per_ms': 16000}, {'mean': 8982860.0, 'min': 8982860, 'max': 8982860, 'options.object_size': 256, 'options.queue_length': 11, 'options.iterations': 10000, 'options.buffer_size': 3072, 'options.ram_overhead': 16, 'bench_name': 'queue_ram', 'machine_name': 'esp32c3', 'cold_start': 0, 'repetitions': 1, 'ticks_per_ms': 16000}, {'mean': 8982859.0, 'min': 8982859, 'max': 8982859, 'options.object_size': 256, 'options.queue_length': 12, 'options.iterations': 10000, 'options.buffer_size': 3328, 'options.ram_overhead': 16, 'bench_name': 'queue_ram', 'machine_name': 'esp32c3', 'cold_start': 0, 'repetitions': 1, 'ticks_per_ms': 16000}, {'mean': 8982859.0, 'min': 8982859, 'max': 8982859, 'options.object_size': 256, 'options.queue_length': 13, 'options.iterations': 10000, 'options.buffer_size': 3584, 'options.ram_overhead': 16, 'bench_name': 'queue_ram', 'machine_name': 'esp32c3', 'cold_start': 0, 'repetitions': 1, 'ticks_per_ms': 16000}, {'mean': 8982859.0, 'min': 8982859, 'max': 8982859, 'options.object_size': 256, 'options.queue_length': 14, 'options.iterations': 10000, 'options.buffer_size': 3840, 'options.ram_overhead': 16, 'bench_name': 'queue_ram', 'machine_name': 'esp32c3', 'cold_start': 0, 'repetitions': 1, 'ticks_per_ms': 16000}, {'mean': 8982859.0, 'min': 8982859, 'max': 8982859, 'options.object_size': 256, 'options.queue_length': 15, 'options.iterations': 10000, 'options.buffer_size': 4096, 'options.ram_overhead': 16, 'bench_name': 'queue_ram', 'machine_name': 'esp32c3', 'cold_start': 0, 'repetitions': 1, 'ticks_per_ms': 16000}, {'mean': 8982859.0, 'min': 8982859, 'max': 8982859, 'options.object_size': 256, 'options.queue_length': 16, 'options.iterations': 10000, 'options.buffer_size': 4352, 'options.ram_overhead': 16, 'bench_name': 'queue_ram', 'machine_name': 'esp32c3', 'cold_start': 0, 'repetitions': 1, 'ticks_per_ms': 16000}, {'mean': 8982859.0, 'min': 8982859, 'max': 8982859, 'options.object_size': 256, 'options.queue_length': 17, 'options.iterations': 10000, 'options.buffer_size': 4608, 'options.ram_overhead': 16, 'bench_name': 'queue_ram', 'machine_name': 'esp32c3', 'cold_start': 0, 'repetitions': 1, 'ticks_per_ms': 16000}, {'mean': 8982859.0, 'min': 8982859, 'max': 8982859, 'options.object_size': 256, 'options.queue_length': 18, 'options.iterations': 10000, 'options.buffer_size': 4864, 'options.ram_overhead': 16, 'bench_name': 'queue_ram', 'machine_name': 'esp32c3', 'cold_start': 0, 'repetitions': 1, 'ticks_per_ms': 16000}, {'mean': 8982859.0, 'min': 8982859, 'max': 8982859, 'options.object_size': 256, 'options.queue_length': 19, 'options.iterations': 10000, 'options.buffer_size': 5120, 'options.ram_overhead': 16, 'bench_name': 'queue_ram', 'machine_name': 'esp32c3', 'cold_start': 0, 'repetitions': 1, 'ticks_per_ms': 16000}, {'mean': 8982859.0, 'min': 8982859, 'max': 8982859, 'options.object_size': 256, 'options.queue_length': 20, 'options.iterations': 10000, 'options.buffer_size': 5376, 'options.ram_overhead': 16, 'bench_name': 'queue_ram', 'machine_name': 'esp32c3', 'cold_start': 0, 'repetitions': 1, 'ticks_per_ms': 16000}, {'mean': 8982859.0, 'min': 8982859, 'max': 8982859, 'options.object_size': 256, 'options.queue_length': 21, 'options.iterations': 10000, 'options.buffer_size': 5632, 'options.ram_overhead': 16, 'bench_name': 'queue_ram', 'machine_name': 'esp32c3', 'cold_start': 0, 'repetitions': 1, 'ticks_per_ms': 16000}, {'mean': 8982859.0, 'min': 8982859, 'max': 8982859, 'options.object_size': 256, 'options.queue_length': 22, 'options.iterations': 10000, 'options.buffer_size': 5888, 'options.ram_overhead': 16, 'bench_name': 'queue_ram', 'machine_name': 'esp32c3', 'cold_start': 0, 'repetitions': 1, 'ticks_per_ms': 16000}, {'mean': 8982859.0, 'min': 8982859, 'max': 8982859, 'options.object_size': 256, 'options.queue_length': 23, 'options.iterations': 10000, 'options.buffer_size': 6144, 'options.ram_overhead': 16, 'bench_name': 'queue_ram', 'machine_name': 'esp32c3', 'cold_start': 0, 'repetitions': 1, 'ticks_per_ms': 16000}, {'mean': 8982859.0, 'min': 8982859, 'max': 8982859, 'options.object_size': 256, 'options.queue_length': 24, 'options.iterations': 10000, 'options.buffer_size': 6400, 'options.ram_overhead': 16, 'bench_name': 'queue_ram', 'machine_name': 'esp32c3', 'cold_start': 0, 'repetitions': 1, 'ticks_per_ms': 16000}, {'mean': 8982860.0, 'min': 8982860, 'max': 8982860, 'options.object_size': 256, 'options.queue_length': 25, 'options.iterations': 10000, 'options.buffer_size': 6656, 'options.ram_overhead': 16, 'bench_name': 'queue_ram', 'machine_name': 'esp32c3', 'cold_start': 0, 'repetitions': 1, 'ticks_per_ms': 16000}, {'mean': 8982859.0, 'min': 8982859, 'max': 8982859, 'options.object_size': 256, 'options.queue_length': 26, 'options.iterations': 10000, 'options.buffer_size': 6912, 'options.ram_overhead': 16, 'bench_name': 'queue_ram', 'machine_name': 'esp32c3', 'cold_start': 0, 'repetitions': 1, 'ticks_per_ms': 16000}, {'mean': 8982859.0, 'min': 8982859, 'max': 8982859, 'options.object_size': 256, 'options.queue_length': 27, 'options.iterations': 10000, 'options.buffer_size': 7168, 'options.ram_overhead': 16, 'bench_name': 'queue_ram', 'machine_name': 'esp32c3', 'cold_start': 0, 'repetitions': 1, 'ticks_per_ms': 16000}, {'mean': 8982859.0, 'min': 8982859, 'max': 8982859, 'options.object_size': 256, 'options.queue_length': 28, 'options.iterations': 10000, 'options.buffer_size': 7424, 'options.ram_overhead': 16, 'bench_name': 'queue_ram', 'machine_name': 'esp32c3', 'cold_start': 0, 'repetitions': 1, 'ticks_per_ms': 16000}, {'mean': 8982859.0, 'min': 8982859, 'max': 8982859, 'options.object_size': 256, 'options.queue_length': 29, 'options.iterations': 10000, 'options.buffer_size': 7680, 'options.ram_overhead': 16, 'bench_name': 'queue_ram', 'machine_name': 'esp32c3', 'cold_start': 0, 'repetitions': 1, 'ticks_per_ms': 16000}, {'mean': 8982860.0, 'min': 8982860, 'max': 8982860, 'options.object_size': 256, 'options.queue_length': 30, 'options.iterations': 10000, 'options.buffer_size': 7936, 'options.ram_overhead': 16, 'bench_name': 'queue_ram', 'machine_name': 'esp32c3', 'cold_start': 0, 'repetitions': 1, 'ticks_per_ms': 16000}, {'mean': 8982859.0, 'min': 8982859, 'max': 8982859, 'options.object_size': 256, 'options.queue_length': 31, 'options.iterations': 10000, 'options.buffer_size': 8192, 'options.ram_overhead': 16, 'bench_name': 'queue_ram', 'machine_name': 'esp32c3', 'cold_start': 0, 'repetitions': 1, 'ticks_per_ms': 16000}, {'mean': 8982859.0, 'min': 8982859, 'max': 8982859, 'options.object_size': 256, 'options.queue_length': 32, 'options.iterations': 10000, 'options.buffer_size': 8448, 'options.ram_overhead': 16, 'bench_name': 'queue_ram', 'machine_name': 'esp32c3', 'cold_start': 0, 'repetitions': 1, 'ticks_per_ms': 16000}]\n",
      "[{'mean': 1277290836.0, 'min': 1277290836, 'max': 1277290836, 'options.object_size': 256, 'options.queue_length': 0, 'options.iterations': 10000, 'options.ram_overhead': 36, 'bench_name': 'queue_storage', 'machine_name': 'esp32c3', 'cold_start': 0, 'repetitions': 1, 'ticks_per_ms': 16000}, {'mean': 1277285521.0, 'min': 1277285521, 'max': 1277285521, 'options.object_size': 256, 'options.queue_length': 1, 'options.iterations': 10000, 'options.ram_overhead': 36, 'bench_name': 'queue_storage', 'machine_name': 'esp32c3', 'cold_start': 0, 'repetitions': 1, 'ticks_per_ms': 16000}, {'mean': 1277285521.0, 'min': 1277285521, 'max': 1277285521, 'options.object_size': 256, 'options.queue_length': 2, 'options.iterations': 10000, 'options.ram_overhead': 36, 'bench_name': 'queue_storage', 'machine_name': 'esp32c3', 'cold_start': 0, 'repetitions': 1, 'ticks_per_ms': 16000}, {'mean': 1277285522.0, 'min': 1277285522, 'max': 1277285522, 'options.object_size': 256, 'options.queue_length': 3, 'options.iterations': 10000, 'options.ram_overhead': 36, 'bench_name': 'queue_storage', 'machine_name': 'esp32c3', 'cold_start': 0, 'repetitions': 1, 'ticks_per_ms': 16000}, {'mean': 1277285521.0, 'min': 1277285521, 'max': 1277285521, 'options.object_size': 256, 'options.queue_length': 4, 'options.iterations': 10000, 'options.ram_overhead': 36, 'bench_name': 'queue_storage', 'machine_name': 'esp32c3', 'cold_start': 0, 'repetitions': 1, 'ticks_per_ms': 16000}, {'mean': 1277285521.0, 'min': 1277285521, 'max': 1277285521, 'options.object_size': 256, 'options.queue_length': 5, 'options.iterations': 10000, 'options.ram_overhead': 36, 'bench_name': 'queue_storage', 'machine_name': 'esp32c3', 'cold_start': 0, 'repetitions': 1, 'ticks_per_ms': 16000}, {'mean': 1277285521.0, 'min': 1277285521, 'max': 1277285521, 'options.object_size': 256, 'options.queue_length': 6, 'options.iterations': 10000, 'options.ram_overhead': 36, 'bench_name': 'queue_storage', 'machine_name': 'esp32c3', 'cold_start': 0, 'repetitions': 1, 'ticks_per_ms': 16000}, {'mean': 1277285521.0, 'min': 1277285521, 'max': 1277285521, 'options.object_size': 256, 'options.queue_length': 7, 'options.iterations': 10000, 'options.ram_overhead': 36, 'bench_name': 'queue_storage', 'machine_name': 'esp32c3', 'cold_start': 0, 'repetitions': 1, 'ticks_per_ms': 16000}, {'mean': 1277285521.0, 'min': 1277285521, 'max': 1277285521, 'options.object_size': 256, 'options.queue_length': 8, 'options.iterations': 10000, 'options.ram_overhead': 36, 'bench_name': 'queue_storage', 'machine_name': 'esp32c3', 'cold_start': 0, 'repetitions': 1, 'ticks_per_ms': 16000}, {'mean': 1277285521.0, 'min': 1277285521, 'max': 1277285521, 'options.object_size': 256, 'options.queue_length': 9, 'options.iterations': 10000, 'options.ram_overhead': 36, 'bench_name': 'queue_storage', 'machine_name': 'esp32c3', 'cold_start': 0, 'repetitions': 1, 'ticks_per_ms': 16000}, {'mean': 1277285522.0, 'min': 1277285522, 'max': 1277285522, 'options.object_size': 256, 'options.queue_length': 10, 'options.iterations': 10000, 'options.ram_overhead': 36, 'bench_name': 'queue_storage', 'machine_name': 'esp32c3', 'cold_start': 0, 'repetitions': 1, 'ticks_per_ms': 16000}, {'mean': 1277285521.0, 'min': 1277285521, 'max': 1277285521, 'options.object_size': 256, 'options.queue_length': 11, 'options.iterations': 10000, 'options.ram_overhead': 36, 'bench_name': 'queue_storage', 'machine_name': 'esp32c3', 'cold_start': 0, 'repetitions': 1, 'ticks_per_ms': 16000}, {'mean': 1277285521.0, 'min': 1277285521, 'max': 1277285521, 'options.object_size': 256, 'options.queue_length': 12, 'options.iterations': 10000, 'options.ram_overhead': 36, 'bench_name': 'queue_storage', 'machine_name': 'esp32c3', 'cold_start': 0, 'repetitions': 1, 'ticks_per_ms': 16000}, {'mean': 1277285521.0, 'min': 1277285521, 'max': 1277285521, 'options.object_size': 256, 'options.queue_length': 13, 'options.iterations': 10000, 'options.ram_overhead': 36, 'bench_name': 'queue_storage', 'machine_name': 'esp32c3', 'cold_start': 0, 'repetitions': 1, 'ticks_per_ms': 16000}, {'mean': 1277285522.0, 'min': 1277285522, 'max': 1277285522, 'options.object_size': 256, 'options.queue_length': 14, 'options.iterations': 10000, 'options.ram_overhead': 36, 'bench_name': 'queue_storage', 'machine_name': 'esp32c3', 'cold_start': 0, 'repetitions': 1, 'ticks_per_ms': 16000}, {'mean': 1277285521.0, 'min': 1277285521, 'max': 1277285521, 'options.object_size': 256, 'options.queue_length': 15, 'options.iterations': 10000, 'options.ram_overhead': 36, 'bench_name': 'queue_storage', 'machine_name': 'esp32c3', 'cold_start': 0, 'repetitions': 1, 'ticks_per_ms': 16000}, {'mean': 1277285521.0, 'min': 1277285521, 'max': 1277285521, 'options.object_size': 256, 'options.queue_length': 16, 'options.iterations': 10000, 'options.ram_overhead': 36, 'bench_name': 'queue_storage', 'machine_name': 'esp32c3', 'cold_start': 0, 'repetitions': 1, 'ticks_per_ms': 16000}, {'mean': 1277285521.0, 'min': 1277285521, 'max': 1277285521, 'options.object_size': 256, 'options.queue_length': 17, 'options.iterations': 10000, 'options.ram_overhead': 36, 'bench_name': 'queue_storage', 'machine_name': 'esp32c3', 'cold_start': 0, 'repetitions': 1, 'ticks_per_ms': 16000}, {'mean': 1277285521.0, 'min': 1277285521, 'max': 1277285521, 'options.object_size': 256, 'options.queue_length': 18, 'options.iterations': 10000, 'options.ram_overhead': 36, 'bench_name': 'queue_storage', 'machine_name': 'esp32c3', 'cold_start': 0, 'repetitions': 1, 'ticks_per_ms': 16000}, {'mean': 1277285521.0, 'min': 1277285521, 'max': 1277285521, 'options.object_size': 256, 'options.queue_length': 19, 'options.iterations': 10000, 'options.ram_overhead': 36, 'bench_name': 'queue_storage', 'machine_name': 'esp32c3', 'cold_start': 0, 'repetitions': 1, 'ticks_per_ms': 16000}, {'mean': 1277285521.0, 'min': 1277285521, 'max': 1277285521, 'options.object_size': 256, 'options.queue_length': 20, 'options.iterations': 10000, 'options.ram_overhead': 36, 'bench_name': 'queue_storage', 'machine_name': 'esp32c3', 'cold_start': 0, 'repetitions': 1, 'ticks_per_ms': 16000}, {'mean': 1277285521.0, 'min': 1277285521, 'max': 1277285521, 'options.object_size': 256, 'options.queue_length': 21, 'options.iterations': 10000, 'options.ram_overhead': 36, 'bench_name': 'queue_storage', 'machine_name': 'esp32c3', 'cold_start': 0, 'repetitions': 1, 'ticks_per_ms': 16000}, {'mean': 1277285520.0, 'min': 1277285520, 'max': 1277285520, 'options.object_size': 256, 'options.queue_length': 22, 'options.iterations': 10000, 'options.ram_overhead': 36, 'bench_name': 'queue_storage', 'machine_name': 'esp32c3', 'cold_start': 0, 'repetitions': 1, 'ticks_per_ms': 16000}, {'mean': 1277285520.0, 'min': 1277285520, 'max': 1277285520, 'options.object_size': 256, 'options.queue_length': 23, 'options.iterations': 10000, 'options.ram_overhead': 36, 'bench_name': 'queue_storage', 'machine_name': 'esp32c3', 'cold_start': 0, 'repetitions': 1, 'ticks_per_ms': 16000}, {'mean': 1277285521.0, 'min': 1277285521, 'max': 1277285521, 'options.object_size': 256, 'options.queue_length': 24, 'options.iterations': 10000, 'options.ram_overhead': 36, 'bench_name': 'queue_storage', 'machine_name': 'esp32c3', 'cold_start': 0, 'repetitions': 1, 'ticks_per_ms': 16000}, {'mean': 1277285521.0, 'min': 1277285521, 'max': 1277285521, 'options.object_size': 256, 'options.queue_length': 25, 'options.iterations': 10000, 'options.ram_overhead': 36, 'bench_name': 'queue_storage', 'machine_name': 'esp32c3', 'cold_start': 0, 'repetitions': 1, 'ticks_per_ms': 16000}, {'mean': 1277285520.0, 'min': 1277285520, 'max': 1277285520, 'options.object_size': 256, 'options.queue_length': 26, 'options.iterations': 10000, 'options.ram_overhead': 36, 'bench_name': 'queue_storage', 'machine_name': 'esp32c3', 'cold_start': 0, 'repetitions': 1, 'ticks_per_ms': 16000}, {'mean': 1277285521.0, 'min': 1277285521, 'max': 1277285521, 'options.object_size': 256, 'options.queue_length': 27, 'options.iterations': 10000, 'options.ram_overhead': 36, 'bench_name': 'queue_storage', 'machine_name': 'esp32c3', 'cold_start': 0, 'repetitions': 1, 'ticks_per_ms': 16000}, {'mean': 1277285521.0, 'min': 1277285521, 'max': 1277285521, 'options.object_size': 256, 'options.queue_length': 28, 'options.iterations': 10000, 'options.ram_overhead': 36, 'bench_name': 'queue_storage', 'machine_name': 'esp32c3', 'cold_start': 0, 'repetitions': 1, 'ticks_per_ms': 16000}, {'mean': 1277285521.0, 'min': 1277285521, 'max': 1277285521, 'options.object_size': 256, 'options.queue_length': 29, 'options.iterations': 10000, 'options.ram_overhead': 36, 'bench_name': 'queue_storage', 'machine_name': 'esp32c3', 'cold_start': 0, 'repetitions': 1, 'ticks_per_ms': 16000}, {'mean': 1277285520.0, 'min': 1277285520, 'max': 1277285520, 'options.object_size': 256, 'options.queue_length': 30, 'options.iterations': 10000, 'options.ram_overhead': 36, 'bench_name': 'queue_storage', 'machine_name': 'esp32c3', 'cold_start': 0, 'repetitions': 1, 'ticks_per_ms': 16000}, {'mean': 1277285520.0, 'min': 1277285520, 'max': 1277285520, 'options.object_size': 256, 'options.queue_length': 31, 'options.iterations': 10000, 'options.ram_overhead': 36, 'bench_name': 'queue_storage', 'machine_name': 'esp32c3', 'cold_start': 0, 'repetitions': 1, 'ticks_per_ms': 16000}, {'mean': 1277285521.0, 'min': 1277285521, 'max': 1277285521, 'options.object_size': 256, 'options.queue_length': 32, 'options.iterations': 10000, 'options.ram_overhead': 36, 'bench_name': 'queue_storage', 'machine_name': 'esp32c3', 'cold_start': 0, 'repetitions': 1, 'ticks_per_ms': 16000}]\n",
      "[{'mean': 12448880.0, 'min': 12448880, 'max': 12448880, 'options.object_size': 256, 'options.modules': {'allocator': 'vnv_heap::modules::allocator::linked_list::LinkedListAllocatorModule', 'non_resident_allocator': 'vnv_heap::modules::nonresident_allocator::block::NonResidentBlockAllocator<264, 16>'}, 'options.modules.allocator': 'vnv_heap::modules::allocator::linked_list::LinkedListAllocatorModule', 'options.modules.non_resident_allocator': 'vnv_heap::modules::nonresident_allocator::block::NonResidentBlockAllocator<264, 16>', 'options.queue_length': 0, 'options.iterations': 10000, 'options.buffer_size': 3908, 'options.ram_overhead': 188, 'bench_name': 'queue', 'machine_name': 'esp32c3', 'cold_start': 0, 'repetitions': 1, 'ticks_per_ms': 16000}, {'mean': 12831872.0, 'min': 12831872, 'max': 12831872, 'options.object_size': 256, 'options.modules': {'allocator': 'vnv_heap::modules::allocator::linked_list::LinkedListAllocatorModule', 'non_resident_allocator': 'vnv_heap::modules::nonresident_allocator::block::NonResidentBlockAllocator<264, 16>'}, 'options.modules.allocator': 'vnv_heap::modules::allocator::linked_list::LinkedListAllocatorModule', 'options.modules.non_resident_allocator': 'vnv_heap::modules::nonresident_allocator::block::NonResidentBlockAllocator<264, 16>', 'options.queue_length': 1, 'options.iterations': 10000, 'options.buffer_size': 3908, 'options.ram_overhead': 188, 'bench_name': 'queue', 'machine_name': 'esp32c3', 'cold_start': 0, 'repetitions': 1, 'ticks_per_ms': 16000}, {'mean': 12943195.0, 'min': 12943195, 'max': 12943195, 'options.object_size': 256, 'options.modules': {'allocator': 'vnv_heap::modules::allocator::linked_list::LinkedListAllocatorModule', 'non_resident_allocator': 'vnv_heap::modules::nonresident_allocator::block::NonResidentBlockAllocator<264, 16>'}, 'options.modules.allocator': 'vnv_heap::modules::allocator::linked_list::LinkedListAllocatorModule', 'options.modules.non_resident_allocator': 'vnv_heap::modules::nonresident_allocator::block::NonResidentBlockAllocator<264, 16>', 'options.queue_length': 2, 'options.iterations': 10000, 'options.buffer_size': 3908, 'options.ram_overhead': 188, 'bench_name': 'queue', 'machine_name': 'esp32c3', 'cold_start': 0, 'repetitions': 1, 'ticks_per_ms': 16000}, {'mean': 13055864.0, 'min': 13055864, 'max': 13055864, 'options.object_size': 256, 'options.modules': {'allocator': 'vnv_heap::modules::allocator::linked_list::LinkedListAllocatorModule', 'non_resident_allocator': 'vnv_heap::modules::nonresident_allocator::block::NonResidentBlockAllocator<264, 16>'}, 'options.modules.allocator': 'vnv_heap::modules::allocator::linked_list::LinkedListAllocatorModule', 'options.modules.non_resident_allocator': 'vnv_heap::modules::nonresident_allocator::block::NonResidentBlockAllocator<264, 16>', 'options.queue_length': 3, 'options.iterations': 10000, 'options.buffer_size': 3908, 'options.ram_overhead': 188, 'bench_name': 'queue', 'machine_name': 'esp32c3', 'cold_start': 0, 'repetitions': 1, 'ticks_per_ms': 16000}, {'mean': 13171057.0, 'min': 13171057, 'max': 13171057, 'options.object_size': 256, 'options.modules': {'allocator': 'vnv_heap::modules::allocator::linked_list::LinkedListAllocatorModule', 'non_resident_allocator': 'vnv_heap::modules::nonresident_allocator::block::NonResidentBlockAllocator<264, 16>'}, 'options.modules.allocator': 'vnv_heap::modules::allocator::linked_list::LinkedListAllocatorModule', 'options.modules.non_resident_allocator': 'vnv_heap::modules::nonresident_allocator::block::NonResidentBlockAllocator<264, 16>', 'options.queue_length': 4, 'options.iterations': 10000, 'options.buffer_size': 3908, 'options.ram_overhead': 188, 'bench_name': 'queue', 'machine_name': 'esp32c3', 'cold_start': 0, 'repetitions': 1, 'ticks_per_ms': 16000}, {'mean': 13285810.0, 'min': 13285810, 'max': 13285810, 'options.object_size': 256, 'options.modules': {'allocator': 'vnv_heap::modules::allocator::linked_list::LinkedListAllocatorModule', 'non_resident_allocator': 'vnv_heap::modules::nonresident_allocator::block::NonResidentBlockAllocator<264, 16>'}, 'options.modules.allocator': 'vnv_heap::modules::allocator::linked_list::LinkedListAllocatorModule', 'options.modules.non_resident_allocator': 'vnv_heap::modules::nonresident_allocator::block::NonResidentBlockAllocator<264, 16>', 'options.queue_length': 5, 'options.iterations': 10000, 'options.buffer_size': 3908, 'options.ram_overhead': 188, 'bench_name': 'queue', 'machine_name': 'esp32c3', 'cold_start': 0, 'repetitions': 1, 'ticks_per_ms': 16000}, {'mean': 13400344.0, 'min': 13400344, 'max': 13400344, 'options.object_size': 256, 'options.modules': {'allocator': 'vnv_heap::modules::allocator::linked_list::LinkedListAllocatorModule', 'non_resident_allocator': 'vnv_heap::modules::nonresident_allocator::block::NonResidentBlockAllocator<264, 16>'}, 'options.modules.allocator': 'vnv_heap::modules::allocator::linked_list::LinkedListAllocatorModule', 'options.modules.non_resident_allocator': 'vnv_heap::modules::nonresident_allocator::block::NonResidentBlockAllocator<264, 16>', 'options.queue_length': 6, 'options.iterations': 10000, 'options.buffer_size': 3908, 'options.ram_overhead': 188, 'bench_name': 'queue', 'machine_name': 'esp32c3', 'cold_start': 0, 'repetitions': 1, 'ticks_per_ms': 16000}, {'mean': 13514838.0, 'min': 13514838, 'max': 13514838, 'options.object_size': 256, 'options.modules': {'allocator': 'vnv_heap::modules::allocator::linked_list::LinkedListAllocatorModule', 'non_resident_allocator': 'vnv_heap::modules::nonresident_allocator::block::NonResidentBlockAllocator<264, 16>'}, 'options.modules.allocator': 'vnv_heap::modules::allocator::linked_list::LinkedListAllocatorModule', 'options.modules.non_resident_allocator': 'vnv_heap::modules::nonresident_allocator::block::NonResidentBlockAllocator<264, 16>', 'options.queue_length': 7, 'options.iterations': 10000, 'options.buffer_size': 3908, 'options.ram_overhead': 188, 'bench_name': 'queue', 'machine_name': 'esp32c3', 'cold_start': 0, 'repetitions': 1, 'ticks_per_ms': 16000}, {'mean': 13630258.0, 'min': 13630258, 'max': 13630258, 'options.object_size': 256, 'options.modules': {'allocator': 'vnv_heap::modules::allocator::linked_list::LinkedListAllocatorModule', 'non_resident_allocator': 'vnv_heap::modules::nonresident_allocator::block::NonResidentBlockAllocator<264, 16>'}, 'options.modules.allocator': 'vnv_heap::modules::allocator::linked_list::LinkedListAllocatorModule', 'options.modules.non_resident_allocator': 'vnv_heap::modules::nonresident_allocator::block::NonResidentBlockAllocator<264, 16>', 'options.queue_length': 8, 'options.iterations': 10000, 'options.buffer_size': 3908, 'options.ram_overhead': 188, 'bench_name': 'queue', 'machine_name': 'esp32c3', 'cold_start': 0, 'repetitions': 1, 'ticks_per_ms': 16000}, {'mean': 13745424.0, 'min': 13745424, 'max': 13745424, 'options.object_size': 256, 'options.modules': {'allocator': 'vnv_heap::modules::allocator::linked_list::LinkedListAllocatorModule', 'non_resident_allocator': 'vnv_heap::modules::nonresident_allocator::block::NonResidentBlockAllocator<264, 16>'}, 'options.modules.allocator': 'vnv_heap::modules::allocator::linked_list::LinkedListAllocatorModule', 'options.modules.non_resident_allocator': 'vnv_heap::modules::nonresident_allocator::block::NonResidentBlockAllocator<264, 16>', 'options.queue_length': 9, 'options.iterations': 10000, 'options.buffer_size': 3908, 'options.ram_overhead': 188, 'bench_name': 'queue', 'machine_name': 'esp32c3', 'cold_start': 0, 'repetitions': 1, 'ticks_per_ms': 16000}, {'mean': 13860342.0, 'min': 13860342, 'max': 13860342, 'options.object_size': 256, 'options.modules': {'allocator': 'vnv_heap::modules::allocator::linked_list::LinkedListAllocatorModule', 'non_resident_allocator': 'vnv_heap::modules::nonresident_allocator::block::NonResidentBlockAllocator<264, 16>'}, 'options.modules.allocator': 'vnv_heap::modules::allocator::linked_list::LinkedListAllocatorModule', 'options.modules.non_resident_allocator': 'vnv_heap::modules::nonresident_allocator::block::NonResidentBlockAllocator<264, 16>', 'options.queue_length': 10, 'options.iterations': 10000, 'options.buffer_size': 3908, 'options.ram_overhead': 188, 'bench_name': 'queue', 'machine_name': 'esp32c3', 'cold_start': 0, 'repetitions': 1, 'ticks_per_ms': 16000}, {'mean': 13974917.0, 'min': 13974917, 'max': 13974917, 'options.object_size': 256, 'options.modules': {'allocator': 'vnv_heap::modules::allocator::linked_list::LinkedListAllocatorModule', 'non_resident_allocator': 'vnv_heap::modules::nonresident_allocator::block::NonResidentBlockAllocator<264, 16>'}, 'options.modules.allocator': 'vnv_heap::modules::allocator::linked_list::LinkedListAllocatorModule', 'options.modules.non_resident_allocator': 'vnv_heap::modules::nonresident_allocator::block::NonResidentBlockAllocator<264, 16>', 'options.queue_length': 11, 'options.iterations': 10000, 'options.buffer_size': 3908, 'options.ram_overhead': 188, 'bench_name': 'queue', 'machine_name': 'esp32c3', 'cold_start': 0, 'repetitions': 1, 'ticks_per_ms': 16000}, {'mean': 14090396.0, 'min': 14090396, 'max': 14090396, 'options.object_size': 256, 'options.modules': {'allocator': 'vnv_heap::modules::allocator::linked_list::LinkedListAllocatorModule', 'non_resident_allocator': 'vnv_heap::modules::nonresident_allocator::block::NonResidentBlockAllocator<264, 16>'}, 'options.modules.allocator': 'vnv_heap::modules::allocator::linked_list::LinkedListAllocatorModule', 'options.modules.non_resident_allocator': 'vnv_heap::modules::nonresident_allocator::block::NonResidentBlockAllocator<264, 16>', 'options.queue_length': 12, 'options.iterations': 10000, 'options.buffer_size': 3908, 'options.ram_overhead': 188, 'bench_name': 'queue', 'machine_name': 'esp32c3', 'cold_start': 0, 'repetitions': 1, 'ticks_per_ms': 16000}, {'mean': 1267937918.0, 'min': 1267937918, 'max': 1267937918, 'options.object_size': 256, 'options.modules': {'allocator': 'vnv_heap::modules::allocator::linked_list::LinkedListAllocatorModule', 'non_resident_allocator': 'vnv_heap::modules::nonresident_allocator::block::NonResidentBlockAllocator<264, 16>'}, 'options.modules.allocator': 'vnv_heap::modules::allocator::linked_list::LinkedListAllocatorModule', 'options.modules.non_resident_allocator': 'vnv_heap::modules::nonresident_allocator::block::NonResidentBlockAllocator<264, 16>', 'options.queue_length': 13, 'options.iterations': 10000, 'options.buffer_size': 3908, 'options.ram_overhead': 188, 'bench_name': 'queue', 'machine_name': 'esp32c3', 'cold_start': 0, 'repetitions': 1, 'ticks_per_ms': 16000}, {'mean': 1341568905.0, 'min': 1341568905, 'max': 1341568905, 'options.object_size': 256, 'options.modules': {'allocator': 'vnv_heap::modules::allocator::linked_list::LinkedListAllocatorModule', 'non_resident_allocator': 'vnv_heap::modules::nonresident_allocator::block::NonResidentBlockAllocator<264, 16>'}, 'options.modules.allocator': 'vnv_heap::modules::allocator::linked_list::LinkedListAllocatorModule', 'options.modules.non_resident_allocator': 'vnv_heap::modules::nonresident_allocator::block::NonResidentBlockAllocator<264, 16>', 'options.queue_length': 14, 'options.iterations': 10000, 'options.buffer_size': 3908, 'options.ram_overhead': 188, 'bench_name': 'queue', 'machine_name': 'esp32c3', 'cold_start': 0, 'repetitions': 1, 'ticks_per_ms': 16000}, {'mean': 1341575849.0, 'min': 1341575849, 'max': 1341575849, 'options.object_size': 256, 'options.modules': {'allocator': 'vnv_heap::modules::allocator::linked_list::LinkedListAllocatorModule', 'non_resident_allocator': 'vnv_heap::modules::nonresident_allocator::block::NonResidentBlockAllocator<264, 16>'}, 'options.modules.allocator': 'vnv_heap::modules::allocator::linked_list::LinkedListAllocatorModule', 'options.modules.non_resident_allocator': 'vnv_heap::modules::nonresident_allocator::block::NonResidentBlockAllocator<264, 16>', 'options.queue_length': 15, 'options.iterations': 10000, 'options.buffer_size': 3908, 'options.ram_overhead': 188, 'bench_name': 'queue', 'machine_name': 'esp32c3', 'cold_start': 0, 'repetitions': 1, 'ticks_per_ms': 16000}, {'mean': 1341583315.0, 'min': 1341583315, 'max': 1341583315, 'options.object_size': 256, 'options.modules': {'allocator': 'vnv_heap::modules::allocator::linked_list::LinkedListAllocatorModule', 'non_resident_allocator': 'vnv_heap::modules::nonresident_allocator::block::NonResidentBlockAllocator<264, 16>'}, 'options.modules.allocator': 'vnv_heap::modules::allocator::linked_list::LinkedListAllocatorModule', 'options.modules.non_resident_allocator': 'vnv_heap::modules::nonresident_allocator::block::NonResidentBlockAllocator<264, 16>', 'options.queue_length': 16, 'options.iterations': 10000, 'options.buffer_size': 3908, 'options.ram_overhead': 188, 'bench_name': 'queue', 'machine_name': 'esp32c3', 'cold_start': 0, 'repetitions': 1, 'ticks_per_ms': 16000}, {'mean': 1341590438.0, 'min': 1341590438, 'max': 1341590438, 'options.object_size': 256, 'options.modules': {'allocator': 'vnv_heap::modules::allocator::linked_list::LinkedListAllocatorModule', 'non_resident_allocator': 'vnv_heap::modules::nonresident_allocator::block::NonResidentBlockAllocator<264, 16>'}, 'options.modules.allocator': 'vnv_heap::modules::allocator::linked_list::LinkedListAllocatorModule', 'options.modules.non_resident_allocator': 'vnv_heap::modules::nonresident_allocator::block::NonResidentBlockAllocator<264, 16>', 'options.queue_length': 17, 'options.iterations': 10000, 'options.buffer_size': 3908, 'options.ram_overhead': 188, 'bench_name': 'queue', 'machine_name': 'esp32c3', 'cold_start': 0, 'repetitions': 1, 'ticks_per_ms': 16000}, {'mean': 1341597516.0, 'min': 1341597516, 'max': 1341597516, 'options.object_size': 256, 'options.modules': {'allocator': 'vnv_heap::modules::allocator::linked_list::LinkedListAllocatorModule', 'non_resident_allocator': 'vnv_heap::modules::nonresident_allocator::block::NonResidentBlockAllocator<264, 16>'}, 'options.modules.allocator': 'vnv_heap::modules::allocator::linked_list::LinkedListAllocatorModule', 'options.modules.non_resident_allocator': 'vnv_heap::modules::nonresident_allocator::block::NonResidentBlockAllocator<264, 16>', 'options.queue_length': 18, 'options.iterations': 10000, 'options.buffer_size': 3908, 'options.ram_overhead': 188, 'bench_name': 'queue', 'machine_name': 'esp32c3', 'cold_start': 0, 'repetitions': 1, 'ticks_per_ms': 16000}, {'mean': 1341604427.0, 'min': 1341604427, 'max': 1341604427, 'options.object_size': 256, 'options.modules': {'allocator': 'vnv_heap::modules::allocator::linked_list::LinkedListAllocatorModule', 'non_resident_allocator': 'vnv_heap::modules::nonresident_allocator::block::NonResidentBlockAllocator<264, 16>'}, 'options.modules.allocator': 'vnv_heap::modules::allocator::linked_list::LinkedListAllocatorModule', 'options.modules.non_resident_allocator': 'vnv_heap::modules::nonresident_allocator::block::NonResidentBlockAllocator<264, 16>', 'options.queue_length': 19, 'options.iterations': 10000, 'options.buffer_size': 3908, 'options.ram_overhead': 188, 'bench_name': 'queue', 'machine_name': 'esp32c3', 'cold_start': 0, 'repetitions': 1, 'ticks_per_ms': 16000}, {'mean': 1341611772.0, 'min': 1341611772, 'max': 1341611772, 'options.object_size': 256, 'options.modules': {'allocator': 'vnv_heap::modules::allocator::linked_list::LinkedListAllocatorModule', 'non_resident_allocator': 'vnv_heap::modules::nonresident_allocator::block::NonResidentBlockAllocator<264, 16>'}, 'options.modules.allocator': 'vnv_heap::modules::allocator::linked_list::LinkedListAllocatorModule', 'options.modules.non_resident_allocator': 'vnv_heap::modules::nonresident_allocator::block::NonResidentBlockAllocator<264, 16>', 'options.queue_length': 20, 'options.iterations': 10000, 'options.buffer_size': 3908, 'options.ram_overhead': 188, 'bench_name': 'queue', 'machine_name': 'esp32c3', 'cold_start': 0, 'repetitions': 1, 'ticks_per_ms': 16000}, {'mean': 1341618973.0, 'min': 1341618973, 'max': 1341618973, 'options.object_size': 256, 'options.modules': {'allocator': 'vnv_heap::modules::allocator::linked_list::LinkedListAllocatorModule', 'non_resident_allocator': 'vnv_heap::modules::nonresident_allocator::block::NonResidentBlockAllocator<264, 16>'}, 'options.modules.allocator': 'vnv_heap::modules::allocator::linked_list::LinkedListAllocatorModule', 'options.modules.non_resident_allocator': 'vnv_heap::modules::nonresident_allocator::block::NonResidentBlockAllocator<264, 16>', 'options.queue_length': 21, 'options.iterations': 10000, 'options.buffer_size': 3908, 'options.ram_overhead': 188, 'bench_name': 'queue', 'machine_name': 'esp32c3', 'cold_start': 0, 'repetitions': 1, 'ticks_per_ms': 16000}, {'mean': 1341626066.0, 'min': 1341626066, 'max': 1341626066, 'options.object_size': 256, 'options.modules': {'allocator': 'vnv_heap::modules::allocator::linked_list::LinkedListAllocatorModule', 'non_resident_allocator': 'vnv_heap::modules::nonresident_allocator::block::NonResidentBlockAllocator<264, 16>'}, 'options.modules.allocator': 'vnv_heap::modules::allocator::linked_list::LinkedListAllocatorModule', 'options.modules.non_resident_allocator': 'vnv_heap::modules::nonresident_allocator::block::NonResidentBlockAllocator<264, 16>', 'options.queue_length': 22, 'options.iterations': 10000, 'options.buffer_size': 3908, 'options.ram_overhead': 188, 'bench_name': 'queue', 'machine_name': 'esp32c3', 'cold_start': 0, 'repetitions': 1, 'ticks_per_ms': 16000}, {'mean': 1341633598.0, 'min': 1341633598, 'max': 1341633598, 'options.object_size': 256, 'options.modules': {'allocator': 'vnv_heap::modules::allocator::linked_list::LinkedListAllocatorModule', 'non_resident_allocator': 'vnv_heap::modules::nonresident_allocator::block::NonResidentBlockAllocator<264, 16>'}, 'options.modules.allocator': 'vnv_heap::modules::allocator::linked_list::LinkedListAllocatorModule', 'options.modules.non_resident_allocator': 'vnv_heap::modules::nonresident_allocator::block::NonResidentBlockAllocator<264, 16>', 'options.queue_length': 23, 'options.iterations': 10000, 'options.buffer_size': 3908, 'options.ram_overhead': 188, 'bench_name': 'queue', 'machine_name': 'esp32c3', 'cold_start': 0, 'repetitions': 1, 'ticks_per_ms': 16000}, {'mean': 1341631981.0, 'min': 1341631981, 'max': 1341631981, 'options.object_size': 256, 'options.modules': {'allocator': 'vnv_heap::modules::allocator::linked_list::LinkedListAllocatorModule', 'non_resident_allocator': 'vnv_heap::modules::nonresident_allocator::block::NonResidentBlockAllocator<264, 16>'}, 'options.modules.allocator': 'vnv_heap::modules::allocator::linked_list::LinkedListAllocatorModule', 'options.modules.non_resident_allocator': 'vnv_heap::modules::nonresident_allocator::block::NonResidentBlockAllocator<264, 16>', 'options.queue_length': 24, 'options.iterations': 10000, 'options.buffer_size': 3908, 'options.ram_overhead': 188, 'bench_name': 'queue', 'machine_name': 'esp32c3', 'cold_start': 0, 'repetitions': 1, 'ticks_per_ms': 16000}, {'mean': 1341639184.0, 'min': 1341639184, 'max': 1341639184, 'options.object_size': 256, 'options.modules': {'allocator': 'vnv_heap::modules::allocator::linked_list::LinkedListAllocatorModule', 'non_resident_allocator': 'vnv_heap::modules::nonresident_allocator::block::NonResidentBlockAllocator<264, 16>'}, 'options.modules.allocator': 'vnv_heap::modules::allocator::linked_list::LinkedListAllocatorModule', 'options.modules.non_resident_allocator': 'vnv_heap::modules::nonresident_allocator::block::NonResidentBlockAllocator<264, 16>', 'options.queue_length': 25, 'options.iterations': 10000, 'options.buffer_size': 3908, 'options.ram_overhead': 188, 'bench_name': 'queue', 'machine_name': 'esp32c3', 'cold_start': 0, 'repetitions': 1, 'ticks_per_ms': 16000}, {'mean': 1341630019.0, 'min': 1341630019, 'max': 1341630019, 'options.object_size': 256, 'options.modules': {'allocator': 'vnv_heap::modules::allocator::linked_list::LinkedListAllocatorModule', 'non_resident_allocator': 'vnv_heap::modules::nonresident_allocator::block::NonResidentBlockAllocator<264, 16>'}, 'options.modules.allocator': 'vnv_heap::modules::allocator::linked_list::LinkedListAllocatorModule', 'options.modules.non_resident_allocator': 'vnv_heap::modules::nonresident_allocator::block::NonResidentBlockAllocator<264, 16>', 'options.queue_length': 26, 'options.iterations': 10000, 'options.buffer_size': 3908, 'options.ram_overhead': 188, 'bench_name': 'queue', 'machine_name': 'esp32c3', 'cold_start': 0, 'repetitions': 1, 'ticks_per_ms': 16000}, {'mean': 1341636896.0, 'min': 1341636896, 'max': 1341636896, 'options.object_size': 256, 'options.modules': {'allocator': 'vnv_heap::modules::allocator::linked_list::LinkedListAllocatorModule', 'non_resident_allocator': 'vnv_heap::modules::nonresident_allocator::block::NonResidentBlockAllocator<264, 16>'}, 'options.modules.allocator': 'vnv_heap::modules::allocator::linked_list::LinkedListAllocatorModule', 'options.modules.non_resident_allocator': 'vnv_heap::modules::nonresident_allocator::block::NonResidentBlockAllocator<264, 16>', 'options.queue_length': 27, 'options.iterations': 10000, 'options.buffer_size': 3908, 'options.ram_overhead': 188, 'bench_name': 'queue', 'machine_name': 'esp32c3', 'cold_start': 0, 'repetitions': 1, 'ticks_per_ms': 16000}, {'mean': 1341644171.0, 'min': 1341644171, 'max': 1341644171, 'options.object_size': 256, 'options.modules': {'allocator': 'vnv_heap::modules::allocator::linked_list::LinkedListAllocatorModule', 'non_resident_allocator': 'vnv_heap::modules::nonresident_allocator::block::NonResidentBlockAllocator<264, 16>'}, 'options.modules.allocator': 'vnv_heap::modules::allocator::linked_list::LinkedListAllocatorModule', 'options.modules.non_resident_allocator': 'vnv_heap::modules::nonresident_allocator::block::NonResidentBlockAllocator<264, 16>', 'options.queue_length': 28, 'options.iterations': 10000, 'options.buffer_size': 3908, 'options.ram_overhead': 188, 'bench_name': 'queue', 'machine_name': 'esp32c3', 'cold_start': 0, 'repetitions': 1, 'ticks_per_ms': 16000}, {'mean': 1341651440.0, 'min': 1341651440, 'max': 1341651440, 'options.object_size': 256, 'options.modules': {'allocator': 'vnv_heap::modules::allocator::linked_list::LinkedListAllocatorModule', 'non_resident_allocator': 'vnv_heap::modules::nonresident_allocator::block::NonResidentBlockAllocator<264, 16>'}, 'options.modules.allocator': 'vnv_heap::modules::allocator::linked_list::LinkedListAllocatorModule', 'options.modules.non_resident_allocator': 'vnv_heap::modules::nonresident_allocator::block::NonResidentBlockAllocator<264, 16>', 'options.queue_length': 29, 'options.iterations': 10000, 'options.buffer_size': 3908, 'options.ram_overhead': 188, 'bench_name': 'queue', 'machine_name': 'esp32c3', 'cold_start': 0, 'repetitions': 1, 'ticks_per_ms': 16000}, {'mean': 1341658455.0, 'min': 1341658455, 'max': 1341658455, 'options.object_size': 256, 'options.modules': {'allocator': 'vnv_heap::modules::allocator::linked_list::LinkedListAllocatorModule', 'non_resident_allocator': 'vnv_heap::modules::nonresident_allocator::block::NonResidentBlockAllocator<264, 16>'}, 'options.modules.allocator': 'vnv_heap::modules::allocator::linked_list::LinkedListAllocatorModule', 'options.modules.non_resident_allocator': 'vnv_heap::modules::nonresident_allocator::block::NonResidentBlockAllocator<264, 16>', 'options.queue_length': 30, 'options.iterations': 10000, 'options.buffer_size': 3908, 'options.ram_overhead': 188, 'bench_name': 'queue', 'machine_name': 'esp32c3', 'cold_start': 0, 'repetitions': 1, 'ticks_per_ms': 16000}, {'mean': 1341665478.0, 'min': 1341665478, 'max': 1341665478, 'options.object_size': 256, 'options.modules': {'allocator': 'vnv_heap::modules::allocator::linked_list::LinkedListAllocatorModule', 'non_resident_allocator': 'vnv_heap::modules::nonresident_allocator::block::NonResidentBlockAllocator<264, 16>'}, 'options.modules.allocator': 'vnv_heap::modules::allocator::linked_list::LinkedListAllocatorModule', 'options.modules.non_resident_allocator': 'vnv_heap::modules::nonresident_allocator::block::NonResidentBlockAllocator<264, 16>', 'options.queue_length': 31, 'options.iterations': 10000, 'options.buffer_size': 3908, 'options.ram_overhead': 188, 'bench_name': 'queue', 'machine_name': 'esp32c3', 'cold_start': 0, 'repetitions': 1, 'ticks_per_ms': 16000}, {'mean': 1341672808.0, 'min': 1341672808, 'max': 1341672808, 'options.object_size': 256, 'options.modules': {'allocator': 'vnv_heap::modules::allocator::linked_list::LinkedListAllocatorModule', 'non_resident_allocator': 'vnv_heap::modules::nonresident_allocator::block::NonResidentBlockAllocator<264, 16>'}, 'options.modules.allocator': 'vnv_heap::modules::allocator::linked_list::LinkedListAllocatorModule', 'options.modules.non_resident_allocator': 'vnv_heap::modules::nonresident_allocator::block::NonResidentBlockAllocator<264, 16>', 'options.queue_length': 32, 'options.iterations': 10000, 'options.buffer_size': 3908, 'options.ram_overhead': 188, 'bench_name': 'queue', 'machine_name': 'esp32c3', 'cold_start': 0, 'repetitions': 1, 'ticks_per_ms': 16000}]\n"
     ]
    },
    {
     "data": {
      "application/vnd.microsoft.datawrangler.viewer.v0+json": {
       "columns": [
        {
         "name": "index",
         "rawType": "int64",
         "type": "integer"
        },
        {
         "name": "mean",
         "rawType": "float64",
         "type": "float"
        },
        {
         "name": "min",
         "rawType": "float64",
         "type": "float"
        },
        {
         "name": "max",
         "rawType": "float64",
         "type": "float"
        },
        {
         "name": "options.object_size",
         "rawType": "int64",
         "type": "integer"
        },
        {
         "name": "options.queue_length",
         "rawType": "int64",
         "type": "integer"
        },
        {
         "name": "options.iterations",
         "rawType": "int64",
         "type": "integer"
        },
        {
         "name": "options.buffer_size",
         "rawType": "float64",
         "type": "float"
        },
        {
         "name": "options.ram_overhead",
         "rawType": "int64",
         "type": "integer"
        },
        {
         "name": "machine_name",
         "rawType": "object",
         "type": "string"
        },
        {
         "name": "cold_start",
         "rawType": "int64",
         "type": "integer"
        },
        {
         "name": "repetitions",
         "rawType": "int64",
         "type": "integer"
        },
        {
         "name": "ticks_per_ms",
         "rawType": "int64",
         "type": "integer"
        },
        {
         "name": "dataset_type",
         "rawType": "object",
         "type": "string"
        },
        {
         "name": "benchmark_title",
         "rawType": "object",
         "type": "string"
        },
        {
         "name": "benchmark_id",
         "rawType": "object",
         "type": "string"
        }
       ],
       "conversionMethod": "pd.DataFrame",
       "ref": "ce6f8117-e4f3-440c-9d8a-b42b319ed7fe",
       "rows": [
        [
         "0",
         "898.2922",
         "898.2922",
         "898.2922",
         "256",
         "0",
         "10000",
         "256.0",
         "16",
         "esp32c3",
         "0",
         "1",
         "16000",
         "Queue",
         "RAM Buffer",
         "queue_ram"
        ],
        [
         "1",
         "898.286",
         "898.286",
         "898.286",
         "256",
         "1",
         "10000",
         "512.0",
         "16",
         "esp32c3",
         "0",
         "1",
         "16000",
         "Queue",
         "RAM Buffer",
         "queue_ram"
        ],
        [
         "2",
         "898.2859",
         "898.2859",
         "898.2859",
         "256",
         "2",
         "10000",
         "768.0",
         "16",
         "esp32c3",
         "0",
         "1",
         "16000",
         "Queue",
         "RAM Buffer",
         "queue_ram"
        ],
        [
         "3",
         "898.2859",
         "898.2859",
         "898.2859",
         "256",
         "3",
         "10000",
         "1024.0",
         "16",
         "esp32c3",
         "0",
         "1",
         "16000",
         "Queue",
         "RAM Buffer",
         "queue_ram"
        ],
        [
         "4",
         "898.2859",
         "898.2859",
         "898.2859",
         "256",
         "4",
         "10000",
         "1280.0",
         "16",
         "esp32c3",
         "0",
         "1",
         "16000",
         "Queue",
         "RAM Buffer",
         "queue_ram"
        ]
       ],
       "shape": {
        "columns": 15,
        "rows": 5
       }
      },
      "text/html": [
       "<div>\n",
       "<style scoped>\n",
       "    .dataframe tbody tr th:only-of-type {\n",
       "        vertical-align: middle;\n",
       "    }\n",
       "\n",
       "    .dataframe tbody tr th {\n",
       "        vertical-align: top;\n",
       "    }\n",
       "\n",
       "    .dataframe thead th {\n",
       "        text-align: right;\n",
       "    }\n",
       "</style>\n",
       "<table border=\"1\" class=\"dataframe\">\n",
       "  <thead>\n",
       "    <tr style=\"text-align: right;\">\n",
       "      <th></th>\n",
       "      <th>mean</th>\n",
       "      <th>min</th>\n",
       "      <th>max</th>\n",
       "      <th>options.object_size</th>\n",
       "      <th>options.queue_length</th>\n",
       "      <th>options.iterations</th>\n",
       "      <th>options.buffer_size</th>\n",
       "      <th>options.ram_overhead</th>\n",
       "      <th>machine_name</th>\n",
       "      <th>cold_start</th>\n",
       "      <th>repetitions</th>\n",
       "      <th>ticks_per_ms</th>\n",
       "      <th>dataset_type</th>\n",
       "      <th>benchmark_title</th>\n",
       "      <th>benchmark_id</th>\n",
       "    </tr>\n",
       "  </thead>\n",
       "  <tbody>\n",
       "    <tr>\n",
       "      <th>0</th>\n",
       "      <td>898.2922</td>\n",
       "      <td>898.2922</td>\n",
       "      <td>898.2922</td>\n",
       "      <td>256</td>\n",
       "      <td>0</td>\n",
       "      <td>10000</td>\n",
       "      <td>256.0</td>\n",
       "      <td>16</td>\n",
       "      <td>esp32c3</td>\n",
       "      <td>0</td>\n",
       "      <td>1</td>\n",
       "      <td>16000</td>\n",
       "      <td>Queue</td>\n",
       "      <td>RAM Buffer</td>\n",
       "      <td>queue_ram</td>\n",
       "    </tr>\n",
       "    <tr>\n",
       "      <th>1</th>\n",
       "      <td>898.2860</td>\n",
       "      <td>898.2860</td>\n",
       "      <td>898.2860</td>\n",
       "      <td>256</td>\n",
       "      <td>1</td>\n",
       "      <td>10000</td>\n",
       "      <td>512.0</td>\n",
       "      <td>16</td>\n",
       "      <td>esp32c3</td>\n",
       "      <td>0</td>\n",
       "      <td>1</td>\n",
       "      <td>16000</td>\n",
       "      <td>Queue</td>\n",
       "      <td>RAM Buffer</td>\n",
       "      <td>queue_ram</td>\n",
       "    </tr>\n",
       "    <tr>\n",
       "      <th>2</th>\n",
       "      <td>898.2859</td>\n",
       "      <td>898.2859</td>\n",
       "      <td>898.2859</td>\n",
       "      <td>256</td>\n",
       "      <td>2</td>\n",
       "      <td>10000</td>\n",
       "      <td>768.0</td>\n",
       "      <td>16</td>\n",
       "      <td>esp32c3</td>\n",
       "      <td>0</td>\n",
       "      <td>1</td>\n",
       "      <td>16000</td>\n",
       "      <td>Queue</td>\n",
       "      <td>RAM Buffer</td>\n",
       "      <td>queue_ram</td>\n",
       "    </tr>\n",
       "    <tr>\n",
       "      <th>3</th>\n",
       "      <td>898.2859</td>\n",
       "      <td>898.2859</td>\n",
       "      <td>898.2859</td>\n",
       "      <td>256</td>\n",
       "      <td>3</td>\n",
       "      <td>10000</td>\n",
       "      <td>1024.0</td>\n",
       "      <td>16</td>\n",
       "      <td>esp32c3</td>\n",
       "      <td>0</td>\n",
       "      <td>1</td>\n",
       "      <td>16000</td>\n",
       "      <td>Queue</td>\n",
       "      <td>RAM Buffer</td>\n",
       "      <td>queue_ram</td>\n",
       "    </tr>\n",
       "    <tr>\n",
       "      <th>4</th>\n",
       "      <td>898.2859</td>\n",
       "      <td>898.2859</td>\n",
       "      <td>898.2859</td>\n",
       "      <td>256</td>\n",
       "      <td>4</td>\n",
       "      <td>10000</td>\n",
       "      <td>1280.0</td>\n",
       "      <td>16</td>\n",
       "      <td>esp32c3</td>\n",
       "      <td>0</td>\n",
       "      <td>1</td>\n",
       "      <td>16000</td>\n",
       "      <td>Queue</td>\n",
       "      <td>RAM Buffer</td>\n",
       "      <td>queue_ram</td>\n",
       "    </tr>\n",
       "  </tbody>\n",
       "</table>\n",
       "</div>"
      ],
      "text/plain": [
       "       mean       min       max  options.object_size  options.queue_length  \\\n",
       "0  898.2922  898.2922  898.2922                  256                     0   \n",
       "1  898.2860  898.2860  898.2860                  256                     1   \n",
       "2  898.2859  898.2859  898.2859                  256                     2   \n",
       "3  898.2859  898.2859  898.2859                  256                     3   \n",
       "4  898.2859  898.2859  898.2859                  256                     4   \n",
       "\n",
       "   options.iterations  options.buffer_size  options.ram_overhead machine_name  \\\n",
       "0               10000                256.0                    16      esp32c3   \n",
       "1               10000                512.0                    16      esp32c3   \n",
       "2               10000                768.0                    16      esp32c3   \n",
       "3               10000               1024.0                    16      esp32c3   \n",
       "4               10000               1280.0                    16      esp32c3   \n",
       "\n",
       "   cold_start  repetitions  ticks_per_ms dataset_type benchmark_title  \\\n",
       "0           0            1         16000        Queue      RAM Buffer   \n",
       "1           0            1         16000        Queue      RAM Buffer   \n",
       "2           0            1         16000        Queue      RAM Buffer   \n",
       "3           0            1         16000        Queue      RAM Buffer   \n",
       "4           0            1         16000        Queue      RAM Buffer   \n",
       "\n",
       "  benchmark_id  \n",
       "0    queue_ram  \n",
       "1    queue_ram  \n",
       "2    queue_ram  \n",
       "3    queue_ram  \n",
       "4    queue_ram  "
      ]
     },
     "execution_count": 3,
     "metadata": {},
     "output_type": "execute_result"
    }
   ],
   "source": [
    "from util.convert import convert_datasets\n",
    "import pandas as pd\n",
    "\n",
    "ram = convert_datasets(\n",
    "    raw_data,\n",
    "    \"Queue\",\n",
    "    [(\"queue_ram\", \"RAM Buffer\")],\n",
    "    [\n",
    "        \"mean\",\n",
    "        \"min\",\n",
    "        \"max\",\n",
    "        \"options.object_size\",\n",
    "        \"options.queue_length\",\n",
    "        \"options.iterations\",\n",
    "        \"options.buffer_size\",\n",
    "        \"options.ram_overhead\",\n",
    "        \"machine_name\",\n",
    "        \"cold_start\",\n",
    "        \"repetitions\",\n",
    "    ],\n",
    "    unwrapped=show_error_bar,\n",
    ")\n",
    "\n",
    "storage = convert_datasets(\n",
    "    raw_data,\n",
    "    \"Queue\",\n",
    "    [(\"queue_storage\", \"Storage\")],\n",
    "    [\n",
    "        \"mean\",\n",
    "        \"min\",\n",
    "        \"max\",\n",
    "        \"options.object_size\",\n",
    "        \"options.queue_length\",\n",
    "        \"options.iterations\",\n",
    "        \"options.buffer_size\",\n",
    "        \"options.ram_overhead\",\n",
    "        \"machine_name\",\n",
    "        \"cold_start\",\n",
    "        \"repetitions\",\n",
    "    ],\n",
    "    unwrapped=show_error_bar,\n",
    ")\n",
    "vnvheap = convert_datasets(\n",
    "    raw_data,\n",
    "    \"Queue\",\n",
    "    [(\"queue\", \"vNV-Heap\")],\n",
    "    [\n",
    "        \"mean\",\n",
    "        \"min\",\n",
    "        \"max\",\n",
    "        \"options.object_size\",\n",
    "        \"options.queue_length\",\n",
    "        \"options.iterations\",\n",
    "        \"options.buffer_size\",\n",
    "        \"options.ram_overhead\",\n",
    "        \"machine_name\",\n",
    "        \"cold_start\",\n",
    "        \"repetitions\",\n",
    "    ],\n",
    "    unwrapped=show_error_bar,\n",
    ")\n",
    "\n",
    "dataset = pd.concat([ram, storage, vnvheap])\n",
    "assert dataset[\"options.iterations\"].nunique() == 1\n",
    "dataset[\"mean\"] = dataset[\"mean\"] / dataset[\"options.iterations\"].iloc[0]\n",
    "dataset[\"min\"] = dataset[\"min\"] / dataset[\"options.iterations\"].iloc[0]\n",
    "dataset[\"max\"] = dataset[\"max\"] / dataset[\"options.iterations\"].iloc[0]\n",
    "\n",
    "dataset.head()"
   ]
  },
  {
   "cell_type": "code",
   "execution_count": null,
   "metadata": {},
   "outputs": [
    {
     "data": {
      "text/html": [
       "<b>RAM Buffer</b> [in us]"
      ],
      "text/plain": [
       "<IPython.core.display.HTML object>"
      ]
     },
     "metadata": {},
     "output_type": "display_data"
    },
    {
     "data": {
      "text/plain": [
       "min    56.142869\n",
       "max    56.143262\n",
       "Name: mean, dtype: float64"
      ]
     },
     "metadata": {},
     "output_type": "display_data"
    },
    {
     "data": {
      "text/html": [
       "<b>Storage</b> [in us]"
      ],
      "text/plain": [
       "<IPython.core.display.HTML object>"
      ]
     },
     "metadata": {},
     "output_type": "display_data"
    },
    {
     "data": {
      "text/plain": [
       "min    7983.034500\n",
       "max    7983.067725\n",
       "Name: mean, dtype: float64"
      ]
     },
     "metadata": {},
     "output_type": "display_data"
    },
    {
     "data": {
      "text/html": [
       "<b>vNV-Heap</b> [in us]"
      ],
      "text/plain": [
       "<IPython.core.display.HTML object>"
      ]
     },
     "metadata": {},
     "output_type": "display_data"
    },
    {
     "data": {
      "text/plain": [
       "min      77.80550\n",
       "max    8385.45505\n",
       "Name: mean, dtype: float64"
      ]
     },
     "metadata": {},
     "output_type": "display_data"
    }
   ],
   "source": [
    "from util.convert import display_dataset_infos\n",
    "\n",
    "display_dataset_infos(dataset)"
   ]
  },
  {
   "cell_type": "markdown",
   "metadata": {},
   "source": [
    "# Final Plot"
   ]
  },
  {
   "cell_type": "code",
   "execution_count": 5,
   "metadata": {},
   "outputs": [
    {
     "name": "stdout",
     "output_type": "stream",
     "text": [
      "vNV-Heaps latency jump happens after 12\n",
      "Max buffer size: 4096.0\n",
      "Max queue size for \"Only RAM\": 14\n"
     ]
    },
    {
     "data": {
      "image/png": "[encoded data removed]",
      "text/plain": [
       "<Figure size 330x99 with 1 Axes>"
      ]
     },
     "metadata": {},
     "output_type": "display_data"
    }
   ],
   "source": [
    "from util.plot import plot_lines, save_plot, plot_colors\n",
    "from util.convert import scale_data\n",
    "import numpy as np\n",
    "import seaborn as sns\n",
    "\n",
    "# palette = [\"#c2df23\", \"#440154\", \"#51c56a\"]\n",
    "palette = [plot_colors[\"baseline\"], plot_colors[\"baseline2\"], plot_colors[\"heap\"]]\n",
    "\n",
    "scale = 2\n",
    "norm = False\n",
    "\n",
    "impl_data = dataset[(dataset[\"benchmark_id\"] == \"queue\")]\n",
    "\n",
    "prev_mean = -1\n",
    "for mean in impl_data[\"mean\"]:\n",
    "    if prev_mean != -1:\n",
    "        if mean > prev_mean * 2:\n",
    "            break\n",
    "\n",
    "    prev_mean = mean\n",
    "    \n",
    "print(\"vNV-Heaps latency jump happens after\", impl_data[impl_data[\"mean\"] == prev_mean][\"options.queue_length\"].max())\n",
    "\n",
    "impl_data = impl_data[(impl_data[\"options.queue_length\"] % scale == 0)]\n",
    "\n",
    "assert len(impl_data[\"options.buffer_size\"].unique()) == 1\n",
    "assert len(impl_data[\"options.ram_overhead\"].unique()) == 1\n",
    "\n",
    "max_buffer_size = (\n",
    "    impl_data[\"options.buffer_size\"][0] + impl_data[\"options.ram_overhead\"][0]\n",
    ")\n",
    "print(\"Max buffer size:\", max_buffer_size)\n",
    "\n",
    "ram_data = dataset[\n",
    "    (dataset[\"benchmark_id\"] == \"queue_ram\")\n",
    "]\n",
    "ram_data = ram_data[\n",
    "    (ram_data[\"options.buffer_size\"] + ram_data[\"options.ram_overhead\"])\n",
    "    <= max_buffer_size\n",
    "]\n",
    "\n",
    "print(\"Max queue size for \\\"Only RAM\\\":\", ram_data[ram_data[\"benchmark_id\"] == \"queue_ram\"][\"options.queue_length\"].max())\n",
    "\n",
    "ram_data = ram_data[(ram_data[\"options.queue_length\"] % scale == 0)]\n",
    "\n",
    "\n",
    "\n",
    "plot_data = [\n",
    "    {\n",
    "        \"name\": \"RAM Only\",\n",
    "        \"x\": \"options.queue_length\",\n",
    "        \"y\": \"mean\",\n",
    "        \"marker\": \"o\",\n",
    "        \"use_edge_color\": True,\n",
    "        \"data\": ram_data,\n",
    "    },\n",
    "    {\n",
    "        \"name\": \"NVRAM Only\",\n",
    "        \"x\": \"options.queue_length\",\n",
    "        \"y\": \"mean\",\n",
    "        \"marker\": \"s\",\n",
    "        \"use_edge_color\": True,\n",
    "        \"data\": dataset[\n",
    "            (dataset[\"benchmark_id\"] == \"queue_storage\")\n",
    "            & (dataset[\"options.queue_length\"] % scale == 0)\n",
    "        ],\n",
    "    },\n",
    "    {\n",
    "        \"name\": \"vNV-Heap\",\n",
    "        \"x\": \"options.queue_length\",\n",
    "        \"y\": \"mean\",\n",
    "        \"marker\": \"X\",\n",
    "        \"data\": impl_data,\n",
    "    },\n",
    "]\n",
    "\n",
    "obj_size = dataset[\"options.object_size\"].unique()[0]\n",
    "\n",
    "norm_val = None\n",
    "if norm:\n",
    "    ram_data_tmp = scale_data(ram_data, unit)\n",
    "    norm_val = ram_data_tmp[\"mean\"].mean()\n",
    "\n",
    "options = {\n",
    "    \"data\": plot_data,\n",
    "    \"scale\": unit,\n",
    "    \"x_label\": f\"Queue Length [#Objects; {obj_size} Bytes each]\",\n",
    "    \"y_label\": f\"AVG Latency [{unit}]\" if not norm else \"Latency [Norm.]\",\n",
    "#    \"norm\": norm_val,\n",
    "    \"height\": 0.3,\n",
    "    \"palette\": palette,\n",
    "}\n",
    "\n",
    "ram_data_tmp = ram_data.copy()\n",
    "ram_data_tmp = scale_data(ram_data, unit)\n",
    "\n",
    "axes = plot_lines(options)\n",
    "ax = axes[0]\n",
    "plot_y = ram_data_tmp.iloc[-1][\"mean\"]\n",
    "if norm:\n",
    "    plot_y /= norm_val\n",
    "\n",
    "ax.plot(\n",
    "    [\n",
    "        ram_data_tmp[\"options.queue_length\"].max(),\n",
    "        impl_data[\"options.queue_length\"].max(),\n",
    "    ],\n",
    "    [plot_y, plot_y],\n",
    "    color=palette[0],\n",
    "    linewidth=2,\n",
    "    zorder=3\n",
    ")\n",
    "text_x = (ram_data_tmp[\"options.queue_length\"].max() + impl_data[\"options.queue_length\"].max()) / 2\n",
    "text_x = text_x - text_x*0.3\n",
    "text_y = ram_data_tmp.iloc[-1][\"mean\"] + ram_data_tmp.iloc[-1][\"mean\"]*2\n",
    "if norm:\n",
    "    text_y /= norm_val\n",
    "\n",
    "ax.text(text_x, text_y * 4, \"OUT OF MEMORY\", weight=\"bold\", color=palette[0])\n",
    "ax.legend(\n",
    "    loc = \"lower center\",\n",
    "    bbox_to_anchor=(0.5, 1.1),\n",
    "    ncol=2,\n",
    "    title=None,\n",
    "    frameon=True\n",
    ")\n",
    "if norm:\n",
    "    ax.set_xticks([0,5,10,15,20,25,30])\n",
    "    ax.set_yticks([0,50,100,150])\n",
    "    ax.set_xlim(right=32)\n",
    "else:\n",
    "    ax.set_xticks([0,5,10,15,20,25,30])\n",
    "    ax.set_yticks([0,2.5,5,7.5,10])\n",
    "    ax.set_xlim(right=32)\n",
    "ax.set_ylim(bottom=-0.1)\n",
    "\n",
    "\n",
    "save_plot(\"queue\", False)"
   ]
  }
 ],
 "metadata": {
  "kernelspec": {
   "display_name": ".venv",
   "language": "python",
   "name": "python3"
  },
  "language_info": {
   "codemirror_mode": {
    "name": "ipython",
    "version": 3
   },
   "file_extension": ".py",
   "mimetype": "text/x-python",
   "name": "python",
   "nbconvert_exporter": "python",
   "pygments_lexer": "ipython3",
   "version": "3.12.7"
  }
 },
 "nbformat": 4,
 "nbformat_minor": 2
}
