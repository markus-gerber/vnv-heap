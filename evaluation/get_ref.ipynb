{
 "cells": [
  {
   "cell_type": "markdown",
   "metadata": {},
   "source": [
    "# Get Immutable Reference Benchmarks"
   ]
  },
  {
   "cell_type": "code",
   "execution_count": 1,
   "metadata": {},
   "outputs": [],
   "source": [
    "# select measurement file\n",
    "file_name = \"data/2025-03-13 08-27-11 get.json\"\n",
    "\n",
    "# plot settings\n",
    "show_error_bar = False\n",
    "unit = \"ms\"\n",
    "plotted_object_sizes = [32, 128, 512, 1024]"
   ]
  },
  {
   "cell_type": "code",
   "execution_count": 2,
   "metadata": {},
   "outputs": [],
   "source": [
    "# parse data\n",
    "import json\n",
    "\n",
    "with open(file_name) as file:\n",
    "    raw_data = json.load(file)"
   ]
  },
  {
   "cell_type": "code",
   "execution_count": 3,
   "metadata": {},
   "outputs": [
    {
     "name": "stdout",
     "output_type": "stream",
     "text": [
      "[{'mean': 1040.8, 'min': 1040, 'max': 1041, 'options.object_size': 8, 'options.modules': {'allocator': 'vnv_heap::modules::allocator::linked_list::LinkedListAllocatorModule', 'non_resident_allocator': 'vnv_heap::modules::nonresident_allocator::buddy::NonResidentBuddyAllocatorModule<19>'}, 'options.modules.allocator': 'vnv_heap::modules::allocator::linked_list::LinkedListAllocatorModule', 'options.modules.non_resident_allocator': 'vnv_heap::modules::nonresident_allocator::buddy::NonResidentBuddyAllocatorModule<19>', 'bench_name': 'get_min', 'machine_name': 'esp32c3', 'cold_start': 0, 'repetitions': 100, 'ticks_per_ms': 16000}, {'mean': 914.59, 'min': 914, 'max': 915, 'options.object_size': 16, 'options.modules': {'allocator': 'vnv_heap::modules::allocator::linked_list::LinkedListAllocatorModule', 'non_resident_allocator': 'vnv_heap::modules::nonresident_allocator::buddy::NonResidentBuddyAllocatorModule<19>'}, 'options.modules.allocator': 'vnv_heap::modules::allocator::linked_list::LinkedListAllocatorModule', 'options.modules.non_resident_allocator': 'vnv_heap::modules::nonresident_allocator::buddy::NonResidentBuddyAllocatorModule<19>', 'bench_name': 'get_min', 'machine_name': 'esp32c3', 'cold_start': 0, 'repetitions': 100, 'ticks_per_ms': 16000}, {'mean': 914.24, 'min': 914, 'max': 915, 'options.object_size': 32, 'options.modules': {'allocator': 'vnv_heap::modules::allocator::linked_list::LinkedListAllocatorModule', 'non_resident_allocator': 'vnv_heap::modules::nonresident_allocator::buddy::NonResidentBuddyAllocatorModule<19>'}, 'options.modules.allocator': 'vnv_heap::modules::allocator::linked_list::LinkedListAllocatorModule', 'options.modules.non_resident_allocator': 'vnv_heap::modules::nonresident_allocator::buddy::NonResidentBuddyAllocatorModule<19>', 'bench_name': 'get_min', 'machine_name': 'esp32c3', 'cold_start': 0, 'repetitions': 100, 'ticks_per_ms': 16000}, {'mean': 915.41, 'min': 915, 'max': 916, 'options.object_size': 48, 'options.modules': {'allocator': 'vnv_heap::modules::allocator::linked_list::LinkedListAllocatorModule', 'non_resident_allocator': 'vnv_heap::modules::nonresident_allocator::buddy::NonResidentBuddyAllocatorModule<19>'}, 'options.modules.allocator': 'vnv_heap::modules::allocator::linked_list::LinkedListAllocatorModule', 'options.modules.non_resident_allocator': 'vnv_heap::modules::nonresident_allocator::buddy::NonResidentBuddyAllocatorModule<19>', 'bench_name': 'get_min', 'machine_name': 'esp32c3', 'cold_start': 0, 'repetitions': 100, 'ticks_per_ms': 16000}, {'mean': 979.19, 'min': 978, 'max': 980, 'options.object_size': 64, 'options.modules': {'allocator': 'vnv_heap::modules::allocator::linked_list::LinkedListAllocatorModule', 'non_resident_allocator': 'vnv_heap::modules::nonresident_allocator::buddy::NonResidentBuddyAllocatorModule<19>'}, 'options.modules.allocator': 'vnv_heap::modules::allocator::linked_list::LinkedListAllocatorModule', 'options.modules.non_resident_allocator': 'vnv_heap::modules::nonresident_allocator::buddy::NonResidentBuddyAllocatorModule<19>', 'bench_name': 'get_min', 'machine_name': 'esp32c3', 'cold_start': 0, 'repetitions': 100, 'ticks_per_ms': 16000}, {'mean': 914.2, 'min': 914, 'max': 915, 'options.object_size': 80, 'options.modules': {'allocator': 'vnv_heap::modules::allocator::linked_list::LinkedListAllocatorModule', 'non_resident_allocator': 'vnv_heap::modules::nonresident_allocator::buddy::NonResidentBuddyAllocatorModule<19>'}, 'options.modules.allocator': 'vnv_heap::modules::allocator::linked_list::LinkedListAllocatorModule', 'options.modules.non_resident_allocator': 'vnv_heap::modules::nonresident_allocator::buddy::NonResidentBuddyAllocatorModule<19>', 'bench_name': 'get_min', 'machine_name': 'esp32c3', 'cold_start': 0, 'repetitions': 100, 'ticks_per_ms': 16000}, {'mean': 914.82, 'min': 914, 'max': 978, 'options.object_size': 96, 'options.modules': {'allocator': 'vnv_heap::modules::allocator::linked_list::LinkedListAllocatorModule', 'non_resident_allocator': 'vnv_heap::modules::nonresident_allocator::buddy::NonResidentBuddyAllocatorModule<19>'}, 'options.modules.allocator': 'vnv_heap::modules::allocator::linked_list::LinkedListAllocatorModule', 'options.modules.non_resident_allocator': 'vnv_heap::modules::nonresident_allocator::buddy::NonResidentBuddyAllocatorModule<19>', 'bench_name': 'get_min', 'machine_name': 'esp32c3', 'cold_start': 0, 'repetitions': 100, 'ticks_per_ms': 16000}, {'mean': 914.85, 'min': 914, 'max': 977, 'options.object_size': 112, 'options.modules': {'allocator': 'vnv_heap::modules::allocator::linked_list::LinkedListAllocatorModule', 'non_resident_allocator': 'vnv_heap::modules::nonresident_allocator::buddy::NonResidentBuddyAllocatorModule<19>'}, 'options.modules.allocator': 'vnv_heap::modules::allocator::linked_list::LinkedListAllocatorModule', 'options.modules.non_resident_allocator': 'vnv_heap::modules::nonresident_allocator::buddy::NonResidentBuddyAllocatorModule<19>', 'bench_name': 'get_min', 'machine_name': 'esp32c3', 'cold_start': 0, 'repetitions': 100, 'ticks_per_ms': 16000}, {'mean': 850.98, 'min': 850, 'max': 852, 'options.object_size': 128, 'options.modules': {'allocator': 'vnv_heap::modules::allocator::linked_list::LinkedListAllocatorModule', 'non_resident_allocator': 'vnv_heap::modules::nonresident_allocator::buddy::NonResidentBuddyAllocatorModule<19>'}, 'options.modules.allocator': 'vnv_heap::modules::allocator::linked_list::LinkedListAllocatorModule', 'options.modules.non_resident_allocator': 'vnv_heap::modules::nonresident_allocator::buddy::NonResidentBuddyAllocatorModule<19>', 'bench_name': 'get_min', 'machine_name': 'esp32c3', 'cold_start': 0, 'repetitions': 100, 'ticks_per_ms': 16000}, {'mean': 915.01, 'min': 914, 'max': 916, 'options.object_size': 144, 'options.modules': {'allocator': 'vnv_heap::modules::allocator::linked_list::LinkedListAllocatorModule', 'non_resident_allocator': 'vnv_heap::modules::nonresident_allocator::buddy::NonResidentBuddyAllocatorModule<19>'}, 'options.modules.allocator': 'vnv_heap::modules::allocator::linked_list::LinkedListAllocatorModule', 'options.modules.non_resident_allocator': 'vnv_heap::modules::nonresident_allocator::buddy::NonResidentBuddyAllocatorModule<19>', 'bench_name': 'get_min', 'machine_name': 'esp32c3', 'cold_start': 0, 'repetitions': 100, 'ticks_per_ms': 16000}, {'mean': 914.77, 'min': 914, 'max': 978, 'options.object_size': 160, 'options.modules': {'allocator': 'vnv_heap::modules::allocator::linked_list::LinkedListAllocatorModule', 'non_resident_allocator': 'vnv_heap::modules::nonresident_allocator::buddy::NonResidentBuddyAllocatorModule<19>'}, 'options.modules.allocator': 'vnv_heap::modules::allocator::linked_list::LinkedListAllocatorModule', 'options.modules.non_resident_allocator': 'vnv_heap::modules::nonresident_allocator::buddy::NonResidentBuddyAllocatorModule<19>', 'bench_name': 'get_min', 'machine_name': 'esp32c3', 'cold_start': 0, 'repetitions': 100, 'ticks_per_ms': 16000}, {'mean': 914.24, 'min': 914, 'max': 915, 'options.object_size': 176, 'options.modules': {'allocator': 'vnv_heap::modules::allocator::linked_list::LinkedListAllocatorModule', 'non_resident_allocator': 'vnv_heap::modules::nonresident_allocator::buddy::NonResidentBuddyAllocatorModule<19>'}, 'options.modules.allocator': 'vnv_heap::modules::allocator::linked_list::LinkedListAllocatorModule', 'options.modules.non_resident_allocator': 'vnv_heap::modules::nonresident_allocator::buddy::NonResidentBuddyAllocatorModule<19>', 'bench_name': 'get_min', 'machine_name': 'esp32c3', 'cold_start': 0, 'repetitions': 100, 'ticks_per_ms': 16000}, {'mean': 914.0, 'min': 914, 'max': 914, 'options.object_size': 192, 'options.modules': {'allocator': 'vnv_heap::modules::allocator::linked_list::LinkedListAllocatorModule', 'non_resident_allocator': 'vnv_heap::modules::nonresident_allocator::buddy::NonResidentBuddyAllocatorModule<19>'}, 'options.modules.allocator': 'vnv_heap::modules::allocator::linked_list::LinkedListAllocatorModule', 'options.modules.non_resident_allocator': 'vnv_heap::modules::nonresident_allocator::buddy::NonResidentBuddyAllocatorModule<19>', 'bench_name': 'get_min', 'machine_name': 'esp32c3', 'cold_start': 0, 'repetitions': 100, 'ticks_per_ms': 16000}, {'mean': 851.04, 'min': 850, 'max': 852, 'options.object_size': 208, 'options.modules': {'allocator': 'vnv_heap::modules::allocator::linked_list::LinkedListAllocatorModule', 'non_resident_allocator': 'vnv_heap::modules::nonresident_allocator::buddy::NonResidentBuddyAllocatorModule<19>'}, 'options.modules.allocator': 'vnv_heap::modules::allocator::linked_list::LinkedListAllocatorModule', 'options.modules.non_resident_allocator': 'vnv_heap::modules::nonresident_allocator::buddy::NonResidentBuddyAllocatorModule<19>', 'bench_name': 'get_min', 'machine_name': 'esp32c3', 'cold_start': 0, 'repetitions': 100, 'ticks_per_ms': 16000}, {'mean': 851.82, 'min': 851, 'max': 852, 'options.object_size': 224, 'options.modules': {'allocator': 'vnv_heap::modules::allocator::linked_list::LinkedListAllocatorModule', 'non_resident_allocator': 'vnv_heap::modules::nonresident_allocator::buddy::NonResidentBuddyAllocatorModule<19>'}, 'options.modules.allocator': 'vnv_heap::modules::allocator::linked_list::LinkedListAllocatorModule', 'options.modules.non_resident_allocator': 'vnv_heap::modules::nonresident_allocator::buddy::NonResidentBuddyAllocatorModule<19>', 'bench_name': 'get_min', 'machine_name': 'esp32c3', 'cold_start': 0, 'repetitions': 100, 'ticks_per_ms': 16000}, {'mean': 851.01, 'min': 850, 'max': 852, 'options.object_size': 240, 'options.modules': {'allocator': 'vnv_heap::modules::allocator::linked_list::LinkedListAllocatorModule', 'non_resident_allocator': 'vnv_heap::modules::nonresident_allocator::buddy::NonResidentBuddyAllocatorModule<19>'}, 'options.modules.allocator': 'vnv_heap::modules::allocator::linked_list::LinkedListAllocatorModule', 'options.modules.non_resident_allocator': 'vnv_heap::modules::nonresident_allocator::buddy::NonResidentBuddyAllocatorModule<19>', 'bench_name': 'get_min', 'machine_name': 'esp32c3', 'cold_start': 0, 'repetitions': 100, 'ticks_per_ms': 16000}, {'mean': 851.0, 'min': 850, 'max': 852, 'options.object_size': 256, 'options.modules': {'allocator': 'vnv_heap::modules::allocator::linked_list::LinkedListAllocatorModule', 'non_resident_allocator': 'vnv_heap::modules::nonresident_allocator::buddy::NonResidentBuddyAllocatorModule<19>'}, 'options.modules.allocator': 'vnv_heap::modules::allocator::linked_list::LinkedListAllocatorModule', 'options.modules.non_resident_allocator': 'vnv_heap::modules::nonresident_allocator::buddy::NonResidentBuddyAllocatorModule<19>', 'bench_name': 'get_min', 'machine_name': 'esp32c3', 'cold_start': 0, 'repetitions': 100, 'ticks_per_ms': 16000}, {'mean': 914.95, 'min': 914, 'max': 978, 'options.object_size': 272, 'options.modules': {'allocator': 'vnv_heap::modules::allocator::linked_list::LinkedListAllocatorModule', 'non_resident_allocator': 'vnv_heap::modules::nonresident_allocator::buddy::NonResidentBuddyAllocatorModule<19>'}, 'options.modules.allocator': 'vnv_heap::modules::allocator::linked_list::LinkedListAllocatorModule', 'options.modules.non_resident_allocator': 'vnv_heap::modules::nonresident_allocator::buddy::NonResidentBuddyAllocatorModule<19>', 'bench_name': 'get_min', 'machine_name': 'esp32c3', 'cold_start': 0, 'repetitions': 100, 'ticks_per_ms': 16000}, {'mean': 850.8, 'min': 850, 'max': 851, 'options.object_size': 288, 'options.modules': {'allocator': 'vnv_heap::modules::allocator::linked_list::LinkedListAllocatorModule', 'non_resident_allocator': 'vnv_heap::modules::nonresident_allocator::buddy::NonResidentBuddyAllocatorModule<19>'}, 'options.modules.allocator': 'vnv_heap::modules::allocator::linked_list::LinkedListAllocatorModule', 'options.modules.non_resident_allocator': 'vnv_heap::modules::nonresident_allocator::buddy::NonResidentBuddyAllocatorModule<19>', 'bench_name': 'get_min', 'machine_name': 'esp32c3', 'cold_start': 0, 'repetitions': 100, 'ticks_per_ms': 16000}, {'mean': 851.01, 'min': 850, 'max': 852, 'options.object_size': 304, 'options.modules': {'allocator': 'vnv_heap::modules::allocator::linked_list::LinkedListAllocatorModule', 'non_resident_allocator': 'vnv_heap::modules::nonresident_allocator::buddy::NonResidentBuddyAllocatorModule<19>'}, 'options.modules.allocator': 'vnv_heap::modules::allocator::linked_list::LinkedListAllocatorModule', 'options.modules.non_resident_allocator': 'vnv_heap::modules::nonresident_allocator::buddy::NonResidentBuddyAllocatorModule<19>', 'bench_name': 'get_min', 'machine_name': 'esp32c3', 'cold_start': 0, 'repetitions': 100, 'ticks_per_ms': 16000}, {'mean': 977.46, 'min': 977, 'max': 978, 'options.object_size': 320, 'options.modules': {'allocator': 'vnv_heap::modules::allocator::linked_list::LinkedListAllocatorModule', 'non_resident_allocator': 'vnv_heap::modules::nonresident_allocator::buddy::NonResidentBuddyAllocatorModule<19>'}, 'options.modules.allocator': 'vnv_heap::modules::allocator::linked_list::LinkedListAllocatorModule', 'options.modules.non_resident_allocator': 'vnv_heap::modules::nonresident_allocator::buddy::NonResidentBuddyAllocatorModule<19>', 'bench_name': 'get_min', 'machine_name': 'esp32c3', 'cold_start': 0, 'repetitions': 100, 'ticks_per_ms': 16000}, {'mean': 850.82, 'min': 850, 'max': 851, 'options.object_size': 336, 'options.modules': {'allocator': 'vnv_heap::modules::allocator::linked_list::LinkedListAllocatorModule', 'non_resident_allocator': 'vnv_heap::modules::nonresident_allocator::buddy::NonResidentBuddyAllocatorModule<19>'}, 'options.modules.allocator': 'vnv_heap::modules::allocator::linked_list::LinkedListAllocatorModule', 'options.modules.non_resident_allocator': 'vnv_heap::modules::nonresident_allocator::buddy::NonResidentBuddyAllocatorModule<19>', 'bench_name': 'get_min', 'machine_name': 'esp32c3', 'cold_start': 0, 'repetitions': 100, 'ticks_per_ms': 16000}, {'mean': 914.0, 'min': 914, 'max': 914, 'options.object_size': 352, 'options.modules': {'allocator': 'vnv_heap::modules::allocator::linked_list::LinkedListAllocatorModule', 'non_resident_allocator': 'vnv_heap::modules::nonresident_allocator::buddy::NonResidentBuddyAllocatorModule<19>'}, 'options.modules.allocator': 'vnv_heap::modules::allocator::linked_list::LinkedListAllocatorModule', 'options.modules.non_resident_allocator': 'vnv_heap::modules::nonresident_allocator::buddy::NonResidentBuddyAllocatorModule<19>', 'bench_name': 'get_min', 'machine_name': 'esp32c3', 'cold_start': 0, 'repetitions': 100, 'ticks_per_ms': 16000}, {'mean': 850.63, 'min': 850, 'max': 851, 'options.object_size': 368, 'options.modules': {'allocator': 'vnv_heap::modules::allocator::linked_list::LinkedListAllocatorModule', 'non_resident_allocator': 'vnv_heap::modules::nonresident_allocator::buddy::NonResidentBuddyAllocatorModule<19>'}, 'options.modules.allocator': 'vnv_heap::modules::allocator::linked_list::LinkedListAllocatorModule', 'options.modules.non_resident_allocator': 'vnv_heap::modules::nonresident_allocator::buddy::NonResidentBuddyAllocatorModule<19>', 'bench_name': 'get_min', 'machine_name': 'esp32c3', 'cold_start': 0, 'repetitions': 100, 'ticks_per_ms': 16000}, {'mean': 850.78, 'min': 850, 'max': 851, 'options.object_size': 384, 'options.modules': {'allocator': 'vnv_heap::modules::allocator::linked_list::LinkedListAllocatorModule', 'non_resident_allocator': 'vnv_heap::modules::nonresident_allocator::buddy::NonResidentBuddyAllocatorModule<19>'}, 'options.modules.allocator': 'vnv_heap::modules::allocator::linked_list::LinkedListAllocatorModule', 'options.modules.non_resident_allocator': 'vnv_heap::modules::nonresident_allocator::buddy::NonResidentBuddyAllocatorModule<19>', 'bench_name': 'get_min', 'machine_name': 'esp32c3', 'cold_start': 0, 'repetitions': 100, 'ticks_per_ms': 16000}, {'mean': 851.0, 'min': 850, 'max': 852, 'options.object_size': 400, 'options.modules': {'allocator': 'vnv_heap::modules::allocator::linked_list::LinkedListAllocatorModule', 'non_resident_allocator': 'vnv_heap::modules::nonresident_allocator::buddy::NonResidentBuddyAllocatorModule<19>'}, 'options.modules.allocator': 'vnv_heap::modules::allocator::linked_list::LinkedListAllocatorModule', 'options.modules.non_resident_allocator': 'vnv_heap::modules::nonresident_allocator::buddy::NonResidentBuddyAllocatorModule<19>', 'bench_name': 'get_min', 'machine_name': 'esp32c3', 'cold_start': 0, 'repetitions': 100, 'ticks_per_ms': 16000}, {'mean': 851.36, 'min': 851, 'max': 852, 'options.object_size': 416, 'options.modules': {'allocator': 'vnv_heap::modules::allocator::linked_list::LinkedListAllocatorModule', 'non_resident_allocator': 'vnv_heap::modules::nonresident_allocator::buddy::NonResidentBuddyAllocatorModule<19>'}, 'options.modules.allocator': 'vnv_heap::modules::allocator::linked_list::LinkedListAllocatorModule', 'options.modules.non_resident_allocator': 'vnv_heap::modules::nonresident_allocator::buddy::NonResidentBuddyAllocatorModule<19>', 'bench_name': 'get_min', 'machine_name': 'esp32c3', 'cold_start': 0, 'repetitions': 100, 'ticks_per_ms': 16000}, {'mean': 978.04, 'min': 977, 'max': 1041, 'options.object_size': 432, 'options.modules': {'allocator': 'vnv_heap::modules::allocator::linked_list::LinkedListAllocatorModule', 'non_resident_allocator': 'vnv_heap::modules::nonresident_allocator::buddy::NonResidentBuddyAllocatorModule<19>'}, 'options.modules.allocator': 'vnv_heap::modules::allocator::linked_list::LinkedListAllocatorModule', 'options.modules.non_resident_allocator': 'vnv_heap::modules::nonresident_allocator::buddy::NonResidentBuddyAllocatorModule<19>', 'bench_name': 'get_min', 'machine_name': 'esp32c3', 'cold_start': 0, 'repetitions': 100, 'ticks_per_ms': 16000}, {'mean': 914.39, 'min': 914, 'max': 915, 'options.object_size': 448, 'options.modules': {'allocator': 'vnv_heap::modules::allocator::linked_list::LinkedListAllocatorModule', 'non_resident_allocator': 'vnv_heap::modules::nonresident_allocator::buddy::NonResidentBuddyAllocatorModule<19>'}, 'options.modules.allocator': 'vnv_heap::modules::allocator::linked_list::LinkedListAllocatorModule', 'options.modules.non_resident_allocator': 'vnv_heap::modules::nonresident_allocator::buddy::NonResidentBuddyAllocatorModule<19>', 'bench_name': 'get_min', 'machine_name': 'esp32c3', 'cold_start': 0, 'repetitions': 100, 'ticks_per_ms': 16000}, {'mean': 914.18, 'min': 914, 'max': 915, 'options.object_size': 464, 'options.modules': {'allocator': 'vnv_heap::modules::allocator::linked_list::LinkedListAllocatorModule', 'non_resident_allocator': 'vnv_heap::modules::nonresident_allocator::buddy::NonResidentBuddyAllocatorModule<19>'}, 'options.modules.allocator': 'vnv_heap::modules::allocator::linked_list::LinkedListAllocatorModule', 'options.modules.non_resident_allocator': 'vnv_heap::modules::nonresident_allocator::buddy::NonResidentBuddyAllocatorModule<19>', 'bench_name': 'get_min', 'machine_name': 'esp32c3', 'cold_start': 0, 'repetitions': 100, 'ticks_per_ms': 16000}, {'mean': 977.78, 'min': 977, 'max': 978, 'options.object_size': 480, 'options.modules': {'allocator': 'vnv_heap::modules::allocator::linked_list::LinkedListAllocatorModule', 'non_resident_allocator': 'vnv_heap::modules::nonresident_allocator::buddy::NonResidentBuddyAllocatorModule<19>'}, 'options.modules.allocator': 'vnv_heap::modules::allocator::linked_list::LinkedListAllocatorModule', 'options.modules.non_resident_allocator': 'vnv_heap::modules::nonresident_allocator::buddy::NonResidentBuddyAllocatorModule<19>', 'bench_name': 'get_min', 'machine_name': 'esp32c3', 'cold_start': 0, 'repetitions': 100, 'ticks_per_ms': 16000}, {'mean': 979.21, 'min': 978, 'max': 980, 'options.object_size': 496, 'options.modules': {'allocator': 'vnv_heap::modules::allocator::linked_list::LinkedListAllocatorModule', 'non_resident_allocator': 'vnv_heap::modules::nonresident_allocator::buddy::NonResidentBuddyAllocatorModule<19>'}, 'options.modules.allocator': 'vnv_heap::modules::allocator::linked_list::LinkedListAllocatorModule', 'options.modules.non_resident_allocator': 'vnv_heap::modules::nonresident_allocator::buddy::NonResidentBuddyAllocatorModule<19>', 'bench_name': 'get_min', 'machine_name': 'esp32c3', 'cold_start': 0, 'repetitions': 100, 'ticks_per_ms': 16000}, {'mean': 914.0, 'min': 914, 'max': 914, 'options.object_size': 512, 'options.modules': {'allocator': 'vnv_heap::modules::allocator::linked_list::LinkedListAllocatorModule', 'non_resident_allocator': 'vnv_heap::modules::nonresident_allocator::buddy::NonResidentBuddyAllocatorModule<19>'}, 'options.modules.allocator': 'vnv_heap::modules::allocator::linked_list::LinkedListAllocatorModule', 'options.modules.non_resident_allocator': 'vnv_heap::modules::nonresident_allocator::buddy::NonResidentBuddyAllocatorModule<19>', 'bench_name': 'get_min', 'machine_name': 'esp32c3', 'cold_start': 0, 'repetitions': 100, 'ticks_per_ms': 16000}, {'mean': 914.65, 'min': 914, 'max': 915, 'options.object_size': 528, 'options.modules': {'allocator': 'vnv_heap::modules::allocator::linked_list::LinkedListAllocatorModule', 'non_resident_allocator': 'vnv_heap::modules::nonresident_allocator::buddy::NonResidentBuddyAllocatorModule<19>'}, 'options.modules.allocator': 'vnv_heap::modules::allocator::linked_list::LinkedListAllocatorModule', 'options.modules.non_resident_allocator': 'vnv_heap::modules::nonresident_allocator::buddy::NonResidentBuddyAllocatorModule<19>', 'bench_name': 'get_min', 'machine_name': 'esp32c3', 'cold_start': 0, 'repetitions': 100, 'ticks_per_ms': 16000}, {'mean': 850.95, 'min': 850, 'max': 852, 'options.object_size': 544, 'options.modules': {'allocator': 'vnv_heap::modules::allocator::linked_list::LinkedListAllocatorModule', 'non_resident_allocator': 'vnv_heap::modules::nonresident_allocator::buddy::NonResidentBuddyAllocatorModule<19>'}, 'options.modules.allocator': 'vnv_heap::modules::allocator::linked_list::LinkedListAllocatorModule', 'options.modules.non_resident_allocator': 'vnv_heap::modules::nonresident_allocator::buddy::NonResidentBuddyAllocatorModule<19>', 'bench_name': 'get_min', 'machine_name': 'esp32c3', 'cold_start': 0, 'repetitions': 100, 'ticks_per_ms': 16000}, {'mean': 851.0, 'min': 850, 'max': 852, 'options.object_size': 560, 'options.modules': {'allocator': 'vnv_heap::modules::allocator::linked_list::LinkedListAllocatorModule', 'non_resident_allocator': 'vnv_heap::modules::nonresident_allocator::buddy::NonResidentBuddyAllocatorModule<19>'}, 'options.modules.allocator': 'vnv_heap::modules::allocator::linked_list::LinkedListAllocatorModule', 'options.modules.non_resident_allocator': 'vnv_heap::modules::nonresident_allocator::buddy::NonResidentBuddyAllocatorModule<19>', 'bench_name': 'get_min', 'machine_name': 'esp32c3', 'cold_start': 0, 'repetitions': 100, 'ticks_per_ms': 16000}, {'mean': 915.19, 'min': 915, 'max': 916, 'options.object_size': 576, 'options.modules': {'allocator': 'vnv_heap::modules::allocator::linked_list::LinkedListAllocatorModule', 'non_resident_allocator': 'vnv_heap::modules::nonresident_allocator::buddy::NonResidentBuddyAllocatorModule<19>'}, 'options.modules.allocator': 'vnv_heap::modules::allocator::linked_list::LinkedListAllocatorModule', 'options.modules.non_resident_allocator': 'vnv_heap::modules::nonresident_allocator::buddy::NonResidentBuddyAllocatorModule<19>', 'bench_name': 'get_min', 'machine_name': 'esp32c3', 'cold_start': 0, 'repetitions': 100, 'ticks_per_ms': 16000}, {'mean': 851.18, 'min': 851, 'max': 852, 'options.object_size': 592, 'options.modules': {'allocator': 'vnv_heap::modules::allocator::linked_list::LinkedListAllocatorModule', 'non_resident_allocator': 'vnv_heap::modules::nonresident_allocator::buddy::NonResidentBuddyAllocatorModule<19>'}, 'options.modules.allocator': 'vnv_heap::modules::allocator::linked_list::LinkedListAllocatorModule', 'options.modules.non_resident_allocator': 'vnv_heap::modules::nonresident_allocator::buddy::NonResidentBuddyAllocatorModule<19>', 'bench_name': 'get_min', 'machine_name': 'esp32c3', 'cold_start': 0, 'repetitions': 100, 'ticks_per_ms': 16000}, {'mean': 850.99, 'min': 850, 'max': 852, 'options.object_size': 608, 'options.modules': {'allocator': 'vnv_heap::modules::allocator::linked_list::LinkedListAllocatorModule', 'non_resident_allocator': 'vnv_heap::modules::nonresident_allocator::buddy::NonResidentBuddyAllocatorModule<19>'}, 'options.modules.allocator': 'vnv_heap::modules::allocator::linked_list::LinkedListAllocatorModule', 'options.modules.non_resident_allocator': 'vnv_heap::modules::nonresident_allocator::buddy::NonResidentBuddyAllocatorModule<19>', 'bench_name': 'get_min', 'machine_name': 'esp32c3', 'cold_start': 0, 'repetitions': 100, 'ticks_per_ms': 16000}, {'mean': 914.8, 'min': 914, 'max': 915, 'options.object_size': 624, 'options.modules': {'allocator': 'vnv_heap::modules::allocator::linked_list::LinkedListAllocatorModule', 'non_resident_allocator': 'vnv_heap::modules::nonresident_allocator::buddy::NonResidentBuddyAllocatorModule<19>'}, 'options.modules.allocator': 'vnv_heap::modules::allocator::linked_list::LinkedListAllocatorModule', 'options.modules.non_resident_allocator': 'vnv_heap::modules::nonresident_allocator::buddy::NonResidentBuddyAllocatorModule<19>', 'bench_name': 'get_min', 'machine_name': 'esp32c3', 'cold_start': 0, 'repetitions': 100, 'ticks_per_ms': 16000}, {'mean': 914.63, 'min': 914, 'max': 977, 'options.object_size': 640, 'options.modules': {'allocator': 'vnv_heap::modules::allocator::linked_list::LinkedListAllocatorModule', 'non_resident_allocator': 'vnv_heap::modules::nonresident_allocator::buddy::NonResidentBuddyAllocatorModule<19>'}, 'options.modules.allocator': 'vnv_heap::modules::allocator::linked_list::LinkedListAllocatorModule', 'options.modules.non_resident_allocator': 'vnv_heap::modules::nonresident_allocator::buddy::NonResidentBuddyAllocatorModule<19>', 'bench_name': 'get_min', 'machine_name': 'esp32c3', 'cold_start': 0, 'repetitions': 100, 'ticks_per_ms': 16000}, {'mean': 977.38, 'min': 977, 'max': 978, 'options.object_size': 656, 'options.modules': {'allocator': 'vnv_heap::modules::allocator::linked_list::LinkedListAllocatorModule', 'non_resident_allocator': 'vnv_heap::modules::nonresident_allocator::buddy::NonResidentBuddyAllocatorModule<19>'}, 'options.modules.allocator': 'vnv_heap::modules::allocator::linked_list::LinkedListAllocatorModule', 'options.modules.non_resident_allocator': 'vnv_heap::modules::nonresident_allocator::buddy::NonResidentBuddyAllocatorModule<19>', 'bench_name': 'get_min', 'machine_name': 'esp32c3', 'cold_start': 0, 'repetitions': 100, 'ticks_per_ms': 16000}, {'mean': 1041.43, 'min': 1040, 'max': 1104, 'options.object_size': 672, 'options.modules': {'allocator': 'vnv_heap::modules::allocator::linked_list::LinkedListAllocatorModule', 'non_resident_allocator': 'vnv_heap::modules::nonresident_allocator::buddy::NonResidentBuddyAllocatorModule<19>'}, 'options.modules.allocator': 'vnv_heap::modules::allocator::linked_list::LinkedListAllocatorModule', 'options.modules.non_resident_allocator': 'vnv_heap::modules::nonresident_allocator::buddy::NonResidentBuddyAllocatorModule<19>', 'bench_name': 'get_min', 'machine_name': 'esp32c3', 'cold_start': 0, 'repetitions': 100, 'ticks_per_ms': 16000}, {'mean': 914.0, 'min': 914, 'max': 914, 'options.object_size': 688, 'options.modules': {'allocator': 'vnv_heap::modules::allocator::linked_list::LinkedListAllocatorModule', 'non_resident_allocator': 'vnv_heap::modules::nonresident_allocator::buddy::NonResidentBuddyAllocatorModule<19>'}, 'options.modules.allocator': 'vnv_heap::modules::allocator::linked_list::LinkedListAllocatorModule', 'options.modules.non_resident_allocator': 'vnv_heap::modules::nonresident_allocator::buddy::NonResidentBuddyAllocatorModule<19>', 'bench_name': 'get_min', 'machine_name': 'esp32c3', 'cold_start': 0, 'repetitions': 100, 'ticks_per_ms': 16000}, {'mean': 914.16, 'min': 914, 'max': 915, 'options.object_size': 704, 'options.modules': {'allocator': 'vnv_heap::modules::allocator::linked_list::LinkedListAllocatorModule', 'non_resident_allocator': 'vnv_heap::modules::nonresident_allocator::buddy::NonResidentBuddyAllocatorModule<19>'}, 'options.modules.allocator': 'vnv_heap::modules::allocator::linked_list::LinkedListAllocatorModule', 'options.modules.non_resident_allocator': 'vnv_heap::modules::nonresident_allocator::buddy::NonResidentBuddyAllocatorModule<19>', 'bench_name': 'get_min', 'machine_name': 'esp32c3', 'cold_start': 0, 'repetitions': 100, 'ticks_per_ms': 16000}, {'mean': 914.21, 'min': 914, 'max': 915, 'options.object_size': 720, 'options.modules': {'allocator': 'vnv_heap::modules::allocator::linked_list::LinkedListAllocatorModule', 'non_resident_allocator': 'vnv_heap::modules::nonresident_allocator::buddy::NonResidentBuddyAllocatorModule<19>'}, 'options.modules.allocator': 'vnv_heap::modules::allocator::linked_list::LinkedListAllocatorModule', 'options.modules.non_resident_allocator': 'vnv_heap::modules::nonresident_allocator::buddy::NonResidentBuddyAllocatorModule<19>', 'bench_name': 'get_min', 'machine_name': 'esp32c3', 'cold_start': 0, 'repetitions': 100, 'ticks_per_ms': 16000}, {'mean': 978.2, 'min': 977, 'max': 1040, 'options.object_size': 736, 'options.modules': {'allocator': 'vnv_heap::modules::allocator::linked_list::LinkedListAllocatorModule', 'non_resident_allocator': 'vnv_heap::modules::nonresident_allocator::buddy::NonResidentBuddyAllocatorModule<19>'}, 'options.modules.allocator': 'vnv_heap::modules::allocator::linked_list::LinkedListAllocatorModule', 'options.modules.non_resident_allocator': 'vnv_heap::modules::nonresident_allocator::buddy::NonResidentBuddyAllocatorModule<19>', 'bench_name': 'get_min', 'machine_name': 'esp32c3', 'cold_start': 0, 'repetitions': 100, 'ticks_per_ms': 16000}, {'mean': 977.6, 'min': 977, 'max': 978, 'options.object_size': 752, 'options.modules': {'allocator': 'vnv_heap::modules::allocator::linked_list::LinkedListAllocatorModule', 'non_resident_allocator': 'vnv_heap::modules::nonresident_allocator::buddy::NonResidentBuddyAllocatorModule<19>'}, 'options.modules.allocator': 'vnv_heap::modules::allocator::linked_list::LinkedListAllocatorModule', 'options.modules.non_resident_allocator': 'vnv_heap::modules::nonresident_allocator::buddy::NonResidentBuddyAllocatorModule<19>', 'bench_name': 'get_min', 'machine_name': 'esp32c3', 'cold_start': 0, 'repetitions': 100, 'ticks_per_ms': 16000}, {'mean': 914.12, 'min': 914, 'max': 915, 'options.object_size': 768, 'options.modules': {'allocator': 'vnv_heap::modules::allocator::linked_list::LinkedListAllocatorModule', 'non_resident_allocator': 'vnv_heap::modules::nonresident_allocator::buddy::NonResidentBuddyAllocatorModule<19>'}, 'options.modules.allocator': 'vnv_heap::modules::allocator::linked_list::LinkedListAllocatorModule', 'options.modules.non_resident_allocator': 'vnv_heap::modules::nonresident_allocator::buddy::NonResidentBuddyAllocatorModule<19>', 'bench_name': 'get_min', 'machine_name': 'esp32c3', 'cold_start': 0, 'repetitions': 100, 'ticks_per_ms': 16000}, {'mean': 851.41, 'min': 851, 'max': 852, 'options.object_size': 784, 'options.modules': {'allocator': 'vnv_heap::modules::allocator::linked_list::LinkedListAllocatorModule', 'non_resident_allocator': 'vnv_heap::modules::nonresident_allocator::buddy::NonResidentBuddyAllocatorModule<19>'}, 'options.modules.allocator': 'vnv_heap::modules::allocator::linked_list::LinkedListAllocatorModule', 'options.modules.non_resident_allocator': 'vnv_heap::modules::nonresident_allocator::buddy::NonResidentBuddyAllocatorModule<19>', 'bench_name': 'get_min', 'machine_name': 'esp32c3', 'cold_start': 0, 'repetitions': 100, 'ticks_per_ms': 16000}, {'mean': 851.62, 'min': 851, 'max': 852, 'options.object_size': 800, 'options.modules': {'allocator': 'vnv_heap::modules::allocator::linked_list::LinkedListAllocatorModule', 'non_resident_allocator': 'vnv_heap::modules::nonresident_allocator::buddy::NonResidentBuddyAllocatorModule<19>'}, 'options.modules.allocator': 'vnv_heap::modules::allocator::linked_list::LinkedListAllocatorModule', 'options.modules.non_resident_allocator': 'vnv_heap::modules::nonresident_allocator::buddy::NonResidentBuddyAllocatorModule<19>', 'bench_name': 'get_min', 'machine_name': 'esp32c3', 'cold_start': 0, 'repetitions': 100, 'ticks_per_ms': 16000}, {'mean': 914.14, 'min': 914, 'max': 915, 'options.object_size': 816, 'options.modules': {'allocator': 'vnv_heap::modules::allocator::linked_list::LinkedListAllocatorModule', 'non_resident_allocator': 'vnv_heap::modules::nonresident_allocator::buddy::NonResidentBuddyAllocatorModule<19>'}, 'options.modules.allocator': 'vnv_heap::modules::allocator::linked_list::LinkedListAllocatorModule', 'options.modules.non_resident_allocator': 'vnv_heap::modules::nonresident_allocator::buddy::NonResidentBuddyAllocatorModule<19>', 'bench_name': 'get_min', 'machine_name': 'esp32c3', 'cold_start': 0, 'repetitions': 100, 'ticks_per_ms': 16000}, {'mean': 977.6, 'min': 977, 'max': 978, 'options.object_size': 832, 'options.modules': {'allocator': 'vnv_heap::modules::allocator::linked_list::LinkedListAllocatorModule', 'non_resident_allocator': 'vnv_heap::modules::nonresident_allocator::buddy::NonResidentBuddyAllocatorModule<19>'}, 'options.modules.allocator': 'vnv_heap::modules::allocator::linked_list::LinkedListAllocatorModule', 'options.modules.non_resident_allocator': 'vnv_heap::modules::nonresident_allocator::buddy::NonResidentBuddyAllocatorModule<19>', 'bench_name': 'get_min', 'machine_name': 'esp32c3', 'cold_start': 0, 'repetitions': 100, 'ticks_per_ms': 16000}, {'mean': 979.58, 'min': 979, 'max': 980, 'options.object_size': 848, 'options.modules': {'allocator': 'vnv_heap::modules::allocator::linked_list::LinkedListAllocatorModule', 'non_resident_allocator': 'vnv_heap::modules::nonresident_allocator::buddy::NonResidentBuddyAllocatorModule<19>'}, 'options.modules.allocator': 'vnv_heap::modules::allocator::linked_list::LinkedListAllocatorModule', 'options.modules.non_resident_allocator': 'vnv_heap::modules::nonresident_allocator::buddy::NonResidentBuddyAllocatorModule<19>', 'bench_name': 'get_min', 'machine_name': 'esp32c3', 'cold_start': 0, 'repetitions': 100, 'ticks_per_ms': 16000}, {'mean': 978.07, 'min': 977, 'max': 1041, 'options.object_size': 864, 'options.modules': {'allocator': 'vnv_heap::modules::allocator::linked_list::LinkedListAllocatorModule', 'non_resident_allocator': 'vnv_heap::modules::nonresident_allocator::buddy::NonResidentBuddyAllocatorModule<19>'}, 'options.modules.allocator': 'vnv_heap::modules::allocator::linked_list::LinkedListAllocatorModule', 'options.modules.non_resident_allocator': 'vnv_heap::modules::nonresident_allocator::buddy::NonResidentBuddyAllocatorModule<19>', 'bench_name': 'get_min', 'machine_name': 'esp32c3', 'cold_start': 0, 'repetitions': 100, 'ticks_per_ms': 16000}, {'mean': 914.63, 'min': 914, 'max': 977, 'options.object_size': 880, 'options.modules': {'allocator': 'vnv_heap::modules::allocator::linked_list::LinkedListAllocatorModule', 'non_resident_allocator': 'vnv_heap::modules::nonresident_allocator::buddy::NonResidentBuddyAllocatorModule<19>'}, 'options.modules.allocator': 'vnv_heap::modules::allocator::linked_list::LinkedListAllocatorModule', 'options.modules.non_resident_allocator': 'vnv_heap::modules::nonresident_allocator::buddy::NonResidentBuddyAllocatorModule<19>', 'bench_name': 'get_min', 'machine_name': 'esp32c3', 'cold_start': 0, 'repetitions': 100, 'ticks_per_ms': 16000}, {'mean': 914.0, 'min': 914, 'max': 914, 'options.object_size': 896, 'options.modules': {'allocator': 'vnv_heap::modules::allocator::linked_list::LinkedListAllocatorModule', 'non_resident_allocator': 'vnv_heap::modules::nonresident_allocator::buddy::NonResidentBuddyAllocatorModule<19>'}, 'options.modules.allocator': 'vnv_heap::modules::allocator::linked_list::LinkedListAllocatorModule', 'options.modules.non_resident_allocator': 'vnv_heap::modules::nonresident_allocator::buddy::NonResidentBuddyAllocatorModule<19>', 'bench_name': 'get_min', 'machine_name': 'esp32c3', 'cold_start': 0, 'repetitions': 100, 'ticks_per_ms': 16000}, {'mean': 914.44, 'min': 914, 'max': 915, 'options.object_size': 912, 'options.modules': {'allocator': 'vnv_heap::modules::allocator::linked_list::LinkedListAllocatorModule', 'non_resident_allocator': 'vnv_heap::modules::nonresident_allocator::buddy::NonResidentBuddyAllocatorModule<19>'}, 'options.modules.allocator': 'vnv_heap::modules::allocator::linked_list::LinkedListAllocatorModule', 'options.modules.non_resident_allocator': 'vnv_heap::modules::nonresident_allocator::buddy::NonResidentBuddyAllocatorModule<19>', 'bench_name': 'get_min', 'machine_name': 'esp32c3', 'cold_start': 0, 'repetitions': 100, 'ticks_per_ms': 16000}, {'mean': 977.4, 'min': 977, 'max': 978, 'options.object_size': 928, 'options.modules': {'allocator': 'vnv_heap::modules::allocator::linked_list::LinkedListAllocatorModule', 'non_resident_allocator': 'vnv_heap::modules::nonresident_allocator::buddy::NonResidentBuddyAllocatorModule<19>'}, 'options.modules.allocator': 'vnv_heap::modules::allocator::linked_list::LinkedListAllocatorModule', 'options.modules.non_resident_allocator': 'vnv_heap::modules::nonresident_allocator::buddy::NonResidentBuddyAllocatorModule<19>', 'bench_name': 'get_min', 'machine_name': 'esp32c3', 'cold_start': 0, 'repetitions': 100, 'ticks_per_ms': 16000}, {'mean': 916.02, 'min': 915, 'max': 979, 'options.object_size': 944, 'options.modules': {'allocator': 'vnv_heap::modules::allocator::linked_list::LinkedListAllocatorModule', 'non_resident_allocator': 'vnv_heap::modules::nonresident_allocator::buddy::NonResidentBuddyAllocatorModule<19>'}, 'options.modules.allocator': 'vnv_heap::modules::allocator::linked_list::LinkedListAllocatorModule', 'options.modules.non_resident_allocator': 'vnv_heap::modules::nonresident_allocator::buddy::NonResidentBuddyAllocatorModule<19>', 'bench_name': 'get_min', 'machine_name': 'esp32c3', 'cold_start': 0, 'repetitions': 100, 'ticks_per_ms': 16000}, {'mean': 978.02, 'min': 977, 'max': 1041, 'options.object_size': 960, 'options.modules': {'allocator': 'vnv_heap::modules::allocator::linked_list::LinkedListAllocatorModule', 'non_resident_allocator': 'vnv_heap::modules::nonresident_allocator::buddy::NonResidentBuddyAllocatorModule<19>'}, 'options.modules.allocator': 'vnv_heap::modules::allocator::linked_list::LinkedListAllocatorModule', 'options.modules.non_resident_allocator': 'vnv_heap::modules::nonresident_allocator::buddy::NonResidentBuddyAllocatorModule<19>', 'bench_name': 'get_min', 'machine_name': 'esp32c3', 'cold_start': 0, 'repetitions': 100, 'ticks_per_ms': 16000}, {'mean': 851.81, 'min': 851, 'max': 852, 'options.object_size': 976, 'options.modules': {'allocator': 'vnv_heap::modules::allocator::linked_list::LinkedListAllocatorModule', 'non_resident_allocator': 'vnv_heap::modules::nonresident_allocator::buddy::NonResidentBuddyAllocatorModule<19>'}, 'options.modules.allocator': 'vnv_heap::modules::allocator::linked_list::LinkedListAllocatorModule', 'options.modules.non_resident_allocator': 'vnv_heap::modules::nonresident_allocator::buddy::NonResidentBuddyAllocatorModule<19>', 'bench_name': 'get_min', 'machine_name': 'esp32c3', 'cold_start': 0, 'repetitions': 100, 'ticks_per_ms': 16000}, {'mean': 851.0, 'min': 850, 'max': 852, 'options.object_size': 992, 'options.modules': {'allocator': 'vnv_heap::modules::allocator::linked_list::LinkedListAllocatorModule', 'non_resident_allocator': 'vnv_heap::modules::nonresident_allocator::buddy::NonResidentBuddyAllocatorModule<19>'}, 'options.modules.allocator': 'vnv_heap::modules::allocator::linked_list::LinkedListAllocatorModule', 'options.modules.non_resident_allocator': 'vnv_heap::modules::nonresident_allocator::buddy::NonResidentBuddyAllocatorModule<19>', 'bench_name': 'get_min', 'machine_name': 'esp32c3', 'cold_start': 0, 'repetitions': 100, 'ticks_per_ms': 16000}, {'mean': 851.01, 'min': 850, 'max': 852, 'options.object_size': 1008, 'options.modules': {'allocator': 'vnv_heap::modules::allocator::linked_list::LinkedListAllocatorModule', 'non_resident_allocator': 'vnv_heap::modules::nonresident_allocator::buddy::NonResidentBuddyAllocatorModule<19>'}, 'options.modules.allocator': 'vnv_heap::modules::allocator::linked_list::LinkedListAllocatorModule', 'options.modules.non_resident_allocator': 'vnv_heap::modules::nonresident_allocator::buddy::NonResidentBuddyAllocatorModule<19>', 'bench_name': 'get_min', 'machine_name': 'esp32c3', 'cold_start': 0, 'repetitions': 100, 'ticks_per_ms': 16000}, {'mean': 914.15, 'min': 914, 'max': 915, 'options.object_size': 1024, 'options.modules': {'allocator': 'vnv_heap::modules::allocator::linked_list::LinkedListAllocatorModule', 'non_resident_allocator': 'vnv_heap::modules::nonresident_allocator::buddy::NonResidentBuddyAllocatorModule<19>'}, 'options.modules.allocator': 'vnv_heap::modules::allocator::linked_list::LinkedListAllocatorModule', 'options.modules.non_resident_allocator': 'vnv_heap::modules::nonresident_allocator::buddy::NonResidentBuddyAllocatorModule<19>', 'bench_name': 'get_min', 'machine_name': 'esp32c3', 'cold_start': 0, 'repetitions': 100, 'ticks_per_ms': 16000}]\n",
      "[{'mean': 9218.62, 'min': 9218, 'max': 9219, 'options.object_size': 8, 'options.modules': {'allocator': 'vnv_heap::modules::allocator::linked_list::LinkedListAllocatorModule', 'non_resident_allocator': 'vnv_heap::modules::nonresident_allocator::buddy::NonResidentBuddyAllocatorModule<19>'}, 'options.modules.allocator': 'vnv_heap::modules::allocator::linked_list::LinkedListAllocatorModule', 'options.modules.non_resident_allocator': 'vnv_heap::modules::nonresident_allocator::buddy::NonResidentBuddyAllocatorModule<19>', 'bench_name': 'get_min_max', 'machine_name': 'esp32c3', 'cold_start': 0, 'repetitions': 100, 'ticks_per_ms': 16000}, {'mean': 10627.22, 'min': 10627, 'max': 10628, 'options.object_size': 16, 'options.modules': {'allocator': 'vnv_heap::modules::allocator::linked_list::LinkedListAllocatorModule', 'non_resident_allocator': 'vnv_heap::modules::nonresident_allocator::buddy::NonResidentBuddyAllocatorModule<19>'}, 'options.modules.allocator': 'vnv_heap::modules::allocator::linked_list::LinkedListAllocatorModule', 'options.modules.non_resident_allocator': 'vnv_heap::modules::nonresident_allocator::buddy::NonResidentBuddyAllocatorModule<19>', 'bench_name': 'get_min_max', 'machine_name': 'esp32c3', 'cold_start': 0, 'repetitions': 100, 'ticks_per_ms': 16000}, {'mean': 13518.55, 'min': 13518, 'max': 13519, 'options.object_size': 32, 'options.modules': {'allocator': 'vnv_heap::modules::allocator::linked_list::LinkedListAllocatorModule', 'non_resident_allocator': 'vnv_heap::modules::nonresident_allocator::buddy::NonResidentBuddyAllocatorModule<19>'}, 'options.modules.allocator': 'vnv_heap::modules::allocator::linked_list::LinkedListAllocatorModule', 'options.modules.non_resident_allocator': 'vnv_heap::modules::nonresident_allocator::buddy::NonResidentBuddyAllocatorModule<19>', 'bench_name': 'get_min_max', 'machine_name': 'esp32c3', 'cold_start': 0, 'repetitions': 100, 'ticks_per_ms': 16000}, {'mean': 16532.41, 'min': 16532, 'max': 16533, 'options.object_size': 48, 'options.modules': {'allocator': 'vnv_heap::modules::allocator::linked_list::LinkedListAllocatorModule', 'non_resident_allocator': 'vnv_heap::modules::nonresident_allocator::buddy::NonResidentBuddyAllocatorModule<19>'}, 'options.modules.allocator': 'vnv_heap::modules::allocator::linked_list::LinkedListAllocatorModule', 'options.modules.non_resident_allocator': 'vnv_heap::modules::nonresident_allocator::buddy::NonResidentBuddyAllocatorModule<19>', 'bench_name': 'get_min_max', 'machine_name': 'esp32c3', 'cold_start': 0, 'repetitions': 100, 'ticks_per_ms': 16000}, {'mean': 19442.17, 'min': 19442, 'max': 19443, 'options.object_size': 64, 'options.modules': {'allocator': 'vnv_heap::modules::allocator::linked_list::LinkedListAllocatorModule', 'non_resident_allocator': 'vnv_heap::modules::nonresident_allocator::buddy::NonResidentBuddyAllocatorModule<19>'}, 'options.modules.allocator': 'vnv_heap::modules::allocator::linked_list::LinkedListAllocatorModule', 'options.modules.non_resident_allocator': 'vnv_heap::modules::nonresident_allocator::buddy::NonResidentBuddyAllocatorModule<19>', 'bench_name': 'get_min_max', 'machine_name': 'esp32c3', 'cold_start': 0, 'repetitions': 100, 'ticks_per_ms': 16000}, {'mean': 22475.52, 'min': 22474, 'max': 22524, 'options.object_size': 80, 'options.modules': {'allocator': 'vnv_heap::modules::allocator::linked_list::LinkedListAllocatorModule', 'non_resident_allocator': 'vnv_heap::modules::nonresident_allocator::buddy::NonResidentBuddyAllocatorModule<19>'}, 'options.modules.allocator': 'vnv_heap::modules::allocator::linked_list::LinkedListAllocatorModule', 'options.modules.non_resident_allocator': 'vnv_heap::modules::nonresident_allocator::buddy::NonResidentBuddyAllocatorModule<19>', 'bench_name': 'get_min_max', 'machine_name': 'esp32c3', 'cold_start': 0, 'repetitions': 100, 'ticks_per_ms': 16000}, {'mean': 25341.89, 'min': 25340, 'max': 25429, 'options.object_size': 96, 'options.modules': {'allocator': 'vnv_heap::modules::allocator::linked_list::LinkedListAllocatorModule', 'non_resident_allocator': 'vnv_heap::modules::nonresident_allocator::buddy::NonResidentBuddyAllocatorModule<19>'}, 'options.modules.allocator': 'vnv_heap::modules::allocator::linked_list::LinkedListAllocatorModule', 'options.modules.non_resident_allocator': 'vnv_heap::modules::nonresident_allocator::buddy::NonResidentBuddyAllocatorModule<19>', 'bench_name': 'get_min_max', 'machine_name': 'esp32c3', 'cold_start': 0, 'repetitions': 100, 'ticks_per_ms': 16000}, {'mean': 28351.61, 'min': 28351, 'max': 28352, 'options.object_size': 112, 'options.modules': {'allocator': 'vnv_heap::modules::allocator::linked_list::LinkedListAllocatorModule', 'non_resident_allocator': 'vnv_heap::modules::nonresident_allocator::buddy::NonResidentBuddyAllocatorModule<19>'}, 'options.modules.allocator': 'vnv_heap::modules::allocator::linked_list::LinkedListAllocatorModule', 'options.modules.non_resident_allocator': 'vnv_heap::modules::nonresident_allocator::buddy::NonResidentBuddyAllocatorModule<19>', 'bench_name': 'get_min_max', 'machine_name': 'esp32c3', 'cold_start': 0, 'repetitions': 100, 'ticks_per_ms': 16000}, {'mean': 31258.45, 'min': 31257, 'max': 31326, 'options.object_size': 128, 'options.modules': {'allocator': 'vnv_heap::modules::allocator::linked_list::LinkedListAllocatorModule', 'non_resident_allocator': 'vnv_heap::modules::nonresident_allocator::buddy::NonResidentBuddyAllocatorModule<19>'}, 'options.modules.allocator': 'vnv_heap::modules::allocator::linked_list::LinkedListAllocatorModule', 'options.modules.non_resident_allocator': 'vnv_heap::modules::nonresident_allocator::buddy::NonResidentBuddyAllocatorModule<19>', 'bench_name': 'get_min_max', 'machine_name': 'esp32c3', 'cold_start': 0, 'repetitions': 100, 'ticks_per_ms': 16000}, {'mean': 34257.31, 'min': 34256, 'max': 34320, 'options.object_size': 144, 'options.modules': {'allocator': 'vnv_heap::modules::allocator::linked_list::LinkedListAllocatorModule', 'non_resident_allocator': 'vnv_heap::modules::nonresident_allocator::buddy::NonResidentBuddyAllocatorModule<19>'}, 'options.modules.allocator': 'vnv_heap::modules::allocator::linked_list::LinkedListAllocatorModule', 'options.modules.non_resident_allocator': 'vnv_heap::modules::nonresident_allocator::buddy::NonResidentBuddyAllocatorModule<19>', 'bench_name': 'get_min_max', 'machine_name': 'esp32c3', 'cold_start': 0, 'repetitions': 100, 'ticks_per_ms': 16000}, {'mean': 37211.21, 'min': 37210, 'max': 37274, 'options.object_size': 160, 'options.modules': {'allocator': 'vnv_heap::modules::allocator::linked_list::LinkedListAllocatorModule', 'non_resident_allocator': 'vnv_heap::modules::nonresident_allocator::buddy::NonResidentBuddyAllocatorModule<19>'}, 'options.modules.allocator': 'vnv_heap::modules::allocator::linked_list::LinkedListAllocatorModule', 'options.modules.non_resident_allocator': 'vnv_heap::modules::nonresident_allocator::buddy::NonResidentBuddyAllocatorModule<19>', 'bench_name': 'get_min_max', 'machine_name': 'esp32c3', 'cold_start': 0, 'repetitions': 100, 'ticks_per_ms': 16000}, {'mean': 40165.62, 'min': 40165, 'max': 40166, 'options.object_size': 176, 'options.modules': {'allocator': 'vnv_heap::modules::allocator::linked_list::LinkedListAllocatorModule', 'non_resident_allocator': 'vnv_heap::modules::nonresident_allocator::buddy::NonResidentBuddyAllocatorModule<19>'}, 'options.modules.allocator': 'vnv_heap::modules::allocator::linked_list::LinkedListAllocatorModule', 'options.modules.non_resident_allocator': 'vnv_heap::modules::nonresident_allocator::buddy::NonResidentBuddyAllocatorModule<19>', 'bench_name': 'get_min_max', 'machine_name': 'esp32c3', 'cold_start': 0, 'repetitions': 100, 'ticks_per_ms': 16000}, {'mean': 43121.45, 'min': 43120, 'max': 43184, 'options.object_size': 192, 'options.modules': {'allocator': 'vnv_heap::modules::allocator::linked_list::LinkedListAllocatorModule', 'non_resident_allocator': 'vnv_heap::modules::nonresident_allocator::buddy::NonResidentBuddyAllocatorModule<19>'}, 'options.modules.allocator': 'vnv_heap::modules::allocator::linked_list::LinkedListAllocatorModule', 'options.modules.non_resident_allocator': 'vnv_heap::modules::nonresident_allocator::buddy::NonResidentBuddyAllocatorModule<19>', 'bench_name': 'get_min_max', 'machine_name': 'esp32c3', 'cold_start': 0, 'repetitions': 100, 'ticks_per_ms': 16000}, {'mean': 46077.06, 'min': 46076, 'max': 46140, 'options.object_size': 208, 'options.modules': {'allocator': 'vnv_heap::modules::allocator::linked_list::LinkedListAllocatorModule', 'non_resident_allocator': 'vnv_heap::modules::nonresident_allocator::buddy::NonResidentBuddyAllocatorModule<19>'}, 'options.modules.allocator': 'vnv_heap::modules::allocator::linked_list::LinkedListAllocatorModule', 'options.modules.non_resident_allocator': 'vnv_heap::modules::nonresident_allocator::buddy::NonResidentBuddyAllocatorModule<19>', 'bench_name': 'get_min_max', 'machine_name': 'esp32c3', 'cold_start': 0, 'repetitions': 100, 'ticks_per_ms': 16000}, {'mean': 49014.97, 'min': 49014, 'max': 49070, 'options.object_size': 224, 'options.modules': {'allocator': 'vnv_heap::modules::allocator::linked_list::LinkedListAllocatorModule', 'non_resident_allocator': 'vnv_heap::modules::nonresident_allocator::buddy::NonResidentBuddyAllocatorModule<19>'}, 'options.modules.allocator': 'vnv_heap::modules::allocator::linked_list::LinkedListAllocatorModule', 'options.modules.non_resident_allocator': 'vnv_heap::modules::nonresident_allocator::buddy::NonResidentBuddyAllocatorModule<19>', 'bench_name': 'get_min_max', 'machine_name': 'esp32c3', 'cold_start': 0, 'repetitions': 100, 'ticks_per_ms': 16000}, {'mean': 51949.01, 'min': 51948, 'max': 51950, 'options.object_size': 240, 'options.modules': {'allocator': 'vnv_heap::modules::allocator::linked_list::LinkedListAllocatorModule', 'non_resident_allocator': 'vnv_heap::modules::nonresident_allocator::buddy::NonResidentBuddyAllocatorModule<19>'}, 'options.modules.allocator': 'vnv_heap::modules::allocator::linked_list::LinkedListAllocatorModule', 'options.modules.non_resident_allocator': 'vnv_heap::modules::nonresident_allocator::buddy::NonResidentBuddyAllocatorModule<19>', 'bench_name': 'get_min_max', 'machine_name': 'esp32c3', 'cold_start': 0, 'repetitions': 100, 'ticks_per_ms': 16000}, {'mean': 54893.81, 'min': 54892, 'max': 54974, 'options.object_size': 256, 'options.modules': {'allocator': 'vnv_heap::modules::allocator::linked_list::LinkedListAllocatorModule', 'non_resident_allocator': 'vnv_heap::modules::nonresident_allocator::buddy::NonResidentBuddyAllocatorModule<19>'}, 'options.modules.allocator': 'vnv_heap::modules::allocator::linked_list::LinkedListAllocatorModule', 'options.modules.non_resident_allocator': 'vnv_heap::modules::nonresident_allocator::buddy::NonResidentBuddyAllocatorModule<19>', 'bench_name': 'get_min_max', 'machine_name': 'esp32c3', 'cold_start': 0, 'repetitions': 100, 'ticks_per_ms': 16000}, {'mean': 57846.61, 'min': 57846, 'max': 57847, 'options.object_size': 272, 'options.modules': {'allocator': 'vnv_heap::modules::allocator::linked_list::LinkedListAllocatorModule', 'non_resident_allocator': 'vnv_heap::modules::nonresident_allocator::buddy::NonResidentBuddyAllocatorModule<19>'}, 'options.modules.allocator': 'vnv_heap::modules::allocator::linked_list::LinkedListAllocatorModule', 'options.modules.non_resident_allocator': 'vnv_heap::modules::nonresident_allocator::buddy::NonResidentBuddyAllocatorModule<19>', 'bench_name': 'get_min_max', 'machine_name': 'esp32c3', 'cold_start': 0, 'repetitions': 100, 'ticks_per_ms': 16000}, {'mean': 60852.64, 'min': 60852, 'max': 60916, 'options.object_size': 288, 'options.modules': {'allocator': 'vnv_heap::modules::allocator::linked_list::LinkedListAllocatorModule', 'non_resident_allocator': 'vnv_heap::modules::nonresident_allocator::buddy::NonResidentBuddyAllocatorModule<19>'}, 'options.modules.allocator': 'vnv_heap::modules::allocator::linked_list::LinkedListAllocatorModule', 'options.modules.non_resident_allocator': 'vnv_heap::modules::nonresident_allocator::buddy::NonResidentBuddyAllocatorModule<19>', 'bench_name': 'get_min_max', 'machine_name': 'esp32c3', 'cold_start': 0, 'repetitions': 100, 'ticks_per_ms': 16000}, {'mean': 63808.03, 'min': 63807, 'max': 63871, 'options.object_size': 304, 'options.modules': {'allocator': 'vnv_heap::modules::allocator::linked_list::LinkedListAllocatorModule', 'non_resident_allocator': 'vnv_heap::modules::nonresident_allocator::buddy::NonResidentBuddyAllocatorModule<19>'}, 'options.modules.allocator': 'vnv_heap::modules::allocator::linked_list::LinkedListAllocatorModule', 'options.modules.non_resident_allocator': 'vnv_heap::modules::nonresident_allocator::buddy::NonResidentBuddyAllocatorModule<19>', 'bench_name': 'get_min_max', 'machine_name': 'esp32c3', 'cold_start': 0, 'repetitions': 100, 'ticks_per_ms': 16000}, {'mean': 66825.79, 'min': 66825, 'max': 66826, 'options.object_size': 320, 'options.modules': {'allocator': 'vnv_heap::modules::allocator::linked_list::LinkedListAllocatorModule', 'non_resident_allocator': 'vnv_heap::modules::nonresident_allocator::buddy::NonResidentBuddyAllocatorModule<19>'}, 'options.modules.allocator': 'vnv_heap::modules::allocator::linked_list::LinkedListAllocatorModule', 'options.modules.non_resident_allocator': 'vnv_heap::modules::nonresident_allocator::buddy::NonResidentBuddyAllocatorModule<19>', 'bench_name': 'get_min_max', 'machine_name': 'esp32c3', 'cold_start': 0, 'repetitions': 100, 'ticks_per_ms': 16000}, {'mean': 69675.67, 'min': 69674, 'max': 69743, 'options.object_size': 336, 'options.modules': {'allocator': 'vnv_heap::modules::allocator::linked_list::LinkedListAllocatorModule', 'non_resident_allocator': 'vnv_heap::modules::nonresident_allocator::buddy::NonResidentBuddyAllocatorModule<19>'}, 'options.modules.allocator': 'vnv_heap::modules::allocator::linked_list::LinkedListAllocatorModule', 'options.modules.non_resident_allocator': 'vnv_heap::modules::nonresident_allocator::buddy::NonResidentBuddyAllocatorModule<19>', 'bench_name': 'get_min_max', 'machine_name': 'esp32c3', 'cold_start': 0, 'repetitions': 100, 'ticks_per_ms': 16000}, {'mean': 72673.12, 'min': 72672, 'max': 72705, 'options.object_size': 352, 'options.modules': {'allocator': 'vnv_heap::modules::allocator::linked_list::LinkedListAllocatorModule', 'non_resident_allocator': 'vnv_heap::modules::nonresident_allocator::buddy::NonResidentBuddyAllocatorModule<19>'}, 'options.modules.allocator': 'vnv_heap::modules::allocator::linked_list::LinkedListAllocatorModule', 'options.modules.non_resident_allocator': 'vnv_heap::modules::nonresident_allocator::buddy::NonResidentBuddyAllocatorModule<19>', 'bench_name': 'get_min_max', 'machine_name': 'esp32c3', 'cold_start': 0, 'repetitions': 100, 'ticks_per_ms': 16000}, {'mean': 75579.71, 'min': 75578, 'max': 75653, 'options.object_size': 368, 'options.modules': {'allocator': 'vnv_heap::modules::allocator::linked_list::LinkedListAllocatorModule', 'non_resident_allocator': 'vnv_heap::modules::nonresident_allocator::buddy::NonResidentBuddyAllocatorModule<19>'}, 'options.modules.allocator': 'vnv_heap::modules::allocator::linked_list::LinkedListAllocatorModule', 'options.modules.non_resident_allocator': 'vnv_heap::modules::nonresident_allocator::buddy::NonResidentBuddyAllocatorModule<19>', 'bench_name': 'get_min_max', 'machine_name': 'esp32c3', 'cold_start': 0, 'repetitions': 100, 'ticks_per_ms': 16000}, {'mean': 78583.85, 'min': 78583, 'max': 78646, 'options.object_size': 384, 'options.modules': {'allocator': 'vnv_heap::modules::allocator::linked_list::LinkedListAllocatorModule', 'non_resident_allocator': 'vnv_heap::modules::nonresident_allocator::buddy::NonResidentBuddyAllocatorModule<19>'}, 'options.modules.allocator': 'vnv_heap::modules::allocator::linked_list::LinkedListAllocatorModule', 'options.modules.non_resident_allocator': 'vnv_heap::modules::nonresident_allocator::buddy::NonResidentBuddyAllocatorModule<19>', 'bench_name': 'get_min_max', 'machine_name': 'esp32c3', 'cold_start': 0, 'repetitions': 100, 'ticks_per_ms': 16000}, {'mean': 81538.79, 'min': 81538, 'max': 81539, 'options.object_size': 400, 'options.modules': {'allocator': 'vnv_heap::modules::allocator::linked_list::LinkedListAllocatorModule', 'non_resident_allocator': 'vnv_heap::modules::nonresident_allocator::buddy::NonResidentBuddyAllocatorModule<19>'}, 'options.modules.allocator': 'vnv_heap::modules::allocator::linked_list::LinkedListAllocatorModule', 'options.modules.non_resident_allocator': 'vnv_heap::modules::nonresident_allocator::buddy::NonResidentBuddyAllocatorModule<19>', 'bench_name': 'get_min_max', 'machine_name': 'esp32c3', 'cold_start': 0, 'repetitions': 100, 'ticks_per_ms': 16000}, {'mean': 84465.09, 'min': 84464, 'max': 84527, 'options.object_size': 416, 'options.modules': {'allocator': 'vnv_heap::modules::allocator::linked_list::LinkedListAllocatorModule', 'non_resident_allocator': 'vnv_heap::modules::nonresident_allocator::buddy::NonResidentBuddyAllocatorModule<19>'}, 'options.modules.allocator': 'vnv_heap::modules::allocator::linked_list::LinkedListAllocatorModule', 'options.modules.non_resident_allocator': 'vnv_heap::modules::nonresident_allocator::buddy::NonResidentBuddyAllocatorModule<19>', 'bench_name': 'get_min_max', 'machine_name': 'esp32c3', 'cold_start': 0, 'repetitions': 100, 'ticks_per_ms': 16000}, {'mean': 87398.35, 'min': 87398, 'max': 87399, 'options.object_size': 432, 'options.modules': {'allocator': 'vnv_heap::modules::allocator::linked_list::LinkedListAllocatorModule', 'non_resident_allocator': 'vnv_heap::modules::nonresident_allocator::buddy::NonResidentBuddyAllocatorModule<19>'}, 'options.modules.allocator': 'vnv_heap::modules::allocator::linked_list::LinkedListAllocatorModule', 'options.modules.non_resident_allocator': 'vnv_heap::modules::nonresident_allocator::buddy::NonResidentBuddyAllocatorModule<19>', 'bench_name': 'get_min_max', 'machine_name': 'esp32c3', 'cold_start': 0, 'repetitions': 100, 'ticks_per_ms': 16000}, {'mean': 90407.0, 'min': 90406, 'max': 90506, 'options.object_size': 448, 'options.modules': {'allocator': 'vnv_heap::modules::allocator::linked_list::LinkedListAllocatorModule', 'non_resident_allocator': 'vnv_heap::modules::nonresident_allocator::buddy::NonResidentBuddyAllocatorModule<19>'}, 'options.modules.allocator': 'vnv_heap::modules::allocator::linked_list::LinkedListAllocatorModule', 'options.modules.non_resident_allocator': 'vnv_heap::modules::nonresident_allocator::buddy::NonResidentBuddyAllocatorModule<19>', 'bench_name': 'get_min_max', 'machine_name': 'esp32c3', 'cold_start': 0, 'repetitions': 100, 'ticks_per_ms': 16000}, {'mean': 93360.02, 'min': 93359, 'max': 93423, 'options.object_size': 464, 'options.modules': {'allocator': 'vnv_heap::modules::allocator::linked_list::LinkedListAllocatorModule', 'non_resident_allocator': 'vnv_heap::modules::nonresident_allocator::buddy::NonResidentBuddyAllocatorModule<19>'}, 'options.modules.allocator': 'vnv_heap::modules::allocator::linked_list::LinkedListAllocatorModule', 'options.modules.non_resident_allocator': 'vnv_heap::modules::nonresident_allocator::buddy::NonResidentBuddyAllocatorModule<19>', 'bench_name': 'get_min_max', 'machine_name': 'esp32c3', 'cold_start': 0, 'repetitions': 100, 'ticks_per_ms': 16000}, {'mean': 96314.76, 'min': 96314, 'max': 96315, 'options.object_size': 480, 'options.modules': {'allocator': 'vnv_heap::modules::allocator::linked_list::LinkedListAllocatorModule', 'non_resident_allocator': 'vnv_heap::modules::nonresident_allocator::buddy::NonResidentBuddyAllocatorModule<19>'}, 'options.modules.allocator': 'vnv_heap::modules::allocator::linked_list::LinkedListAllocatorModule', 'options.modules.non_resident_allocator': 'vnv_heap::modules::nonresident_allocator::buddy::NonResidentBuddyAllocatorModule<19>', 'bench_name': 'get_min_max', 'machine_name': 'esp32c3', 'cold_start': 0, 'repetitions': 100, 'ticks_per_ms': 16000}, {'mean': 99220.19, 'min': 99220, 'max': 99221, 'options.object_size': 496, 'options.modules': {'allocator': 'vnv_heap::modules::allocator::linked_list::LinkedListAllocatorModule', 'non_resident_allocator': 'vnv_heap::modules::nonresident_allocator::buddy::NonResidentBuddyAllocatorModule<19>'}, 'options.modules.allocator': 'vnv_heap::modules::allocator::linked_list::LinkedListAllocatorModule', 'options.modules.non_resident_allocator': 'vnv_heap::modules::nonresident_allocator::buddy::NonResidentBuddyAllocatorModule<19>', 'bench_name': 'get_min_max', 'machine_name': 'esp32c3', 'cold_start': 0, 'repetitions': 100, 'ticks_per_ms': 16000}, {'mean': 102174.4, 'min': 102174, 'max': 102175, 'options.object_size': 512, 'options.modules': {'allocator': 'vnv_heap::modules::allocator::linked_list::LinkedListAllocatorModule', 'non_resident_allocator': 'vnv_heap::modules::nonresident_allocator::buddy::NonResidentBuddyAllocatorModule<19>'}, 'options.modules.allocator': 'vnv_heap::modules::allocator::linked_list::LinkedListAllocatorModule', 'options.modules.non_resident_allocator': 'vnv_heap::modules::nonresident_allocator::buddy::NonResidentBuddyAllocatorModule<19>', 'bench_name': 'get_min_max', 'machine_name': 'esp32c3', 'cold_start': 0, 'repetitions': 100, 'ticks_per_ms': 16000}, {'mean': 105136.8, 'min': 105136, 'max': 105137, 'options.object_size': 528, 'options.modules': {'allocator': 'vnv_heap::modules::allocator::linked_list::LinkedListAllocatorModule', 'non_resident_allocator': 'vnv_heap::modules::nonresident_allocator::buddy::NonResidentBuddyAllocatorModule<19>'}, 'options.modules.allocator': 'vnv_heap::modules::allocator::linked_list::LinkedListAllocatorModule', 'options.modules.non_resident_allocator': 'vnv_heap::modules::nonresident_allocator::buddy::NonResidentBuddyAllocatorModule<19>', 'bench_name': 'get_min_max', 'machine_name': 'esp32c3', 'cold_start': 0, 'repetitions': 100, 'ticks_per_ms': 16000}, {'mean': 108091.41, 'min': 108091, 'max': 108092, 'options.object_size': 544, 'options.modules': {'allocator': 'vnv_heap::modules::allocator::linked_list::LinkedListAllocatorModule', 'non_resident_allocator': 'vnv_heap::modules::nonresident_allocator::buddy::NonResidentBuddyAllocatorModule<19>'}, 'options.modules.allocator': 'vnv_heap::modules::allocator::linked_list::LinkedListAllocatorModule', 'options.modules.non_resident_allocator': 'vnv_heap::modules::nonresident_allocator::buddy::NonResidentBuddyAllocatorModule<19>', 'bench_name': 'get_min_max', 'machine_name': 'esp32c3', 'cold_start': 0, 'repetitions': 100, 'ticks_per_ms': 16000}, {'mean': 111097.17, 'min': 111097, 'max': 111098, 'options.object_size': 560, 'options.modules': {'allocator': 'vnv_heap::modules::allocator::linked_list::LinkedListAllocatorModule', 'non_resident_allocator': 'vnv_heap::modules::nonresident_allocator::buddy::NonResidentBuddyAllocatorModule<19>'}, 'options.modules.allocator': 'vnv_heap::modules::allocator::linked_list::LinkedListAllocatorModule', 'options.modules.non_resident_allocator': 'vnv_heap::modules::nonresident_allocator::buddy::NonResidentBuddyAllocatorModule<19>', 'bench_name': 'get_min_max', 'machine_name': 'esp32c3', 'cold_start': 0, 'repetitions': 100, 'ticks_per_ms': 16000}, {'mean': 114024.49, 'min': 114024, 'max': 114073, 'options.object_size': 576, 'options.modules': {'allocator': 'vnv_heap::modules::allocator::linked_list::LinkedListAllocatorModule', 'non_resident_allocator': 'vnv_heap::modules::nonresident_allocator::buddy::NonResidentBuddyAllocatorModule<19>'}, 'options.modules.allocator': 'vnv_heap::modules::allocator::linked_list::LinkedListAllocatorModule', 'options.modules.non_resident_allocator': 'vnv_heap::modules::nonresident_allocator::buddy::NonResidentBuddyAllocatorModule<19>', 'bench_name': 'get_min_max', 'machine_name': 'esp32c3', 'cold_start': 0, 'repetitions': 100, 'ticks_per_ms': 16000}, {'mean': 116971.88, 'min': 116971, 'max': 117026, 'options.object_size': 592, 'options.modules': {'allocator': 'vnv_heap::modules::allocator::linked_list::LinkedListAllocatorModule', 'non_resident_allocator': 'vnv_heap::modules::nonresident_allocator::buddy::NonResidentBuddyAllocatorModule<19>'}, 'options.modules.allocator': 'vnv_heap::modules::allocator::linked_list::LinkedListAllocatorModule', 'options.modules.non_resident_allocator': 'vnv_heap::modules::nonresident_allocator::buddy::NonResidentBuddyAllocatorModule<19>', 'bench_name': 'get_min_max', 'machine_name': 'esp32c3', 'cold_start': 0, 'repetitions': 100, 'ticks_per_ms': 16000}, {'mean': 119957.08, 'min': 119956, 'max': 120020, 'options.object_size': 608, 'options.modules': {'allocator': 'vnv_heap::modules::allocator::linked_list::LinkedListAllocatorModule', 'non_resident_allocator': 'vnv_heap::modules::nonresident_allocator::buddy::NonResidentBuddyAllocatorModule<19>'}, 'options.modules.allocator': 'vnv_heap::modules::allocator::linked_list::LinkedListAllocatorModule', 'options.modules.non_resident_allocator': 'vnv_heap::modules::nonresident_allocator::buddy::NonResidentBuddyAllocatorModule<19>', 'bench_name': 'get_min_max', 'machine_name': 'esp32c3', 'cold_start': 0, 'repetitions': 100, 'ticks_per_ms': 16000}, {'mean': 122918.8, 'min': 122918, 'max': 122919, 'options.object_size': 624, 'options.modules': {'allocator': 'vnv_heap::modules::allocator::linked_list::LinkedListAllocatorModule', 'non_resident_allocator': 'vnv_heap::modules::nonresident_allocator::buddy::NonResidentBuddyAllocatorModule<19>'}, 'options.modules.allocator': 'vnv_heap::modules::allocator::linked_list::LinkedListAllocatorModule', 'options.modules.non_resident_allocator': 'vnv_heap::modules::nonresident_allocator::buddy::NonResidentBuddyAllocatorModule<19>', 'bench_name': 'get_min_max', 'machine_name': 'esp32c3', 'cold_start': 0, 'repetitions': 100, 'ticks_per_ms': 16000}, {'mean': 125822.43, 'min': 125822, 'max': 125823, 'options.object_size': 640, 'options.modules': {'allocator': 'vnv_heap::modules::allocator::linked_list::LinkedListAllocatorModule', 'non_resident_allocator': 'vnv_heap::modules::nonresident_allocator::buddy::NonResidentBuddyAllocatorModule<19>'}, 'options.modules.allocator': 'vnv_heap::modules::allocator::linked_list::LinkedListAllocatorModule', 'options.modules.non_resident_allocator': 'vnv_heap::modules::nonresident_allocator::buddy::NonResidentBuddyAllocatorModule<19>', 'bench_name': 'get_min_max', 'machine_name': 'esp32c3', 'cold_start': 0, 'repetitions': 100, 'ticks_per_ms': 16000}, {'mean': 128777.57, 'min': 128777, 'max': 128778, 'options.object_size': 656, 'options.modules': {'allocator': 'vnv_heap::modules::allocator::linked_list::LinkedListAllocatorModule', 'non_resident_allocator': 'vnv_heap::modules::nonresident_allocator::buddy::NonResidentBuddyAllocatorModule<19>'}, 'options.modules.allocator': 'vnv_heap::modules::allocator::linked_list::LinkedListAllocatorModule', 'options.modules.non_resident_allocator': 'vnv_heap::modules::nonresident_allocator::buddy::NonResidentBuddyAllocatorModule<19>', 'bench_name': 'get_min_max', 'machine_name': 'esp32c3', 'cold_start': 0, 'repetitions': 100, 'ticks_per_ms': 16000}, {'mean': 131789.83, 'min': 131789, 'max': 131790, 'options.object_size': 672, 'options.modules': {'allocator': 'vnv_heap::modules::allocator::linked_list::LinkedListAllocatorModule', 'non_resident_allocator': 'vnv_heap::modules::nonresident_allocator::buddy::NonResidentBuddyAllocatorModule<19>'}, 'options.modules.allocator': 'vnv_heap::modules::allocator::linked_list::LinkedListAllocatorModule', 'options.modules.non_resident_allocator': 'vnv_heap::modules::nonresident_allocator::buddy::NonResidentBuddyAllocatorModule<19>', 'bench_name': 'get_min_max', 'machine_name': 'esp32c3', 'cold_start': 0, 'repetitions': 100, 'ticks_per_ms': 16000}, {'mean': 134732.63, 'min': 134732, 'max': 134795, 'options.object_size': 688, 'options.modules': {'allocator': 'vnv_heap::modules::allocator::linked_list::LinkedListAllocatorModule', 'non_resident_allocator': 'vnv_heap::modules::nonresident_allocator::buddy::NonResidentBuddyAllocatorModule<19>'}, 'options.modules.allocator': 'vnv_heap::modules::allocator::linked_list::LinkedListAllocatorModule', 'options.modules.non_resident_allocator': 'vnv_heap::modules::nonresident_allocator::buddy::NonResidentBuddyAllocatorModule<19>', 'bench_name': 'get_min_max', 'machine_name': 'esp32c3', 'cold_start': 0, 'repetitions': 100, 'ticks_per_ms': 16000}, {'mean': 137693.8, 'min': 137693, 'max': 137694, 'options.object_size': 704, 'options.modules': {'allocator': 'vnv_heap::modules::allocator::linked_list::LinkedListAllocatorModule', 'non_resident_allocator': 'vnv_heap::modules::nonresident_allocator::buddy::NonResidentBuddyAllocatorModule<19>'}, 'options.modules.allocator': 'vnv_heap::modules::allocator::linked_list::LinkedListAllocatorModule', 'options.modules.non_resident_allocator': 'vnv_heap::modules::nonresident_allocator::buddy::NonResidentBuddyAllocatorModule<19>', 'bench_name': 'get_min_max', 'machine_name': 'esp32c3', 'cold_start': 0, 'repetitions': 100, 'ticks_per_ms': 16000}, {'mean': 140642.67, 'min': 140642, 'max': 140706, 'options.object_size': 720, 'options.modules': {'allocator': 'vnv_heap::modules::allocator::linked_list::LinkedListAllocatorModule', 'non_resident_allocator': 'vnv_heap::modules::nonresident_allocator::buddy::NonResidentBuddyAllocatorModule<19>'}, 'options.modules.allocator': 'vnv_heap::modules::allocator::linked_list::LinkedListAllocatorModule', 'options.modules.non_resident_allocator': 'vnv_heap::modules::nonresident_allocator::buddy::NonResidentBuddyAllocatorModule<19>', 'bench_name': 'get_min_max', 'machine_name': 'esp32c3', 'cold_start': 0, 'repetitions': 100, 'ticks_per_ms': 16000}, {'mean': 143667.79, 'min': 143667, 'max': 143668, 'options.object_size': 736, 'options.modules': {'allocator': 'vnv_heap::modules::allocator::linked_list::LinkedListAllocatorModule', 'non_resident_allocator': 'vnv_heap::modules::nonresident_allocator::buddy::NonResidentBuddyAllocatorModule<19>'}, 'options.modules.allocator': 'vnv_heap::modules::allocator::linked_list::LinkedListAllocatorModule', 'options.modules.non_resident_allocator': 'vnv_heap::modules::nonresident_allocator::buddy::NonResidentBuddyAllocatorModule<19>', 'bench_name': 'get_min_max', 'machine_name': 'esp32c3', 'cold_start': 0, 'repetitions': 100, 'ticks_per_ms': 16000}, {'mean': 146617.04, 'min': 146616, 'max': 146680, 'options.object_size': 752, 'options.modules': {'allocator': 'vnv_heap::modules::allocator::linked_list::LinkedListAllocatorModule', 'non_resident_allocator': 'vnv_heap::modules::nonresident_allocator::buddy::NonResidentBuddyAllocatorModule<19>'}, 'options.modules.allocator': 'vnv_heap::modules::allocator::linked_list::LinkedListAllocatorModule', 'options.modules.non_resident_allocator': 'vnv_heap::modules::nonresident_allocator::buddy::NonResidentBuddyAllocatorModule<19>', 'bench_name': 'get_min_max', 'machine_name': 'esp32c3', 'cold_start': 0, 'repetitions': 100, 'ticks_per_ms': 16000}, {'mean': 149509.03, 'min': 149508, 'max': 149572, 'options.object_size': 768, 'options.modules': {'allocator': 'vnv_heap::modules::allocator::linked_list::LinkedListAllocatorModule', 'non_resident_allocator': 'vnv_heap::modules::nonresident_allocator::buddy::NonResidentBuddyAllocatorModule<19>'}, 'options.modules.allocator': 'vnv_heap::modules::allocator::linked_list::LinkedListAllocatorModule', 'options.modules.non_resident_allocator': 'vnv_heap::modules::nonresident_allocator::buddy::NonResidentBuddyAllocatorModule<19>', 'bench_name': 'get_min_max', 'machine_name': 'esp32c3', 'cold_start': 0, 'repetitions': 100, 'ticks_per_ms': 16000}, {'mean': 152464.63, 'min': 152464, 'max': 152527, 'options.object_size': 784, 'options.modules': {'allocator': 'vnv_heap::modules::allocator::linked_list::LinkedListAllocatorModule', 'non_resident_allocator': 'vnv_heap::modules::nonresident_allocator::buddy::NonResidentBuddyAllocatorModule<19>'}, 'options.modules.allocator': 'vnv_heap::modules::allocator::linked_list::LinkedListAllocatorModule', 'options.modules.non_resident_allocator': 'vnv_heap::modules::nonresident_allocator::buddy::NonResidentBuddyAllocatorModule<19>', 'bench_name': 'get_min_max', 'machine_name': 'esp32c3', 'cold_start': 0, 'repetitions': 100, 'ticks_per_ms': 16000}, {'mean': 155401.86, 'min': 155401, 'max': 155451, 'options.object_size': 800, 'options.modules': {'allocator': 'vnv_heap::modules::allocator::linked_list::LinkedListAllocatorModule', 'non_resident_allocator': 'vnv_heap::modules::nonresident_allocator::buddy::NonResidentBuddyAllocatorModule<19>'}, 'options.modules.allocator': 'vnv_heap::modules::allocator::linked_list::LinkedListAllocatorModule', 'options.modules.non_resident_allocator': 'vnv_heap::modules::nonresident_allocator::buddy::NonResidentBuddyAllocatorModule<19>', 'bench_name': 'get_min_max', 'machine_name': 'esp32c3', 'cold_start': 0, 'repetitions': 100, 'ticks_per_ms': 16000}, {'mean': 158318.41, 'min': 158318, 'max': 158319, 'options.object_size': 816, 'options.modules': {'allocator': 'vnv_heap::modules::allocator::linked_list::LinkedListAllocatorModule', 'non_resident_allocator': 'vnv_heap::modules::nonresident_allocator::buddy::NonResidentBuddyAllocatorModule<19>'}, 'options.modules.allocator': 'vnv_heap::modules::allocator::linked_list::LinkedListAllocatorModule', 'options.modules.non_resident_allocator': 'vnv_heap::modules::nonresident_allocator::buddy::NonResidentBuddyAllocatorModule<19>', 'bench_name': 'get_min_max', 'machine_name': 'esp32c3', 'cold_start': 0, 'repetitions': 100, 'ticks_per_ms': 16000}, {'mean': 161348.38, 'min': 161348, 'max': 161349, 'options.object_size': 832, 'options.modules': {'allocator': 'vnv_heap::modules::allocator::linked_list::LinkedListAllocatorModule', 'non_resident_allocator': 'vnv_heap::modules::nonresident_allocator::buddy::NonResidentBuddyAllocatorModule<19>'}, 'options.modules.allocator': 'vnv_heap::modules::allocator::linked_list::LinkedListAllocatorModule', 'options.modules.non_resident_allocator': 'vnv_heap::modules::nonresident_allocator::buddy::NonResidentBuddyAllocatorModule<19>', 'bench_name': 'get_min_max', 'machine_name': 'esp32c3', 'cold_start': 0, 'repetitions': 100, 'ticks_per_ms': 16000}, {'mean': 164242.39, 'min': 164242, 'max': 164243, 'options.object_size': 848, 'options.modules': {'allocator': 'vnv_heap::modules::allocator::linked_list::LinkedListAllocatorModule', 'non_resident_allocator': 'vnv_heap::modules::nonresident_allocator::buddy::NonResidentBuddyAllocatorModule<19>'}, 'options.modules.allocator': 'vnv_heap::modules::allocator::linked_list::LinkedListAllocatorModule', 'options.modules.non_resident_allocator': 'vnv_heap::modules::nonresident_allocator::buddy::NonResidentBuddyAllocatorModule<19>', 'bench_name': 'get_min_max', 'machine_name': 'esp32c3', 'cold_start': 0, 'repetitions': 100, 'ticks_per_ms': 16000}, {'mean': 167191.27, 'min': 167190, 'max': 167271, 'options.object_size': 864, 'options.modules': {'allocator': 'vnv_heap::modules::allocator::linked_list::LinkedListAllocatorModule', 'non_resident_allocator': 'vnv_heap::modules::nonresident_allocator::buddy::NonResidentBuddyAllocatorModule<19>'}, 'options.modules.allocator': 'vnv_heap::modules::allocator::linked_list::LinkedListAllocatorModule', 'options.modules.non_resident_allocator': 'vnv_heap::modules::nonresident_allocator::buddy::NonResidentBuddyAllocatorModule<19>', 'bench_name': 'get_min_max', 'machine_name': 'esp32c3', 'cold_start': 0, 'repetitions': 100, 'ticks_per_ms': 16000}, {'mean': 170200.79, 'min': 170200, 'max': 170201, 'options.object_size': 880, 'options.modules': {'allocator': 'vnv_heap::modules::allocator::linked_list::LinkedListAllocatorModule', 'non_resident_allocator': 'vnv_heap::modules::nonresident_allocator::buddy::NonResidentBuddyAllocatorModule<19>'}, 'options.modules.allocator': 'vnv_heap::modules::allocator::linked_list::LinkedListAllocatorModule', 'options.modules.non_resident_allocator': 'vnv_heap::modules::nonresident_allocator::buddy::NonResidentBuddyAllocatorModule<19>', 'bench_name': 'get_min_max', 'machine_name': 'esp32c3', 'cold_start': 0, 'repetitions': 100, 'ticks_per_ms': 16000}, {'mean': 173150.24, 'min': 173149, 'max': 173213, 'options.object_size': 896, 'options.modules': {'allocator': 'vnv_heap::modules::allocator::linked_list::LinkedListAllocatorModule', 'non_resident_allocator': 'vnv_heap::modules::nonresident_allocator::buddy::NonResidentBuddyAllocatorModule<19>'}, 'options.modules.allocator': 'vnv_heap::modules::allocator::linked_list::LinkedListAllocatorModule', 'options.modules.non_resident_allocator': 'vnv_heap::modules::nonresident_allocator::buddy::NonResidentBuddyAllocatorModule<19>', 'bench_name': 'get_min_max', 'machine_name': 'esp32c3', 'cold_start': 0, 'repetitions': 100, 'ticks_per_ms': 16000}, {'mean': 176106.23, 'min': 176105, 'max': 176169, 'options.object_size': 912, 'options.modules': {'allocator': 'vnv_heap::modules::allocator::linked_list::LinkedListAllocatorModule', 'non_resident_allocator': 'vnv_heap::modules::nonresident_allocator::buddy::NonResidentBuddyAllocatorModule<19>'}, 'options.modules.allocator': 'vnv_heap::modules::allocator::linked_list::LinkedListAllocatorModule', 'options.modules.non_resident_allocator': 'vnv_heap::modules::nonresident_allocator::buddy::NonResidentBuddyAllocatorModule<19>', 'bench_name': 'get_min_max', 'machine_name': 'esp32c3', 'cold_start': 0, 'repetitions': 100, 'ticks_per_ms': 16000}, {'mean': 179060.63, 'min': 179060, 'max': 179123, 'options.object_size': 928, 'options.modules': {'allocator': 'vnv_heap::modules::allocator::linked_list::LinkedListAllocatorModule', 'non_resident_allocator': 'vnv_heap::modules::nonresident_allocator::buddy::NonResidentBuddyAllocatorModule<19>'}, 'options.modules.allocator': 'vnv_heap::modules::allocator::linked_list::LinkedListAllocatorModule', 'options.modules.non_resident_allocator': 'vnv_heap::modules::nonresident_allocator::buddy::NonResidentBuddyAllocatorModule<19>', 'bench_name': 'get_min_max', 'machine_name': 'esp32c3', 'cold_start': 0, 'repetitions': 100, 'ticks_per_ms': 16000}, {'mean': 182017.04, 'min': 182016, 'max': 182080, 'options.object_size': 944, 'options.modules': {'allocator': 'vnv_heap::modules::allocator::linked_list::LinkedListAllocatorModule', 'non_resident_allocator': 'vnv_heap::modules::nonresident_allocator::buddy::NonResidentBuddyAllocatorModule<19>'}, 'options.modules.allocator': 'vnv_heap::modules::allocator::linked_list::LinkedListAllocatorModule', 'options.modules.non_resident_allocator': 'vnv_heap::modules::nonresident_allocator::buddy::NonResidentBuddyAllocatorModule<19>', 'bench_name': 'get_min_max', 'machine_name': 'esp32c3', 'cold_start': 0, 'repetitions': 100, 'ticks_per_ms': 16000}, {'mean': 184970.71, 'min': 184970, 'max': 185002, 'options.object_size': 960, 'options.modules': {'allocator': 'vnv_heap::modules::allocator::linked_list::LinkedListAllocatorModule', 'non_resident_allocator': 'vnv_heap::modules::nonresident_allocator::buddy::NonResidentBuddyAllocatorModule<19>'}, 'options.modules.allocator': 'vnv_heap::modules::allocator::linked_list::LinkedListAllocatorModule', 'options.modules.non_resident_allocator': 'vnv_heap::modules::nonresident_allocator::buddy::NonResidentBuddyAllocatorModule<19>', 'bench_name': 'get_min_max', 'machine_name': 'esp32c3', 'cold_start': 0, 'repetitions': 100, 'ticks_per_ms': 16000}, {'mean': 187927.63, 'min': 187926, 'max': 187991, 'options.object_size': 976, 'options.modules': {'allocator': 'vnv_heap::modules::allocator::linked_list::LinkedListAllocatorModule', 'non_resident_allocator': 'vnv_heap::modules::nonresident_allocator::buddy::NonResidentBuddyAllocatorModule<19>'}, 'options.modules.allocator': 'vnv_heap::modules::allocator::linked_list::LinkedListAllocatorModule', 'options.modules.non_resident_allocator': 'vnv_heap::modules::nonresident_allocator::buddy::NonResidentBuddyAllocatorModule<19>', 'bench_name': 'get_min_max', 'machine_name': 'esp32c3', 'cold_start': 0, 'repetitions': 100, 'ticks_per_ms': 16000}, {'mean': 190945.43, 'min': 190944, 'max': 191009, 'options.object_size': 992, 'options.modules': {'allocator': 'vnv_heap::modules::allocator::linked_list::LinkedListAllocatorModule', 'non_resident_allocator': 'vnv_heap::modules::nonresident_allocator::buddy::NonResidentBuddyAllocatorModule<19>'}, 'options.modules.allocator': 'vnv_heap::modules::allocator::linked_list::LinkedListAllocatorModule', 'options.modules.non_resident_allocator': 'vnv_heap::modules::nonresident_allocator::buddy::NonResidentBuddyAllocatorModule<19>', 'bench_name': 'get_min_max', 'machine_name': 'esp32c3', 'cold_start': 0, 'repetitions': 100, 'ticks_per_ms': 16000}, {'mean': 193792.24, 'min': 193792, 'max': 193793, 'options.object_size': 1008, 'options.modules': {'allocator': 'vnv_heap::modules::allocator::linked_list::LinkedListAllocatorModule', 'non_resident_allocator': 'vnv_heap::modules::nonresident_allocator::buddy::NonResidentBuddyAllocatorModule<19>'}, 'options.modules.allocator': 'vnv_heap::modules::allocator::linked_list::LinkedListAllocatorModule', 'options.modules.non_resident_allocator': 'vnv_heap::modules::nonresident_allocator::buddy::NonResidentBuddyAllocatorModule<19>', 'bench_name': 'get_min_max', 'machine_name': 'esp32c3', 'cold_start': 0, 'repetitions': 100, 'ticks_per_ms': 16000}, {'mean': 196692.32, 'min': 196692, 'max': 196693, 'options.object_size': 1024, 'options.modules': {'allocator': 'vnv_heap::modules::allocator::linked_list::LinkedListAllocatorModule', 'non_resident_allocator': 'vnv_heap::modules::nonresident_allocator::buddy::NonResidentBuddyAllocatorModule<19>'}, 'options.modules.allocator': 'vnv_heap::modules::allocator::linked_list::LinkedListAllocatorModule', 'options.modules.non_resident_allocator': 'vnv_heap::modules::nonresident_allocator::buddy::NonResidentBuddyAllocatorModule<19>', 'bench_name': 'get_min_max', 'machine_name': 'esp32c3', 'cold_start': 0, 'repetitions': 100, 'ticks_per_ms': 16000}]\n",
      "[{'mean': 330338.26, 'min': 330337, 'max': 330401, 'options.object_size': 8, 'options.blocker_size': 1024, 'options.modules': {'allocator': 'vnv_heap::modules::allocator::linked_list::LinkedListAllocatorModule', 'non_resident_allocator': 'vnv_heap::modules::nonresident_allocator::buddy::NonResidentBuddyAllocatorModule<19>'}, 'options.modules.allocator': 'vnv_heap::modules::allocator::linked_list::LinkedListAllocatorModule', 'options.modules.non_resident_allocator': 'vnv_heap::modules::nonresident_allocator::buddy::NonResidentBuddyAllocatorModule<19>', 'bench_name': 'get_max', 'machine_name': 'esp32c3', 'cold_start': 0, 'repetitions': 100, 'ticks_per_ms': 16000}, {'mean': 331867.65, 'min': 331867, 'max': 331899, 'options.object_size': 16, 'options.blocker_size': 1024, 'options.modules': {'allocator': 'vnv_heap::modules::allocator::linked_list::LinkedListAllocatorModule', 'non_resident_allocator': 'vnv_heap::modules::nonresident_allocator::buddy::NonResidentBuddyAllocatorModule<19>'}, 'options.modules.allocator': 'vnv_heap::modules::allocator::linked_list::LinkedListAllocatorModule', 'options.modules.non_resident_allocator': 'vnv_heap::modules::nonresident_allocator::buddy::NonResidentBuddyAllocatorModule<19>', 'bench_name': 'get_max', 'machine_name': 'esp32c3', 'cold_start': 0, 'repetitions': 100, 'ticks_per_ms': 16000}, {'mean': 334899.63, 'min': 334899, 'max': 334962, 'options.object_size': 32, 'options.blocker_size': 1024, 'options.modules': {'allocator': 'vnv_heap::modules::allocator::linked_list::LinkedListAllocatorModule', 'non_resident_allocator': 'vnv_heap::modules::nonresident_allocator::buddy::NonResidentBuddyAllocatorModule<19>'}, 'options.modules.allocator': 'vnv_heap::modules::allocator::linked_list::LinkedListAllocatorModule', 'options.modules.non_resident_allocator': 'vnv_heap::modules::nonresident_allocator::buddy::NonResidentBuddyAllocatorModule<19>', 'bench_name': 'get_max', 'machine_name': 'esp32c3', 'cold_start': 0, 'repetitions': 100, 'ticks_per_ms': 16000}, {'mean': 337664.33, 'min': 337663, 'max': 337757, 'options.object_size': 48, 'options.blocker_size': 1024, 'options.modules': {'allocator': 'vnv_heap::modules::allocator::linked_list::LinkedListAllocatorModule', 'non_resident_allocator': 'vnv_heap::modules::nonresident_allocator::buddy::NonResidentBuddyAllocatorModule<19>'}, 'options.modules.allocator': 'vnv_heap::modules::allocator::linked_list::LinkedListAllocatorModule', 'options.modules.non_resident_allocator': 'vnv_heap::modules::nonresident_allocator::buddy::NonResidentBuddyAllocatorModule<19>', 'bench_name': 'get_max', 'machine_name': 'esp32c3', 'cold_start': 0, 'repetitions': 100, 'ticks_per_ms': 16000}, {'mean': 340620.75, 'min': 340620, 'max': 340695, 'options.object_size': 64, 'options.blocker_size': 1024, 'options.modules': {'allocator': 'vnv_heap::modules::allocator::linked_list::LinkedListAllocatorModule', 'non_resident_allocator': 'vnv_heap::modules::nonresident_allocator::buddy::NonResidentBuddyAllocatorModule<19>'}, 'options.modules.allocator': 'vnv_heap::modules::allocator::linked_list::LinkedListAllocatorModule', 'options.modules.non_resident_allocator': 'vnv_heap::modules::nonresident_allocator::buddy::NonResidentBuddyAllocatorModule<19>', 'bench_name': 'get_max', 'machine_name': 'esp32c3', 'cold_start': 0, 'repetitions': 100, 'ticks_per_ms': 16000}, {'mean': 343626.99, 'min': 343626, 'max': 343690, 'options.object_size': 80, 'options.blocker_size': 1024, 'options.modules': {'allocator': 'vnv_heap::modules::allocator::linked_list::LinkedListAllocatorModule', 'non_resident_allocator': 'vnv_heap::modules::nonresident_allocator::buddy::NonResidentBuddyAllocatorModule<19>'}, 'options.modules.allocator': 'vnv_heap::modules::allocator::linked_list::LinkedListAllocatorModule', 'options.modules.non_resident_allocator': 'vnv_heap::modules::nonresident_allocator::buddy::NonResidentBuddyAllocatorModule<19>', 'bench_name': 'get_max', 'machine_name': 'esp32c3', 'cold_start': 0, 'repetitions': 100, 'ticks_per_ms': 16000}, {'mean': 346540.0, 'min': 346540, 'max': 346540, 'options.object_size': 96, 'options.blocker_size': 1024, 'options.modules': {'allocator': 'vnv_heap::modules::allocator::linked_list::LinkedListAllocatorModule', 'non_resident_allocator': 'vnv_heap::modules::nonresident_allocator::buddy::NonResidentBuddyAllocatorModule<19>'}, 'options.modules.allocator': 'vnv_heap::modules::allocator::linked_list::LinkedListAllocatorModule', 'options.modules.non_resident_allocator': 'vnv_heap::modules::nonresident_allocator::buddy::NonResidentBuddyAllocatorModule<19>', 'bench_name': 'get_max', 'machine_name': 'esp32c3', 'cold_start': 0, 'repetitions': 100, 'ticks_per_ms': 16000}, {'mean': 349498.61, 'min': 349498, 'max': 349499, 'options.object_size': 112, 'options.blocker_size': 1024, 'options.modules': {'allocator': 'vnv_heap::modules::allocator::linked_list::LinkedListAllocatorModule', 'non_resident_allocator': 'vnv_heap::modules::nonresident_allocator::buddy::NonResidentBuddyAllocatorModule<19>'}, 'options.modules.allocator': 'vnv_heap::modules::allocator::linked_list::LinkedListAllocatorModule', 'options.modules.non_resident_allocator': 'vnv_heap::modules::nonresident_allocator::buddy::NonResidentBuddyAllocatorModule<19>', 'bench_name': 'get_max', 'machine_name': 'esp32c3', 'cold_start': 0, 'repetitions': 100, 'ticks_per_ms': 16000}, {'mean': 352622.0, 'min': 352622, 'max': 352622, 'options.object_size': 128, 'options.blocker_size': 1024, 'options.modules': {'allocator': 'vnv_heap::modules::allocator::linked_list::LinkedListAllocatorModule', 'non_resident_allocator': 'vnv_heap::modules::nonresident_allocator::buddy::NonResidentBuddyAllocatorModule<19>'}, 'options.modules.allocator': 'vnv_heap::modules::allocator::linked_list::LinkedListAllocatorModule', 'options.modules.non_resident_allocator': 'vnv_heap::modules::nonresident_allocator::buddy::NonResidentBuddyAllocatorModule<19>', 'bench_name': 'get_max', 'machine_name': 'esp32c3', 'cold_start': 0, 'repetitions': 100, 'ticks_per_ms': 16000}, {'mean': 355445.64, 'min': 355445, 'max': 355509, 'options.object_size': 144, 'options.blocker_size': 1024, 'options.modules': {'allocator': 'vnv_heap::modules::allocator::linked_list::LinkedListAllocatorModule', 'non_resident_allocator': 'vnv_heap::modules::nonresident_allocator::buddy::NonResidentBuddyAllocatorModule<19>'}, 'options.modules.allocator': 'vnv_heap::modules::allocator::linked_list::LinkedListAllocatorModule', 'options.modules.non_resident_allocator': 'vnv_heap::modules::nonresident_allocator::buddy::NonResidentBuddyAllocatorModule<19>', 'bench_name': 'get_max', 'machine_name': 'esp32c3', 'cold_start': 0, 'repetitions': 100, 'ticks_per_ms': 16000}, {'mean': 358359.62, 'min': 358358, 'max': 358453, 'options.object_size': 160, 'options.blocker_size': 1024, 'options.modules': {'allocator': 'vnv_heap::modules::allocator::linked_list::LinkedListAllocatorModule', 'non_resident_allocator': 'vnv_heap::modules::nonresident_allocator::buddy::NonResidentBuddyAllocatorModule<19>'}, 'options.modules.allocator': 'vnv_heap::modules::allocator::linked_list::LinkedListAllocatorModule', 'options.modules.non_resident_allocator': 'vnv_heap::modules::nonresident_allocator::buddy::NonResidentBuddyAllocatorModule<19>', 'bench_name': 'get_max', 'machine_name': 'esp32c3', 'cold_start': 0, 'repetitions': 100, 'ticks_per_ms': 16000}, {'mean': 361178.99, 'min': 361178, 'max': 361179, 'options.object_size': 176, 'options.blocker_size': 1024, 'options.modules': {'allocator': 'vnv_heap::modules::allocator::linked_list::LinkedListAllocatorModule', 'non_resident_allocator': 'vnv_heap::modules::nonresident_allocator::buddy::NonResidentBuddyAllocatorModule<19>'}, 'options.modules.allocator': 'vnv_heap::modules::allocator::linked_list::LinkedListAllocatorModule', 'options.modules.non_resident_allocator': 'vnv_heap::modules::nonresident_allocator::buddy::NonResidentBuddyAllocatorModule<19>', 'bench_name': 'get_max', 'machine_name': 'esp32c3', 'cold_start': 0, 'repetitions': 100, 'ticks_per_ms': 16000}, {'mean': 364311.6, 'min': 364310, 'max': 364375, 'options.object_size': 192, 'options.blocker_size': 1024, 'options.modules': {'allocator': 'vnv_heap::modules::allocator::linked_list::LinkedListAllocatorModule', 'non_resident_allocator': 'vnv_heap::modules::nonresident_allocator::buddy::NonResidentBuddyAllocatorModule<19>'}, 'options.modules.allocator': 'vnv_heap::modules::allocator::linked_list::LinkedListAllocatorModule', 'options.modules.non_resident_allocator': 'vnv_heap::modules::nonresident_allocator::buddy::NonResidentBuddyAllocatorModule<19>', 'bench_name': 'get_max', 'machine_name': 'esp32c3', 'cold_start': 0, 'repetitions': 100, 'ticks_per_ms': 16000}, {'mean': 367232.99, 'min': 367232, 'max': 367233, 'options.object_size': 208, 'options.blocker_size': 1024, 'options.modules': {'allocator': 'vnv_heap::modules::allocator::linked_list::LinkedListAllocatorModule', 'non_resident_allocator': 'vnv_heap::modules::nonresident_allocator::buddy::NonResidentBuddyAllocatorModule<19>'}, 'options.modules.allocator': 'vnv_heap::modules::allocator::linked_list::LinkedListAllocatorModule', 'options.modules.non_resident_allocator': 'vnv_heap::modules::nonresident_allocator::buddy::NonResidentBuddyAllocatorModule<19>', 'bench_name': 'get_max', 'machine_name': 'esp32c3', 'cold_start': 0, 'repetitions': 100, 'ticks_per_ms': 16000}, {'mean': 370190.99, 'min': 370190, 'max': 370191, 'options.object_size': 224, 'options.blocker_size': 1024, 'options.modules': {'allocator': 'vnv_heap::modules::allocator::linked_list::LinkedListAllocatorModule', 'non_resident_allocator': 'vnv_heap::modules::nonresident_allocator::buddy::NonResidentBuddyAllocatorModule<19>'}, 'options.modules.allocator': 'vnv_heap::modules::allocator::linked_list::LinkedListAllocatorModule', 'options.modules.non_resident_allocator': 'vnv_heap::modules::nonresident_allocator::buddy::NonResidentBuddyAllocatorModule<19>', 'bench_name': 'get_max', 'machine_name': 'esp32c3', 'cold_start': 0, 'repetitions': 100, 'ticks_per_ms': 16000}, {'mean': 373190.02, 'min': 373190, 'max': 373191, 'options.object_size': 240, 'options.blocker_size': 1024, 'options.modules': {'allocator': 'vnv_heap::modules::allocator::linked_list::LinkedListAllocatorModule', 'non_resident_allocator': 'vnv_heap::modules::nonresident_allocator::buddy::NonResidentBuddyAllocatorModule<19>'}, 'options.modules.allocator': 'vnv_heap::modules::allocator::linked_list::LinkedListAllocatorModule', 'options.modules.non_resident_allocator': 'vnv_heap::modules::nonresident_allocator::buddy::NonResidentBuddyAllocatorModule<19>', 'bench_name': 'get_max', 'machine_name': 'esp32c3', 'cold_start': 0, 'repetitions': 100, 'ticks_per_ms': 16000}, {'mean': 376267.01, 'min': 376267, 'max': 376268, 'options.object_size': 256, 'options.blocker_size': 1024, 'options.modules': {'allocator': 'vnv_heap::modules::allocator::linked_list::LinkedListAllocatorModule', 'non_resident_allocator': 'vnv_heap::modules::nonresident_allocator::buddy::NonResidentBuddyAllocatorModule<19>'}, 'options.modules.allocator': 'vnv_heap::modules::allocator::linked_list::LinkedListAllocatorModule', 'options.modules.non_resident_allocator': 'vnv_heap::modules::nonresident_allocator::buddy::NonResidentBuddyAllocatorModule<19>', 'bench_name': 'get_max', 'machine_name': 'esp32c3', 'cold_start': 0, 'repetitions': 100, 'ticks_per_ms': 16000}, {'mean': 379046.2, 'min': 379045, 'max': 379132, 'options.object_size': 272, 'options.blocker_size': 1024, 'options.modules': {'allocator': 'vnv_heap::modules::allocator::linked_list::LinkedListAllocatorModule', 'non_resident_allocator': 'vnv_heap::modules::nonresident_allocator::buddy::NonResidentBuddyAllocatorModule<19>'}, 'options.modules.allocator': 'vnv_heap::modules::allocator::linked_list::LinkedListAllocatorModule', 'options.modules.non_resident_allocator': 'vnv_heap::modules::nonresident_allocator::buddy::NonResidentBuddyAllocatorModule<19>', 'bench_name': 'get_max', 'machine_name': 'esp32c3', 'cold_start': 0, 'repetitions': 100, 'ticks_per_ms': 16000}, {'mean': 382042.32, 'min': 382042, 'max': 382074, 'options.object_size': 288, 'options.blocker_size': 1024, 'options.modules': {'allocator': 'vnv_heap::modules::allocator::linked_list::LinkedListAllocatorModule', 'non_resident_allocator': 'vnv_heap::modules::nonresident_allocator::buddy::NonResidentBuddyAllocatorModule<19>'}, 'options.modules.allocator': 'vnv_heap::modules::allocator::linked_list::LinkedListAllocatorModule', 'options.modules.non_resident_allocator': 'vnv_heap::modules::nonresident_allocator::buddy::NonResidentBuddyAllocatorModule<19>', 'bench_name': 'get_max', 'machine_name': 'esp32c3', 'cold_start': 0, 'repetitions': 100, 'ticks_per_ms': 16000}, {'mean': 384884.0, 'min': 384884, 'max': 384884, 'options.object_size': 304, 'options.blocker_size': 1024, 'options.modules': {'allocator': 'vnv_heap::modules::allocator::linked_list::LinkedListAllocatorModule', 'non_resident_allocator': 'vnv_heap::modules::nonresident_allocator::buddy::NonResidentBuddyAllocatorModule<19>'}, 'options.modules.allocator': 'vnv_heap::modules::allocator::linked_list::LinkedListAllocatorModule', 'options.modules.non_resident_allocator': 'vnv_heap::modules::nonresident_allocator::buddy::NonResidentBuddyAllocatorModule<19>', 'bench_name': 'get_max', 'machine_name': 'esp32c3', 'cold_start': 0, 'repetitions': 100, 'ticks_per_ms': 16000}, {'mean': 387826.0, 'min': 387826, 'max': 387826, 'options.object_size': 320, 'options.blocker_size': 1024, 'options.modules': {'allocator': 'vnv_heap::modules::allocator::linked_list::LinkedListAllocatorModule', 'non_resident_allocator': 'vnv_heap::modules::nonresident_allocator::buddy::NonResidentBuddyAllocatorModule<19>'}, 'options.modules.allocator': 'vnv_heap::modules::allocator::linked_list::LinkedListAllocatorModule', 'options.modules.non_resident_allocator': 'vnv_heap::modules::nonresident_allocator::buddy::NonResidentBuddyAllocatorModule<19>', 'bench_name': 'get_max', 'machine_name': 'esp32c3', 'cold_start': 0, 'repetitions': 100, 'ticks_per_ms': 16000}, {'mean': 390908.32, 'min': 390908, 'max': 390940, 'options.object_size': 336, 'options.blocker_size': 1024, 'options.modules': {'allocator': 'vnv_heap::modules::allocator::linked_list::LinkedListAllocatorModule', 'non_resident_allocator': 'vnv_heap::modules::nonresident_allocator::buddy::NonResidentBuddyAllocatorModule<19>'}, 'options.modules.allocator': 'vnv_heap::modules::allocator::linked_list::LinkedListAllocatorModule', 'options.modules.non_resident_allocator': 'vnv_heap::modules::nonresident_allocator::buddy::NonResidentBuddyAllocatorModule<19>', 'bench_name': 'get_max', 'machine_name': 'esp32c3', 'cold_start': 0, 'repetitions': 100, 'ticks_per_ms': 16000}, {'mean': 393820.76, 'min': 393820, 'max': 393895, 'options.object_size': 352, 'options.blocker_size': 1024, 'options.modules': {'allocator': 'vnv_heap::modules::allocator::linked_list::LinkedListAllocatorModule', 'non_resident_allocator': 'vnv_heap::modules::nonresident_allocator::buddy::NonResidentBuddyAllocatorModule<19>'}, 'options.modules.allocator': 'vnv_heap::modules::allocator::linked_list::LinkedListAllocatorModule', 'options.modules.non_resident_allocator': 'vnv_heap::modules::nonresident_allocator::buddy::NonResidentBuddyAllocatorModule<19>', 'bench_name': 'get_max', 'machine_name': 'esp32c3', 'cold_start': 0, 'repetitions': 100, 'ticks_per_ms': 16000}, {'mean': 396731.96, 'min': 396731, 'max': 396793, 'options.object_size': 368, 'options.blocker_size': 1024, 'options.modules': {'allocator': 'vnv_heap::modules::allocator::linked_list::LinkedListAllocatorModule', 'non_resident_allocator': 'vnv_heap::modules::nonresident_allocator::buddy::NonResidentBuddyAllocatorModule<19>'}, 'options.modules.allocator': 'vnv_heap::modules::allocator::linked_list::LinkedListAllocatorModule', 'options.modules.non_resident_allocator': 'vnv_heap::modules::nonresident_allocator::buddy::NonResidentBuddyAllocatorModule<19>', 'bench_name': 'get_max', 'machine_name': 'esp32c3', 'cold_start': 0, 'repetitions': 100, 'ticks_per_ms': 16000}, {'mean': 399773.21, 'min': 399773, 'max': 399774, 'options.object_size': 384, 'options.blocker_size': 1024, 'options.modules': {'allocator': 'vnv_heap::modules::allocator::linked_list::LinkedListAllocatorModule', 'non_resident_allocator': 'vnv_heap::modules::nonresident_allocator::buddy::NonResidentBuddyAllocatorModule<19>'}, 'options.modules.allocator': 'vnv_heap::modules::allocator::linked_list::LinkedListAllocatorModule', 'options.modules.non_resident_allocator': 'vnv_heap::modules::nonresident_allocator::buddy::NonResidentBuddyAllocatorModule<19>', 'bench_name': 'get_max', 'machine_name': 'esp32c3', 'cold_start': 0, 'repetitions': 100, 'ticks_per_ms': 16000}, {'mean': 402739.01, 'min': 402739, 'max': 402740, 'options.object_size': 400, 'options.blocker_size': 1024, 'options.modules': {'allocator': 'vnv_heap::modules::allocator::linked_list::LinkedListAllocatorModule', 'non_resident_allocator': 'vnv_heap::modules::nonresident_allocator::buddy::NonResidentBuddyAllocatorModule<19>'}, 'options.modules.allocator': 'vnv_heap::modules::allocator::linked_list::LinkedListAllocatorModule', 'options.modules.non_resident_allocator': 'vnv_heap::modules::nonresident_allocator::buddy::NonResidentBuddyAllocatorModule<19>', 'bench_name': 'get_max', 'machine_name': 'esp32c3', 'cold_start': 0, 'repetitions': 100, 'ticks_per_ms': 16000}, {'mean': 405639.89, 'min': 405639, 'max': 405727, 'options.object_size': 416, 'options.blocker_size': 1024, 'options.modules': {'allocator': 'vnv_heap::modules::allocator::linked_list::LinkedListAllocatorModule', 'non_resident_allocator': 'vnv_heap::modules::nonresident_allocator::buddy::NonResidentBuddyAllocatorModule<19>'}, 'options.modules.allocator': 'vnv_heap::modules::allocator::linked_list::LinkedListAllocatorModule', 'options.modules.non_resident_allocator': 'vnv_heap::modules::nonresident_allocator::buddy::NonResidentBuddyAllocatorModule<19>', 'bench_name': 'get_max', 'machine_name': 'esp32c3', 'cold_start': 0, 'repetitions': 100, 'ticks_per_ms': 16000}, {'mean': 408639.0, 'min': 408639, 'max': 408639, 'options.object_size': 432, 'options.blocker_size': 1024, 'options.modules': {'allocator': 'vnv_heap::modules::allocator::linked_list::LinkedListAllocatorModule', 'non_resident_allocator': 'vnv_heap::modules::nonresident_allocator::buddy::NonResidentBuddyAllocatorModule<19>'}, 'options.modules.allocator': 'vnv_heap::modules::allocator::linked_list::LinkedListAllocatorModule', 'options.modules.non_resident_allocator': 'vnv_heap::modules::nonresident_allocator::buddy::NonResidentBuddyAllocatorModule<19>', 'bench_name': 'get_max', 'machine_name': 'esp32c3', 'cold_start': 0, 'repetitions': 100, 'ticks_per_ms': 16000}, {'mean': 411535.63, 'min': 411534, 'max': 411599, 'options.object_size': 448, 'options.blocker_size': 1024, 'options.modules': {'allocator': 'vnv_heap::modules::allocator::linked_list::LinkedListAllocatorModule', 'non_resident_allocator': 'vnv_heap::modules::nonresident_allocator::buddy::NonResidentBuddyAllocatorModule<19>'}, 'options.modules.allocator': 'vnv_heap::modules::allocator::linked_list::LinkedListAllocatorModule', 'options.modules.non_resident_allocator': 'vnv_heap::modules::nonresident_allocator::buddy::NonResidentBuddyAllocatorModule<19>', 'bench_name': 'get_max', 'machine_name': 'esp32c3', 'cold_start': 0, 'repetitions': 100, 'ticks_per_ms': 16000}, {'mean': 414563.0, 'min': 414562, 'max': 414564, 'options.object_size': 464, 'options.blocker_size': 1024, 'options.modules': {'allocator': 'vnv_heap::modules::allocator::linked_list::LinkedListAllocatorModule', 'non_resident_allocator': 'vnv_heap::modules::nonresident_allocator::buddy::NonResidentBuddyAllocatorModule<19>'}, 'options.modules.allocator': 'vnv_heap::modules::allocator::linked_list::LinkedListAllocatorModule', 'options.modules.non_resident_allocator': 'vnv_heap::modules::nonresident_allocator::buddy::NonResidentBuddyAllocatorModule<19>', 'bench_name': 'get_max', 'machine_name': 'esp32c3', 'cold_start': 0, 'repetitions': 100, 'ticks_per_ms': 16000}, {'mean': 417384.49, 'min': 417384, 'max': 417385, 'options.object_size': 480, 'options.blocker_size': 1024, 'options.modules': {'allocator': 'vnv_heap::modules::allocator::linked_list::LinkedListAllocatorModule', 'non_resident_allocator': 'vnv_heap::modules::nonresident_allocator::buddy::NonResidentBuddyAllocatorModule<19>'}, 'options.modules.allocator': 'vnv_heap::modules::allocator::linked_list::LinkedListAllocatorModule', 'options.modules.non_resident_allocator': 'vnv_heap::modules::nonresident_allocator::buddy::NonResidentBuddyAllocatorModule<19>', 'bench_name': 'get_max', 'machine_name': 'esp32c3', 'cold_start': 0, 'repetitions': 100, 'ticks_per_ms': 16000}, {'mean': 420459.51, 'min': 420459, 'max': 420460, 'options.object_size': 496, 'options.blocker_size': 1024, 'options.modules': {'allocator': 'vnv_heap::modules::allocator::linked_list::LinkedListAllocatorModule', 'non_resident_allocator': 'vnv_heap::modules::nonresident_allocator::buddy::NonResidentBuddyAllocatorModule<19>'}, 'options.modules.allocator': 'vnv_heap::modules::allocator::linked_list::LinkedListAllocatorModule', 'options.modules.non_resident_allocator': 'vnv_heap::modules::nonresident_allocator::buddy::NonResidentBuddyAllocatorModule<19>', 'bench_name': 'get_max', 'machine_name': 'esp32c3', 'cold_start': 0, 'repetitions': 100, 'ticks_per_ms': 16000}, {'mean': 423371.0, 'min': 423371, 'max': 423371, 'options.object_size': 512, 'options.blocker_size': 1024, 'options.modules': {'allocator': 'vnv_heap::modules::allocator::linked_list::LinkedListAllocatorModule', 'non_resident_allocator': 'vnv_heap::modules::nonresident_allocator::buddy::NonResidentBuddyAllocatorModule<19>'}, 'options.modules.allocator': 'vnv_heap::modules::allocator::linked_list::LinkedListAllocatorModule', 'options.modules.non_resident_allocator': 'vnv_heap::modules::nonresident_allocator::buddy::NonResidentBuddyAllocatorModule<19>', 'bench_name': 'get_max', 'machine_name': 'esp32c3', 'cold_start': 0, 'repetitions': 100, 'ticks_per_ms': 16000}, {'mean': 426314.49, 'min': 426314, 'max': 426315, 'options.object_size': 528, 'options.blocker_size': 1024, 'options.modules': {'allocator': 'vnv_heap::modules::allocator::linked_list::LinkedListAllocatorModule', 'non_resident_allocator': 'vnv_heap::modules::nonresident_allocator::buddy::NonResidentBuddyAllocatorModule<19>'}, 'options.modules.allocator': 'vnv_heap::modules::allocator::linked_list::LinkedListAllocatorModule', 'options.modules.non_resident_allocator': 'vnv_heap::modules::nonresident_allocator::buddy::NonResidentBuddyAllocatorModule<19>', 'bench_name': 'get_max', 'machine_name': 'esp32c3', 'cold_start': 0, 'repetitions': 100, 'ticks_per_ms': 16000}, {'mean': 429339.2, 'min': 429290, 'max': 429365, 'options.object_size': 544, 'options.blocker_size': 1024, 'options.modules': {'allocator': 'vnv_heap::modules::allocator::linked_list::LinkedListAllocatorModule', 'non_resident_allocator': 'vnv_heap::modules::nonresident_allocator::buddy::NonResidentBuddyAllocatorModule<19>'}, 'options.modules.allocator': 'vnv_heap::modules::allocator::linked_list::LinkedListAllocatorModule', 'options.modules.non_resident_allocator': 'vnv_heap::modules::nonresident_allocator::buddy::NonResidentBuddyAllocatorModule<19>', 'bench_name': 'get_max', 'machine_name': 'esp32c3', 'cold_start': 0, 'repetitions': 100, 'ticks_per_ms': 16000}, {'mean': 432205.05, 'min': 432204, 'max': 432261, 'options.object_size': 560, 'options.blocker_size': 1024, 'options.modules': {'allocator': 'vnv_heap::modules::allocator::linked_list::LinkedListAllocatorModule', 'non_resident_allocator': 'vnv_heap::modules::nonresident_allocator::buddy::NonResidentBuddyAllocatorModule<19>'}, 'options.modules.allocator': 'vnv_heap::modules::allocator::linked_list::LinkedListAllocatorModule', 'options.modules.non_resident_allocator': 'vnv_heap::modules::nonresident_allocator::buddy::NonResidentBuddyAllocatorModule<19>', 'bench_name': 'get_max', 'machine_name': 'esp32c3', 'cold_start': 0, 'repetitions': 100, 'ticks_per_ms': 16000}, {'mean': 435126.0, 'min': 435126, 'max': 435126, 'options.object_size': 576, 'options.blocker_size': 1024, 'options.modules': {'allocator': 'vnv_heap::modules::allocator::linked_list::LinkedListAllocatorModule', 'non_resident_allocator': 'vnv_heap::modules::nonresident_allocator::buddy::NonResidentBuddyAllocatorModule<19>'}, 'options.modules.allocator': 'vnv_heap::modules::allocator::linked_list::LinkedListAllocatorModule', 'options.modules.non_resident_allocator': 'vnv_heap::modules::nonresident_allocator::buddy::NonResidentBuddyAllocatorModule<19>', 'bench_name': 'get_max', 'machine_name': 'esp32c3', 'cold_start': 0, 'repetitions': 100, 'ticks_per_ms': 16000}, {'mean': 438104.49, 'min': 438104, 'max': 438153, 'options.object_size': 592, 'options.blocker_size': 1024, 'options.modules': {'allocator': 'vnv_heap::modules::allocator::linked_list::LinkedListAllocatorModule', 'non_resident_allocator': 'vnv_heap::modules::nonresident_allocator::buddy::NonResidentBuddyAllocatorModule<19>'}, 'options.modules.allocator': 'vnv_heap::modules::allocator::linked_list::LinkedListAllocatorModule', 'options.modules.non_resident_allocator': 'vnv_heap::modules::nonresident_allocator::buddy::NonResidentBuddyAllocatorModule<19>', 'bench_name': 'get_max', 'machine_name': 'esp32c3', 'cold_start': 0, 'repetitions': 100, 'ticks_per_ms': 16000}, {'mean': 441043.05, 'min': 441043, 'max': 441044, 'options.object_size': 608, 'options.blocker_size': 1024, 'options.modules': {'allocator': 'vnv_heap::modules::allocator::linked_list::LinkedListAllocatorModule', 'non_resident_allocator': 'vnv_heap::modules::nonresident_allocator::buddy::NonResidentBuddyAllocatorModule<19>'}, 'options.modules.allocator': 'vnv_heap::modules::allocator::linked_list::LinkedListAllocatorModule', 'options.modules.non_resident_allocator': 'vnv_heap::modules::nonresident_allocator::buddy::NonResidentBuddyAllocatorModule<19>', 'bench_name': 'get_max', 'machine_name': 'esp32c3', 'cold_start': 0, 'repetitions': 100, 'ticks_per_ms': 16000}, {'mean': 444102.12, 'min': 444101, 'max': 444165, 'options.object_size': 624, 'options.blocker_size': 1024, 'options.modules': {'allocator': 'vnv_heap::modules::allocator::linked_list::LinkedListAllocatorModule', 'non_resident_allocator': 'vnv_heap::modules::nonresident_allocator::buddy::NonResidentBuddyAllocatorModule<19>'}, 'options.modules.allocator': 'vnv_heap::modules::allocator::linked_list::LinkedListAllocatorModule', 'options.modules.non_resident_allocator': 'vnv_heap::modules::nonresident_allocator::buddy::NonResidentBuddyAllocatorModule<19>', 'bench_name': 'get_max', 'machine_name': 'esp32c3', 'cold_start': 0, 'repetitions': 100, 'ticks_per_ms': 16000}, {'mean': 446879.73, 'min': 446879, 'max': 446880, 'options.object_size': 640, 'options.blocker_size': 1024, 'options.modules': {'allocator': 'vnv_heap::modules::allocator::linked_list::LinkedListAllocatorModule', 'non_resident_allocator': 'vnv_heap::modules::nonresident_allocator::buddy::NonResidentBuddyAllocatorModule<19>'}, 'options.modules.allocator': 'vnv_heap::modules::allocator::linked_list::LinkedListAllocatorModule', 'options.modules.non_resident_allocator': 'vnv_heap::modules::nonresident_allocator::buddy::NonResidentBuddyAllocatorModule<19>', 'bench_name': 'get_max', 'machine_name': 'esp32c3', 'cold_start': 0, 'repetitions': 100, 'ticks_per_ms': 16000}, {'mean': 449931.43, 'min': 449931, 'max': 449974, 'options.object_size': 656, 'options.blocker_size': 1024, 'options.modules': {'allocator': 'vnv_heap::modules::allocator::linked_list::LinkedListAllocatorModule', 'non_resident_allocator': 'vnv_heap::modules::nonresident_allocator::buddy::NonResidentBuddyAllocatorModule<19>'}, 'options.modules.allocator': 'vnv_heap::modules::allocator::linked_list::LinkedListAllocatorModule', 'options.modules.non_resident_allocator': 'vnv_heap::modules::nonresident_allocator::buddy::NonResidentBuddyAllocatorModule<19>', 'bench_name': 'get_max', 'machine_name': 'esp32c3', 'cold_start': 0, 'repetitions': 100, 'ticks_per_ms': 16000}, {'mean': 452905.0, 'min': 452905, 'max': 452905, 'options.object_size': 672, 'options.blocker_size': 1024, 'options.modules': {'allocator': 'vnv_heap::modules::allocator::linked_list::LinkedListAllocatorModule', 'non_resident_allocator': 'vnv_heap::modules::nonresident_allocator::buddy::NonResidentBuddyAllocatorModule<19>'}, 'options.modules.allocator': 'vnv_heap::modules::allocator::linked_list::LinkedListAllocatorModule', 'options.modules.non_resident_allocator': 'vnv_heap::modules::nonresident_allocator::buddy::NonResidentBuddyAllocatorModule<19>', 'bench_name': 'get_max', 'machine_name': 'esp32c3', 'cold_start': 0, 'repetitions': 100, 'ticks_per_ms': 16000}, {'mean': 455879.82, 'min': 455879, 'max': 455960, 'options.object_size': 688, 'options.blocker_size': 1024, 'options.modules': {'allocator': 'vnv_heap::modules::allocator::linked_list::LinkedListAllocatorModule', 'non_resident_allocator': 'vnv_heap::modules::nonresident_allocator::buddy::NonResidentBuddyAllocatorModule<19>'}, 'options.modules.allocator': 'vnv_heap::modules::allocator::linked_list::LinkedListAllocatorModule', 'options.modules.non_resident_allocator': 'vnv_heap::modules::nonresident_allocator::buddy::NonResidentBuddyAllocatorModule<19>', 'bench_name': 'get_max', 'machine_name': 'esp32c3', 'cold_start': 0, 'repetitions': 100, 'ticks_per_ms': 16000}, {'mean': 458891.0, 'min': 458890, 'max': 458892, 'options.object_size': 704, 'options.blocker_size': 1024, 'options.modules': {'allocator': 'vnv_heap::modules::allocator::linked_list::LinkedListAllocatorModule', 'non_resident_allocator': 'vnv_heap::modules::nonresident_allocator::buddy::NonResidentBuddyAllocatorModule<19>'}, 'options.modules.allocator': 'vnv_heap::modules::allocator::linked_list::LinkedListAllocatorModule', 'options.modules.non_resident_allocator': 'vnv_heap::modules::nonresident_allocator::buddy::NonResidentBuddyAllocatorModule<19>', 'bench_name': 'get_max', 'machine_name': 'esp32c3', 'cold_start': 0, 'repetitions': 100, 'ticks_per_ms': 16000}, {'mean': 461731.99, 'min': 461731, 'max': 461732, 'options.object_size': 720, 'options.blocker_size': 1024, 'options.modules': {'allocator': 'vnv_heap::modules::allocator::linked_list::LinkedListAllocatorModule', 'non_resident_allocator': 'vnv_heap::modules::nonresident_allocator::buddy::NonResidentBuddyAllocatorModule<19>'}, 'options.modules.allocator': 'vnv_heap::modules::allocator::linked_list::LinkedListAllocatorModule', 'options.modules.non_resident_allocator': 'vnv_heap::modules::nonresident_allocator::buddy::NonResidentBuddyAllocatorModule<19>', 'bench_name': 'get_max', 'machine_name': 'esp32c3', 'cold_start': 0, 'repetitions': 100, 'ticks_per_ms': 16000}, {'mean': 464754.79, 'min': 464754, 'max': 464755, 'options.object_size': 736, 'options.blocker_size': 1024, 'options.modules': {'allocator': 'vnv_heap::modules::allocator::linked_list::LinkedListAllocatorModule', 'non_resident_allocator': 'vnv_heap::modules::nonresident_allocator::buddy::NonResidentBuddyAllocatorModule<19>'}, 'options.modules.allocator': 'vnv_heap::modules::allocator::linked_list::LinkedListAllocatorModule', 'options.modules.non_resident_allocator': 'vnv_heap::modules::nonresident_allocator::buddy::NonResidentBuddyAllocatorModule<19>', 'bench_name': 'get_max', 'machine_name': 'esp32c3', 'cold_start': 0, 'repetitions': 100, 'ticks_per_ms': 16000}, {'mean': 467699.34, 'min': 467699, 'max': 467700, 'options.object_size': 752, 'options.blocker_size': 1024, 'options.modules': {'allocator': 'vnv_heap::modules::allocator::linked_list::LinkedListAllocatorModule', 'non_resident_allocator': 'vnv_heap::modules::nonresident_allocator::buddy::NonResidentBuddyAllocatorModule<19>'}, 'options.modules.allocator': 'vnv_heap::modules::allocator::linked_list::LinkedListAllocatorModule', 'options.modules.non_resident_allocator': 'vnv_heap::modules::nonresident_allocator::buddy::NonResidentBuddyAllocatorModule<19>', 'bench_name': 'get_max', 'machine_name': 'esp32c3', 'cold_start': 0, 'repetitions': 100, 'ticks_per_ms': 16000}, {'mean': 470702.66, 'min': 470702, 'max': 470766, 'options.object_size': 768, 'options.blocker_size': 1024, 'options.modules': {'allocator': 'vnv_heap::modules::allocator::linked_list::LinkedListAllocatorModule', 'non_resident_allocator': 'vnv_heap::modules::nonresident_allocator::buddy::NonResidentBuddyAllocatorModule<19>'}, 'options.modules.allocator': 'vnv_heap::modules::allocator::linked_list::LinkedListAllocatorModule', 'options.modules.non_resident_allocator': 'vnv_heap::modules::nonresident_allocator::buddy::NonResidentBuddyAllocatorModule<19>', 'bench_name': 'get_max', 'machine_name': 'esp32c3', 'cold_start': 0, 'repetitions': 100, 'ticks_per_ms': 16000}, {'mean': 473657.81, 'min': 473657, 'max': 473689, 'options.object_size': 784, 'options.blocker_size': 1024, 'options.modules': {'allocator': 'vnv_heap::modules::allocator::linked_list::LinkedListAllocatorModule', 'non_resident_allocator': 'vnv_heap::modules::nonresident_allocator::buddy::NonResidentBuddyAllocatorModule<19>'}, 'options.modules.allocator': 'vnv_heap::modules::allocator::linked_list::LinkedListAllocatorModule', 'options.modules.non_resident_allocator': 'vnv_heap::modules::nonresident_allocator::buddy::NonResidentBuddyAllocatorModule<19>', 'bench_name': 'get_max', 'machine_name': 'esp32c3', 'cold_start': 0, 'repetitions': 100, 'ticks_per_ms': 16000}, {'mean': 476614.75, 'min': 476614, 'max': 476615, 'options.object_size': 800, 'options.blocker_size': 1024, 'options.modules': {'allocator': 'vnv_heap::modules::allocator::linked_list::LinkedListAllocatorModule', 'non_resident_allocator': 'vnv_heap::modules::nonresident_allocator::buddy::NonResidentBuddyAllocatorModule<19>'}, 'options.modules.allocator': 'vnv_heap::modules::allocator::linked_list::LinkedListAllocatorModule', 'options.modules.non_resident_allocator': 'vnv_heap::modules::nonresident_allocator::buddy::NonResidentBuddyAllocatorModule<19>', 'bench_name': 'get_max', 'machine_name': 'esp32c3', 'cold_start': 0, 'repetitions': 100, 'ticks_per_ms': 16000}, {'mean': 479464.81, 'min': 479464, 'max': 479465, 'options.object_size': 816, 'options.blocker_size': 1024, 'options.modules': {'allocator': 'vnv_heap::modules::allocator::linked_list::LinkedListAllocatorModule', 'non_resident_allocator': 'vnv_heap::modules::nonresident_allocator::buddy::NonResidentBuddyAllocatorModule<19>'}, 'options.modules.allocator': 'vnv_heap::modules::allocator::linked_list::LinkedListAllocatorModule', 'options.modules.non_resident_allocator': 'vnv_heap::modules::nonresident_allocator::buddy::NonResidentBuddyAllocatorModule<19>', 'bench_name': 'get_max', 'machine_name': 'esp32c3', 'cold_start': 0, 'repetitions': 100, 'ticks_per_ms': 16000}, {'mean': 482539.01, 'min': 482539, 'max': 482540, 'options.object_size': 832, 'options.blocker_size': 1024, 'options.modules': {'allocator': 'vnv_heap::modules::allocator::linked_list::LinkedListAllocatorModule', 'non_resident_allocator': 'vnv_heap::modules::nonresident_allocator::buddy::NonResidentBuddyAllocatorModule<19>'}, 'options.modules.allocator': 'vnv_heap::modules::allocator::linked_list::LinkedListAllocatorModule', 'options.modules.non_resident_allocator': 'vnv_heap::modules::nonresident_allocator::buddy::NonResidentBuddyAllocatorModule<19>', 'bench_name': 'get_max', 'machine_name': 'esp32c3', 'cold_start': 0, 'repetitions': 100, 'ticks_per_ms': 16000}, {'mean': 485485.63, 'min': 485485, 'max': 485548, 'options.object_size': 848, 'options.blocker_size': 1024, 'options.modules': {'allocator': 'vnv_heap::modules::allocator::linked_list::LinkedListAllocatorModule', 'non_resident_allocator': 'vnv_heap::modules::nonresident_allocator::buddy::NonResidentBuddyAllocatorModule<19>'}, 'options.modules.allocator': 'vnv_heap::modules::allocator::linked_list::LinkedListAllocatorModule', 'options.modules.non_resident_allocator': 'vnv_heap::modules::nonresident_allocator::buddy::NonResidentBuddyAllocatorModule<19>', 'bench_name': 'get_max', 'machine_name': 'esp32c3', 'cold_start': 0, 'repetitions': 100, 'ticks_per_ms': 16000}, {'mean': 488429.66, 'min': 488429, 'max': 488493, 'options.object_size': 864, 'options.blocker_size': 1024, 'options.modules': {'allocator': 'vnv_heap::modules::allocator::linked_list::LinkedListAllocatorModule', 'non_resident_allocator': 'vnv_heap::modules::nonresident_allocator::buddy::NonResidentBuddyAllocatorModule<19>'}, 'options.modules.allocator': 'vnv_heap::modules::allocator::linked_list::LinkedListAllocatorModule', 'options.modules.non_resident_allocator': 'vnv_heap::modules::nonresident_allocator::buddy::NonResidentBuddyAllocatorModule<19>', 'bench_name': 'get_max', 'machine_name': 'esp32c3', 'cold_start': 0, 'repetitions': 100, 'ticks_per_ms': 16000}, {'mean': 491304.56, 'min': 491304, 'max': 491360, 'options.object_size': 880, 'options.blocker_size': 1024, 'options.modules': {'allocator': 'vnv_heap::modules::allocator::linked_list::LinkedListAllocatorModule', 'non_resident_allocator': 'vnv_heap::modules::nonresident_allocator::buddy::NonResidentBuddyAllocatorModule<19>'}, 'options.modules.allocator': 'vnv_heap::modules::allocator::linked_list::LinkedListAllocatorModule', 'options.modules.non_resident_allocator': 'vnv_heap::modules::nonresident_allocator::buddy::NonResidentBuddyAllocatorModule<19>', 'bench_name': 'get_max', 'machine_name': 'esp32c3', 'cold_start': 0, 'repetitions': 100, 'ticks_per_ms': 16000}, {'mean': 494289.32, 'min': 494289, 'max': 494290, 'options.object_size': 896, 'options.blocker_size': 1024, 'options.modules': {'allocator': 'vnv_heap::modules::allocator::linked_list::LinkedListAllocatorModule', 'non_resident_allocator': 'vnv_heap::modules::nonresident_allocator::buddy::NonResidentBuddyAllocatorModule<19>'}, 'options.modules.allocator': 'vnv_heap::modules::allocator::linked_list::LinkedListAllocatorModule', 'options.modules.non_resident_allocator': 'vnv_heap::modules::nonresident_allocator::buddy::NonResidentBuddyAllocatorModule<19>', 'bench_name': 'get_max', 'machine_name': 'esp32c3', 'cold_start': 0, 'repetitions': 100, 'ticks_per_ms': 16000}, {'mean': 497248.02, 'min': 497248, 'max': 497249, 'options.object_size': 912, 'options.blocker_size': 1024, 'options.modules': {'allocator': 'vnv_heap::modules::allocator::linked_list::LinkedListAllocatorModule', 'non_resident_allocator': 'vnv_heap::modules::nonresident_allocator::buddy::NonResidentBuddyAllocatorModule<19>'}, 'options.modules.allocator': 'vnv_heap::modules::allocator::linked_list::LinkedListAllocatorModule', 'options.modules.non_resident_allocator': 'vnv_heap::modules::nonresident_allocator::buddy::NonResidentBuddyAllocatorModule<19>', 'bench_name': 'get_max', 'machine_name': 'esp32c3', 'cold_start': 0, 'repetitions': 100, 'ticks_per_ms': 16000}, {'mean': 500199.99, 'min': 500199, 'max': 500200, 'options.object_size': 928, 'options.blocker_size': 1024, 'options.modules': {'allocator': 'vnv_heap::modules::allocator::linked_list::LinkedListAllocatorModule', 'non_resident_allocator': 'vnv_heap::modules::nonresident_allocator::buddy::NonResidentBuddyAllocatorModule<19>'}, 'options.modules.allocator': 'vnv_heap::modules::allocator::linked_list::LinkedListAllocatorModule', 'options.modules.non_resident_allocator': 'vnv_heap::modules::nonresident_allocator::buddy::NonResidentBuddyAllocatorModule<19>', 'bench_name': 'get_max', 'machine_name': 'esp32c3', 'cold_start': 0, 'repetitions': 100, 'ticks_per_ms': 16000}, {'mean': 503205.33, 'min': 503205, 'max': 503237, 'options.object_size': 944, 'options.blocker_size': 1024, 'options.modules': {'allocator': 'vnv_heap::modules::allocator::linked_list::LinkedListAllocatorModule', 'non_resident_allocator': 'vnv_heap::modules::nonresident_allocator::buddy::NonResidentBuddyAllocatorModule<19>'}, 'options.modules.allocator': 'vnv_heap::modules::allocator::linked_list::LinkedListAllocatorModule', 'options.modules.non_resident_allocator': 'vnv_heap::modules::nonresident_allocator::buddy::NonResidentBuddyAllocatorModule<19>', 'bench_name': 'get_max', 'machine_name': 'esp32c3', 'cold_start': 0, 'repetitions': 100, 'ticks_per_ms': 16000}, {'mean': 506053.97, 'min': 506053, 'max': 506054, 'options.object_size': 960, 'options.blocker_size': 1024, 'options.modules': {'allocator': 'vnv_heap::modules::allocator::linked_list::LinkedListAllocatorModule', 'non_resident_allocator': 'vnv_heap::modules::nonresident_allocator::buddy::NonResidentBuddyAllocatorModule<19>'}, 'options.modules.allocator': 'vnv_heap::modules::allocator::linked_list::LinkedListAllocatorModule', 'options.modules.non_resident_allocator': 'vnv_heap::modules::nonresident_allocator::buddy::NonResidentBuddyAllocatorModule<19>', 'bench_name': 'get_max', 'machine_name': 'esp32c3', 'cold_start': 0, 'repetitions': 100, 'ticks_per_ms': 16000}, {'mean': 509130.07, 'min': 509129, 'max': 509193, 'options.object_size': 976, 'options.blocker_size': 1024, 'options.modules': {'allocator': 'vnv_heap::modules::allocator::linked_list::LinkedListAllocatorModule', 'non_resident_allocator': 'vnv_heap::modules::nonresident_allocator::buddy::NonResidentBuddyAllocatorModule<19>'}, 'options.modules.allocator': 'vnv_heap::modules::allocator::linked_list::LinkedListAllocatorModule', 'options.modules.non_resident_allocator': 'vnv_heap::modules::nonresident_allocator::buddy::NonResidentBuddyAllocatorModule<19>', 'bench_name': 'get_max', 'machine_name': 'esp32c3', 'cold_start': 0, 'repetitions': 100, 'ticks_per_ms': 16000}, {'mean': 511980.62, 'min': 511980, 'max': 512042, 'options.object_size': 992, 'options.blocker_size': 1024, 'options.modules': {'allocator': 'vnv_heap::modules::allocator::linked_list::LinkedListAllocatorModule', 'non_resident_allocator': 'vnv_heap::modules::nonresident_allocator::buddy::NonResidentBuddyAllocatorModule<19>'}, 'options.modules.allocator': 'vnv_heap::modules::allocator::linked_list::LinkedListAllocatorModule', 'options.modules.non_resident_allocator': 'vnv_heap::modules::nonresident_allocator::buddy::NonResidentBuddyAllocatorModule<19>', 'bench_name': 'get_max', 'machine_name': 'esp32c3', 'cold_start': 0, 'repetitions': 100, 'ticks_per_ms': 16000}, {'mean': 515039.6, 'min': 515039, 'max': 515040, 'options.object_size': 1008, 'options.blocker_size': 1024, 'options.modules': {'allocator': 'vnv_heap::modules::allocator::linked_list::LinkedListAllocatorModule', 'non_resident_allocator': 'vnv_heap::modules::nonresident_allocator::buddy::NonResidentBuddyAllocatorModule<19>'}, 'options.modules.allocator': 'vnv_heap::modules::allocator::linked_list::LinkedListAllocatorModule', 'options.modules.non_resident_allocator': 'vnv_heap::modules::nonresident_allocator::buddy::NonResidentBuddyAllocatorModule<19>', 'bench_name': 'get_max', 'machine_name': 'esp32c3', 'cold_start': 0, 'repetitions': 100, 'ticks_per_ms': 16000}, {'mean': 517983.01, 'min': 517983, 'max': 517984, 'options.object_size': 1024, 'options.blocker_size': 1024, 'options.modules': {'allocator': 'vnv_heap::modules::allocator::linked_list::LinkedListAllocatorModule', 'non_resident_allocator': 'vnv_heap::modules::nonresident_allocator::buddy::NonResidentBuddyAllocatorModule<19>'}, 'options.modules.allocator': 'vnv_heap::modules::allocator::linked_list::LinkedListAllocatorModule', 'options.modules.non_resident_allocator': 'vnv_heap::modules::nonresident_allocator::buddy::NonResidentBuddyAllocatorModule<19>', 'bench_name': 'get_max', 'machine_name': 'esp32c3', 'cold_start': 0, 'repetitions': 100, 'ticks_per_ms': 16000}]\n",
      "[{'mean': 597.49, 'min': 597, 'max': 598, 'options.object_size': 0, 'options.bucket_size': 1044, 'options.modules': {'allocator': 'vnv_heap::modules::allocator::linked_list::LinkedListAllocatorModule'}, 'options.modules.allocator': 'vnv_heap::modules::allocator::linked_list::LinkedListAllocatorModule', 'bench_name': 'baseline_get_min', 'machine_name': 'esp32c3', 'cold_start': 0, 'repetitions': 100, 'ticks_per_ms': 16000}, {'mean': 597.56, 'min': 597, 'max': 598, 'options.object_size': 16, 'options.bucket_size': 1044, 'options.modules': {'allocator': 'vnv_heap::modules::allocator::linked_list::LinkedListAllocatorModule'}, 'options.modules.allocator': 'vnv_heap::modules::allocator::linked_list::LinkedListAllocatorModule', 'bench_name': 'baseline_get_min', 'machine_name': 'esp32c3', 'cold_start': 0, 'repetitions': 100, 'ticks_per_ms': 16000}, {'mean': 597.5, 'min': 597, 'max': 598, 'options.object_size': 32, 'options.bucket_size': 1044, 'options.modules': {'allocator': 'vnv_heap::modules::allocator::linked_list::LinkedListAllocatorModule'}, 'options.modules.allocator': 'vnv_heap::modules::allocator::linked_list::LinkedListAllocatorModule', 'bench_name': 'baseline_get_min', 'machine_name': 'esp32c3', 'cold_start': 0, 'repetitions': 100, 'ticks_per_ms': 16000}, {'mean': 597.7, 'min': 597, 'max': 598, 'options.object_size': 48, 'options.bucket_size': 1044, 'options.modules': {'allocator': 'vnv_heap::modules::allocator::linked_list::LinkedListAllocatorModule'}, 'options.modules.allocator': 'vnv_heap::modules::allocator::linked_list::LinkedListAllocatorModule', 'bench_name': 'baseline_get_min', 'machine_name': 'esp32c3', 'cold_start': 0, 'repetitions': 100, 'ticks_per_ms': 16000}, {'mean': 597.64, 'min': 597, 'max': 598, 'options.object_size': 64, 'options.bucket_size': 1044, 'options.modules': {'allocator': 'vnv_heap::modules::allocator::linked_list::LinkedListAllocatorModule'}, 'options.modules.allocator': 'vnv_heap::modules::allocator::linked_list::LinkedListAllocatorModule', 'bench_name': 'baseline_get_min', 'machine_name': 'esp32c3', 'cold_start': 0, 'repetitions': 100, 'ticks_per_ms': 16000}, {'mean': 597.51, 'min': 597, 'max': 598, 'options.object_size': 80, 'options.bucket_size': 1044, 'options.modules': {'allocator': 'vnv_heap::modules::allocator::linked_list::LinkedListAllocatorModule'}, 'options.modules.allocator': 'vnv_heap::modules::allocator::linked_list::LinkedListAllocatorModule', 'bench_name': 'baseline_get_min', 'machine_name': 'esp32c3', 'cold_start': 0, 'repetitions': 100, 'ticks_per_ms': 16000}, {'mean': 597.66, 'min': 597, 'max': 598, 'options.object_size': 96, 'options.bucket_size': 1044, 'options.modules': {'allocator': 'vnv_heap::modules::allocator::linked_list::LinkedListAllocatorModule'}, 'options.modules.allocator': 'vnv_heap::modules::allocator::linked_list::LinkedListAllocatorModule', 'bench_name': 'baseline_get_min', 'machine_name': 'esp32c3', 'cold_start': 0, 'repetitions': 100, 'ticks_per_ms': 16000}, {'mean': 597.69, 'min': 597, 'max': 598, 'options.object_size': 112, 'options.bucket_size': 1044, 'options.modules': {'allocator': 'vnv_heap::modules::allocator::linked_list::LinkedListAllocatorModule'}, 'options.modules.allocator': 'vnv_heap::modules::allocator::linked_list::LinkedListAllocatorModule', 'bench_name': 'baseline_get_min', 'machine_name': 'esp32c3', 'cold_start': 0, 'repetitions': 100, 'ticks_per_ms': 16000}, {'mean': 597.58, 'min': 597, 'max': 598, 'options.object_size': 128, 'options.bucket_size': 1044, 'options.modules': {'allocator': 'vnv_heap::modules::allocator::linked_list::LinkedListAllocatorModule'}, 'options.modules.allocator': 'vnv_heap::modules::allocator::linked_list::LinkedListAllocatorModule', 'bench_name': 'baseline_get_min', 'machine_name': 'esp32c3', 'cold_start': 0, 'repetitions': 100, 'ticks_per_ms': 16000}, {'mean': 597.64, 'min': 597, 'max': 598, 'options.object_size': 144, 'options.bucket_size': 1044, 'options.modules': {'allocator': 'vnv_heap::modules::allocator::linked_list::LinkedListAllocatorModule'}, 'options.modules.allocator': 'vnv_heap::modules::allocator::linked_list::LinkedListAllocatorModule', 'bench_name': 'baseline_get_min', 'machine_name': 'esp32c3', 'cold_start': 0, 'repetitions': 100, 'ticks_per_ms': 16000}, {'mean': 597.58, 'min': 597, 'max': 598, 'options.object_size': 160, 'options.bucket_size': 1044, 'options.modules': {'allocator': 'vnv_heap::modules::allocator::linked_list::LinkedListAllocatorModule'}, 'options.modules.allocator': 'vnv_heap::modules::allocator::linked_list::LinkedListAllocatorModule', 'bench_name': 'baseline_get_min', 'machine_name': 'esp32c3', 'cold_start': 0, 'repetitions': 100, 'ticks_per_ms': 16000}, {'mean': 597.61, 'min': 597, 'max': 598, 'options.object_size': 176, 'options.bucket_size': 1044, 'options.modules': {'allocator': 'vnv_heap::modules::allocator::linked_list::LinkedListAllocatorModule'}, 'options.modules.allocator': 'vnv_heap::modules::allocator::linked_list::LinkedListAllocatorModule', 'bench_name': 'baseline_get_min', 'machine_name': 'esp32c3', 'cold_start': 0, 'repetitions': 100, 'ticks_per_ms': 16000}, {'mean': 597.6, 'min': 597, 'max': 598, 'options.object_size': 192, 'options.bucket_size': 1044, 'options.modules': {'allocator': 'vnv_heap::modules::allocator::linked_list::LinkedListAllocatorModule'}, 'options.modules.allocator': 'vnv_heap::modules::allocator::linked_list::LinkedListAllocatorModule', 'bench_name': 'baseline_get_min', 'machine_name': 'esp32c3', 'cold_start': 0, 'repetitions': 100, 'ticks_per_ms': 16000}, {'mean': 597.57, 'min': 597, 'max': 598, 'options.object_size': 208, 'options.bucket_size': 1044, 'options.modules': {'allocator': 'vnv_heap::modules::allocator::linked_list::LinkedListAllocatorModule'}, 'options.modules.allocator': 'vnv_heap::modules::allocator::linked_list::LinkedListAllocatorModule', 'bench_name': 'baseline_get_min', 'machine_name': 'esp32c3', 'cold_start': 0, 'repetitions': 100, 'ticks_per_ms': 16000}, {'mean': 597.64, 'min': 597, 'max': 598, 'options.object_size': 224, 'options.bucket_size': 1044, 'options.modules': {'allocator': 'vnv_heap::modules::allocator::linked_list::LinkedListAllocatorModule'}, 'options.modules.allocator': 'vnv_heap::modules::allocator::linked_list::LinkedListAllocatorModule', 'bench_name': 'baseline_get_min', 'machine_name': 'esp32c3', 'cold_start': 0, 'repetitions': 100, 'ticks_per_ms': 16000}, {'mean': 597.57, 'min': 597, 'max': 598, 'options.object_size': 240, 'options.bucket_size': 1044, 'options.modules': {'allocator': 'vnv_heap::modules::allocator::linked_list::LinkedListAllocatorModule'}, 'options.modules.allocator': 'vnv_heap::modules::allocator::linked_list::LinkedListAllocatorModule', 'bench_name': 'baseline_get_min', 'machine_name': 'esp32c3', 'cold_start': 0, 'repetitions': 100, 'ticks_per_ms': 16000}, {'mean': 597.57, 'min': 597, 'max': 598, 'options.object_size': 256, 'options.bucket_size': 1044, 'options.modules': {'allocator': 'vnv_heap::modules::allocator::linked_list::LinkedListAllocatorModule'}, 'options.modules.allocator': 'vnv_heap::modules::allocator::linked_list::LinkedListAllocatorModule', 'bench_name': 'baseline_get_min', 'machine_name': 'esp32c3', 'cold_start': 0, 'repetitions': 100, 'ticks_per_ms': 16000}, {'mean': 597.67, 'min': 597, 'max': 598, 'options.object_size': 272, 'options.bucket_size': 1044, 'options.modules': {'allocator': 'vnv_heap::modules::allocator::linked_list::LinkedListAllocatorModule'}, 'options.modules.allocator': 'vnv_heap::modules::allocator::linked_list::LinkedListAllocatorModule', 'bench_name': 'baseline_get_min', 'machine_name': 'esp32c3', 'cold_start': 0, 'repetitions': 100, 'ticks_per_ms': 16000}, {'mean': 597.63, 'min': 597, 'max': 598, 'options.object_size': 288, 'options.bucket_size': 1044, 'options.modules': {'allocator': 'vnv_heap::modules::allocator::linked_list::LinkedListAllocatorModule'}, 'options.modules.allocator': 'vnv_heap::modules::allocator::linked_list::LinkedListAllocatorModule', 'bench_name': 'baseline_get_min', 'machine_name': 'esp32c3', 'cold_start': 0, 'repetitions': 100, 'ticks_per_ms': 16000}, {'mean': 597.57, 'min': 597, 'max': 598, 'options.object_size': 304, 'options.bucket_size': 1044, 'options.modules': {'allocator': 'vnv_heap::modules::allocator::linked_list::LinkedListAllocatorModule'}, 'options.modules.allocator': 'vnv_heap::modules::allocator::linked_list::LinkedListAllocatorModule', 'bench_name': 'baseline_get_min', 'machine_name': 'esp32c3', 'cold_start': 0, 'repetitions': 100, 'ticks_per_ms': 16000}, {'mean': 597.58, 'min': 597, 'max': 598, 'options.object_size': 320, 'options.bucket_size': 1044, 'options.modules': {'allocator': 'vnv_heap::modules::allocator::linked_list::LinkedListAllocatorModule'}, 'options.modules.allocator': 'vnv_heap::modules::allocator::linked_list::LinkedListAllocatorModule', 'bench_name': 'baseline_get_min', 'machine_name': 'esp32c3', 'cold_start': 0, 'repetitions': 100, 'ticks_per_ms': 16000}, {'mean': 597.6, 'min': 597, 'max': 598, 'options.object_size': 336, 'options.bucket_size': 1044, 'options.modules': {'allocator': 'vnv_heap::modules::allocator::linked_list::LinkedListAllocatorModule'}, 'options.modules.allocator': 'vnv_heap::modules::allocator::linked_list::LinkedListAllocatorModule', 'bench_name': 'baseline_get_min', 'machine_name': 'esp32c3', 'cold_start': 0, 'repetitions': 100, 'ticks_per_ms': 16000}, {'mean': 597.58, 'min': 597, 'max': 598, 'options.object_size': 352, 'options.bucket_size': 1044, 'options.modules': {'allocator': 'vnv_heap::modules::allocator::linked_list::LinkedListAllocatorModule'}, 'options.modules.allocator': 'vnv_heap::modules::allocator::linked_list::LinkedListAllocatorModule', 'bench_name': 'baseline_get_min', 'machine_name': 'esp32c3', 'cold_start': 0, 'repetitions': 100, 'ticks_per_ms': 16000}, {'mean': 597.65, 'min': 597, 'max': 598, 'options.object_size': 368, 'options.bucket_size': 1044, 'options.modules': {'allocator': 'vnv_heap::modules::allocator::linked_list::LinkedListAllocatorModule'}, 'options.modules.allocator': 'vnv_heap::modules::allocator::linked_list::LinkedListAllocatorModule', 'bench_name': 'baseline_get_min', 'machine_name': 'esp32c3', 'cold_start': 0, 'repetitions': 100, 'ticks_per_ms': 16000}, {'mean': 597.63, 'min': 597, 'max': 598, 'options.object_size': 384, 'options.bucket_size': 1044, 'options.modules': {'allocator': 'vnv_heap::modules::allocator::linked_list::LinkedListAllocatorModule'}, 'options.modules.allocator': 'vnv_heap::modules::allocator::linked_list::LinkedListAllocatorModule', 'bench_name': 'baseline_get_min', 'machine_name': 'esp32c3', 'cold_start': 0, 'repetitions': 100, 'ticks_per_ms': 16000}, {'mean': 597.63, 'min': 597, 'max': 598, 'options.object_size': 400, 'options.bucket_size': 1044, 'options.modules': {'allocator': 'vnv_heap::modules::allocator::linked_list::LinkedListAllocatorModule'}, 'options.modules.allocator': 'vnv_heap::modules::allocator::linked_list::LinkedListAllocatorModule', 'bench_name': 'baseline_get_min', 'machine_name': 'esp32c3', 'cold_start': 0, 'repetitions': 100, 'ticks_per_ms': 16000}, {'mean': 597.69, 'min': 597, 'max': 598, 'options.object_size': 416, 'options.bucket_size': 1044, 'options.modules': {'allocator': 'vnv_heap::modules::allocator::linked_list::LinkedListAllocatorModule'}, 'options.modules.allocator': 'vnv_heap::modules::allocator::linked_list::LinkedListAllocatorModule', 'bench_name': 'baseline_get_min', 'machine_name': 'esp32c3', 'cold_start': 0, 'repetitions': 100, 'ticks_per_ms': 16000}, {'mean': 597.57, 'min': 597, 'max': 598, 'options.object_size': 432, 'options.bucket_size': 1044, 'options.modules': {'allocator': 'vnv_heap::modules::allocator::linked_list::LinkedListAllocatorModule'}, 'options.modules.allocator': 'vnv_heap::modules::allocator::linked_list::LinkedListAllocatorModule', 'bench_name': 'baseline_get_min', 'machine_name': 'esp32c3', 'cold_start': 0, 'repetitions': 100, 'ticks_per_ms': 16000}, {'mean': 597.6, 'min': 597, 'max': 598, 'options.object_size': 448, 'options.bucket_size': 1044, 'options.modules': {'allocator': 'vnv_heap::modules::allocator::linked_list::LinkedListAllocatorModule'}, 'options.modules.allocator': 'vnv_heap::modules::allocator::linked_list::LinkedListAllocatorModule', 'bench_name': 'baseline_get_min', 'machine_name': 'esp32c3', 'cold_start': 0, 'repetitions': 100, 'ticks_per_ms': 16000}, {'mean': 597.57, 'min': 597, 'max': 598, 'options.object_size': 464, 'options.bucket_size': 1044, 'options.modules': {'allocator': 'vnv_heap::modules::allocator::linked_list::LinkedListAllocatorModule'}, 'options.modules.allocator': 'vnv_heap::modules::allocator::linked_list::LinkedListAllocatorModule', 'bench_name': 'baseline_get_min', 'machine_name': 'esp32c3', 'cold_start': 0, 'repetitions': 100, 'ticks_per_ms': 16000}, {'mean': 597.58, 'min': 597, 'max': 598, 'options.object_size': 480, 'options.bucket_size': 1044, 'options.modules': {'allocator': 'vnv_heap::modules::allocator::linked_list::LinkedListAllocatorModule'}, 'options.modules.allocator': 'vnv_heap::modules::allocator::linked_list::LinkedListAllocatorModule', 'bench_name': 'baseline_get_min', 'machine_name': 'esp32c3', 'cold_start': 0, 'repetitions': 100, 'ticks_per_ms': 16000}, {'mean': 597.51, 'min': 597, 'max': 598, 'options.object_size': 496, 'options.bucket_size': 1044, 'options.modules': {'allocator': 'vnv_heap::modules::allocator::linked_list::LinkedListAllocatorModule'}, 'options.modules.allocator': 'vnv_heap::modules::allocator::linked_list::LinkedListAllocatorModule', 'bench_name': 'baseline_get_min', 'machine_name': 'esp32c3', 'cold_start': 0, 'repetitions': 100, 'ticks_per_ms': 16000}, {'mean': 597.57, 'min': 597, 'max': 598, 'options.object_size': 512, 'options.bucket_size': 1044, 'options.modules': {'allocator': 'vnv_heap::modules::allocator::linked_list::LinkedListAllocatorModule'}, 'options.modules.allocator': 'vnv_heap::modules::allocator::linked_list::LinkedListAllocatorModule', 'bench_name': 'baseline_get_min', 'machine_name': 'esp32c3', 'cold_start': 0, 'repetitions': 100, 'ticks_per_ms': 16000}, {'mean': 597.63, 'min': 597, 'max': 598, 'options.object_size': 528, 'options.bucket_size': 1044, 'options.modules': {'allocator': 'vnv_heap::modules::allocator::linked_list::LinkedListAllocatorModule'}, 'options.modules.allocator': 'vnv_heap::modules::allocator::linked_list::LinkedListAllocatorModule', 'bench_name': 'baseline_get_min', 'machine_name': 'esp32c3', 'cold_start': 0, 'repetitions': 100, 'ticks_per_ms': 16000}, {'mean': 597.57, 'min': 597, 'max': 598, 'options.object_size': 544, 'options.bucket_size': 1044, 'options.modules': {'allocator': 'vnv_heap::modules::allocator::linked_list::LinkedListAllocatorModule'}, 'options.modules.allocator': 'vnv_heap::modules::allocator::linked_list::LinkedListAllocatorModule', 'bench_name': 'baseline_get_min', 'machine_name': 'esp32c3', 'cold_start': 0, 'repetitions': 100, 'ticks_per_ms': 16000}, {'mean': 597.6, 'min': 597, 'max': 598, 'options.object_size': 560, 'options.bucket_size': 1044, 'options.modules': {'allocator': 'vnv_heap::modules::allocator::linked_list::LinkedListAllocatorModule'}, 'options.modules.allocator': 'vnv_heap::modules::allocator::linked_list::LinkedListAllocatorModule', 'bench_name': 'baseline_get_min', 'machine_name': 'esp32c3', 'cold_start': 0, 'repetitions': 100, 'ticks_per_ms': 16000}, {'mean': 597.51, 'min': 597, 'max': 598, 'options.object_size': 576, 'options.bucket_size': 1044, 'options.modules': {'allocator': 'vnv_heap::modules::allocator::linked_list::LinkedListAllocatorModule'}, 'options.modules.allocator': 'vnv_heap::modules::allocator::linked_list::LinkedListAllocatorModule', 'bench_name': 'baseline_get_min', 'machine_name': 'esp32c3', 'cold_start': 0, 'repetitions': 100, 'ticks_per_ms': 16000}, {'mean': 597.49, 'min': 597, 'max': 598, 'options.object_size': 592, 'options.bucket_size': 1044, 'options.modules': {'allocator': 'vnv_heap::modules::allocator::linked_list::LinkedListAllocatorModule'}, 'options.modules.allocator': 'vnv_heap::modules::allocator::linked_list::LinkedListAllocatorModule', 'bench_name': 'baseline_get_min', 'machine_name': 'esp32c3', 'cold_start': 0, 'repetitions': 100, 'ticks_per_ms': 16000}, {'mean': 597.63, 'min': 597, 'max': 598, 'options.object_size': 608, 'options.bucket_size': 1044, 'options.modules': {'allocator': 'vnv_heap::modules::allocator::linked_list::LinkedListAllocatorModule'}, 'options.modules.allocator': 'vnv_heap::modules::allocator::linked_list::LinkedListAllocatorModule', 'bench_name': 'baseline_get_min', 'machine_name': 'esp32c3', 'cold_start': 0, 'repetitions': 100, 'ticks_per_ms': 16000}, {'mean': 597.61, 'min': 597, 'max': 598, 'options.object_size': 624, 'options.bucket_size': 1044, 'options.modules': {'allocator': 'vnv_heap::modules::allocator::linked_list::LinkedListAllocatorModule'}, 'options.modules.allocator': 'vnv_heap::modules::allocator::linked_list::LinkedListAllocatorModule', 'bench_name': 'baseline_get_min', 'machine_name': 'esp32c3', 'cold_start': 0, 'repetitions': 100, 'ticks_per_ms': 16000}, {'mean': 597.65, 'min': 597, 'max': 598, 'options.object_size': 640, 'options.bucket_size': 1044, 'options.modules': {'allocator': 'vnv_heap::modules::allocator::linked_list::LinkedListAllocatorModule'}, 'options.modules.allocator': 'vnv_heap::modules::allocator::linked_list::LinkedListAllocatorModule', 'bench_name': 'baseline_get_min', 'machine_name': 'esp32c3', 'cold_start': 0, 'repetitions': 100, 'ticks_per_ms': 16000}, {'mean': 597.58, 'min': 597, 'max': 598, 'options.object_size': 656, 'options.bucket_size': 1044, 'options.modules': {'allocator': 'vnv_heap::modules::allocator::linked_list::LinkedListAllocatorModule'}, 'options.modules.allocator': 'vnv_heap::modules::allocator::linked_list::LinkedListAllocatorModule', 'bench_name': 'baseline_get_min', 'machine_name': 'esp32c3', 'cold_start': 0, 'repetitions': 100, 'ticks_per_ms': 16000}, {'mean': 597.7, 'min': 597, 'max': 598, 'options.object_size': 672, 'options.bucket_size': 1044, 'options.modules': {'allocator': 'vnv_heap::modules::allocator::linked_list::LinkedListAllocatorModule'}, 'options.modules.allocator': 'vnv_heap::modules::allocator::linked_list::LinkedListAllocatorModule', 'bench_name': 'baseline_get_min', 'machine_name': 'esp32c3', 'cold_start': 0, 'repetitions': 100, 'ticks_per_ms': 16000}, {'mean': 597.56, 'min': 597, 'max': 598, 'options.object_size': 688, 'options.bucket_size': 1044, 'options.modules': {'allocator': 'vnv_heap::modules::allocator::linked_list::LinkedListAllocatorModule'}, 'options.modules.allocator': 'vnv_heap::modules::allocator::linked_list::LinkedListAllocatorModule', 'bench_name': 'baseline_get_min', 'machine_name': 'esp32c3', 'cold_start': 0, 'repetitions': 100, 'ticks_per_ms': 16000}, {'mean': 597.71, 'min': 597, 'max': 598, 'options.object_size': 704, 'options.bucket_size': 1044, 'options.modules': {'allocator': 'vnv_heap::modules::allocator::linked_list::LinkedListAllocatorModule'}, 'options.modules.allocator': 'vnv_heap::modules::allocator::linked_list::LinkedListAllocatorModule', 'bench_name': 'baseline_get_min', 'machine_name': 'esp32c3', 'cold_start': 0, 'repetitions': 100, 'ticks_per_ms': 16000}, {'mean': 597.53, 'min': 597, 'max': 598, 'options.object_size': 720, 'options.bucket_size': 1044, 'options.modules': {'allocator': 'vnv_heap::modules::allocator::linked_list::LinkedListAllocatorModule'}, 'options.modules.allocator': 'vnv_heap::modules::allocator::linked_list::LinkedListAllocatorModule', 'bench_name': 'baseline_get_min', 'machine_name': 'esp32c3', 'cold_start': 0, 'repetitions': 100, 'ticks_per_ms': 16000}, {'mean': 597.69, 'min': 597, 'max': 598, 'options.object_size': 736, 'options.bucket_size': 1044, 'options.modules': {'allocator': 'vnv_heap::modules::allocator::linked_list::LinkedListAllocatorModule'}, 'options.modules.allocator': 'vnv_heap::modules::allocator::linked_list::LinkedListAllocatorModule', 'bench_name': 'baseline_get_min', 'machine_name': 'esp32c3', 'cold_start': 0, 'repetitions': 100, 'ticks_per_ms': 16000}, {'mean': 597.5, 'min': 597, 'max': 598, 'options.object_size': 752, 'options.bucket_size': 1044, 'options.modules': {'allocator': 'vnv_heap::modules::allocator::linked_list::LinkedListAllocatorModule'}, 'options.modules.allocator': 'vnv_heap::modules::allocator::linked_list::LinkedListAllocatorModule', 'bench_name': 'baseline_get_min', 'machine_name': 'esp32c3', 'cold_start': 0, 'repetitions': 100, 'ticks_per_ms': 16000}, {'mean': 597.58, 'min': 597, 'max': 598, 'options.object_size': 768, 'options.bucket_size': 1044, 'options.modules': {'allocator': 'vnv_heap::modules::allocator::linked_list::LinkedListAllocatorModule'}, 'options.modules.allocator': 'vnv_heap::modules::allocator::linked_list::LinkedListAllocatorModule', 'bench_name': 'baseline_get_min', 'machine_name': 'esp32c3', 'cold_start': 0, 'repetitions': 100, 'ticks_per_ms': 16000}, {'mean': 597.58, 'min': 597, 'max': 598, 'options.object_size': 784, 'options.bucket_size': 1044, 'options.modules': {'allocator': 'vnv_heap::modules::allocator::linked_list::LinkedListAllocatorModule'}, 'options.modules.allocator': 'vnv_heap::modules::allocator::linked_list::LinkedListAllocatorModule', 'bench_name': 'baseline_get_min', 'machine_name': 'esp32c3', 'cold_start': 0, 'repetitions': 100, 'ticks_per_ms': 16000}, {'mean': 597.63, 'min': 597, 'max': 598, 'options.object_size': 800, 'options.bucket_size': 1044, 'options.modules': {'allocator': 'vnv_heap::modules::allocator::linked_list::LinkedListAllocatorModule'}, 'options.modules.allocator': 'vnv_heap::modules::allocator::linked_list::LinkedListAllocatorModule', 'bench_name': 'baseline_get_min', 'machine_name': 'esp32c3', 'cold_start': 0, 'repetitions': 100, 'ticks_per_ms': 16000}, {'mean': 597.64, 'min': 597, 'max': 598, 'options.object_size': 816, 'options.bucket_size': 1044, 'options.modules': {'allocator': 'vnv_heap::modules::allocator::linked_list::LinkedListAllocatorModule'}, 'options.modules.allocator': 'vnv_heap::modules::allocator::linked_list::LinkedListAllocatorModule', 'bench_name': 'baseline_get_min', 'machine_name': 'esp32c3', 'cold_start': 0, 'repetitions': 100, 'ticks_per_ms': 16000}, {'mean': 597.6, 'min': 597, 'max': 598, 'options.object_size': 832, 'options.bucket_size': 1044, 'options.modules': {'allocator': 'vnv_heap::modules::allocator::linked_list::LinkedListAllocatorModule'}, 'options.modules.allocator': 'vnv_heap::modules::allocator::linked_list::LinkedListAllocatorModule', 'bench_name': 'baseline_get_min', 'machine_name': 'esp32c3', 'cold_start': 0, 'repetitions': 100, 'ticks_per_ms': 16000}, {'mean': 597.7, 'min': 597, 'max': 598, 'options.object_size': 848, 'options.bucket_size': 1044, 'options.modules': {'allocator': 'vnv_heap::modules::allocator::linked_list::LinkedListAllocatorModule'}, 'options.modules.allocator': 'vnv_heap::modules::allocator::linked_list::LinkedListAllocatorModule', 'bench_name': 'baseline_get_min', 'machine_name': 'esp32c3', 'cold_start': 0, 'repetitions': 100, 'ticks_per_ms': 16000}, {'mean': 597.61, 'min': 597, 'max': 598, 'options.object_size': 864, 'options.bucket_size': 1044, 'options.modules': {'allocator': 'vnv_heap::modules::allocator::linked_list::LinkedListAllocatorModule'}, 'options.modules.allocator': 'vnv_heap::modules::allocator::linked_list::LinkedListAllocatorModule', 'bench_name': 'baseline_get_min', 'machine_name': 'esp32c3', 'cold_start': 0, 'repetitions': 100, 'ticks_per_ms': 16000}, {'mean': 597.57, 'min': 597, 'max': 598, 'options.object_size': 880, 'options.bucket_size': 1044, 'options.modules': {'allocator': 'vnv_heap::modules::allocator::linked_list::LinkedListAllocatorModule'}, 'options.modules.allocator': 'vnv_heap::modules::allocator::linked_list::LinkedListAllocatorModule', 'bench_name': 'baseline_get_min', 'machine_name': 'esp32c3', 'cold_start': 0, 'repetitions': 100, 'ticks_per_ms': 16000}, {'mean': 597.57, 'min': 597, 'max': 598, 'options.object_size': 896, 'options.bucket_size': 1044, 'options.modules': {'allocator': 'vnv_heap::modules::allocator::linked_list::LinkedListAllocatorModule'}, 'options.modules.allocator': 'vnv_heap::modules::allocator::linked_list::LinkedListAllocatorModule', 'bench_name': 'baseline_get_min', 'machine_name': 'esp32c3', 'cold_start': 0, 'repetitions': 100, 'ticks_per_ms': 16000}, {'mean': 597.71, 'min': 597, 'max': 598, 'options.object_size': 912, 'options.bucket_size': 1044, 'options.modules': {'allocator': 'vnv_heap::modules::allocator::linked_list::LinkedListAllocatorModule'}, 'options.modules.allocator': 'vnv_heap::modules::allocator::linked_list::LinkedListAllocatorModule', 'bench_name': 'baseline_get_min', 'machine_name': 'esp32c3', 'cold_start': 0, 'repetitions': 100, 'ticks_per_ms': 16000}, {'mean': 597.58, 'min': 597, 'max': 598, 'options.object_size': 928, 'options.bucket_size': 1044, 'options.modules': {'allocator': 'vnv_heap::modules::allocator::linked_list::LinkedListAllocatorModule'}, 'options.modules.allocator': 'vnv_heap::modules::allocator::linked_list::LinkedListAllocatorModule', 'bench_name': 'baseline_get_min', 'machine_name': 'esp32c3', 'cold_start': 0, 'repetitions': 100, 'ticks_per_ms': 16000}, {'mean': 597.47, 'min': 597, 'max': 598, 'options.object_size': 944, 'options.bucket_size': 1044, 'options.modules': {'allocator': 'vnv_heap::modules::allocator::linked_list::LinkedListAllocatorModule'}, 'options.modules.allocator': 'vnv_heap::modules::allocator::linked_list::LinkedListAllocatorModule', 'bench_name': 'baseline_get_min', 'machine_name': 'esp32c3', 'cold_start': 0, 'repetitions': 100, 'ticks_per_ms': 16000}, {'mean': 597.57, 'min': 597, 'max': 598, 'options.object_size': 960, 'options.bucket_size': 1044, 'options.modules': {'allocator': 'vnv_heap::modules::allocator::linked_list::LinkedListAllocatorModule'}, 'options.modules.allocator': 'vnv_heap::modules::allocator::linked_list::LinkedListAllocatorModule', 'bench_name': 'baseline_get_min', 'machine_name': 'esp32c3', 'cold_start': 0, 'repetitions': 100, 'ticks_per_ms': 16000}, {'mean': 597.58, 'min': 597, 'max': 598, 'options.object_size': 976, 'options.bucket_size': 1044, 'options.modules': {'allocator': 'vnv_heap::modules::allocator::linked_list::LinkedListAllocatorModule'}, 'options.modules.allocator': 'vnv_heap::modules::allocator::linked_list::LinkedListAllocatorModule', 'bench_name': 'baseline_get_min', 'machine_name': 'esp32c3', 'cold_start': 0, 'repetitions': 100, 'ticks_per_ms': 16000}, {'mean': 597.59, 'min': 597, 'max': 598, 'options.object_size': 992, 'options.bucket_size': 1044, 'options.modules': {'allocator': 'vnv_heap::modules::allocator::linked_list::LinkedListAllocatorModule'}, 'options.modules.allocator': 'vnv_heap::modules::allocator::linked_list::LinkedListAllocatorModule', 'bench_name': 'baseline_get_min', 'machine_name': 'esp32c3', 'cold_start': 0, 'repetitions': 100, 'ticks_per_ms': 16000}, {'mean': 597.5, 'min': 597, 'max': 598, 'options.object_size': 1008, 'options.bucket_size': 1044, 'options.modules': {'allocator': 'vnv_heap::modules::allocator::linked_list::LinkedListAllocatorModule'}, 'options.modules.allocator': 'vnv_heap::modules::allocator::linked_list::LinkedListAllocatorModule', 'bench_name': 'baseline_get_min', 'machine_name': 'esp32c3', 'cold_start': 0, 'repetitions': 100, 'ticks_per_ms': 16000}, {'mean': 597.57, 'min': 597, 'max': 598, 'options.object_size': 1024, 'options.bucket_size': 1044, 'options.modules': {'allocator': 'vnv_heap::modules::allocator::linked_list::LinkedListAllocatorModule'}, 'options.modules.allocator': 'vnv_heap::modules::allocator::linked_list::LinkedListAllocatorModule', 'bench_name': 'baseline_get_min', 'machine_name': 'esp32c3', 'cold_start': 0, 'repetitions': 100, 'ticks_per_ms': 16000}]\n",
      "[{'mean': 197730.98, 'min': 197730, 'max': 197731, 'options.object_size': 0, 'options.bucket_size': 1044, 'options.modules': {'allocator': 'vnv_heap::modules::allocator::linked_list::LinkedListAllocatorModule'}, 'options.modules.allocator': 'vnv_heap::modules::allocator::linked_list::LinkedListAllocatorModule', 'bench_name': 'baseline_get_min_max', 'machine_name': 'esp32c3', 'cold_start': 0, 'repetitions': 100, 'ticks_per_ms': 16000}, {'mean': 197730.99, 'min': 197730, 'max': 197731, 'options.object_size': 16, 'options.bucket_size': 1044, 'options.modules': {'allocator': 'vnv_heap::modules::allocator::linked_list::LinkedListAllocatorModule'}, 'options.modules.allocator': 'vnv_heap::modules::allocator::linked_list::LinkedListAllocatorModule', 'bench_name': 'baseline_get_min_max', 'machine_name': 'esp32c3', 'cold_start': 0, 'repetitions': 100, 'ticks_per_ms': 16000}, {'mean': 197731.0, 'min': 197731, 'max': 197731, 'options.object_size': 32, 'options.bucket_size': 1044, 'options.modules': {'allocator': 'vnv_heap::modules::allocator::linked_list::LinkedListAllocatorModule'}, 'options.modules.allocator': 'vnv_heap::modules::allocator::linked_list::LinkedListAllocatorModule', 'bench_name': 'baseline_get_min_max', 'machine_name': 'esp32c3', 'cold_start': 0, 'repetitions': 100, 'ticks_per_ms': 16000}, {'mean': 197730.98, 'min': 197730, 'max': 197731, 'options.object_size': 48, 'options.bucket_size': 1044, 'options.modules': {'allocator': 'vnv_heap::modules::allocator::linked_list::LinkedListAllocatorModule'}, 'options.modules.allocator': 'vnv_heap::modules::allocator::linked_list::LinkedListAllocatorModule', 'bench_name': 'baseline_get_min_max', 'machine_name': 'esp32c3', 'cold_start': 0, 'repetitions': 100, 'ticks_per_ms': 16000}, {'mean': 197730.44, 'min': 197730, 'max': 197731, 'options.object_size': 64, 'options.bucket_size': 1044, 'options.modules': {'allocator': 'vnv_heap::modules::allocator::linked_list::LinkedListAllocatorModule'}, 'options.modules.allocator': 'vnv_heap::modules::allocator::linked_list::LinkedListAllocatorModule', 'bench_name': 'baseline_get_min_max', 'machine_name': 'esp32c3', 'cold_start': 0, 'repetitions': 100, 'ticks_per_ms': 16000}, {'mean': 197730.51, 'min': 197730, 'max': 197731, 'options.object_size': 80, 'options.bucket_size': 1044, 'options.modules': {'allocator': 'vnv_heap::modules::allocator::linked_list::LinkedListAllocatorModule'}, 'options.modules.allocator': 'vnv_heap::modules::allocator::linked_list::LinkedListAllocatorModule', 'bench_name': 'baseline_get_min_max', 'machine_name': 'esp32c3', 'cold_start': 0, 'repetitions': 100, 'ticks_per_ms': 16000}, {'mean': 197730.99, 'min': 197730, 'max': 197731, 'options.object_size': 96, 'options.bucket_size': 1044, 'options.modules': {'allocator': 'vnv_heap::modules::allocator::linked_list::LinkedListAllocatorModule'}, 'options.modules.allocator': 'vnv_heap::modules::allocator::linked_list::LinkedListAllocatorModule', 'bench_name': 'baseline_get_min_max', 'machine_name': 'esp32c3', 'cold_start': 0, 'repetitions': 100, 'ticks_per_ms': 16000}, {'mean': 197730.45, 'min': 197730, 'max': 197731, 'options.object_size': 112, 'options.bucket_size': 1044, 'options.modules': {'allocator': 'vnv_heap::modules::allocator::linked_list::LinkedListAllocatorModule'}, 'options.modules.allocator': 'vnv_heap::modules::allocator::linked_list::LinkedListAllocatorModule', 'bench_name': 'baseline_get_min_max', 'machine_name': 'esp32c3', 'cold_start': 0, 'repetitions': 100, 'ticks_per_ms': 16000}, {'mean': 197731.0, 'min': 197731, 'max': 197731, 'options.object_size': 128, 'options.bucket_size': 1044, 'options.modules': {'allocator': 'vnv_heap::modules::allocator::linked_list::LinkedListAllocatorModule'}, 'options.modules.allocator': 'vnv_heap::modules::allocator::linked_list::LinkedListAllocatorModule', 'bench_name': 'baseline_get_min_max', 'machine_name': 'esp32c3', 'cold_start': 0, 'repetitions': 100, 'ticks_per_ms': 16000}, {'mean': 197730.98, 'min': 197730, 'max': 197731, 'options.object_size': 144, 'options.bucket_size': 1044, 'options.modules': {'allocator': 'vnv_heap::modules::allocator::linked_list::LinkedListAllocatorModule'}, 'options.modules.allocator': 'vnv_heap::modules::allocator::linked_list::LinkedListAllocatorModule', 'bench_name': 'baseline_get_min_max', 'machine_name': 'esp32c3', 'cold_start': 0, 'repetitions': 100, 'ticks_per_ms': 16000}, {'mean': 197730.44, 'min': 197730, 'max': 197731, 'options.object_size': 160, 'options.bucket_size': 1044, 'options.modules': {'allocator': 'vnv_heap::modules::allocator::linked_list::LinkedListAllocatorModule'}, 'options.modules.allocator': 'vnv_heap::modules::allocator::linked_list::LinkedListAllocatorModule', 'bench_name': 'baseline_get_min_max', 'machine_name': 'esp32c3', 'cold_start': 0, 'repetitions': 100, 'ticks_per_ms': 16000}, {'mean': 197730.98, 'min': 197730, 'max': 197731, 'options.object_size': 176, 'options.bucket_size': 1044, 'options.modules': {'allocator': 'vnv_heap::modules::allocator::linked_list::LinkedListAllocatorModule'}, 'options.modules.allocator': 'vnv_heap::modules::allocator::linked_list::LinkedListAllocatorModule', 'bench_name': 'baseline_get_min_max', 'machine_name': 'esp32c3', 'cold_start': 0, 'repetitions': 100, 'ticks_per_ms': 16000}, {'mean': 197730.98, 'min': 197730, 'max': 197731, 'options.object_size': 192, 'options.bucket_size': 1044, 'options.modules': {'allocator': 'vnv_heap::modules::allocator::linked_list::LinkedListAllocatorModule'}, 'options.modules.allocator': 'vnv_heap::modules::allocator::linked_list::LinkedListAllocatorModule', 'bench_name': 'baseline_get_min_max', 'machine_name': 'esp32c3', 'cold_start': 0, 'repetitions': 100, 'ticks_per_ms': 16000}, {'mean': 197730.99, 'min': 197730, 'max': 197731, 'options.object_size': 208, 'options.bucket_size': 1044, 'options.modules': {'allocator': 'vnv_heap::modules::allocator::linked_list::LinkedListAllocatorModule'}, 'options.modules.allocator': 'vnv_heap::modules::allocator::linked_list::LinkedListAllocatorModule', 'bench_name': 'baseline_get_min_max', 'machine_name': 'esp32c3', 'cold_start': 0, 'repetitions': 100, 'ticks_per_ms': 16000}, {'mean': 197730.44, 'min': 197730, 'max': 197731, 'options.object_size': 224, 'options.bucket_size': 1044, 'options.modules': {'allocator': 'vnv_heap::modules::allocator::linked_list::LinkedListAllocatorModule'}, 'options.modules.allocator': 'vnv_heap::modules::allocator::linked_list::LinkedListAllocatorModule', 'bench_name': 'baseline_get_min_max', 'machine_name': 'esp32c3', 'cold_start': 0, 'repetitions': 100, 'ticks_per_ms': 16000}, {'mean': 197730.99, 'min': 197730, 'max': 197731, 'options.object_size': 240, 'options.bucket_size': 1044, 'options.modules': {'allocator': 'vnv_heap::modules::allocator::linked_list::LinkedListAllocatorModule'}, 'options.modules.allocator': 'vnv_heap::modules::allocator::linked_list::LinkedListAllocatorModule', 'bench_name': 'baseline_get_min_max', 'machine_name': 'esp32c3', 'cold_start': 0, 'repetitions': 100, 'ticks_per_ms': 16000}, {'mean': 197731.0, 'min': 197731, 'max': 197731, 'options.object_size': 256, 'options.bucket_size': 1044, 'options.modules': {'allocator': 'vnv_heap::modules::allocator::linked_list::LinkedListAllocatorModule'}, 'options.modules.allocator': 'vnv_heap::modules::allocator::linked_list::LinkedListAllocatorModule', 'bench_name': 'baseline_get_min_max', 'machine_name': 'esp32c3', 'cold_start': 0, 'repetitions': 100, 'ticks_per_ms': 16000}, {'mean': 197730.97, 'min': 197730, 'max': 197731, 'options.object_size': 272, 'options.bucket_size': 1044, 'options.modules': {'allocator': 'vnv_heap::modules::allocator::linked_list::LinkedListAllocatorModule'}, 'options.modules.allocator': 'vnv_heap::modules::allocator::linked_list::LinkedListAllocatorModule', 'bench_name': 'baseline_get_min_max', 'machine_name': 'esp32c3', 'cold_start': 0, 'repetitions': 100, 'ticks_per_ms': 16000}, {'mean': 197730.99, 'min': 197730, 'max': 197731, 'options.object_size': 288, 'options.bucket_size': 1044, 'options.modules': {'allocator': 'vnv_heap::modules::allocator::linked_list::LinkedListAllocatorModule'}, 'options.modules.allocator': 'vnv_heap::modules::allocator::linked_list::LinkedListAllocatorModule', 'bench_name': 'baseline_get_min_max', 'machine_name': 'esp32c3', 'cold_start': 0, 'repetitions': 100, 'ticks_per_ms': 16000}, {'mean': 197730.99, 'min': 197730, 'max': 197731, 'options.object_size': 304, 'options.bucket_size': 1044, 'options.modules': {'allocator': 'vnv_heap::modules::allocator::linked_list::LinkedListAllocatorModule'}, 'options.modules.allocator': 'vnv_heap::modules::allocator::linked_list::LinkedListAllocatorModule', 'bench_name': 'baseline_get_min_max', 'machine_name': 'esp32c3', 'cold_start': 0, 'repetitions': 100, 'ticks_per_ms': 16000}, {'mean': 197730.44, 'min': 197730, 'max': 197731, 'options.object_size': 320, 'options.bucket_size': 1044, 'options.modules': {'allocator': 'vnv_heap::modules::allocator::linked_list::LinkedListAllocatorModule'}, 'options.modules.allocator': 'vnv_heap::modules::allocator::linked_list::LinkedListAllocatorModule', 'bench_name': 'baseline_get_min_max', 'machine_name': 'esp32c3', 'cold_start': 0, 'repetitions': 100, 'ticks_per_ms': 16000}, {'mean': 197730.97, 'min': 197730, 'max': 197731, 'options.object_size': 336, 'options.bucket_size': 1044, 'options.modules': {'allocator': 'vnv_heap::modules::allocator::linked_list::LinkedListAllocatorModule'}, 'options.modules.allocator': 'vnv_heap::modules::allocator::linked_list::LinkedListAllocatorModule', 'bench_name': 'baseline_get_min_max', 'machine_name': 'esp32c3', 'cold_start': 0, 'repetitions': 100, 'ticks_per_ms': 16000}, {'mean': 197730.5, 'min': 197730, 'max': 197731, 'options.object_size': 352, 'options.bucket_size': 1044, 'options.modules': {'allocator': 'vnv_heap::modules::allocator::linked_list::LinkedListAllocatorModule'}, 'options.modules.allocator': 'vnv_heap::modules::allocator::linked_list::LinkedListAllocatorModule', 'bench_name': 'baseline_get_min_max', 'machine_name': 'esp32c3', 'cold_start': 0, 'repetitions': 100, 'ticks_per_ms': 16000}, {'mean': 197730.52, 'min': 197730, 'max': 197731, 'options.object_size': 368, 'options.bucket_size': 1044, 'options.modules': {'allocator': 'vnv_heap::modules::allocator::linked_list::LinkedListAllocatorModule'}, 'options.modules.allocator': 'vnv_heap::modules::allocator::linked_list::LinkedListAllocatorModule', 'bench_name': 'baseline_get_min_max', 'machine_name': 'esp32c3', 'cold_start': 0, 'repetitions': 100, 'ticks_per_ms': 16000}, {'mean': 197730.44, 'min': 197730, 'max': 197731, 'options.object_size': 384, 'options.bucket_size': 1044, 'options.modules': {'allocator': 'vnv_heap::modules::allocator::linked_list::LinkedListAllocatorModule'}, 'options.modules.allocator': 'vnv_heap::modules::allocator::linked_list::LinkedListAllocatorModule', 'bench_name': 'baseline_get_min_max', 'machine_name': 'esp32c3', 'cold_start': 0, 'repetitions': 100, 'ticks_per_ms': 16000}, {'mean': 197730.98, 'min': 197730, 'max': 197731, 'options.object_size': 400, 'options.bucket_size': 1044, 'options.modules': {'allocator': 'vnv_heap::modules::allocator::linked_list::LinkedListAllocatorModule'}, 'options.modules.allocator': 'vnv_heap::modules::allocator::linked_list::LinkedListAllocatorModule', 'bench_name': 'baseline_get_min_max', 'machine_name': 'esp32c3', 'cold_start': 0, 'repetitions': 100, 'ticks_per_ms': 16000}, {'mean': 197730.52, 'min': 197730, 'max': 197731, 'options.object_size': 416, 'options.bucket_size': 1044, 'options.modules': {'allocator': 'vnv_heap::modules::allocator::linked_list::LinkedListAllocatorModule'}, 'options.modules.allocator': 'vnv_heap::modules::allocator::linked_list::LinkedListAllocatorModule', 'bench_name': 'baseline_get_min_max', 'machine_name': 'esp32c3', 'cold_start': 0, 'repetitions': 100, 'ticks_per_ms': 16000}, {'mean': 197730.99, 'min': 197730, 'max': 197731, 'options.object_size': 432, 'options.bucket_size': 1044, 'options.modules': {'allocator': 'vnv_heap::modules::allocator::linked_list::LinkedListAllocatorModule'}, 'options.modules.allocator': 'vnv_heap::modules::allocator::linked_list::LinkedListAllocatorModule', 'bench_name': 'baseline_get_min_max', 'machine_name': 'esp32c3', 'cold_start': 0, 'repetitions': 100, 'ticks_per_ms': 16000}, {'mean': 197731.0, 'min': 197731, 'max': 197731, 'options.object_size': 448, 'options.bucket_size': 1044, 'options.modules': {'allocator': 'vnv_heap::modules::allocator::linked_list::LinkedListAllocatorModule'}, 'options.modules.allocator': 'vnv_heap::modules::allocator::linked_list::LinkedListAllocatorModule', 'bench_name': 'baseline_get_min_max', 'machine_name': 'esp32c3', 'cold_start': 0, 'repetitions': 100, 'ticks_per_ms': 16000}, {'mean': 197730.02, 'min': 197730, 'max': 197731, 'options.object_size': 464, 'options.bucket_size': 1044, 'options.modules': {'allocator': 'vnv_heap::modules::allocator::linked_list::LinkedListAllocatorModule'}, 'options.modules.allocator': 'vnv_heap::modules::allocator::linked_list::LinkedListAllocatorModule', 'bench_name': 'baseline_get_min_max', 'machine_name': 'esp32c3', 'cold_start': 0, 'repetitions': 100, 'ticks_per_ms': 16000}, {'mean': 197730.98, 'min': 197730, 'max': 197731, 'options.object_size': 480, 'options.bucket_size': 1044, 'options.modules': {'allocator': 'vnv_heap::modules::allocator::linked_list::LinkedListAllocatorModule'}, 'options.modules.allocator': 'vnv_heap::modules::allocator::linked_list::LinkedListAllocatorModule', 'bench_name': 'baseline_get_min_max', 'machine_name': 'esp32c3', 'cold_start': 0, 'repetitions': 100, 'ticks_per_ms': 16000}, {'mean': 197730.99, 'min': 197730, 'max': 197731, 'options.object_size': 496, 'options.bucket_size': 1044, 'options.modules': {'allocator': 'vnv_heap::modules::allocator::linked_list::LinkedListAllocatorModule'}, 'options.modules.allocator': 'vnv_heap::modules::allocator::linked_list::LinkedListAllocatorModule', 'bench_name': 'baseline_get_min_max', 'machine_name': 'esp32c3', 'cold_start': 0, 'repetitions': 100, 'ticks_per_ms': 16000}, {'mean': 197731.0, 'min': 197731, 'max': 197731, 'options.object_size': 512, 'options.bucket_size': 1044, 'options.modules': {'allocator': 'vnv_heap::modules::allocator::linked_list::LinkedListAllocatorModule'}, 'options.modules.allocator': 'vnv_heap::modules::allocator::linked_list::LinkedListAllocatorModule', 'bench_name': 'baseline_get_min_max', 'machine_name': 'esp32c3', 'cold_start': 0, 'repetitions': 100, 'ticks_per_ms': 16000}, {'mean': 197730.97, 'min': 197730, 'max': 197731, 'options.object_size': 528, 'options.bucket_size': 1044, 'options.modules': {'allocator': 'vnv_heap::modules::allocator::linked_list::LinkedListAllocatorModule'}, 'options.modules.allocator': 'vnv_heap::modules::allocator::linked_list::LinkedListAllocatorModule', 'bench_name': 'baseline_get_min_max', 'machine_name': 'esp32c3', 'cold_start': 0, 'repetitions': 100, 'ticks_per_ms': 16000}, {'mean': 197730.5, 'min': 197730, 'max': 197731, 'options.object_size': 544, 'options.bucket_size': 1044, 'options.modules': {'allocator': 'vnv_heap::modules::allocator::linked_list::LinkedListAllocatorModule'}, 'options.modules.allocator': 'vnv_heap::modules::allocator::linked_list::LinkedListAllocatorModule', 'bench_name': 'baseline_get_min_max', 'machine_name': 'esp32c3', 'cold_start': 0, 'repetitions': 100, 'ticks_per_ms': 16000}, {'mean': 197730.44, 'min': 197730, 'max': 197731, 'options.object_size': 560, 'options.bucket_size': 1044, 'options.modules': {'allocator': 'vnv_heap::modules::allocator::linked_list::LinkedListAllocatorModule'}, 'options.modules.allocator': 'vnv_heap::modules::allocator::linked_list::LinkedListAllocatorModule', 'bench_name': 'baseline_get_min_max', 'machine_name': 'esp32c3', 'cold_start': 0, 'repetitions': 100, 'ticks_per_ms': 16000}, {'mean': 197731.0, 'min': 197731, 'max': 197731, 'options.object_size': 576, 'options.bucket_size': 1044, 'options.modules': {'allocator': 'vnv_heap::modules::allocator::linked_list::LinkedListAllocatorModule'}, 'options.modules.allocator': 'vnv_heap::modules::allocator::linked_list::LinkedListAllocatorModule', 'bench_name': 'baseline_get_min_max', 'machine_name': 'esp32c3', 'cold_start': 0, 'repetitions': 100, 'ticks_per_ms': 16000}, {'mean': 197730.99, 'min': 197730, 'max': 197731, 'options.object_size': 592, 'options.bucket_size': 1044, 'options.modules': {'allocator': 'vnv_heap::modules::allocator::linked_list::LinkedListAllocatorModule'}, 'options.modules.allocator': 'vnv_heap::modules::allocator::linked_list::LinkedListAllocatorModule', 'bench_name': 'baseline_get_min_max', 'machine_name': 'esp32c3', 'cold_start': 0, 'repetitions': 100, 'ticks_per_ms': 16000}, {'mean': 197730.99, 'min': 197730, 'max': 197731, 'options.object_size': 608, 'options.bucket_size': 1044, 'options.modules': {'allocator': 'vnv_heap::modules::allocator::linked_list::LinkedListAllocatorModule'}, 'options.modules.allocator': 'vnv_heap::modules::allocator::linked_list::LinkedListAllocatorModule', 'bench_name': 'baseline_get_min_max', 'machine_name': 'esp32c3', 'cold_start': 0, 'repetitions': 100, 'ticks_per_ms': 16000}, {'mean': 197730.44, 'min': 197730, 'max': 197731, 'options.object_size': 624, 'options.bucket_size': 1044, 'options.modules': {'allocator': 'vnv_heap::modules::allocator::linked_list::LinkedListAllocatorModule'}, 'options.modules.allocator': 'vnv_heap::modules::allocator::linked_list::LinkedListAllocatorModule', 'bench_name': 'baseline_get_min_max', 'machine_name': 'esp32c3', 'cold_start': 0, 'repetitions': 100, 'ticks_per_ms': 16000}, {'mean': 197730.43, 'min': 197730, 'max': 197731, 'options.object_size': 640, 'options.bucket_size': 1044, 'options.modules': {'allocator': 'vnv_heap::modules::allocator::linked_list::LinkedListAllocatorModule'}, 'options.modules.allocator': 'vnv_heap::modules::allocator::linked_list::LinkedListAllocatorModule', 'bench_name': 'baseline_get_min_max', 'machine_name': 'esp32c3', 'cold_start': 0, 'repetitions': 100, 'ticks_per_ms': 16000}, {'mean': 197730.44, 'min': 197730, 'max': 197731, 'options.object_size': 656, 'options.bucket_size': 1044, 'options.modules': {'allocator': 'vnv_heap::modules::allocator::linked_list::LinkedListAllocatorModule'}, 'options.modules.allocator': 'vnv_heap::modules::allocator::linked_list::LinkedListAllocatorModule', 'bench_name': 'baseline_get_min_max', 'machine_name': 'esp32c3', 'cold_start': 0, 'repetitions': 100, 'ticks_per_ms': 16000}, {'mean': 197730.99, 'min': 197730, 'max': 197731, 'options.object_size': 672, 'options.bucket_size': 1044, 'options.modules': {'allocator': 'vnv_heap::modules::allocator::linked_list::LinkedListAllocatorModule'}, 'options.modules.allocator': 'vnv_heap::modules::allocator::linked_list::LinkedListAllocatorModule', 'bench_name': 'baseline_get_min_max', 'machine_name': 'esp32c3', 'cold_start': 0, 'repetitions': 100, 'ticks_per_ms': 16000}, {'mean': 197730.99, 'min': 197730, 'max': 197731, 'options.object_size': 688, 'options.bucket_size': 1044, 'options.modules': {'allocator': 'vnv_heap::modules::allocator::linked_list::LinkedListAllocatorModule'}, 'options.modules.allocator': 'vnv_heap::modules::allocator::linked_list::LinkedListAllocatorModule', 'bench_name': 'baseline_get_min_max', 'machine_name': 'esp32c3', 'cold_start': 0, 'repetitions': 100, 'ticks_per_ms': 16000}, {'mean': 197730.99, 'min': 197730, 'max': 197731, 'options.object_size': 704, 'options.bucket_size': 1044, 'options.modules': {'allocator': 'vnv_heap::modules::allocator::linked_list::LinkedListAllocatorModule'}, 'options.modules.allocator': 'vnv_heap::modules::allocator::linked_list::LinkedListAllocatorModule', 'bench_name': 'baseline_get_min_max', 'machine_name': 'esp32c3', 'cold_start': 0, 'repetitions': 100, 'ticks_per_ms': 16000}, {'mean': 197730.98, 'min': 197730, 'max': 197731, 'options.object_size': 720, 'options.bucket_size': 1044, 'options.modules': {'allocator': 'vnv_heap::modules::allocator::linked_list::LinkedListAllocatorModule'}, 'options.modules.allocator': 'vnv_heap::modules::allocator::linked_list::LinkedListAllocatorModule', 'bench_name': 'baseline_get_min_max', 'machine_name': 'esp32c3', 'cold_start': 0, 'repetitions': 100, 'ticks_per_ms': 16000}, {'mean': 197730.99, 'min': 197730, 'max': 197731, 'options.object_size': 736, 'options.bucket_size': 1044, 'options.modules': {'allocator': 'vnv_heap::modules::allocator::linked_list::LinkedListAllocatorModule'}, 'options.modules.allocator': 'vnv_heap::modules::allocator::linked_list::LinkedListAllocatorModule', 'bench_name': 'baseline_get_min_max', 'machine_name': 'esp32c3', 'cold_start': 0, 'repetitions': 100, 'ticks_per_ms': 16000}, {'mean': 197730.99, 'min': 197730, 'max': 197731, 'options.object_size': 752, 'options.bucket_size': 1044, 'options.modules': {'allocator': 'vnv_heap::modules::allocator::linked_list::LinkedListAllocatorModule'}, 'options.modules.allocator': 'vnv_heap::modules::allocator::linked_list::LinkedListAllocatorModule', 'bench_name': 'baseline_get_min_max', 'machine_name': 'esp32c3', 'cold_start': 0, 'repetitions': 100, 'ticks_per_ms': 16000}, {'mean': 197731.0, 'min': 197731, 'max': 197731, 'options.object_size': 768, 'options.bucket_size': 1044, 'options.modules': {'allocator': 'vnv_heap::modules::allocator::linked_list::LinkedListAllocatorModule'}, 'options.modules.allocator': 'vnv_heap::modules::allocator::linked_list::LinkedListAllocatorModule', 'bench_name': 'baseline_get_min_max', 'machine_name': 'esp32c3', 'cold_start': 0, 'repetitions': 100, 'ticks_per_ms': 16000}, {'mean': 197730.45, 'min': 197730, 'max': 197731, 'options.object_size': 784, 'options.bucket_size': 1044, 'options.modules': {'allocator': 'vnv_heap::modules::allocator::linked_list::LinkedListAllocatorModule'}, 'options.modules.allocator': 'vnv_heap::modules::allocator::linked_list::LinkedListAllocatorModule', 'bench_name': 'baseline_get_min_max', 'machine_name': 'esp32c3', 'cold_start': 0, 'repetitions': 100, 'ticks_per_ms': 16000}, {'mean': 197730.99, 'min': 197730, 'max': 197731, 'options.object_size': 800, 'options.bucket_size': 1044, 'options.modules': {'allocator': 'vnv_heap::modules::allocator::linked_list::LinkedListAllocatorModule'}, 'options.modules.allocator': 'vnv_heap::modules::allocator::linked_list::LinkedListAllocatorModule', 'bench_name': 'baseline_get_min_max', 'machine_name': 'esp32c3', 'cold_start': 0, 'repetitions': 100, 'ticks_per_ms': 16000}, {'mean': 197731.0, 'min': 197731, 'max': 197731, 'options.object_size': 816, 'options.bucket_size': 1044, 'options.modules': {'allocator': 'vnv_heap::modules::allocator::linked_list::LinkedListAllocatorModule'}, 'options.modules.allocator': 'vnv_heap::modules::allocator::linked_list::LinkedListAllocatorModule', 'bench_name': 'baseline_get_min_max', 'machine_name': 'esp32c3', 'cold_start': 0, 'repetitions': 100, 'ticks_per_ms': 16000}, {'mean': 197731.0, 'min': 197731, 'max': 197731, 'options.object_size': 832, 'options.bucket_size': 1044, 'options.modules': {'allocator': 'vnv_heap::modules::allocator::linked_list::LinkedListAllocatorModule'}, 'options.modules.allocator': 'vnv_heap::modules::allocator::linked_list::LinkedListAllocatorModule', 'bench_name': 'baseline_get_min_max', 'machine_name': 'esp32c3', 'cold_start': 0, 'repetitions': 100, 'ticks_per_ms': 16000}, {'mean': 197730.02, 'min': 197730, 'max': 197731, 'options.object_size': 848, 'options.bucket_size': 1044, 'options.modules': {'allocator': 'vnv_heap::modules::allocator::linked_list::LinkedListAllocatorModule'}, 'options.modules.allocator': 'vnv_heap::modules::allocator::linked_list::LinkedListAllocatorModule', 'bench_name': 'baseline_get_min_max', 'machine_name': 'esp32c3', 'cold_start': 0, 'repetitions': 100, 'ticks_per_ms': 16000}, {'mean': 197730.99, 'min': 197730, 'max': 197731, 'options.object_size': 864, 'options.bucket_size': 1044, 'options.modules': {'allocator': 'vnv_heap::modules::allocator::linked_list::LinkedListAllocatorModule'}, 'options.modules.allocator': 'vnv_heap::modules::allocator::linked_list::LinkedListAllocatorModule', 'bench_name': 'baseline_get_min_max', 'machine_name': 'esp32c3', 'cold_start': 0, 'repetitions': 100, 'ticks_per_ms': 16000}, {'mean': 197730.99, 'min': 197730, 'max': 197731, 'options.object_size': 880, 'options.bucket_size': 1044, 'options.modules': {'allocator': 'vnv_heap::modules::allocator::linked_list::LinkedListAllocatorModule'}, 'options.modules.allocator': 'vnv_heap::modules::allocator::linked_list::LinkedListAllocatorModule', 'bench_name': 'baseline_get_min_max', 'machine_name': 'esp32c3', 'cold_start': 0, 'repetitions': 100, 'ticks_per_ms': 16000}, {'mean': 197731.0, 'min': 197731, 'max': 197731, 'options.object_size': 896, 'options.bucket_size': 1044, 'options.modules': {'allocator': 'vnv_heap::modules::allocator::linked_list::LinkedListAllocatorModule'}, 'options.modules.allocator': 'vnv_heap::modules::allocator::linked_list::LinkedListAllocatorModule', 'bench_name': 'baseline_get_min_max', 'machine_name': 'esp32c3', 'cold_start': 0, 'repetitions': 100, 'ticks_per_ms': 16000}, {'mean': 197730.99, 'min': 197730, 'max': 197731, 'options.object_size': 912, 'options.bucket_size': 1044, 'options.modules': {'allocator': 'vnv_heap::modules::allocator::linked_list::LinkedListAllocatorModule'}, 'options.modules.allocator': 'vnv_heap::modules::allocator::linked_list::LinkedListAllocatorModule', 'bench_name': 'baseline_get_min_max', 'machine_name': 'esp32c3', 'cold_start': 0, 'repetitions': 100, 'ticks_per_ms': 16000}, {'mean': 197730.99, 'min': 197730, 'max': 197731, 'options.object_size': 928, 'options.bucket_size': 1044, 'options.modules': {'allocator': 'vnv_heap::modules::allocator::linked_list::LinkedListAllocatorModule'}, 'options.modules.allocator': 'vnv_heap::modules::allocator::linked_list::LinkedListAllocatorModule', 'bench_name': 'baseline_get_min_max', 'machine_name': 'esp32c3', 'cold_start': 0, 'repetitions': 100, 'ticks_per_ms': 16000}, {'mean': 197730.98, 'min': 197730, 'max': 197731, 'options.object_size': 944, 'options.bucket_size': 1044, 'options.modules': {'allocator': 'vnv_heap::modules::allocator::linked_list::LinkedListAllocatorModule'}, 'options.modules.allocator': 'vnv_heap::modules::allocator::linked_list::LinkedListAllocatorModule', 'bench_name': 'baseline_get_min_max', 'machine_name': 'esp32c3', 'cold_start': 0, 'repetitions': 100, 'ticks_per_ms': 16000}, {'mean': 197730.99, 'min': 197730, 'max': 197731, 'options.object_size': 960, 'options.bucket_size': 1044, 'options.modules': {'allocator': 'vnv_heap::modules::allocator::linked_list::LinkedListAllocatorModule'}, 'options.modules.allocator': 'vnv_heap::modules::allocator::linked_list::LinkedListAllocatorModule', 'bench_name': 'baseline_get_min_max', 'machine_name': 'esp32c3', 'cold_start': 0, 'repetitions': 100, 'ticks_per_ms': 16000}, {'mean': 197730.02, 'min': 197730, 'max': 197731, 'options.object_size': 976, 'options.bucket_size': 1044, 'options.modules': {'allocator': 'vnv_heap::modules::allocator::linked_list::LinkedListAllocatorModule'}, 'options.modules.allocator': 'vnv_heap::modules::allocator::linked_list::LinkedListAllocatorModule', 'bench_name': 'baseline_get_min_max', 'machine_name': 'esp32c3', 'cold_start': 0, 'repetitions': 100, 'ticks_per_ms': 16000}, {'mean': 197730.44, 'min': 197730, 'max': 197731, 'options.object_size': 992, 'options.bucket_size': 1044, 'options.modules': {'allocator': 'vnv_heap::modules::allocator::linked_list::LinkedListAllocatorModule'}, 'options.modules.allocator': 'vnv_heap::modules::allocator::linked_list::LinkedListAllocatorModule', 'bench_name': 'baseline_get_min_max', 'machine_name': 'esp32c3', 'cold_start': 0, 'repetitions': 100, 'ticks_per_ms': 16000}, {'mean': 197730.44, 'min': 197730, 'max': 197731, 'options.object_size': 1008, 'options.bucket_size': 1044, 'options.modules': {'allocator': 'vnv_heap::modules::allocator::linked_list::LinkedListAllocatorModule'}, 'options.modules.allocator': 'vnv_heap::modules::allocator::linked_list::LinkedListAllocatorModule', 'bench_name': 'baseline_get_min_max', 'machine_name': 'esp32c3', 'cold_start': 0, 'repetitions': 100, 'ticks_per_ms': 16000}, {'mean': 197730.43, 'min': 197730, 'max': 197731, 'options.object_size': 1024, 'options.bucket_size': 1044, 'options.modules': {'allocator': 'vnv_heap::modules::allocator::linked_list::LinkedListAllocatorModule'}, 'options.modules.allocator': 'vnv_heap::modules::allocator::linked_list::LinkedListAllocatorModule', 'bench_name': 'baseline_get_min_max', 'machine_name': 'esp32c3', 'cold_start': 0, 'repetitions': 100, 'ticks_per_ms': 16000}]\n",
      "[{'mean': 521946.02, 'min': 521945, 'max': 522008, 'options.object_size': 0, 'options.bucket_size': 1044, 'options.modules': {'allocator': 'vnv_heap::modules::allocator::linked_list::LinkedListAllocatorModule'}, 'options.modules.allocator': 'vnv_heap::modules::allocator::linked_list::LinkedListAllocatorModule', 'bench_name': 'baseline_get_max', 'machine_name': 'esp32c3', 'cold_start': 0, 'repetitions': 100, 'ticks_per_ms': 16000}, {'mean': 521946.03, 'min': 521945, 'max': 522008, 'options.object_size': 16, 'options.bucket_size': 1044, 'options.modules': {'allocator': 'vnv_heap::modules::allocator::linked_list::LinkedListAllocatorModule'}, 'options.modules.allocator': 'vnv_heap::modules::allocator::linked_list::LinkedListAllocatorModule', 'bench_name': 'baseline_get_max', 'machine_name': 'esp32c3', 'cold_start': 0, 'repetitions': 100, 'ticks_per_ms': 16000}, {'mean': 521945.01, 'min': 521945, 'max': 521946, 'options.object_size': 32, 'options.bucket_size': 1044, 'options.modules': {'allocator': 'vnv_heap::modules::allocator::linked_list::LinkedListAllocatorModule'}, 'options.modules.allocator': 'vnv_heap::modules::allocator::linked_list::LinkedListAllocatorModule', 'bench_name': 'baseline_get_max', 'machine_name': 'esp32c3', 'cold_start': 0, 'repetitions': 100, 'ticks_per_ms': 16000}, {'mean': 521945.01, 'min': 521945, 'max': 521946, 'options.object_size': 48, 'options.bucket_size': 1044, 'options.modules': {'allocator': 'vnv_heap::modules::allocator::linked_list::LinkedListAllocatorModule'}, 'options.modules.allocator': 'vnv_heap::modules::allocator::linked_list::LinkedListAllocatorModule', 'bench_name': 'baseline_get_max', 'machine_name': 'esp32c3', 'cold_start': 0, 'repetitions': 100, 'ticks_per_ms': 16000}, {'mean': 521945.99, 'min': 521945, 'max': 521946, 'options.object_size': 64, 'options.bucket_size': 1044, 'options.modules': {'allocator': 'vnv_heap::modules::allocator::linked_list::LinkedListAllocatorModule'}, 'options.modules.allocator': 'vnv_heap::modules::allocator::linked_list::LinkedListAllocatorModule', 'bench_name': 'baseline_get_max', 'machine_name': 'esp32c3', 'cold_start': 0, 'repetitions': 100, 'ticks_per_ms': 16000}, {'mean': 521945.0, 'min': 521945, 'max': 521945, 'options.object_size': 80, 'options.bucket_size': 1044, 'options.modules': {'allocator': 'vnv_heap::modules::allocator::linked_list::LinkedListAllocatorModule'}, 'options.modules.allocator': 'vnv_heap::modules::allocator::linked_list::LinkedListAllocatorModule', 'bench_name': 'baseline_get_max', 'machine_name': 'esp32c3', 'cold_start': 0, 'repetitions': 100, 'ticks_per_ms': 16000}, {'mean': 521945.02, 'min': 521945, 'max': 521946, 'options.object_size': 96, 'options.bucket_size': 1044, 'options.modules': {'allocator': 'vnv_heap::modules::allocator::linked_list::LinkedListAllocatorModule'}, 'options.modules.allocator': 'vnv_heap::modules::allocator::linked_list::LinkedListAllocatorModule', 'bench_name': 'baseline_get_max', 'machine_name': 'esp32c3', 'cold_start': 0, 'repetitions': 100, 'ticks_per_ms': 16000}, {'mean': 521945.02, 'min': 521945, 'max': 521946, 'options.object_size': 112, 'options.bucket_size': 1044, 'options.modules': {'allocator': 'vnv_heap::modules::allocator::linked_list::LinkedListAllocatorModule'}, 'options.modules.allocator': 'vnv_heap::modules::allocator::linked_list::LinkedListAllocatorModule', 'bench_name': 'baseline_get_max', 'machine_name': 'esp32c3', 'cold_start': 0, 'repetitions': 100, 'ticks_per_ms': 16000}, {'mean': 521945.39, 'min': 521945, 'max': 521946, 'options.object_size': 128, 'options.bucket_size': 1044, 'options.modules': {'allocator': 'vnv_heap::modules::allocator::linked_list::LinkedListAllocatorModule'}, 'options.modules.allocator': 'vnv_heap::modules::allocator::linked_list::LinkedListAllocatorModule', 'bench_name': 'baseline_get_max', 'machine_name': 'esp32c3', 'cold_start': 0, 'repetitions': 100, 'ticks_per_ms': 16000}, {'mean': 521945.4, 'min': 521945, 'max': 521946, 'options.object_size': 144, 'options.bucket_size': 1044, 'options.modules': {'allocator': 'vnv_heap::modules::allocator::linked_list::LinkedListAllocatorModule'}, 'options.modules.allocator': 'vnv_heap::modules::allocator::linked_list::LinkedListAllocatorModule', 'bench_name': 'baseline_get_max', 'machine_name': 'esp32c3', 'cold_start': 0, 'repetitions': 100, 'ticks_per_ms': 16000}, {'mean': 521945.99, 'min': 521945, 'max': 521946, 'options.object_size': 160, 'options.bucket_size': 1044, 'options.modules': {'allocator': 'vnv_heap::modules::allocator::linked_list::LinkedListAllocatorModule'}, 'options.modules.allocator': 'vnv_heap::modules::allocator::linked_list::LinkedListAllocatorModule', 'bench_name': 'baseline_get_max', 'machine_name': 'esp32c3', 'cold_start': 0, 'repetitions': 100, 'ticks_per_ms': 16000}, {'mean': 521945.41, 'min': 521945, 'max': 521946, 'options.object_size': 176, 'options.bucket_size': 1044, 'options.modules': {'allocator': 'vnv_heap::modules::allocator::linked_list::LinkedListAllocatorModule'}, 'options.modules.allocator': 'vnv_heap::modules::allocator::linked_list::LinkedListAllocatorModule', 'bench_name': 'baseline_get_max', 'machine_name': 'esp32c3', 'cold_start': 0, 'repetitions': 100, 'ticks_per_ms': 16000}, {'mean': 521945.02, 'min': 521945, 'max': 521946, 'options.object_size': 192, 'options.bucket_size': 1044, 'options.modules': {'allocator': 'vnv_heap::modules::allocator::linked_list::LinkedListAllocatorModule'}, 'options.modules.allocator': 'vnv_heap::modules::allocator::linked_list::LinkedListAllocatorModule', 'bench_name': 'baseline_get_max', 'machine_name': 'esp32c3', 'cold_start': 0, 'repetitions': 100, 'ticks_per_ms': 16000}, {'mean': 521945.39, 'min': 521945, 'max': 521946, 'options.object_size': 208, 'options.bucket_size': 1044, 'options.modules': {'allocator': 'vnv_heap::modules::allocator::linked_list::LinkedListAllocatorModule'}, 'options.modules.allocator': 'vnv_heap::modules::allocator::linked_list::LinkedListAllocatorModule', 'bench_name': 'baseline_get_max', 'machine_name': 'esp32c3', 'cold_start': 0, 'repetitions': 100, 'ticks_per_ms': 16000}, {'mean': 521945.01, 'min': 521945, 'max': 521946, 'options.object_size': 224, 'options.bucket_size': 1044, 'options.modules': {'allocator': 'vnv_heap::modules::allocator::linked_list::LinkedListAllocatorModule'}, 'options.modules.allocator': 'vnv_heap::modules::allocator::linked_list::LinkedListAllocatorModule', 'bench_name': 'baseline_get_max', 'machine_name': 'esp32c3', 'cold_start': 0, 'repetitions': 100, 'ticks_per_ms': 16000}, {'mean': 521945.01, 'min': 521945, 'max': 521946, 'options.object_size': 240, 'options.bucket_size': 1044, 'options.modules': {'allocator': 'vnv_heap::modules::allocator::linked_list::LinkedListAllocatorModule'}, 'options.modules.allocator': 'vnv_heap::modules::allocator::linked_list::LinkedListAllocatorModule', 'bench_name': 'baseline_get_max', 'machine_name': 'esp32c3', 'cold_start': 0, 'repetitions': 100, 'ticks_per_ms': 16000}, {'mean': 521945.4, 'min': 521945, 'max': 521946, 'options.object_size': 256, 'options.bucket_size': 1044, 'options.modules': {'allocator': 'vnv_heap::modules::allocator::linked_list::LinkedListAllocatorModule'}, 'options.modules.allocator': 'vnv_heap::modules::allocator::linked_list::LinkedListAllocatorModule', 'bench_name': 'baseline_get_max', 'machine_name': 'esp32c3', 'cold_start': 0, 'repetitions': 100, 'ticks_per_ms': 16000}, {'mean': 521945.01, 'min': 521945, 'max': 521946, 'options.object_size': 272, 'options.bucket_size': 1044, 'options.modules': {'allocator': 'vnv_heap::modules::allocator::linked_list::LinkedListAllocatorModule'}, 'options.modules.allocator': 'vnv_heap::modules::allocator::linked_list::LinkedListAllocatorModule', 'bench_name': 'baseline_get_max', 'machine_name': 'esp32c3', 'cold_start': 0, 'repetitions': 100, 'ticks_per_ms': 16000}, {'mean': 521945.01, 'min': 521945, 'max': 521946, 'options.object_size': 288, 'options.bucket_size': 1044, 'options.modules': {'allocator': 'vnv_heap::modules::allocator::linked_list::LinkedListAllocatorModule'}, 'options.modules.allocator': 'vnv_heap::modules::allocator::linked_list::LinkedListAllocatorModule', 'bench_name': 'baseline_get_max', 'machine_name': 'esp32c3', 'cold_start': 0, 'repetitions': 100, 'ticks_per_ms': 16000}, {'mean': 521945.02, 'min': 521945, 'max': 521946, 'options.object_size': 304, 'options.bucket_size': 1044, 'options.modules': {'allocator': 'vnv_heap::modules::allocator::linked_list::LinkedListAllocatorModule'}, 'options.modules.allocator': 'vnv_heap::modules::allocator::linked_list::LinkedListAllocatorModule', 'bench_name': 'baseline_get_max', 'machine_name': 'esp32c3', 'cold_start': 0, 'repetitions': 100, 'ticks_per_ms': 16000}, {'mean': 521945.4, 'min': 521945, 'max': 521946, 'options.object_size': 320, 'options.bucket_size': 1044, 'options.modules': {'allocator': 'vnv_heap::modules::allocator::linked_list::LinkedListAllocatorModule'}, 'options.modules.allocator': 'vnv_heap::modules::allocator::linked_list::LinkedListAllocatorModule', 'bench_name': 'baseline_get_max', 'machine_name': 'esp32c3', 'cold_start': 0, 'repetitions': 100, 'ticks_per_ms': 16000}, {'mean': 521945.01, 'min': 521945, 'max': 521946, 'options.object_size': 336, 'options.bucket_size': 1044, 'options.modules': {'allocator': 'vnv_heap::modules::allocator::linked_list::LinkedListAllocatorModule'}, 'options.modules.allocator': 'vnv_heap::modules::allocator::linked_list::LinkedListAllocatorModule', 'bench_name': 'baseline_get_max', 'machine_name': 'esp32c3', 'cold_start': 0, 'repetitions': 100, 'ticks_per_ms': 16000}, {'mean': 521945.01, 'min': 521945, 'max': 521946, 'options.object_size': 352, 'options.bucket_size': 1044, 'options.modules': {'allocator': 'vnv_heap::modules::allocator::linked_list::LinkedListAllocatorModule'}, 'options.modules.allocator': 'vnv_heap::modules::allocator::linked_list::LinkedListAllocatorModule', 'bench_name': 'baseline_get_max', 'machine_name': 'esp32c3', 'cold_start': 0, 'repetitions': 100, 'ticks_per_ms': 16000}, {'mean': 521945.0, 'min': 521945, 'max': 521945, 'options.object_size': 368, 'options.bucket_size': 1044, 'options.modules': {'allocator': 'vnv_heap::modules::allocator::linked_list::LinkedListAllocatorModule'}, 'options.modules.allocator': 'vnv_heap::modules::allocator::linked_list::LinkedListAllocatorModule', 'bench_name': 'baseline_get_max', 'machine_name': 'esp32c3', 'cold_start': 0, 'repetitions': 100, 'ticks_per_ms': 16000}, {'mean': 521945.4, 'min': 521945, 'max': 521946, 'options.object_size': 384, 'options.bucket_size': 1044, 'options.modules': {'allocator': 'vnv_heap::modules::allocator::linked_list::LinkedListAllocatorModule'}, 'options.modules.allocator': 'vnv_heap::modules::allocator::linked_list::LinkedListAllocatorModule', 'bench_name': 'baseline_get_max', 'machine_name': 'esp32c3', 'cold_start': 0, 'repetitions': 100, 'ticks_per_ms': 16000}, {'mean': 521945.0, 'min': 521945, 'max': 521945, 'options.object_size': 400, 'options.bucket_size': 1044, 'options.modules': {'allocator': 'vnv_heap::modules::allocator::linked_list::LinkedListAllocatorModule'}, 'options.modules.allocator': 'vnv_heap::modules::allocator::linked_list::LinkedListAllocatorModule', 'bench_name': 'baseline_get_max', 'machine_name': 'esp32c3', 'cold_start': 0, 'repetitions': 100, 'ticks_per_ms': 16000}, {'mean': 521945.01, 'min': 521945, 'max': 521946, 'options.object_size': 416, 'options.bucket_size': 1044, 'options.modules': {'allocator': 'vnv_heap::modules::allocator::linked_list::LinkedListAllocatorModule'}, 'options.modules.allocator': 'vnv_heap::modules::allocator::linked_list::LinkedListAllocatorModule', 'bench_name': 'baseline_get_max', 'machine_name': 'esp32c3', 'cold_start': 0, 'repetitions': 100, 'ticks_per_ms': 16000}, {'mean': 521945.39, 'min': 521945, 'max': 521946, 'options.object_size': 432, 'options.bucket_size': 1044, 'options.modules': {'allocator': 'vnv_heap::modules::allocator::linked_list::LinkedListAllocatorModule'}, 'options.modules.allocator': 'vnv_heap::modules::allocator::linked_list::LinkedListAllocatorModule', 'bench_name': 'baseline_get_max', 'machine_name': 'esp32c3', 'cold_start': 0, 'repetitions': 100, 'ticks_per_ms': 16000}, {'mean': 521945.33, 'min': 521945, 'max': 521946, 'options.object_size': 448, 'options.bucket_size': 1044, 'options.modules': {'allocator': 'vnv_heap::modules::allocator::linked_list::LinkedListAllocatorModule'}, 'options.modules.allocator': 'vnv_heap::modules::allocator::linked_list::LinkedListAllocatorModule', 'bench_name': 'baseline_get_max', 'machine_name': 'esp32c3', 'cold_start': 0, 'repetitions': 100, 'ticks_per_ms': 16000}, {'mean': 521945.02, 'min': 521945, 'max': 521946, 'options.object_size': 464, 'options.bucket_size': 1044, 'options.modules': {'allocator': 'vnv_heap::modules::allocator::linked_list::LinkedListAllocatorModule'}, 'options.modules.allocator': 'vnv_heap::modules::allocator::linked_list::LinkedListAllocatorModule', 'bench_name': 'baseline_get_max', 'machine_name': 'esp32c3', 'cold_start': 0, 'repetitions': 100, 'ticks_per_ms': 16000}, {'mean': 521945.24, 'min': 521945, 'max': 521946, 'options.object_size': 480, 'options.bucket_size': 1044, 'options.modules': {'allocator': 'vnv_heap::modules::allocator::linked_list::LinkedListAllocatorModule'}, 'options.modules.allocator': 'vnv_heap::modules::allocator::linked_list::LinkedListAllocatorModule', 'bench_name': 'baseline_get_max', 'machine_name': 'esp32c3', 'cold_start': 0, 'repetitions': 100, 'ticks_per_ms': 16000}, {'mean': 521945.4, 'min': 521945, 'max': 521946, 'options.object_size': 496, 'options.bucket_size': 1044, 'options.modules': {'allocator': 'vnv_heap::modules::allocator::linked_list::LinkedListAllocatorModule'}, 'options.modules.allocator': 'vnv_heap::modules::allocator::linked_list::LinkedListAllocatorModule', 'bench_name': 'baseline_get_max', 'machine_name': 'esp32c3', 'cold_start': 0, 'repetitions': 100, 'ticks_per_ms': 16000}, {'mean': 521945.0, 'min': 521945, 'max': 521945, 'options.object_size': 512, 'options.bucket_size': 1044, 'options.modules': {'allocator': 'vnv_heap::modules::allocator::linked_list::LinkedListAllocatorModule'}, 'options.modules.allocator': 'vnv_heap::modules::allocator::linked_list::LinkedListAllocatorModule', 'bench_name': 'baseline_get_max', 'machine_name': 'esp32c3', 'cold_start': 0, 'repetitions': 100, 'ticks_per_ms': 16000}, {'mean': 521945.4, 'min': 521945, 'max': 521946, 'options.object_size': 528, 'options.bucket_size': 1044, 'options.modules': {'allocator': 'vnv_heap::modules::allocator::linked_list::LinkedListAllocatorModule'}, 'options.modules.allocator': 'vnv_heap::modules::allocator::linked_list::LinkedListAllocatorModule', 'bench_name': 'baseline_get_max', 'machine_name': 'esp32c3', 'cold_start': 0, 'repetitions': 100, 'ticks_per_ms': 16000}, {'mean': 521945.01, 'min': 521945, 'max': 521946, 'options.object_size': 544, 'options.bucket_size': 1044, 'options.modules': {'allocator': 'vnv_heap::modules::allocator::linked_list::LinkedListAllocatorModule'}, 'options.modules.allocator': 'vnv_heap::modules::allocator::linked_list::LinkedListAllocatorModule', 'bench_name': 'baseline_get_max', 'machine_name': 'esp32c3', 'cold_start': 0, 'repetitions': 100, 'ticks_per_ms': 16000}, {'mean': 521945.0, 'min': 521945, 'max': 521945, 'options.object_size': 560, 'options.bucket_size': 1044, 'options.modules': {'allocator': 'vnv_heap::modules::allocator::linked_list::LinkedListAllocatorModule'}, 'options.modules.allocator': 'vnv_heap::modules::allocator::linked_list::LinkedListAllocatorModule', 'bench_name': 'baseline_get_max', 'machine_name': 'esp32c3', 'cold_start': 0, 'repetitions': 100, 'ticks_per_ms': 16000}, {'mean': 521945.0, 'min': 521945, 'max': 521945, 'options.object_size': 576, 'options.bucket_size': 1044, 'options.modules': {'allocator': 'vnv_heap::modules::allocator::linked_list::LinkedListAllocatorModule'}, 'options.modules.allocator': 'vnv_heap::modules::allocator::linked_list::LinkedListAllocatorModule', 'bench_name': 'baseline_get_max', 'machine_name': 'esp32c3', 'cold_start': 0, 'repetitions': 100, 'ticks_per_ms': 16000}, {'mean': 521945.01, 'min': 521945, 'max': 521946, 'options.object_size': 592, 'options.bucket_size': 1044, 'options.modules': {'allocator': 'vnv_heap::modules::allocator::linked_list::LinkedListAllocatorModule'}, 'options.modules.allocator': 'vnv_heap::modules::allocator::linked_list::LinkedListAllocatorModule', 'bench_name': 'baseline_get_max', 'machine_name': 'esp32c3', 'cold_start': 0, 'repetitions': 100, 'ticks_per_ms': 16000}, {'mean': 521945.4, 'min': 521945, 'max': 521946, 'options.object_size': 608, 'options.bucket_size': 1044, 'options.modules': {'allocator': 'vnv_heap::modules::allocator::linked_list::LinkedListAllocatorModule'}, 'options.modules.allocator': 'vnv_heap::modules::allocator::linked_list::LinkedListAllocatorModule', 'bench_name': 'baseline_get_max', 'machine_name': 'esp32c3', 'cold_start': 0, 'repetitions': 100, 'ticks_per_ms': 16000}, {'mean': 521945.01, 'min': 521945, 'max': 521946, 'options.object_size': 624, 'options.bucket_size': 1044, 'options.modules': {'allocator': 'vnv_heap::modules::allocator::linked_list::LinkedListAllocatorModule'}, 'options.modules.allocator': 'vnv_heap::modules::allocator::linked_list::LinkedListAllocatorModule', 'bench_name': 'baseline_get_max', 'machine_name': 'esp32c3', 'cold_start': 0, 'repetitions': 100, 'ticks_per_ms': 16000}, {'mean': 521945.02, 'min': 521945, 'max': 521946, 'options.object_size': 640, 'options.bucket_size': 1044, 'options.modules': {'allocator': 'vnv_heap::modules::allocator::linked_list::LinkedListAllocatorModule'}, 'options.modules.allocator': 'vnv_heap::modules::allocator::linked_list::LinkedListAllocatorModule', 'bench_name': 'baseline_get_max', 'machine_name': 'esp32c3', 'cold_start': 0, 'repetitions': 100, 'ticks_per_ms': 16000}, {'mean': 521945.34, 'min': 521945, 'max': 521946, 'options.object_size': 656, 'options.bucket_size': 1044, 'options.modules': {'allocator': 'vnv_heap::modules::allocator::linked_list::LinkedListAllocatorModule'}, 'options.modules.allocator': 'vnv_heap::modules::allocator::linked_list::LinkedListAllocatorModule', 'bench_name': 'baseline_get_max', 'machine_name': 'esp32c3', 'cold_start': 0, 'repetitions': 100, 'ticks_per_ms': 16000}, {'mean': 521945.4, 'min': 521945, 'max': 521946, 'options.object_size': 672, 'options.bucket_size': 1044, 'options.modules': {'allocator': 'vnv_heap::modules::allocator::linked_list::LinkedListAllocatorModule'}, 'options.modules.allocator': 'vnv_heap::modules::allocator::linked_list::LinkedListAllocatorModule', 'bench_name': 'baseline_get_max', 'machine_name': 'esp32c3', 'cold_start': 0, 'repetitions': 100, 'ticks_per_ms': 16000}, {'mean': 521945.01, 'min': 521945, 'max': 521946, 'options.object_size': 688, 'options.bucket_size': 1044, 'options.modules': {'allocator': 'vnv_heap::modules::allocator::linked_list::LinkedListAllocatorModule'}, 'options.modules.allocator': 'vnv_heap::modules::allocator::linked_list::LinkedListAllocatorModule', 'bench_name': 'baseline_get_max', 'machine_name': 'esp32c3', 'cold_start': 0, 'repetitions': 100, 'ticks_per_ms': 16000}, {'mean': 521945.4, 'min': 521945, 'max': 521946, 'options.object_size': 704, 'options.bucket_size': 1044, 'options.modules': {'allocator': 'vnv_heap::modules::allocator::linked_list::LinkedListAllocatorModule'}, 'options.modules.allocator': 'vnv_heap::modules::allocator::linked_list::LinkedListAllocatorModule', 'bench_name': 'baseline_get_max', 'machine_name': 'esp32c3', 'cold_start': 0, 'repetitions': 100, 'ticks_per_ms': 16000}, {'mean': 521945.01, 'min': 521945, 'max': 521946, 'options.object_size': 720, 'options.bucket_size': 1044, 'options.modules': {'allocator': 'vnv_heap::modules::allocator::linked_list::LinkedListAllocatorModule'}, 'options.modules.allocator': 'vnv_heap::modules::allocator::linked_list::LinkedListAllocatorModule', 'bench_name': 'baseline_get_max', 'machine_name': 'esp32c3', 'cold_start': 0, 'repetitions': 100, 'ticks_per_ms': 16000}, {'mean': 521945.01, 'min': 521945, 'max': 521946, 'options.object_size': 736, 'options.bucket_size': 1044, 'options.modules': {'allocator': 'vnv_heap::modules::allocator::linked_list::LinkedListAllocatorModule'}, 'options.modules.allocator': 'vnv_heap::modules::allocator::linked_list::LinkedListAllocatorModule', 'bench_name': 'baseline_get_max', 'machine_name': 'esp32c3', 'cold_start': 0, 'repetitions': 100, 'ticks_per_ms': 16000}, {'mean': 521945.39, 'min': 521945, 'max': 521946, 'options.object_size': 752, 'options.bucket_size': 1044, 'options.modules': {'allocator': 'vnv_heap::modules::allocator::linked_list::LinkedListAllocatorModule'}, 'options.modules.allocator': 'vnv_heap::modules::allocator::linked_list::LinkedListAllocatorModule', 'bench_name': 'baseline_get_max', 'machine_name': 'esp32c3', 'cold_start': 0, 'repetitions': 100, 'ticks_per_ms': 16000}, {'mean': 521945.41, 'min': 521945, 'max': 521946, 'options.object_size': 768, 'options.bucket_size': 1044, 'options.modules': {'allocator': 'vnv_heap::modules::allocator::linked_list::LinkedListAllocatorModule'}, 'options.modules.allocator': 'vnv_heap::modules::allocator::linked_list::LinkedListAllocatorModule', 'bench_name': 'baseline_get_max', 'machine_name': 'esp32c3', 'cold_start': 0, 'repetitions': 100, 'ticks_per_ms': 16000}, {'mean': 521945.0, 'min': 521945, 'max': 521945, 'options.object_size': 784, 'options.bucket_size': 1044, 'options.modules': {'allocator': 'vnv_heap::modules::allocator::linked_list::LinkedListAllocatorModule'}, 'options.modules.allocator': 'vnv_heap::modules::allocator::linked_list::LinkedListAllocatorModule', 'bench_name': 'baseline_get_max', 'machine_name': 'esp32c3', 'cold_start': 0, 'repetitions': 100, 'ticks_per_ms': 16000}, {'mean': 521945.01, 'min': 521945, 'max': 521946, 'options.object_size': 800, 'options.bucket_size': 1044, 'options.modules': {'allocator': 'vnv_heap::modules::allocator::linked_list::LinkedListAllocatorModule'}, 'options.modules.allocator': 'vnv_heap::modules::allocator::linked_list::LinkedListAllocatorModule', 'bench_name': 'baseline_get_max', 'machine_name': 'esp32c3', 'cold_start': 0, 'repetitions': 100, 'ticks_per_ms': 16000}, {'mean': 521945.4, 'min': 521945, 'max': 521946, 'options.object_size': 816, 'options.bucket_size': 1044, 'options.modules': {'allocator': 'vnv_heap::modules::allocator::linked_list::LinkedListAllocatorModule'}, 'options.modules.allocator': 'vnv_heap::modules::allocator::linked_list::LinkedListAllocatorModule', 'bench_name': 'baseline_get_max', 'machine_name': 'esp32c3', 'cold_start': 0, 'repetitions': 100, 'ticks_per_ms': 16000}, {'mean': 521945.0, 'min': 521945, 'max': 521945, 'options.object_size': 832, 'options.bucket_size': 1044, 'options.modules': {'allocator': 'vnv_heap::modules::allocator::linked_list::LinkedListAllocatorModule'}, 'options.modules.allocator': 'vnv_heap::modules::allocator::linked_list::LinkedListAllocatorModule', 'bench_name': 'baseline_get_max', 'machine_name': 'esp32c3', 'cold_start': 0, 'repetitions': 100, 'ticks_per_ms': 16000}, {'mean': 521945.01, 'min': 521945, 'max': 521946, 'options.object_size': 848, 'options.bucket_size': 1044, 'options.modules': {'allocator': 'vnv_heap::modules::allocator::linked_list::LinkedListAllocatorModule'}, 'options.modules.allocator': 'vnv_heap::modules::allocator::linked_list::LinkedListAllocatorModule', 'bench_name': 'baseline_get_max', 'machine_name': 'esp32c3', 'cold_start': 0, 'repetitions': 100, 'ticks_per_ms': 16000}, {'mean': 521945.02, 'min': 521945, 'max': 521946, 'options.object_size': 864, 'options.bucket_size': 1044, 'options.modules': {'allocator': 'vnv_heap::modules::allocator::linked_list::LinkedListAllocatorModule'}, 'options.modules.allocator': 'vnv_heap::modules::allocator::linked_list::LinkedListAllocatorModule', 'bench_name': 'baseline_get_max', 'machine_name': 'esp32c3', 'cold_start': 0, 'repetitions': 100, 'ticks_per_ms': 16000}, {'mean': 521945.4, 'min': 521945, 'max': 521946, 'options.object_size': 880, 'options.bucket_size': 1044, 'options.modules': {'allocator': 'vnv_heap::modules::allocator::linked_list::LinkedListAllocatorModule'}, 'options.modules.allocator': 'vnv_heap::modules::allocator::linked_list::LinkedListAllocatorModule', 'bench_name': 'baseline_get_max', 'machine_name': 'esp32c3', 'cold_start': 0, 'repetitions': 100, 'ticks_per_ms': 16000}, {'mean': 521945.02, 'min': 521945, 'max': 521946, 'options.object_size': 896, 'options.bucket_size': 1044, 'options.modules': {'allocator': 'vnv_heap::modules::allocator::linked_list::LinkedListAllocatorModule'}, 'options.modules.allocator': 'vnv_heap::modules::allocator::linked_list::LinkedListAllocatorModule', 'bench_name': 'baseline_get_max', 'machine_name': 'esp32c3', 'cold_start': 0, 'repetitions': 100, 'ticks_per_ms': 16000}, {'mean': 521945.0, 'min': 521945, 'max': 521945, 'options.object_size': 912, 'options.bucket_size': 1044, 'options.modules': {'allocator': 'vnv_heap::modules::allocator::linked_list::LinkedListAllocatorModule'}, 'options.modules.allocator': 'vnv_heap::modules::allocator::linked_list::LinkedListAllocatorModule', 'bench_name': 'baseline_get_max', 'machine_name': 'esp32c3', 'cold_start': 0, 'repetitions': 100, 'ticks_per_ms': 16000}, {'mean': 521946.0, 'min': 521946, 'max': 521946, 'options.object_size': 928, 'options.bucket_size': 1044, 'options.modules': {'allocator': 'vnv_heap::modules::allocator::linked_list::LinkedListAllocatorModule'}, 'options.modules.allocator': 'vnv_heap::modules::allocator::linked_list::LinkedListAllocatorModule', 'bench_name': 'baseline_get_max', 'machine_name': 'esp32c3', 'cold_start': 0, 'repetitions': 100, 'ticks_per_ms': 16000}, {'mean': 521946.0, 'min': 521946, 'max': 521946, 'options.object_size': 944, 'options.bucket_size': 1044, 'options.modules': {'allocator': 'vnv_heap::modules::allocator::linked_list::LinkedListAllocatorModule'}, 'options.modules.allocator': 'vnv_heap::modules::allocator::linked_list::LinkedListAllocatorModule', 'bench_name': 'baseline_get_max', 'machine_name': 'esp32c3', 'cold_start': 0, 'repetitions': 100, 'ticks_per_ms': 16000}, {'mean': 521945.39, 'min': 521945, 'max': 521946, 'options.object_size': 960, 'options.bucket_size': 1044, 'options.modules': {'allocator': 'vnv_heap::modules::allocator::linked_list::LinkedListAllocatorModule'}, 'options.modules.allocator': 'vnv_heap::modules::allocator::linked_list::LinkedListAllocatorModule', 'bench_name': 'baseline_get_max', 'machine_name': 'esp32c3', 'cold_start': 0, 'repetitions': 100, 'ticks_per_ms': 16000}, {'mean': 521945.0, 'min': 521945, 'max': 521945, 'options.object_size': 976, 'options.bucket_size': 1044, 'options.modules': {'allocator': 'vnv_heap::modules::allocator::linked_list::LinkedListAllocatorModule'}, 'options.modules.allocator': 'vnv_heap::modules::allocator::linked_list::LinkedListAllocatorModule', 'bench_name': 'baseline_get_max', 'machine_name': 'esp32c3', 'cold_start': 0, 'repetitions': 100, 'ticks_per_ms': 16000}, {'mean': 521945.39, 'min': 521945, 'max': 521946, 'options.object_size': 992, 'options.bucket_size': 1044, 'options.modules': {'allocator': 'vnv_heap::modules::allocator::linked_list::LinkedListAllocatorModule'}, 'options.modules.allocator': 'vnv_heap::modules::allocator::linked_list::LinkedListAllocatorModule', 'bench_name': 'baseline_get_max', 'machine_name': 'esp32c3', 'cold_start': 0, 'repetitions': 100, 'ticks_per_ms': 16000}, {'mean': 521945.01, 'min': 521945, 'max': 521946, 'options.object_size': 1008, 'options.bucket_size': 1044, 'options.modules': {'allocator': 'vnv_heap::modules::allocator::linked_list::LinkedListAllocatorModule'}, 'options.modules.allocator': 'vnv_heap::modules::allocator::linked_list::LinkedListAllocatorModule', 'bench_name': 'baseline_get_max', 'machine_name': 'esp32c3', 'cold_start': 0, 'repetitions': 100, 'ticks_per_ms': 16000}, {'mean': 521945.34, 'min': 521945, 'max': 521946, 'options.object_size': 1024, 'options.bucket_size': 1044, 'options.modules': {'allocator': 'vnv_heap::modules::allocator::linked_list::LinkedListAllocatorModule'}, 'options.modules.allocator': 'vnv_heap::modules::allocator::linked_list::LinkedListAllocatorModule', 'bench_name': 'baseline_get_max', 'machine_name': 'esp32c3', 'cold_start': 0, 'repetitions': 100, 'ticks_per_ms': 16000}]\n"
     ]
    },
    {
     "data": {
      "application/vnd.microsoft.datawrangler.viewer.v0+json": {
       "columns": [
        {
         "name": "index",
         "rawType": "int64",
         "type": "integer"
        },
        {
         "name": "mean",
         "rawType": "float64",
         "type": "float"
        },
        {
         "name": "min",
         "rawType": "int64",
         "type": "integer"
        },
        {
         "name": "max",
         "rawType": "int64",
         "type": "integer"
        },
        {
         "name": "options.object_size",
         "rawType": "int64",
         "type": "integer"
        },
        {
         "name": "options.blocker_size",
         "rawType": "float64",
         "type": "float"
        },
        {
         "name": "options.blocker_count",
         "rawType": "float64",
         "type": "float"
        },
        {
         "name": "options.modules",
         "rawType": "object",
         "type": "unknown"
        },
        {
         "name": "machine_name",
         "rawType": "object",
         "type": "string"
        },
        {
         "name": "cold_start",
         "rawType": "int64",
         "type": "integer"
        },
        {
         "name": "repetitions",
         "rawType": "int64",
         "type": "integer"
        },
        {
         "name": "ticks_per_ms",
         "rawType": "int64",
         "type": "integer"
        },
        {
         "name": "dataset_type",
         "rawType": "object",
         "type": "string"
        },
        {
         "name": "benchmark_title",
         "rawType": "object",
         "type": "string"
        },
        {
         "name": "benchmark_id",
         "rawType": "object",
         "type": "string"
        },
        {
         "name": "options.bucket_size",
         "rawType": "float64",
         "type": "float"
        }
       ],
       "conversionMethod": "pd.DataFrame",
       "ref": "ce078a76-ba04-461c-997b-51f106cce120",
       "rows": [
        [
         "0",
         "1040.8",
         "1040",
         "1041",
         "8",
         null,
         null,
         "{'allocator': 'vnv_heap::modules::allocator::linked_list::LinkedListAllocatorModule', 'non_resident_allocator': 'vnv_heap::modules::nonresident_allocator::buddy::NonResidentBuddyAllocatorModule<19>'}",
         "esp32c3",
         "0",
         "100",
         "16000",
         "vNV-Heap",
         "Best-Case",
         "get_min",
         null
        ],
        [
         "1",
         "914.59",
         "914",
         "915",
         "16",
         null,
         null,
         "{'allocator': 'vnv_heap::modules::allocator::linked_list::LinkedListAllocatorModule', 'non_resident_allocator': 'vnv_heap::modules::nonresident_allocator::buddy::NonResidentBuddyAllocatorModule<19>'}",
         "esp32c3",
         "0",
         "100",
         "16000",
         "vNV-Heap",
         "Best-Case",
         "get_min",
         null
        ],
        [
         "2",
         "914.24",
         "914",
         "915",
         "32",
         null,
         null,
         "{'allocator': 'vnv_heap::modules::allocator::linked_list::LinkedListAllocatorModule', 'non_resident_allocator': 'vnv_heap::modules::nonresident_allocator::buddy::NonResidentBuddyAllocatorModule<19>'}",
         "esp32c3",
         "0",
         "100",
         "16000",
         "vNV-Heap",
         "Best-Case",
         "get_min",
         null
        ],
        [
         "3",
         "915.41",
         "915",
         "916",
         "48",
         null,
         null,
         "{'allocator': 'vnv_heap::modules::allocator::linked_list::LinkedListAllocatorModule', 'non_resident_allocator': 'vnv_heap::modules::nonresident_allocator::buddy::NonResidentBuddyAllocatorModule<19>'}",
         "esp32c3",
         "0",
         "100",
         "16000",
         "vNV-Heap",
         "Best-Case",
         "get_min",
         null
        ],
        [
         "4",
         "979.19",
         "978",
         "980",
         "64",
         null,
         null,
         "{'allocator': 'vnv_heap::modules::allocator::linked_list::LinkedListAllocatorModule', 'non_resident_allocator': 'vnv_heap::modules::nonresident_allocator::buddy::NonResidentBuddyAllocatorModule<19>'}",
         "esp32c3",
         "0",
         "100",
         "16000",
         "vNV-Heap",
         "Best-Case",
         "get_min",
         null
        ]
       ],
       "shape": {
        "columns": 15,
        "rows": 5
       }
      },
      "text/html": [
       "<div>\n",
       "<style scoped>\n",
       "    .dataframe tbody tr th:only-of-type {\n",
       "        vertical-align: middle;\n",
       "    }\n",
       "\n",
       "    .dataframe tbody tr th {\n",
       "        vertical-align: top;\n",
       "    }\n",
       "\n",
       "    .dataframe thead th {\n",
       "        text-align: right;\n",
       "    }\n",
       "</style>\n",
       "<table border=\"1\" class=\"dataframe\">\n",
       "  <thead>\n",
       "    <tr style=\"text-align: right;\">\n",
       "      <th></th>\n",
       "      <th>mean</th>\n",
       "      <th>min</th>\n",
       "      <th>max</th>\n",
       "      <th>options.object_size</th>\n",
       "      <th>options.blocker_size</th>\n",
       "      <th>options.blocker_count</th>\n",
       "      <th>options.modules</th>\n",
       "      <th>machine_name</th>\n",
       "      <th>cold_start</th>\n",
       "      <th>repetitions</th>\n",
       "      <th>ticks_per_ms</th>\n",
       "      <th>dataset_type</th>\n",
       "      <th>benchmark_title</th>\n",
       "      <th>benchmark_id</th>\n",
       "      <th>options.bucket_size</th>\n",
       "    </tr>\n",
       "  </thead>\n",
       "  <tbody>\n",
       "    <tr>\n",
       "      <th>0</th>\n",
       "      <td>1040.80</td>\n",
       "      <td>1040</td>\n",
       "      <td>1041</td>\n",
       "      <td>8</td>\n",
       "      <td>NaN</td>\n",
       "      <td>NaN</td>\n",
       "      <td>{'allocator': 'vnv_heap::modules::allocator::l...</td>\n",
       "      <td>esp32c3</td>\n",
       "      <td>0</td>\n",
       "      <td>100</td>\n",
       "      <td>16000</td>\n",
       "      <td>vNV-Heap</td>\n",
       "      <td>Best-Case</td>\n",
       "      <td>get_min</td>\n",
       "      <td>NaN</td>\n",
       "    </tr>\n",
       "    <tr>\n",
       "      <th>1</th>\n",
       "      <td>914.59</td>\n",
       "      <td>914</td>\n",
       "      <td>915</td>\n",
       "      <td>16</td>\n",
       "      <td>NaN</td>\n",
       "      <td>NaN</td>\n",
       "      <td>{'allocator': 'vnv_heap::modules::allocator::l...</td>\n",
       "      <td>esp32c3</td>\n",
       "      <td>0</td>\n",
       "      <td>100</td>\n",
       "      <td>16000</td>\n",
       "      <td>vNV-Heap</td>\n",
       "      <td>Best-Case</td>\n",
       "      <td>get_min</td>\n",
       "      <td>NaN</td>\n",
       "    </tr>\n",
       "    <tr>\n",
       "      <th>2</th>\n",
       "      <td>914.24</td>\n",
       "      <td>914</td>\n",
       "      <td>915</td>\n",
       "      <td>32</td>\n",
       "      <td>NaN</td>\n",
       "      <td>NaN</td>\n",
       "      <td>{'allocator': 'vnv_heap::modules::allocator::l...</td>\n",
       "      <td>esp32c3</td>\n",
       "      <td>0</td>\n",
       "      <td>100</td>\n",
       "      <td>16000</td>\n",
       "      <td>vNV-Heap</td>\n",
       "      <td>Best-Case</td>\n",
       "      <td>get_min</td>\n",
       "      <td>NaN</td>\n",
       "    </tr>\n",
       "    <tr>\n",
       "      <th>3</th>\n",
       "      <td>915.41</td>\n",
       "      <td>915</td>\n",
       "      <td>916</td>\n",
       "      <td>48</td>\n",
       "      <td>NaN</td>\n",
       "      <td>NaN</td>\n",
       "      <td>{'allocator': 'vnv_heap::modules::allocator::l...</td>\n",
       "      <td>esp32c3</td>\n",
       "      <td>0</td>\n",
       "      <td>100</td>\n",
       "      <td>16000</td>\n",
       "      <td>vNV-Heap</td>\n",
       "      <td>Best-Case</td>\n",
       "      <td>get_min</td>\n",
       "      <td>NaN</td>\n",
       "    </tr>\n",
       "    <tr>\n",
       "      <th>4</th>\n",
       "      <td>979.19</td>\n",
       "      <td>978</td>\n",
       "      <td>980</td>\n",
       "      <td>64</td>\n",
       "      <td>NaN</td>\n",
       "      <td>NaN</td>\n",
       "      <td>{'allocator': 'vnv_heap::modules::allocator::l...</td>\n",
       "      <td>esp32c3</td>\n",
       "      <td>0</td>\n",
       "      <td>100</td>\n",
       "      <td>16000</td>\n",
       "      <td>vNV-Heap</td>\n",
       "      <td>Best-Case</td>\n",
       "      <td>get_min</td>\n",
       "      <td>NaN</td>\n",
       "    </tr>\n",
       "  </tbody>\n",
       "</table>\n",
       "</div>"
      ],
      "text/plain": [
       "      mean   min   max  options.object_size  options.blocker_size  \\\n",
       "0  1040.80  1040  1041                    8                   NaN   \n",
       "1   914.59   914   915                   16                   NaN   \n",
       "2   914.24   914   915                   32                   NaN   \n",
       "3   915.41   915   916                   48                   NaN   \n",
       "4   979.19   978   980                   64                   NaN   \n",
       "\n",
       "   options.blocker_count                                    options.modules  \\\n",
       "0                    NaN  {'allocator': 'vnv_heap::modules::allocator::l...   \n",
       "1                    NaN  {'allocator': 'vnv_heap::modules::allocator::l...   \n",
       "2                    NaN  {'allocator': 'vnv_heap::modules::allocator::l...   \n",
       "3                    NaN  {'allocator': 'vnv_heap::modules::allocator::l...   \n",
       "4                    NaN  {'allocator': 'vnv_heap::modules::allocator::l...   \n",
       "\n",
       "  machine_name  cold_start  repetitions  ticks_per_ms dataset_type  \\\n",
       "0      esp32c3           0          100         16000     vNV-Heap   \n",
       "1      esp32c3           0          100         16000     vNV-Heap   \n",
       "2      esp32c3           0          100         16000     vNV-Heap   \n",
       "3      esp32c3           0          100         16000     vNV-Heap   \n",
       "4      esp32c3           0          100         16000     vNV-Heap   \n",
       "\n",
       "  benchmark_title benchmark_id  options.bucket_size  \n",
       "0       Best-Case      get_min                  NaN  \n",
       "1       Best-Case      get_min                  NaN  \n",
       "2       Best-Case      get_min                  NaN  \n",
       "3       Best-Case      get_min                  NaN  \n",
       "4       Best-Case      get_min                  NaN  "
      ]
     },
     "execution_count": 3,
     "metadata": {},
     "output_type": "execute_result"
    }
   ],
   "source": [
    "from util.convert import convert_datasets\n",
    "import pandas as pd\n",
    "\n",
    "ovpm = convert_datasets(\n",
    "    raw_data,\n",
    "    \"vNV-Heap\",\n",
    "    [(\"get_min\", \"Best-Case\"), (\"get_min_max\", \"Bad-Case\"), (\"get_max\", \"Worst-Case\")],\n",
    "    [\"mean\", \"min\", \"max\", \"options.object_size\", \"options.blocker_size\", \"options.blocker_count\", \"options.modules\", \"machine_name\", \"cold_start\", \"repetitions\"],\n",
    "    unwrapped=show_error_bar\n",
    ")\n",
    "\n",
    "baseline = convert_datasets(\n",
    "    raw_data,\n",
    "    \"Baseline\",\n",
    "    [(\"baseline_get_min\", \"Best-Case\"), (\"baseline_get_min_max\", \"Bad-Case\"), (\"baseline_get_max\", \"Worst-Case\")],\n",
    "    [\"mean\", \"min\", \"max\", \"options.object_size\", \"options.bucket_size\", \"options.modules\", \"machine_name\", \"cold_start\", \"repetitions\"],\n",
    "    unwrapped=show_error_bar\n",
    ")\n",
    "\n",
    "dataset = pd.concat([ovpm, baseline])\n",
    "dataset.head()"
   ]
  },
  {
   "cell_type": "markdown",
   "metadata": {},
   "source": [
    "## Display Min and Max Latencies"
   ]
  },
  {
   "cell_type": "code",
   "execution_count": 4,
   "metadata": {},
   "outputs": [
    {
     "data": {
      "text/html": [
       "<b>Best-Case</b> [in us]"
      ],
      "text/plain": [
       "<IPython.core.display.HTML object>"
      ]
     },
     "metadata": {},
     "output_type": "display_data"
    },
    {
     "data": {
      "text/plain": [
       "min    37.341875\n",
       "max    65.089375\n",
       "Name: mean, dtype: float64"
      ]
     },
     "metadata": {},
     "output_type": "display_data"
    },
    {
     "data": {
      "text/html": [
       "<b>Bad-Case</b> [in us]"
      ],
      "text/plain": [
       "<IPython.core.display.HTML object>"
      ]
     },
     "metadata": {},
     "output_type": "display_data"
    },
    {
     "data": {
      "text/plain": [
       "min      576.16375\n",
       "max    12358.18750\n",
       "Name: mean, dtype: float64"
      ]
     },
     "metadata": {},
     "output_type": "display_data"
    },
    {
     "data": {
      "text/html": [
       "<b>Worst-Case</b> [in us]"
      ],
      "text/plain": [
       "<IPython.core.display.HTML object>"
      ]
     },
     "metadata": {},
     "output_type": "display_data"
    },
    {
     "data": {
      "text/plain": [
       "min    20646.141250\n",
       "max    32621.626875\n",
       "Name: mean, dtype: float64"
      ]
     },
     "metadata": {},
     "output_type": "display_data"
    }
   ],
   "source": [
    "from util.convert import display_dataset_infos\n",
    "\n",
    "display_dataset_infos(dataset)"
   ]
  },
  {
   "cell_type": "markdown",
   "metadata": {},
   "source": [
    "## Compare the latencies"
   ]
  },
  {
   "cell_type": "code",
   "execution_count": 5,
   "metadata": {},
   "outputs": [
    {
     "data": {
      "text/html": [
       "<b>Best-Case</b>"
      ],
      "text/plain": [
       "<IPython.core.display.HTML object>"
      ]
     },
     "metadata": {},
     "output_type": "display_data"
    },
    {
     "data": {
      "application/vnd.microsoft.datawrangler.viewer.v0+json": {
       "columns": [
        {
         "name": "index",
         "rawType": "int64",
         "type": "integer"
        },
        {
         "name": "Object size",
         "rawType": "int64",
         "type": "integer"
        },
        {
         "name": "get_min [ms]",
         "rawType": "float64",
         "type": "float"
        },
        {
         "name": "baseline_get_min [ms]",
         "rawType": "float64",
         "type": "float"
        },
        {
         "name": "% Worse",
         "rawType": "float64",
         "type": "float"
        },
        {
         "name": "% Better",
         "rawType": "float64",
         "type": "float"
        }
       ],
       "conversionMethod": "pd.DataFrame",
       "ref": "ad3d0c89-1667-43e9-8f8c-6233ee9f9a04",
       "rows": [
        [
         "0",
         "32",
         "0.05714",
         "0.03734375",
         "53.01087866108787",
         "-34.645169758487924"
        ],
        [
         "1",
         "128",
         "0.053186250000000004",
         "0.03734875",
         "42.4043642692192",
         "-29.777433077158108"
        ],
        [
         "2",
         "512",
         "0.057125",
         "0.037348125",
         "52.95279214150642",
         "-34.62035010940919"
        ],
        [
         "3",
         "1024",
         "0.057134375",
         "0.037348125",
         "52.97789380323644",
         "-34.63107805064814"
        ]
       ],
       "shape": {
        "columns": 5,
        "rows": 4
       }
      },
      "text/html": [
       "<div>\n",
       "<style scoped>\n",
       "    .dataframe tbody tr th:only-of-type {\n",
       "        vertical-align: middle;\n",
       "    }\n",
       "\n",
       "    .dataframe tbody tr th {\n",
       "        vertical-align: top;\n",
       "    }\n",
       "\n",
       "    .dataframe thead th {\n",
       "        text-align: right;\n",
       "    }\n",
       "</style>\n",
       "<table border=\"1\" class=\"dataframe\">\n",
       "  <thead>\n",
       "    <tr style=\"text-align: right;\">\n",
       "      <th></th>\n",
       "      <th>Object size</th>\n",
       "      <th>get_min [ms]</th>\n",
       "      <th>baseline_get_min [ms]</th>\n",
       "      <th>% Worse</th>\n",
       "      <th>% Better</th>\n",
       "    </tr>\n",
       "  </thead>\n",
       "  <tbody>\n",
       "    <tr>\n",
       "      <th>0</th>\n",
       "      <td>32</td>\n",
       "      <td>0.057140</td>\n",
       "      <td>0.037344</td>\n",
       "      <td>53.010879</td>\n",
       "      <td>-34.645170</td>\n",
       "    </tr>\n",
       "    <tr>\n",
       "      <th>1</th>\n",
       "      <td>128</td>\n",
       "      <td>0.053186</td>\n",
       "      <td>0.037349</td>\n",
       "      <td>42.404364</td>\n",
       "      <td>-29.777433</td>\n",
       "    </tr>\n",
       "    <tr>\n",
       "      <th>2</th>\n",
       "      <td>512</td>\n",
       "      <td>0.057125</td>\n",
       "      <td>0.037348</td>\n",
       "      <td>52.952792</td>\n",
       "      <td>-34.620350</td>\n",
       "    </tr>\n",
       "    <tr>\n",
       "      <th>3</th>\n",
       "      <td>1024</td>\n",
       "      <td>0.057134</td>\n",
       "      <td>0.037348</td>\n",
       "      <td>52.977894</td>\n",
       "      <td>-34.631078</td>\n",
       "    </tr>\n",
       "  </tbody>\n",
       "</table>\n",
       "</div>"
      ],
      "text/plain": [
       "   Object size  get_min [ms]  baseline_get_min [ms]    % Worse   % Better\n",
       "0           32      0.057140               0.037344  53.010879 -34.645170\n",
       "1          128      0.053186               0.037349  42.404364 -29.777433\n",
       "2          512      0.057125               0.037348  52.952792 -34.620350\n",
       "3         1024      0.057134               0.037348  52.977894 -34.631078"
      ]
     },
     "metadata": {},
     "output_type": "display_data"
    },
    {
     "name": "stdout",
     "output_type": "stream",
     "text": [
      "Stats:\n"
     ]
    },
    {
     "data": {
      "application/vnd.microsoft.datawrangler.viewer.v0+json": {
       "columns": [
        {
         "name": "index",
         "rawType": "object",
         "type": "string"
        },
        {
         "name": "Object size",
         "rawType": "float64",
         "type": "float"
        },
        {
         "name": "get_min [ms]",
         "rawType": "float64",
         "type": "float"
        },
        {
         "name": "baseline_get_min [ms]",
         "rawType": "float64",
         "type": "float"
        },
        {
         "name": "% Worse",
         "rawType": "float64",
         "type": "float"
        },
        {
         "name": "% Better",
         "rawType": "float64",
         "type": "float"
        }
       ],
       "conversionMethod": "pd.DataFrame",
       "ref": "c992e6ed-d5b9-44a7-a002-b787dc7ed960",
       "rows": [
        [
         "count",
         "4.0",
         "4.0",
         "4.0",
         "4.0",
         "4.0"
        ],
        [
         "mean",
         "424.0",
         "0.05614640625",
         "0.037347187500000004",
         "50.336482218762484",
         "-33.41850774892584"
        ],
        [
         "std",
         "450.56409089051914",
         "0.001973447199105222",
         "2.3105284388351035e-06",
         "5.288132129798795",
         "2.427404392017839"
        ],
        [
         "min",
         "32.0",
         "0.053186250000000004",
         "0.03734375",
         "42.4043642692192",
         "-34.645169758487924"
        ],
        [
         "25%",
         "104.0",
         "0.056140312500000004",
         "0.03734703125",
         "50.315685173434616",
         "-34.63460097760809"
        ],
        [
         "50%",
         "320.0",
         "0.0571296875",
         "0.037348125",
         "52.96534297237143",
         "-34.625714080028665"
        ],
        [
         "75%",
         "640.0",
         "0.05713578125",
         "0.037348281250000004",
         "52.9861400176993",
         "-33.40962085134642"
        ],
        [
         "max",
         "1024.0",
         "0.05714",
         "0.03734875",
         "53.01087866108787",
         "-29.777433077158108"
        ]
       ],
       "shape": {
        "columns": 5,
        "rows": 8
       }
      },
      "text/html": [
       "<div>\n",
       "<style scoped>\n",
       "    .dataframe tbody tr th:only-of-type {\n",
       "        vertical-align: middle;\n",
       "    }\n",
       "\n",
       "    .dataframe tbody tr th {\n",
       "        vertical-align: top;\n",
       "    }\n",
       "\n",
       "    .dataframe thead th {\n",
       "        text-align: right;\n",
       "    }\n",
       "</style>\n",
       "<table border=\"1\" class=\"dataframe\">\n",
       "  <thead>\n",
       "    <tr style=\"text-align: right;\">\n",
       "      <th></th>\n",
       "      <th>Object size</th>\n",
       "      <th>get_min [ms]</th>\n",
       "      <th>baseline_get_min [ms]</th>\n",
       "      <th>% Worse</th>\n",
       "      <th>% Better</th>\n",
       "    </tr>\n",
       "  </thead>\n",
       "  <tbody>\n",
       "    <tr>\n",
       "      <th>count</th>\n",
       "      <td>4.000000</td>\n",
       "      <td>4.000000</td>\n",
       "      <td>4.000000</td>\n",
       "      <td>4.000000</td>\n",
       "      <td>4.000000</td>\n",
       "    </tr>\n",
       "    <tr>\n",
       "      <th>mean</th>\n",
       "      <td>424.000000</td>\n",
       "      <td>0.056146</td>\n",
       "      <td>0.037347</td>\n",
       "      <td>50.336482</td>\n",
       "      <td>-33.418508</td>\n",
       "    </tr>\n",
       "    <tr>\n",
       "      <th>std</th>\n",
       "      <td>450.564091</td>\n",
       "      <td>0.001973</td>\n",
       "      <td>0.000002</td>\n",
       "      <td>5.288132</td>\n",
       "      <td>2.427404</td>\n",
       "    </tr>\n",
       "    <tr>\n",
       "      <th>min</th>\n",
       "      <td>32.000000</td>\n",
       "      <td>0.053186</td>\n",
       "      <td>0.037344</td>\n",
       "      <td>42.404364</td>\n",
       "      <td>-34.645170</td>\n",
       "    </tr>\n",
       "    <tr>\n",
       "      <th>25%</th>\n",
       "      <td>104.000000</td>\n",
       "      <td>0.056140</td>\n",
       "      <td>0.037347</td>\n",
       "      <td>50.315685</td>\n",
       "      <td>-34.634601</td>\n",
       "    </tr>\n",
       "    <tr>\n",
       "      <th>50%</th>\n",
       "      <td>320.000000</td>\n",
       "      <td>0.057130</td>\n",
       "      <td>0.037348</td>\n",
       "      <td>52.965343</td>\n",
       "      <td>-34.625714</td>\n",
       "    </tr>\n",
       "    <tr>\n",
       "      <th>75%</th>\n",
       "      <td>640.000000</td>\n",
       "      <td>0.057136</td>\n",
       "      <td>0.037348</td>\n",
       "      <td>52.986140</td>\n",
       "      <td>-33.409621</td>\n",
       "    </tr>\n",
       "    <tr>\n",
       "      <th>max</th>\n",
       "      <td>1024.000000</td>\n",
       "      <td>0.057140</td>\n",
       "      <td>0.037349</td>\n",
       "      <td>53.010879</td>\n",
       "      <td>-29.777433</td>\n",
       "    </tr>\n",
       "  </tbody>\n",
       "</table>\n",
       "</div>"
      ],
      "text/plain": [
       "       Object size  get_min [ms]  baseline_get_min [ms]    % Worse   % Better\n",
       "count     4.000000      4.000000               4.000000   4.000000   4.000000\n",
       "mean    424.000000      0.056146               0.037347  50.336482 -33.418508\n",
       "std     450.564091      0.001973               0.000002   5.288132   2.427404\n",
       "min      32.000000      0.053186               0.037344  42.404364 -34.645170\n",
       "25%     104.000000      0.056140               0.037347  50.315685 -34.634601\n",
       "50%     320.000000      0.057130               0.037348  52.965343 -34.625714\n",
       "75%     640.000000      0.057136               0.037348  52.986140 -33.409621\n",
       "max    1024.000000      0.057140               0.037349  53.010879 -29.777433"
      ]
     },
     "metadata": {},
     "output_type": "display_data"
    },
    {
     "data": {
      "text/html": [
       "<b>Bad-Case</b>"
      ],
      "text/plain": [
       "<IPython.core.display.HTML object>"
      ]
     },
     "metadata": {},
     "output_type": "display_data"
    },
    {
     "data": {
      "application/vnd.microsoft.datawrangler.viewer.v0+json": {
       "columns": [
        {
         "name": "index",
         "rawType": "int64",
         "type": "integer"
        },
        {
         "name": "Object size",
         "rawType": "int64",
         "type": "integer"
        },
        {
         "name": "get_min_max [ms]",
         "rawType": "float64",
         "type": "float"
        },
        {
         "name": "baseline_get_min_max [ms]",
         "rawType": "float64",
         "type": "float"
        },
        {
         "name": "% Worse",
         "rawType": "float64",
         "type": "float"
        },
        {
         "name": "% Better",
         "rawType": "float64",
         "type": "float"
        }
       ],
       "conversionMethod": "pd.DataFrame",
       "ref": "a5730519-9cc4-4bff-9735-431d6eb32987",
       "rows": [
        [
         "0",
         "32",
         "0.844909375",
         "12.3581875",
         "-93.16316106225123",
         "1362.6642650284239"
        ],
        [
         "1",
         "128",
         "1.953653125",
         "12.3581875",
         "-84.19142673632359",
         "532.5681535712743"
        ],
        [
         "2",
         "512",
         "6.3858999999999995",
         "12.3581875",
         "-48.326564878547124",
         "93.52303512425814"
        ],
        [
         "3",
         "1024",
         "12.29327",
         "12.358151874999999",
         "-0.5250127661179818",
         "0.5277836979094985"
        ]
       ],
       "shape": {
        "columns": 5,
        "rows": 4
       }
      },
      "text/html": [
       "<div>\n",
       "<style scoped>\n",
       "    .dataframe tbody tr th:only-of-type {\n",
       "        vertical-align: middle;\n",
       "    }\n",
       "\n",
       "    .dataframe tbody tr th {\n",
       "        vertical-align: top;\n",
       "    }\n",
       "\n",
       "    .dataframe thead th {\n",
       "        text-align: right;\n",
       "    }\n",
       "</style>\n",
       "<table border=\"1\" class=\"dataframe\">\n",
       "  <thead>\n",
       "    <tr style=\"text-align: right;\">\n",
       "      <th></th>\n",
       "      <th>Object size</th>\n",
       "      <th>get_min_max [ms]</th>\n",
       "      <th>baseline_get_min_max [ms]</th>\n",
       "      <th>% Worse</th>\n",
       "      <th>% Better</th>\n",
       "    </tr>\n",
       "  </thead>\n",
       "  <tbody>\n",
       "    <tr>\n",
       "      <th>0</th>\n",
       "      <td>32</td>\n",
       "      <td>0.844909</td>\n",
       "      <td>12.358187</td>\n",
       "      <td>-93.163161</td>\n",
       "      <td>1362.664265</td>\n",
       "    </tr>\n",
       "    <tr>\n",
       "      <th>1</th>\n",
       "      <td>128</td>\n",
       "      <td>1.953653</td>\n",
       "      <td>12.358187</td>\n",
       "      <td>-84.191427</td>\n",
       "      <td>532.568154</td>\n",
       "    </tr>\n",
       "    <tr>\n",
       "      <th>2</th>\n",
       "      <td>512</td>\n",
       "      <td>6.385900</td>\n",
       "      <td>12.358187</td>\n",
       "      <td>-48.326565</td>\n",
       "      <td>93.523035</td>\n",
       "    </tr>\n",
       "    <tr>\n",
       "      <th>3</th>\n",
       "      <td>1024</td>\n",
       "      <td>12.293270</td>\n",
       "      <td>12.358152</td>\n",
       "      <td>-0.525013</td>\n",
       "      <td>0.527784</td>\n",
       "    </tr>\n",
       "  </tbody>\n",
       "</table>\n",
       "</div>"
      ],
      "text/plain": [
       "   Object size  get_min_max [ms]  baseline_get_min_max [ms]    % Worse  \\\n",
       "0           32          0.844909                  12.358187 -93.163161   \n",
       "1          128          1.953653                  12.358187 -84.191427   \n",
       "2          512          6.385900                  12.358187 -48.326565   \n",
       "3         1024         12.293270                  12.358152  -0.525013   \n",
       "\n",
       "      % Better  \n",
       "0  1362.664265  \n",
       "1   532.568154  \n",
       "2    93.523035  \n",
       "3     0.527784  "
      ]
     },
     "metadata": {},
     "output_type": "display_data"
    },
    {
     "name": "stdout",
     "output_type": "stream",
     "text": [
      "Stats:\n"
     ]
    },
    {
     "data": {
      "application/vnd.microsoft.datawrangler.viewer.v0+json": {
       "columns": [
        {
         "name": "index",
         "rawType": "object",
         "type": "string"
        },
        {
         "name": "Object size",
         "rawType": "float64",
         "type": "float"
        },
        {
         "name": "get_min_max [ms]",
         "rawType": "float64",
         "type": "float"
        },
        {
         "name": "baseline_get_min_max [ms]",
         "rawType": "float64",
         "type": "float"
        },
        {
         "name": "% Worse",
         "rawType": "float64",
         "type": "float"
        },
        {
         "name": "% Better",
         "rawType": "float64",
         "type": "float"
        }
       ],
       "conversionMethod": "pd.DataFrame",
       "ref": "9aa21d3e-41d8-4235-bf12-9d63724e9d01",
       "rows": [
        [
         "count",
         "4.0",
         "4.0",
         "4.0",
         "4.0",
         "4.0"
        ],
        [
         "mean",
         "424.0",
         "5.369433125",
         "12.358178593749999",
         "-56.55154136080998",
         "497.3208093554664"
        ],
        [
         "std",
         "450.56409089051914",
         "5.199730446612788",
         "1.781250000032486e-05",
         "42.07531384410622",
         "621.8031908265806"
        ],
        [
         "min",
         "32.0",
         "0.844909375",
         "12.358151874999999",
         "-93.16316106225123",
         "0.5277836979094985"
        ],
        [
         "25%",
         "104.0",
         "1.6764671875000001",
         "12.358178593749999",
         "-86.4343603178055",
         "70.27422226767098"
        ],
        [
         "50%",
         "320.0",
         "4.169776562499999",
         "12.3581875",
         "-66.25899580743535",
         "313.0455943477662"
        ],
        [
         "75%",
         "640.0",
         "7.8627424999999995",
         "12.3581875",
         "-36.37617685043984",
         "740.0921814355617"
        ],
        [
         "max",
         "1024.0",
         "12.29327",
         "12.3581875",
         "-0.5250127661179818",
         "1362.6642650284239"
        ]
       ],
       "shape": {
        "columns": 5,
        "rows": 8
       }
      },
      "text/html": [
       "<div>\n",
       "<style scoped>\n",
       "    .dataframe tbody tr th:only-of-type {\n",
       "        vertical-align: middle;\n",
       "    }\n",
       "\n",
       "    .dataframe tbody tr th {\n",
       "        vertical-align: top;\n",
       "    }\n",
       "\n",
       "    .dataframe thead th {\n",
       "        text-align: right;\n",
       "    }\n",
       "</style>\n",
       "<table border=\"1\" class=\"dataframe\">\n",
       "  <thead>\n",
       "    <tr style=\"text-align: right;\">\n",
       "      <th></th>\n",
       "      <th>Object size</th>\n",
       "      <th>get_min_max [ms]</th>\n",
       "      <th>baseline_get_min_max [ms]</th>\n",
       "      <th>% Worse</th>\n",
       "      <th>% Better</th>\n",
       "    </tr>\n",
       "  </thead>\n",
       "  <tbody>\n",
       "    <tr>\n",
       "      <th>count</th>\n",
       "      <td>4.000000</td>\n",
       "      <td>4.000000</td>\n",
       "      <td>4.000000</td>\n",
       "      <td>4.000000</td>\n",
       "      <td>4.000000</td>\n",
       "    </tr>\n",
       "    <tr>\n",
       "      <th>mean</th>\n",
       "      <td>424.000000</td>\n",
       "      <td>5.369433</td>\n",
       "      <td>12.358179</td>\n",
       "      <td>-56.551541</td>\n",
       "      <td>497.320809</td>\n",
       "    </tr>\n",
       "    <tr>\n",
       "      <th>std</th>\n",
       "      <td>450.564091</td>\n",
       "      <td>5.199730</td>\n",
       "      <td>0.000018</td>\n",
       "      <td>42.075314</td>\n",
       "      <td>621.803191</td>\n",
       "    </tr>\n",
       "    <tr>\n",
       "      <th>min</th>\n",
       "      <td>32.000000</td>\n",
       "      <td>0.844909</td>\n",
       "      <td>12.358152</td>\n",
       "      <td>-93.163161</td>\n",
       "      <td>0.527784</td>\n",
       "    </tr>\n",
       "    <tr>\n",
       "      <th>25%</th>\n",
       "      <td>104.000000</td>\n",
       "      <td>1.676467</td>\n",
       "      <td>12.358179</td>\n",
       "      <td>-86.434360</td>\n",
       "      <td>70.274222</td>\n",
       "    </tr>\n",
       "    <tr>\n",
       "      <th>50%</th>\n",
       "      <td>320.000000</td>\n",
       "      <td>4.169777</td>\n",
       "      <td>12.358187</td>\n",
       "      <td>-66.258996</td>\n",
       "      <td>313.045594</td>\n",
       "    </tr>\n",
       "    <tr>\n",
       "      <th>75%</th>\n",
       "      <td>640.000000</td>\n",
       "      <td>7.862742</td>\n",
       "      <td>12.358187</td>\n",
       "      <td>-36.376177</td>\n",
       "      <td>740.092181</td>\n",
       "    </tr>\n",
       "    <tr>\n",
       "      <th>max</th>\n",
       "      <td>1024.000000</td>\n",
       "      <td>12.293270</td>\n",
       "      <td>12.358187</td>\n",
       "      <td>-0.525013</td>\n",
       "      <td>1362.664265</td>\n",
       "    </tr>\n",
       "  </tbody>\n",
       "</table>\n",
       "</div>"
      ],
      "text/plain": [
       "       Object size  get_min_max [ms]  baseline_get_min_max [ms]    % Worse  \\\n",
       "count     4.000000          4.000000                   4.000000   4.000000   \n",
       "mean    424.000000          5.369433                  12.358179 -56.551541   \n",
       "std     450.564091          5.199730                   0.000018  42.075314   \n",
       "min      32.000000          0.844909                  12.358152 -93.163161   \n",
       "25%     104.000000          1.676467                  12.358179 -86.434360   \n",
       "50%     320.000000          4.169777                  12.358187 -66.258996   \n",
       "75%     640.000000          7.862742                  12.358187 -36.376177   \n",
       "max    1024.000000         12.293270                  12.358187  -0.525013   \n",
       "\n",
       "          % Better  \n",
       "count     4.000000  \n",
       "mean    497.320809  \n",
       "std     621.803191  \n",
       "min       0.527784  \n",
       "25%      70.274222  \n",
       "50%     313.045594  \n",
       "75%     740.092181  \n",
       "max    1362.664265  "
      ]
     },
     "metadata": {},
     "output_type": "display_data"
    },
    {
     "data": {
      "text/html": [
       "<b>Worst-Case</b>"
      ],
      "text/plain": [
       "<IPython.core.display.HTML object>"
      ]
     },
     "metadata": {},
     "output_type": "display_data"
    },
    {
     "data": {
      "application/vnd.microsoft.datawrangler.viewer.v0+json": {
       "columns": [
        {
         "name": "index",
         "rawType": "int64",
         "type": "integer"
        },
        {
         "name": "Object size",
         "rawType": "int64",
         "type": "integer"
        },
        {
         "name": "get_max [ms]",
         "rawType": "float64",
         "type": "float"
        },
        {
         "name": "baseline_get_max [ms]",
         "rawType": "float64",
         "type": "float"
        },
        {
         "name": "% Worse",
         "rawType": "float64",
         "type": "float"
        },
        {
         "name": "% Better",
         "rawType": "float64",
         "type": "float"
        }
       ],
       "conversionMethod": "pd.DataFrame",
       "ref": "99ad42e1-f141-400c-9e0f-24fb486c7ca1",
       "rows": [
        [
         "0",
         "32",
         "20.931226875",
         "32.621563125",
         "-35.83622343664133",
         "55.85117547009534"
        ],
        [
         "1",
         "128",
         "22.038875",
         "32.621586875",
         "-32.44082489166155",
         "48.01838512628251"
        ],
        [
         "2",
         "512",
         "26.4606875",
         "32.6215625",
         "-18.88589793943808",
         "23.283125202245813"
        ],
        [
         "3",
         "1024",
         "32.373938125",
         "32.62158375",
         "-0.7591465420497769",
         "0.7649536613179606"
        ]
       ],
       "shape": {
        "columns": 5,
        "rows": 4
       }
      },
      "text/html": [
       "<div>\n",
       "<style scoped>\n",
       "    .dataframe tbody tr th:only-of-type {\n",
       "        vertical-align: middle;\n",
       "    }\n",
       "\n",
       "    .dataframe tbody tr th {\n",
       "        vertical-align: top;\n",
       "    }\n",
       "\n",
       "    .dataframe thead th {\n",
       "        text-align: right;\n",
       "    }\n",
       "</style>\n",
       "<table border=\"1\" class=\"dataframe\">\n",
       "  <thead>\n",
       "    <tr style=\"text-align: right;\">\n",
       "      <th></th>\n",
       "      <th>Object size</th>\n",
       "      <th>get_max [ms]</th>\n",
       "      <th>baseline_get_max [ms]</th>\n",
       "      <th>% Worse</th>\n",
       "      <th>% Better</th>\n",
       "    </tr>\n",
       "  </thead>\n",
       "  <tbody>\n",
       "    <tr>\n",
       "      <th>0</th>\n",
       "      <td>32</td>\n",
       "      <td>20.931227</td>\n",
       "      <td>32.621563</td>\n",
       "      <td>-35.836223</td>\n",
       "      <td>55.851175</td>\n",
       "    </tr>\n",
       "    <tr>\n",
       "      <th>1</th>\n",
       "      <td>128</td>\n",
       "      <td>22.038875</td>\n",
       "      <td>32.621587</td>\n",
       "      <td>-32.440825</td>\n",
       "      <td>48.018385</td>\n",
       "    </tr>\n",
       "    <tr>\n",
       "      <th>2</th>\n",
       "      <td>512</td>\n",
       "      <td>26.460687</td>\n",
       "      <td>32.621563</td>\n",
       "      <td>-18.885898</td>\n",
       "      <td>23.283125</td>\n",
       "    </tr>\n",
       "    <tr>\n",
       "      <th>3</th>\n",
       "      <td>1024</td>\n",
       "      <td>32.373938</td>\n",
       "      <td>32.621584</td>\n",
       "      <td>-0.759147</td>\n",
       "      <td>0.764954</td>\n",
       "    </tr>\n",
       "  </tbody>\n",
       "</table>\n",
       "</div>"
      ],
      "text/plain": [
       "   Object size  get_max [ms]  baseline_get_max [ms]    % Worse   % Better\n",
       "0           32     20.931227              32.621563 -35.836223  55.851175\n",
       "1          128     22.038875              32.621587 -32.440825  48.018385\n",
       "2          512     26.460687              32.621563 -18.885898  23.283125\n",
       "3         1024     32.373938              32.621584  -0.759147   0.764954"
      ]
     },
     "metadata": {},
     "output_type": "display_data"
    },
    {
     "name": "stdout",
     "output_type": "stream",
     "text": [
      "Stats:\n"
     ]
    },
    {
     "data": {
      "application/vnd.microsoft.datawrangler.viewer.v0+json": {
       "columns": [
        {
         "name": "index",
         "rawType": "object",
         "type": "string"
        },
        {
         "name": "Object size",
         "rawType": "float64",
         "type": "float"
        },
        {
         "name": "get_max [ms]",
         "rawType": "float64",
         "type": "float"
        },
        {
         "name": "baseline_get_max [ms]",
         "rawType": "float64",
         "type": "float"
        },
        {
         "name": "% Worse",
         "rawType": "float64",
         "type": "float"
        },
        {
         "name": "% Better",
         "rawType": "float64",
         "type": "float"
        }
       ],
       "conversionMethod": "pd.DataFrame",
       "ref": "5698ae01-e85f-4192-884a-42a2196b76d1",
       "rows": [
        [
         "count",
         "4.0",
         "4.0",
         "4.0",
         "4.0",
         "4.0"
        ],
        [
         "mean",
         "424.0",
         "25.451181874999996",
         "32.6215740625",
         "-21.980523202447685",
         "31.979409864985406"
        ],
        [
         "std",
         "450.56409089051914",
         "5.19671329191243",
         "1.3055370859513813e-05",
         "15.930284296376536",
         "25.01384658919857"
        ],
        [
         "min",
         "32.0",
         "20.931226875",
         "32.6215625",
         "-35.83622343664133",
         "0.7649536613179606"
        ],
        [
         "25%",
         "104.0",
         "21.76196296875",
         "32.62156296875",
         "-33.2896745279065",
         "17.65358231701385"
        ],
        [
         "50%",
         "320.0",
         "24.249781249999998",
         "32.621573437500004",
         "-25.663361415549815",
         "35.65075516426416"
        ],
        [
         "75%",
         "640.0",
         "27.93900015625",
         "32.62158453125",
         "-14.354210090091005",
         "49.97658271223572"
        ],
        [
         "max",
         "1024.0",
         "32.373938125",
         "32.621586875",
         "-0.7591465420497769",
         "55.85117547009534"
        ]
       ],
       "shape": {
        "columns": 5,
        "rows": 8
       }
      },
      "text/html": [
       "<div>\n",
       "<style scoped>\n",
       "    .dataframe tbody tr th:only-of-type {\n",
       "        vertical-align: middle;\n",
       "    }\n",
       "\n",
       "    .dataframe tbody tr th {\n",
       "        vertical-align: top;\n",
       "    }\n",
       "\n",
       "    .dataframe thead th {\n",
       "        text-align: right;\n",
       "    }\n",
       "</style>\n",
       "<table border=\"1\" class=\"dataframe\">\n",
       "  <thead>\n",
       "    <tr style=\"text-align: right;\">\n",
       "      <th></th>\n",
       "      <th>Object size</th>\n",
       "      <th>get_max [ms]</th>\n",
       "      <th>baseline_get_max [ms]</th>\n",
       "      <th>% Worse</th>\n",
       "      <th>% Better</th>\n",
       "    </tr>\n",
       "  </thead>\n",
       "  <tbody>\n",
       "    <tr>\n",
       "      <th>count</th>\n",
       "      <td>4.000000</td>\n",
       "      <td>4.000000</td>\n",
       "      <td>4.000000</td>\n",
       "      <td>4.000000</td>\n",
       "      <td>4.000000</td>\n",
       "    </tr>\n",
       "    <tr>\n",
       "      <th>mean</th>\n",
       "      <td>424.000000</td>\n",
       "      <td>25.451182</td>\n",
       "      <td>32.621574</td>\n",
       "      <td>-21.980523</td>\n",
       "      <td>31.979410</td>\n",
       "    </tr>\n",
       "    <tr>\n",
       "      <th>std</th>\n",
       "      <td>450.564091</td>\n",
       "      <td>5.196713</td>\n",
       "      <td>0.000013</td>\n",
       "      <td>15.930284</td>\n",
       "      <td>25.013847</td>\n",
       "    </tr>\n",
       "    <tr>\n",
       "      <th>min</th>\n",
       "      <td>32.000000</td>\n",
       "      <td>20.931227</td>\n",
       "      <td>32.621563</td>\n",
       "      <td>-35.836223</td>\n",
       "      <td>0.764954</td>\n",
       "    </tr>\n",
       "    <tr>\n",
       "      <th>25%</th>\n",
       "      <td>104.000000</td>\n",
       "      <td>21.761963</td>\n",
       "      <td>32.621563</td>\n",
       "      <td>-33.289675</td>\n",
       "      <td>17.653582</td>\n",
       "    </tr>\n",
       "    <tr>\n",
       "      <th>50%</th>\n",
       "      <td>320.000000</td>\n",
       "      <td>24.249781</td>\n",
       "      <td>32.621573</td>\n",
       "      <td>-25.663361</td>\n",
       "      <td>35.650755</td>\n",
       "    </tr>\n",
       "    <tr>\n",
       "      <th>75%</th>\n",
       "      <td>640.000000</td>\n",
       "      <td>27.939000</td>\n",
       "      <td>32.621585</td>\n",
       "      <td>-14.354210</td>\n",
       "      <td>49.976583</td>\n",
       "    </tr>\n",
       "    <tr>\n",
       "      <th>max</th>\n",
       "      <td>1024.000000</td>\n",
       "      <td>32.373938</td>\n",
       "      <td>32.621587</td>\n",
       "      <td>-0.759147</td>\n",
       "      <td>55.851175</td>\n",
       "    </tr>\n",
       "  </tbody>\n",
       "</table>\n",
       "</div>"
      ],
      "text/plain": [
       "       Object size  get_max [ms]  baseline_get_max [ms]    % Worse   % Better\n",
       "count     4.000000      4.000000               4.000000   4.000000   4.000000\n",
       "mean    424.000000     25.451182              32.621574 -21.980523  31.979410\n",
       "std     450.564091      5.196713               0.000013  15.930284  25.013847\n",
       "min      32.000000     20.931227              32.621563 -35.836223   0.764954\n",
       "25%     104.000000     21.761963              32.621563 -33.289675  17.653582\n",
       "50%     320.000000     24.249781              32.621573 -25.663361  35.650755\n",
       "75%     640.000000     27.939000              32.621585 -14.354210  49.976583\n",
       "max    1024.000000     32.373938              32.621587  -0.759147  55.851175"
      ]
     },
     "metadata": {},
     "output_type": "display_data"
    }
   ],
   "source": [
    "from util.convert import scale_and_filter_data\n",
    "from IPython.display import HTML, display\n",
    "import numpy as np\n",
    "\n",
    "filtered = scale_and_filter_data(dataset, unit, plotted_object_sizes)\n",
    "\n",
    "for title in filtered[\"benchmark_title\"].unique():\n",
    "    display(HTML(f\"<b>{title}</b>\"))\n",
    "        \n",
    "    tmp = filtered[filtered[\"benchmark_title\"] == title]\n",
    "    assert(len(tmp[\"benchmark_id\"].unique()) == 2)\n",
    "    [left, right] = tmp[\"benchmark_id\"].unique()\n",
    "\n",
    "    res = []\n",
    "    for size in tmp[\"options.object_size\"].unique():\n",
    "        rows = tmp[(tmp[\"options.object_size\"] == size)]\n",
    "        a = rows[rows[\"benchmark_id\"] == left][\"mean\"].iloc[0]\n",
    "        b = rows[rows[\"benchmark_id\"] == right][\"mean\"].iloc[0]\n",
    "        res.append((size, a,b,(100 * a)/b - 100, (100 * b)/a - 100))\n",
    "\n",
    "    d = pd.DataFrame(res, columns=[\"Object size\", f\"{left} [{unit}]\", f\"{right} [{unit}]\", \"% Worse\", \"% Better\"])\n",
    "\n",
    "    display(d)\n",
    "    print(\"Stats:\")\n",
    "    display(d.describe())"
   ]
  },
  {
   "cell_type": "markdown",
   "metadata": {},
   "source": [
    "# Final Plot"
   ]
  },
  {
   "cell_type": "code",
   "execution_count": 6,
   "metadata": {},
   "outputs": [
    {
     "data": {
      "image/png": "[encoded data removed]",
      "text/plain": [
       "<Figure size 533.958x160 with 3 Axes>"
      ]
     },
     "metadata": {},
     "output_type": "display_data"
    }
   ],
   "source": [
    "from util.plot import set_theme, plot_colors, save_plot\n",
    "from util.convert import scale_and_filter_data\n",
    "import seaborn as sns\n",
    "import matplotlib.pyplot as plt\n",
    "\n",
    "palette = set_theme(colors=2)\n",
    "palette = [palette[1], palette[0]]\n",
    "sns.set_palette(palette=palette)\n",
    "\n",
    "unit = \"ms\"\n",
    "filtered = scale_and_filter_data(dataset, unit, plotted_object_sizes)\n",
    "\n",
    "\n",
    "g = sns.catplot(\n",
    "    data=filtered,\n",
    "    kind=\"bar\",\n",
    "    x=\"options.object_size\", y=\"mean\", hue=\"dataset_type\", col=\"benchmark_title\",\n",
    "    col_wrap=4,\n",
    "    errorbar=\"sd\", alpha=1, aspect=(1/1.6)*(3.3/3) - (1/3) * 0.05, height=1.6, width=0.8,\n",
    "    sharey=False\n",
    ")\n",
    "g.set_titles(\"{col_name}\")\n",
    "g.set(xlabel=None, ylabel='Latency [ms]')\n",
    "g.tight_layout(pad=0)\n",
    "g.legend.set_title(\"\\nMeasurement\")\n",
    "#plt.yscale('log')\n",
    "\n",
    "# def format_float(value, pos):\n",
    "#     if value == int(value) and value != 1:\n",
    "#         return str(int(value))\n",
    "#     else:\n",
    "#         return str(value)\n",
    "\n",
    "for ax in g.axes:\n",
    "    ax.set_xticks(ax.get_xticks())\n",
    "    ax.set_xticklabels(ax.get_xticklabels(), rotation=45, y=0.05, ha=\"center\")\n",
    "    ax.set_title(ax.get_title(), rotation = 0, fontweight=\"bold\")\n",
    "    #ax.yaxis.set_major_formatter(FuncFormatter(format_float))\n",
    "\n",
    "g.axes[1].set_ylabel(\"\")\n",
    "g.axes[2].set_ylabel(\"\")\n",
    "g.axes[0].set_ylim(top=(filtered[\"mean\"].max() * 1.05)/100)\n",
    "\n",
    "g.axes[1].sharey(g.axes[2])\n",
    "\n",
    "g.axes[0].set_yticks([0,0.1,0.2,0.3])\n",
    "g.axes[1].set_yticks([0,10,20,30])\n",
    "\n",
    "#axins = zoomed_inset_axes(g.axes[0], 2, loc=1) # zoom = 6\n",
    "g.figure.supxlabel(\"Object Size [Byte]\", x=0.352, y=0.08, fontsize=8)\n",
    "g.tight_layout(w_pad=0, h_pad=0)\n",
    "catplot_handles = g.legend.set(visible=False)\n",
    "\n",
    "plt.legend(\n",
    "    loc = \"lower center\",\n",
    "    bbox_to_anchor=(-1, 1.3),\n",
    "    ncol=2,\n",
    "    title=None,\n",
    "    frameon=True\n",
    ")\n",
    "\n",
    "save_plot(\"accessing_data\", False)"
   ]
  }
 ],
 "metadata": {
  "kernelspec": {
   "display_name": ".venv",
   "language": "python",
   "name": "python3"
  },
  "language_info": {
   "codemirror_mode": {
    "name": "ipython",
    "version": 3
   },
   "file_extension": ".py",
   "mimetype": "text/x-python",
   "name": "python",
   "nbconvert_exporter": "python",
   "pygments_lexer": "ipython3",
   "version": "3.12.7"
  }
 },
 "nbformat": 4,
 "nbformat_minor": 2
}
